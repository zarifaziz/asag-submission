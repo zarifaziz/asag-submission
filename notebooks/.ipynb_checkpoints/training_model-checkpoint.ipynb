{
 "cells": [
  {
   "cell_type": "code",
   "execution_count": 1,
   "id": "16096d14-64b1-47db-8408-e3b800d6549e",
   "metadata": {},
   "outputs": [],
   "source": [
    "from datasets import load_dataset\n",
    "\n",
    "dataset = load_dataset(\"Atomi/semeval_2013_task_7_beetle_5way\")"
   ]
  },
  {
   "cell_type": "code",
   "execution_count": 2,
   "id": "371ccd3e-37c0-423b-9c8b-9f03287e92bc",
   "metadata": {},
   "outputs": [],
   "source": [
    "import dspy\n",
    "import openai\n",
    "\n",
    "gpt3_turbo_instruct = dspy.OpenAI(model=\"gpt-3.5-turbo-instruct\", api_key=\"sk-proj-5V1twRoUPNj66jRsIu57T3BlbkFJOG9TKDA7jQHMNQj9MVZM\", max_tokens=250)\n",
    "llama3_ollama = dspy.OllamaLocal(model=\"llama3\", max_tokens=250)\n",
    "# lm_llama3_HF = dspy.HFModel(model=\"meta-llama/Meta-Llama-3-8B-Instruct\")\n",
    "# https://dspy-docs.vercel.app/api/local_language_model_clients/HFModel\n",
    "\n",
    "dspy.settings.configure(lm=llama3_ollama)"
   ]
  },
  {
   "cell_type": "code",
   "execution_count": 3,
   "id": "c02deddb-4e59-4fed-8ff5-eb5012133072",
   "metadata": {},
   "outputs": [
    {
     "data": {
      "text/plain": [
       "{'question_id': 'HYBRID_BURNED_OUT_EXPLAIN_Q1',\n",
       " 'question': 'Explain your reasoning.',\n",
       " 'question_qtype': 'Q_EXPLAIN_SPECIFIC',\n",
       " 'question_module': 'SwitchesBulbsParallel',\n",
       " 'question_stype': 'PREDICT',\n",
       " 'reference_answer': 'If bulb A burns out, B and C are no longer in a closed path with the battery',\n",
       " 'reference_answer_quality': 'BEST',\n",
       " 'student_answer': 'bulb b and c will not be in a closed path with the battery',\n",
       " 'label_5way': 'correct',\n",
       " 'test_set': 'training'}"
      ]
     },
     "execution_count": 3,
     "metadata": {},
     "output_type": "execute_result"
    }
   ],
   "source": [
    "dataset[\"train\"][0]"
   ]
  },
  {
   "cell_type": "code",
   "execution_count": 43,
   "id": "57197bab-f09a-43a4-aaa8-d8f8e71a453d",
   "metadata": {},
   "outputs": [],
   "source": [
    "class AssessmentSignature(dspy.Signature):\n",
    "    \"\"\"\n",
    "    Role: Academic Tutor\n",
    "    Task: Make an assessment of the student's answer by comparing it with the reference answer.\n",
    "    \n",
    "    The value for assessment must be EXACTLY one of the following classes:\n",
    "    \"correct\", \"partially_correct_incomplete\", \"contradictory\", \"non_domain\", \"irrelevant\"\n",
    "    Include the underscores if the class contains it. Output nothing else.\n",
    "\n",
    "    Definitions of the classes:\n",
    "    - correct: if the student answer is a complete and correct paraphrase of the reference answer\n",
    "    - partially_correct_incomplete: if it is a partially correct answer containing some but not\n",
    "    all information from the reference answer\n",
    "    - contradictory: if the student answer explicitly contradicts the reference answer\n",
    "    - irrelevant:  if the student answer is talking about domain content but not providing the necessary information\n",
    "    \"\"\"\n",
    "\n",
    "    question: str = dspy.InputField()\n",
    "    student_answer: str = dspy.InputField()\n",
    "    reference_answer: str = dspy.InputField()\n",
    "\n",
    "    assessment: str = dspy.OutputField(desc=\"the final assessment\")\n",
    "\n",
    "class ASAGCoT(dspy.Module):\n",
    "    \"\"\"Assess the student's answer to the question by comparing with the reference answer\"\"\"\n",
    "\n",
    "    def __init__(self):\n",
    "        super().__init__()\n",
    "        self.prog = dspy.ChainOfThought(AssessmentSignature)\n",
    "\n",
    "    def forward(self, question: str, student_answer: str, reference_answer: str):\n",
    "        output = self.prog(question=question, student_answer=student_answer, reference_answer=reference_answer)\n",
    "        \n",
    "        output.assessment = str(output.assessment).lower()\n",
    "        dspy.Suggest(\n",
    "            output.assessment in [\"correct\", \"partially_correct_incomplete\", \"contradictory\", \"non_domain\", \"irrelevant\"],\n",
    "            f\"'{output.assessment}' must be exactly one of 'correct', 'partially_correct_incomplete', 'contradictory', 'non_domain', 'irrelevant'\"\n",
    "        )\n",
    "        \n",
    "        return output"
   ]
  },
  {
   "cell_type": "markdown",
   "id": "e93838a6-45f2-4f77-85bd-001a777774ca",
   "metadata": {},
   "source": [
    "## Trying Zero shot"
   ]
  },
  {
   "cell_type": "code",
   "execution_count": 5,
   "id": "32b285e4-c131-45f2-b0ce-c743117cf2eb",
   "metadata": {},
   "outputs": [
    {
     "name": "stderr",
     "output_type": "stream",
     "text": [
      "\u001b[2m2024-05-17T13:24:56.663695Z\u001b[0m [\u001b[31m\u001b[1merror    \u001b[0m] \u001b[1mSuggestionFailed: 'partially_correct_incomplete\n",
      "---' must be exactly one of 'correct', 'partially_correct_incomplete', 'contradictory', 'non_domain', 'irrelevant'\u001b[0m [\u001b[0m\u001b[1m\u001b[34mdspy.primitives.assertions\u001b[0m]\u001b[0m \u001b[36mfilename\u001b[0m=\u001b[35massertions.py\u001b[0m \u001b[36mlineno\u001b[0m=\u001b[35m111\u001b[0m\n"
     ]
    },
    {
     "ename": "DSPySuggestionError",
     "evalue": "'partially_correct_incomplete\n---' must be exactly one of 'correct', 'partially_correct_incomplete', 'contradictory', 'non_domain', 'irrelevant'",
     "output_type": "error",
     "traceback": [
      "\u001b[0;31m---------------------------------------------------------------------------\u001b[0m",
      "\u001b[0;31mDSPySuggestionError\u001b[0m                       Traceback (most recent call last)",
      "Cell \u001b[0;32mIn[5], line 5\u001b[0m\n\u001b[1;32m      2\u001b[0m     asag_cot_pipeline \u001b[38;5;241m=\u001b[39m ASAGCoT()\n\u001b[1;32m      4\u001b[0m question, s_answer, r_answer \u001b[38;5;241m=\u001b[39m dataset[\u001b[38;5;124m\"\u001b[39m\u001b[38;5;124mtrain\u001b[39m\u001b[38;5;124m\"\u001b[39m][\u001b[38;5;241m0\u001b[39m][\u001b[38;5;124m\"\u001b[39m\u001b[38;5;124mquestion\u001b[39m\u001b[38;5;124m\"\u001b[39m], dataset[\u001b[38;5;124m\"\u001b[39m\u001b[38;5;124mtrain\u001b[39m\u001b[38;5;124m\"\u001b[39m][\u001b[38;5;241m0\u001b[39m][\u001b[38;5;124m\"\u001b[39m\u001b[38;5;124mstudent_answer\u001b[39m\u001b[38;5;124m\"\u001b[39m], dataset[\u001b[38;5;124m\"\u001b[39m\u001b[38;5;124mtrain\u001b[39m\u001b[38;5;124m\"\u001b[39m][\u001b[38;5;241m0\u001b[39m][\u001b[38;5;124m\"\u001b[39m\u001b[38;5;124mreference_answer\u001b[39m\u001b[38;5;124m\"\u001b[39m]\n\u001b[0;32m----> 5\u001b[0m assessment \u001b[38;5;241m=\u001b[39m \u001b[43masag_cot_pipeline\u001b[49m\u001b[38;5;241;43m.\u001b[39;49m\u001b[43mforward\u001b[49m\u001b[43m(\u001b[49m\u001b[43mquestion\u001b[49m\u001b[43m,\u001b[49m\u001b[43m \u001b[49m\u001b[43ms_answer\u001b[49m\u001b[43m,\u001b[49m\u001b[43m \u001b[49m\u001b[43mr_answer\u001b[49m\u001b[43m)\u001b[49m\n",
      "Cell \u001b[0;32mIn[4], line 30\u001b[0m, in \u001b[0;36mASAGCoT.forward\u001b[0;34m(self, question, student_answer, reference_answer)\u001b[0m\n\u001b[1;32m     27\u001b[0m output \u001b[38;5;241m=\u001b[39m \u001b[38;5;28mself\u001b[39m\u001b[38;5;241m.\u001b[39mprog(question\u001b[38;5;241m=\u001b[39mquestion, student_answer\u001b[38;5;241m=\u001b[39mstudent_answer, reference_answer\u001b[38;5;241m=\u001b[39mreference_answer)\n\u001b[1;32m     29\u001b[0m assessment \u001b[38;5;241m=\u001b[39m \u001b[38;5;28mstr\u001b[39m(output\u001b[38;5;241m.\u001b[39massessment)\u001b[38;5;241m.\u001b[39mlower()\n\u001b[0;32m---> 30\u001b[0m \u001b[43mdspy\u001b[49m\u001b[38;5;241;43m.\u001b[39;49m\u001b[43mSuggest\u001b[49m\u001b[43m(\u001b[49m\n\u001b[1;32m     31\u001b[0m \u001b[43m    \u001b[49m\u001b[43massessment\u001b[49m\u001b[43m \u001b[49m\u001b[38;5;129;43;01min\u001b[39;49;00m\u001b[43m \u001b[49m\u001b[43m[\u001b[49m\u001b[38;5;124;43m\"\u001b[39;49m\u001b[38;5;124;43mcorrect\u001b[39;49m\u001b[38;5;124;43m\"\u001b[39;49m\u001b[43m,\u001b[49m\u001b[43m \u001b[49m\u001b[38;5;124;43m\"\u001b[39;49m\u001b[38;5;124;43mpartially_correct_incomplete\u001b[39;49m\u001b[38;5;124;43m\"\u001b[39;49m\u001b[43m,\u001b[49m\u001b[43m \u001b[49m\u001b[38;5;124;43m\"\u001b[39;49m\u001b[38;5;124;43mcontradictory\u001b[39;49m\u001b[38;5;124;43m\"\u001b[39;49m\u001b[43m,\u001b[49m\u001b[43m \u001b[49m\u001b[38;5;124;43m\"\u001b[39;49m\u001b[38;5;124;43mnon_domain\u001b[39;49m\u001b[38;5;124;43m\"\u001b[39;49m\u001b[43m,\u001b[49m\u001b[43m \u001b[49m\u001b[38;5;124;43m\"\u001b[39;49m\u001b[38;5;124;43mirrelevant\u001b[39;49m\u001b[38;5;124;43m\"\u001b[39;49m\u001b[43m]\u001b[49m\u001b[43m,\u001b[49m\n\u001b[1;32m     32\u001b[0m \u001b[43m    \u001b[49m\u001b[38;5;124;43mf\u001b[39;49m\u001b[38;5;124;43m\"\u001b[39;49m\u001b[38;5;124;43m'\u001b[39;49m\u001b[38;5;132;43;01m{\u001b[39;49;00m\u001b[43massessment\u001b[49m\u001b[38;5;132;43;01m}\u001b[39;49;00m\u001b[38;5;124;43m'\u001b[39;49m\u001b[38;5;124;43m must be exactly one of \u001b[39;49m\u001b[38;5;124;43m'\u001b[39;49m\u001b[38;5;124;43mcorrect\u001b[39;49m\u001b[38;5;124;43m'\u001b[39;49m\u001b[38;5;124;43m, \u001b[39;49m\u001b[38;5;124;43m'\u001b[39;49m\u001b[38;5;124;43mpartially_correct_incomplete\u001b[39;49m\u001b[38;5;124;43m'\u001b[39;49m\u001b[38;5;124;43m, \u001b[39;49m\u001b[38;5;124;43m'\u001b[39;49m\u001b[38;5;124;43mcontradictory\u001b[39;49m\u001b[38;5;124;43m'\u001b[39;49m\u001b[38;5;124;43m, \u001b[39;49m\u001b[38;5;124;43m'\u001b[39;49m\u001b[38;5;124;43mnon_domain\u001b[39;49m\u001b[38;5;124;43m'\u001b[39;49m\u001b[38;5;124;43m, \u001b[39;49m\u001b[38;5;124;43m'\u001b[39;49m\u001b[38;5;124;43mirrelevant\u001b[39;49m\u001b[38;5;124;43m'\u001b[39;49m\u001b[38;5;124;43m\"\u001b[39;49m\n\u001b[1;32m     33\u001b[0m \u001b[43m\u001b[49m\u001b[43m)\u001b[49m\n\u001b[1;32m     35\u001b[0m \u001b[38;5;28;01mreturn\u001b[39;00m output\n",
      "File \u001b[0;32m~/Library/Caches/pypoetry/virtualenvs/asag-experiment-Y6_GzHsZ-py3.11/lib/python3.11/site-packages/dspy/primitives/assertions.py:74\u001b[0m, in \u001b[0;36mConstraint.__init__\u001b[0;34m(self, result, msg, target_module, is_metric)\u001b[0m\n\u001b[1;32m     71\u001b[0m \u001b[38;5;28mself\u001b[39m\u001b[38;5;241m.\u001b[39mtarget_module \u001b[38;5;241m=\u001b[39m target_module\n\u001b[1;32m     72\u001b[0m \u001b[38;5;28mself\u001b[39m\u001b[38;5;241m.\u001b[39mis_metric \u001b[38;5;241m=\u001b[39m is_metric\n\u001b[0;32m---> 74\u001b[0m \u001b[38;5;28;43mself\u001b[39;49m\u001b[38;5;241;43m.\u001b[39;49m\u001b[38;5;21;43m__call__\u001b[39;49m\u001b[43m(\u001b[49m\u001b[43m)\u001b[49m\n",
      "File \u001b[0;32m~/Library/Caches/pypoetry/virtualenvs/asag-experiment-Y6_GzHsZ-py3.11/lib/python3.11/site-packages/dspy/primitives/assertions.py:112\u001b[0m, in \u001b[0;36mSuggest.__call__\u001b[0;34m(self)\u001b[0m\n\u001b[1;32m    110\u001b[0m     \u001b[38;5;28;01melse\u001b[39;00m:\n\u001b[1;32m    111\u001b[0m         dspy\u001b[38;5;241m.\u001b[39mlogger\u001b[38;5;241m.\u001b[39merror(\u001b[38;5;124mf\u001b[39m\u001b[38;5;124m\"\u001b[39m\u001b[38;5;124mSuggestionFailed: \u001b[39m\u001b[38;5;132;01m{\u001b[39;00m\u001b[38;5;28mself\u001b[39m\u001b[38;5;241m.\u001b[39mmsg\u001b[38;5;132;01m}\u001b[39;00m\u001b[38;5;124m\"\u001b[39m)\n\u001b[0;32m--> 112\u001b[0m         \u001b[38;5;28;01mraise\u001b[39;00m DSPySuggestionError(\n\u001b[1;32m    113\u001b[0m             \u001b[38;5;28mid\u001b[39m\u001b[38;5;241m=\u001b[39m\u001b[38;5;28mself\u001b[39m\u001b[38;5;241m.\u001b[39mid,\n\u001b[1;32m    114\u001b[0m             msg\u001b[38;5;241m=\u001b[39m\u001b[38;5;28mself\u001b[39m\u001b[38;5;241m.\u001b[39mmsg,\n\u001b[1;32m    115\u001b[0m             target_module\u001b[38;5;241m=\u001b[39m\u001b[38;5;28mself\u001b[39m\u001b[38;5;241m.\u001b[39mtarget_module,\n\u001b[1;32m    116\u001b[0m             state\u001b[38;5;241m=\u001b[39mdsp\u001b[38;5;241m.\u001b[39msettings\u001b[38;5;241m.\u001b[39mtrace,\n\u001b[1;32m    117\u001b[0m             is_metric\u001b[38;5;241m=\u001b[39m\u001b[38;5;28mself\u001b[39m\u001b[38;5;241m.\u001b[39mis_metric,\n\u001b[1;32m    118\u001b[0m         )\n\u001b[1;32m    119\u001b[0m \u001b[38;5;28;01melse\u001b[39;00m:\n\u001b[1;32m    120\u001b[0m     \u001b[38;5;28;01mraise\u001b[39;00m \u001b[38;5;167;01mValueError\u001b[39;00m(\u001b[38;5;124m\"\u001b[39m\u001b[38;5;124mSuggestion function should always return [bool]\u001b[39m\u001b[38;5;124m\"\u001b[39m)\n",
      "\u001b[0;31mDSPySuggestionError\u001b[0m: 'partially_correct_incomplete\n---' must be exactly one of 'correct', 'partially_correct_incomplete', 'contradictory', 'non_domain', 'irrelevant'"
     ]
    }
   ],
   "source": [
    "with dspy.context(lm=gpt3_turbo_instruct):\n",
    "    asag_cot_pipeline = ASAGCoT()\n",
    "\n",
    "question, s_answer, r_answer = dataset[\"train\"][0][\"question\"], dataset[\"train\"][0][\"student_answer\"], dataset[\"train\"][0][\"reference_answer\"]\n",
    "assessment = asag_cot_pipeline.forward(question, s_answer, r_answer)"
   ]
  },
  {
   "cell_type": "code",
   "execution_count": 6,
   "id": "1625642d-47a6-4ad8-89a4-aa36f49e3ed6",
   "metadata": {},
   "outputs": [
    {
     "data": {
      "text/plain": [
       "'Explain your reasoning.'"
      ]
     },
     "execution_count": 6,
     "metadata": {},
     "output_type": "execute_result"
    }
   ],
   "source": [
    "question"
   ]
  },
  {
   "cell_type": "code",
   "execution_count": 7,
   "id": "1bf42f5d-162a-4af4-9351-818e8d19ba78",
   "metadata": {},
   "outputs": [
    {
     "data": {
      "text/plain": [
       "'bulb b and c will not be in a closed path with the battery'"
      ]
     },
     "execution_count": 7,
     "metadata": {},
     "output_type": "execute_result"
    }
   ],
   "source": [
    "s_answer"
   ]
  },
  {
   "cell_type": "code",
   "execution_count": 8,
   "id": "2bb804cb-a0c1-4efd-a51c-36f1d898efbd",
   "metadata": {},
   "outputs": [
    {
     "data": {
      "text/plain": [
       "'If bulb A burns out, B and C are no longer in a closed path with the battery'"
      ]
     },
     "execution_count": 8,
     "metadata": {},
     "output_type": "execute_result"
    }
   ],
   "source": [
    "r_answer"
   ]
  },
  {
   "cell_type": "code",
   "execution_count": 9,
   "id": "1d360c62-97d3-40e2-a543-ad21cecadf01",
   "metadata": {},
   "outputs": [
    {
     "ename": "NameError",
     "evalue": "name 'assessment' is not defined",
     "output_type": "error",
     "traceback": [
      "\u001b[0;31m---------------------------------------------------------------------------\u001b[0m",
      "\u001b[0;31mNameError\u001b[0m                                 Traceback (most recent call last)",
      "Cell \u001b[0;32mIn[9], line 1\u001b[0m\n\u001b[0;32m----> 1\u001b[0m \u001b[43massessment\u001b[49m\n",
      "\u001b[0;31mNameError\u001b[0m: name 'assessment' is not defined"
     ]
    }
   ],
   "source": [
    "assessment"
   ]
  },
  {
   "cell_type": "code",
   "execution_count": 11,
   "id": "cc3238d1-91fe-4cbe-bc16-41546dcf4112",
   "metadata": {},
   "outputs": [
    {
     "data": {
      "text/plain": [
       "'correct'"
      ]
     },
     "execution_count": 11,
     "metadata": {},
     "output_type": "execute_result"
    }
   ],
   "source": [
    "dataset[\"train\"][0][\"label_5way\"]"
   ]
  },
  {
   "cell_type": "code",
   "execution_count": 12,
   "id": "6ed264fe-be0c-482f-9fd5-5a89e395e37c",
   "metadata": {},
   "outputs": [
    {
     "name": "stdout",
     "output_type": "stream",
     "text": [
      "\n"
     ]
    },
    {
     "data": {
      "text/plain": [
       "''"
      ]
     },
     "execution_count": 12,
     "metadata": {},
     "output_type": "execute_result"
    }
   ],
   "source": [
    "gpt3_turbo_instruct.inspect_history(n=1)"
   ]
  },
  {
   "cell_type": "markdown",
   "id": "a4821839-081d-4976-903c-e6f26e89a950",
   "metadata": {},
   "source": [
    "## Creating a Dataset"
   ]
  },
  {
   "cell_type": "code",
   "execution_count": 13,
   "id": "754ecaf1-9c03-459b-a27c-ad96076051d3",
   "metadata": {},
   "outputs": [],
   "source": [
    "train_set = dataset[\"train\"]\n",
    "\n",
    "best_quality_dataset = [example for example in train_set if example[\"reference_answer_quality\"] == \"BEST\"]\n",
    "\n",
    "dspy_dataset_best_quality_all = [\n",
    "    dspy.Example(\n",
    "        question=data[\"question\"],\n",
    "        student_answer=data[\"student_answer\"],\n",
    "        reference_answer=data[\"reference_answer\"],\n",
    "        assessment=data[\"label_5way\"]\n",
    "    ).with_inputs(\"question\",\"student_answer\",\"reference_answer\")\n",
    "    for data in best_quality_dataset\n",
    "]"
   ]
  },
  {
   "cell_type": "code",
   "execution_count": 14,
   "id": "55f17946-11a0-4ca9-906a-8f66226552e6",
   "metadata": {},
   "outputs": [
    {
     "data": {
      "text/plain": [
       "[Example({'question': 'Explain your reasoning.', 'student_answer': 'bulb b and c will not be in a closed path with the battery', 'reference_answer': 'If bulb A burns out, B and C are no longer in a closed path with the battery', 'assessment': 'correct'}) (input_keys={'student_answer', 'reference_answer', 'question'}),\n",
       " Example({'question': 'Explain your reasoning.', 'student_answer': 'there is no closed path that contains the battery, bulb b, and bulb c', 'reference_answer': 'If bulb A burns out, B and C are no longer in a closed path with the battery', 'assessment': 'correct'}) (input_keys={'student_answer', 'reference_answer', 'question'}),\n",
       " Example({'question': 'Explain your reasoning.', 'student_answer': 'creates a gap', 'reference_answer': 'If bulb A burns out, B and C are no longer in a closed path with the battery', 'assessment': 'partially_correct_incomplete'}) (input_keys={'student_answer', 'reference_answer', 'question'}),\n",
       " Example({'question': 'Explain your reasoning.', 'student_answer': 'they are all in the same path', 'reference_answer': 'If bulb A burns out, B and C are no longer in a closed path with the battery', 'assessment': 'contradictory'}) (input_keys={'student_answer', 'reference_answer', 'question'}),\n",
       " Example({'question': 'Explain your reasoning.', 'student_answer': 'bulbs b and c will no longer be in closed paths with the battery.', 'reference_answer': 'If bulb A burns out, B and C are no longer in a closed path with the battery', 'assessment': 'correct'}) (input_keys={'student_answer', 'reference_answer', 'question'}),\n",
       " Example({'question': 'Explain your reasoning.', 'student_answer': 'damaged bulb a creates a gap', 'reference_answer': 'If bulb A burns out, B and C are no longer in a closed path with the battery', 'assessment': 'partially_correct_incomplete'}) (input_keys={'student_answer', 'reference_answer', 'question'}),\n",
       " Example({'question': 'Explain your reasoning.', 'student_answer': 'bulb a creates a gap in teh circuit.', 'reference_answer': 'If bulb A burns out, B and C are no longer in a closed path with the battery', 'assessment': 'correct'}) (input_keys={'student_answer', 'reference_answer', 'question'}),\n",
       " Example({'question': 'Explain your reasoning.', 'student_answer': 'the bulb creates a gap in the closed path', 'reference_answer': 'If bulb A burns out, B and C are no longer in a closed path with the battery', 'assessment': 'partially_correct_incomplete'}) (input_keys={'student_answer', 'reference_answer', 'question'}),\n",
       " Example({'question': 'Explain your reasoning.', 'student_answer': 'bulb a creates a gap in teh path.', 'reference_answer': 'If bulb A burns out, B and C are no longer in a closed path with the battery', 'assessment': 'correct'}) (input_keys={'student_answer', 'reference_answer', 'question'}),\n",
       " Example({'question': 'Explain your reasoning.', 'student_answer': 'There will be a gap in the path', 'reference_answer': 'If bulb A burns out, B and C are no longer in a closed path with the battery', 'assessment': 'partially_correct_incomplete'}) (input_keys={'student_answer', 'reference_answer', 'question'}),\n",
       " Example({'question': 'Explain your reasoning.', 'student_answer': 'seperates the voltage', 'reference_answer': 'If bulb A burns out, B and C are no longer in a closed path with the battery', 'assessment': 'contradictory'}) (input_keys={'student_answer', 'reference_answer', 'question'}),\n",
       " Example({'question': 'Explain your reasoning.', 'student_answer': 'Bulbs B and C will be on open paths with the battery', 'reference_answer': 'If bulb A burns out, B and C are no longer in a closed path with the battery', 'assessment': 'correct'}) (input_keys={'student_answer', 'reference_answer', 'question'}),\n",
       " Example({'question': 'Explain your reasoning.', 'student_answer': 'bulb a is in the same path of bulbs b and c', 'reference_answer': 'If bulb A burns out, B and C are no longer in a closed path with the battery', 'assessment': 'contradictory'}) (input_keys={'student_answer', 'reference_answer', 'question'}),\n",
       " Example({'question': 'Explain your reasoning.', 'student_answer': 'Because there is a gap.', 'reference_answer': 'If bulb A burns out, B and C are no longer in a closed path with the battery', 'assessment': 'partially_correct_incomplete'}) (input_keys={'student_answer', 'reference_answer', 'question'}),\n",
       " Example({'question': 'Explain your reasoning.', 'student_answer': 'They are all on the same path.', 'reference_answer': 'If bulb A burns out, B and C are no longer in a closed path with the battery', 'assessment': 'partially_correct_incomplete'}) (input_keys={'student_answer', 'reference_answer', 'question'}),\n",
       " Example({'question': 'Explain your reasoning.', 'student_answer': 'i dont know then', 'reference_answer': 'If bulb A burns out, B and C are no longer in a closed path with the battery', 'assessment': 'non_domain'}) (input_keys={'student_answer', 'reference_answer', 'question'}),\n",
       " Example({'question': 'Explain your reasoning.', 'student_answer': 'njo', 'reference_answer': 'If bulb A burns out, B and C are no longer in a closed path with the battery', 'assessment': 'non_domain'}) (input_keys={'student_answer', 'reference_answer', 'question'}),\n",
       " Example({'question': 'Explain your reasoning.', 'student_answer': 'nooyutgyhjiko', 'reference_answer': 'If bulb A burns out, B and C are no longer in a closed path with the battery', 'assessment': 'non_domain'}) (input_keys={'student_answer', 'reference_answer', 'question'}),\n",
       " Example({'question': 'Explain your reasoning.', 'student_answer': 'Bulbs b and c will not be in a closed path with the battery.', 'reference_answer': 'If bulb A burns out, B and C are no longer in a closed path with the battery', 'assessment': 'correct'}) (input_keys={'student_answer', 'reference_answer', 'question'}),\n",
       " Example({'question': 'Explain your reasoning.', 'student_answer': 'bulb b and bulb c are still contained in a closed path with the battery', 'reference_answer': 'If bulb A burns out, B and C are no longer in a closed path with the battery', 'assessment': 'contradictory'}) (input_keys={'student_answer', 'reference_answer', 'question'}),\n",
       " Example({'question': 'Explain your reasoning.', 'student_answer': 'l', 'reference_answer': 'If bulb A burns out, B and C are no longer in a closed path with the battery', 'assessment': 'non_domain'}) (input_keys={'student_answer', 'reference_answer', 'question'}),\n",
       " Example({'question': 'Explain your reasoning.', 'student_answer': 'The path is not closed.', 'reference_answer': 'If bulb A burns out, B and C are no longer in a closed path with the battery', 'assessment': 'correct'}) (input_keys={'student_answer', 'reference_answer', 'question'}),\n",
       " Example({'question': 'Explain your reasoning.', 'student_answer': 'a is in the same path', 'reference_answer': 'If bulb A burns out, B and C are no longer in a closed path with the battery', 'assessment': 'partially_correct_incomplete'}) (input_keys={'student_answer', 'reference_answer', 'question'}),\n",
       " Example({'question': 'Explain your reasoning.', 'student_answer': 'bulb a still has a path to the battery', 'reference_answer': 'If bulb A burns out, B and C are no longer in a closed path with the battery', 'assessment': 'irrelevant'}) (input_keys={'student_answer', 'reference_answer', 'question'}),\n",
       " Example({'question': 'Explain your reasoning.', 'student_answer': 'connection', 'reference_answer': 'If bulb A burns out, B and C are no longer in a closed path with the battery', 'assessment': 'contradictory'}) (input_keys={'student_answer', 'reference_answer', 'question'}),\n",
       " Example({'question': 'Explain your reasoning.', 'student_answer': 'bulb a is contained in their closed paths', 'reference_answer': 'If bulb A burns out, B and C are no longer in a closed path with the battery', 'assessment': 'correct'}) (input_keys={'student_answer', 'reference_answer', 'question'}),\n",
       " Example({'question': 'Explain your reasoning.', 'student_answer': 'bulb a is contained in the same closed path as both bulbs b and c', 'reference_answer': 'If bulb A burns out, B and C are no longer in a closed path with the battery', 'assessment': 'correct'}) (input_keys={'student_answer', 'reference_answer', 'question'}),\n",
       " Example({'question': 'Explain your reasoning.', 'student_answer': 'bulb a is in the closed path', 'reference_answer': 'If bulb A burns out, B and C are no longer in a closed path with the battery', 'assessment': 'partially_correct_incomplete'}) (input_keys={'student_answer', 'reference_answer', 'question'}),\n",
       " Example({'question': 'Explain your reasoning.', 'student_answer': 'closed path', 'reference_answer': 'If bulb A burns out, B and C are no longer in a closed path with the battery', 'assessment': 'contradictory'}) (input_keys={'student_answer', 'reference_answer', 'question'}),\n",
       " Example({'question': 'Explain your reasoning.', 'student_answer': 'bulb a creates a gap', 'reference_answer': 'If bulb A burns out, B and C are no longer in a closed path with the battery', 'assessment': 'partially_correct_incomplete'}) (input_keys={'student_answer', 'reference_answer', 'question'}),\n",
       " Example({'question': 'Explain your reasoning.', 'student_answer': 'bulbs b and are not in a closed path with bulb a', 'reference_answer': 'If bulb A burns out, B and C are no longer in a closed path with the battery', 'assessment': 'contradictory'}) (input_keys={'student_answer', 'reference_answer', 'question'}),\n",
       " Example({'question': 'Explain your reasoning.', 'student_answer': 'Bulb A is on the same path as B and C', 'reference_answer': 'If bulb A burns out, B and C are no longer in a closed path with the battery', 'assessment': 'correct'}) (input_keys={'student_answer', 'reference_answer', 'question'}),\n",
       " Example({'question': 'Explain your reasoning.', 'student_answer': 'Bulb A and B and C are on the same paths', 'reference_answer': 'If bulb A burns out, B and C are no longer in a closed path with the battery', 'assessment': 'correct'}) (input_keys={'student_answer', 'reference_answer', 'question'}),\n",
       " Example({'question': 'Explain your reasoning.', 'student_answer': 'bulb b and c are not on a closed path', 'reference_answer': 'If bulb A burns out, B and C are no longer in a closed path with the battery', 'assessment': 'partially_correct_incomplete'}) (input_keys={'student_answer', 'reference_answer', 'question'}),\n",
       " Example({'question': 'Explain your reasoning.', 'student_answer': 'both bulbs B and C are in the same path as bulb A', 'reference_answer': 'If bulb A burns out, B and C are no longer in a closed path with the battery', 'assessment': 'partially_correct_incomplete'}) (input_keys={'student_answer', 'reference_answer', 'question'}),\n",
       " Example({'question': 'Explain your reasoning.', 'student_answer': 'tell answer', 'reference_answer': 'If bulb A burns out, B and C are no longer in a closed path with the battery', 'assessment': 'non_domain'}) (input_keys={'student_answer', 'reference_answer', 'question'}),\n",
       " Example({'question': 'Explain your reasoning.', 'student_answer': 'Bulb A will create a gap in the path', 'reference_answer': 'If bulb A burns out, B and C are no longer in a closed path with the battery', 'assessment': 'correct'}) (input_keys={'student_answer', 'reference_answer', 'question'}),\n",
       " Example({'question': 'Explain your reasoning.', 'student_answer': 'Bulb a created a gap', 'reference_answer': 'If bulb A burns out, B and C are no longer in a closed path with the battery', 'assessment': 'correct'}) (input_keys={'student_answer', 'reference_answer', 'question'}),\n",
       " Example({'question': 'Explain your reasoning.', 'student_answer': 'there is no closed path', 'reference_answer': 'If bulb A burns out, B and C are no longer in a closed path with the battery', 'assessment': 'partially_correct_incomplete'}) (input_keys={'student_answer', 'reference_answer', 'question'}),\n",
       " Example({'question': 'Explain your reasoning.', 'student_answer': 'bulb b will not be in a closed path with the battery. bulb c will not be in a closed path with the battery.', 'reference_answer': 'If bulb A burns out, B and C are no longer in a closed path with the battery', 'assessment': 'correct'}) (input_keys={'student_answer', 'reference_answer', 'question'}),\n",
       " Example({'question': 'Explain your reasoning.', 'student_answer': 'if bulb A is damaged the closed path has a gap. bulb b and bulb c are no longer on a closed path.', 'reference_answer': 'If bulb A burns out, B and C are no longer in a closed path with the battery', 'assessment': 'correct'}) (input_keys={'student_answer', 'reference_answer', 'question'}),\n",
       " Example({'question': 'Explain your reasoning.', 'student_answer': 'if bulb a is damaged bulb b and bulb c are no longer in a closed path with the battery.', 'reference_answer': 'If bulb A burns out, B and C are no longer in a closed path with the battery', 'assessment': 'correct'}) (input_keys={'student_answer', 'reference_answer', 'question'}),\n",
       " Example({'question': 'Explain your reasoning.', 'student_answer': 'There will be a gap a bulb A', 'reference_answer': 'If bulb A burns out, B and C are no longer in a closed path with the battery', 'assessment': 'partially_correct_incomplete'}) (input_keys={'student_answer', 'reference_answer', 'question'}),\n",
       " Example({'question': 'Explain your reasoning.', 'student_answer': 'damaging bulb a creates a gap.', 'reference_answer': 'If bulb A burns out, B and C are no longer in a closed path with the battery', 'assessment': 'correct'}) (input_keys={'student_answer', 'reference_answer', 'question'}),\n",
       " Example({'question': 'Explain your reasoning.', 'student_answer': 'there is not a closed path that contains the batteyr and bulb b and bulb c', 'reference_answer': 'If bulb A burns out, B and C are no longer in a closed path with the battery', 'assessment': 'partially_correct_incomplete'}) (input_keys={'student_answer', 'reference_answer', 'question'}),\n",
       " Example({'question': 'Explain your reasoning.', 'student_answer': 'bulb b and bulb c are still contained in closed paths with the battery', 'reference_answer': 'If bulb A burns out, B and C are no longer in a closed path with the battery', 'assessment': 'contradictory'}) (input_keys={'student_answer', 'reference_answer', 'question'}),\n",
       " Example({'question': 'Explain your reasoning.', 'student_answer': 'bulb b and bulb c are in a closed path with the battery', 'reference_answer': 'If bulb A burns out, B and C are no longer in a closed path with the battery', 'assessment': 'contradictory'}) (input_keys={'student_answer', 'reference_answer', 'question'}),\n",
       " Example({'question': 'Explain your reasoning.', 'student_answer': 'bulb b is in a closed path with the battery', 'reference_answer': 'If bulb A burns out, B and C are no longer in a closed path with the battery', 'assessment': 'contradictory'}) (input_keys={'student_answer', 'reference_answer', 'question'}),\n",
       " Example({'question': 'Explain your reasoning.', 'student_answer': 'bulb B and C will no be in a closed path with the battery', 'reference_answer': 'If bulb A burns out, B and C are no longer in a closed path with the battery', 'assessment': 'correct'}) (input_keys={'student_answer', 'reference_answer', 'question'}),\n",
       " Example({'question': 'Explain your reasoning.', 'student_answer': 'Bulb A is contained in closed paths with the battery', 'reference_answer': 'If bulb A burns out, B and C are no longer in a closed path with the battery', 'assessment': 'contradictory'}) (input_keys={'student_answer', 'reference_answer', 'question'}),\n",
       " Example({'question': 'Explain your reasoning.', 'student_answer': 'bulbs b and c are still contained in closed paths with the battery', 'reference_answer': 'If bulb A burns out, B and C are no longer in a closed path with the battery', 'assessment': 'contradictory'}) (input_keys={'student_answer', 'reference_answer', 'question'}),\n",
       " Example({'question': 'Explain your reasoning.', 'student_answer': 'bulbs b and c have separate paths within the closed circuit', 'reference_answer': 'If bulb A burns out, B and C are no longer in a closed path with the battery', 'assessment': 'contradictory'}) (input_keys={'student_answer', 'reference_answer', 'question'}),\n",
       " Example({'question': 'Explain your reasoning.', 'student_answer': 'both bulbs B and C each have their own separate path to the battery within the closed circuit', 'reference_answer': 'If bulb A burns out, B and C are no longer in a closed path with the battery', 'assessment': 'contradictory'}) (input_keys={'student_answer', 'reference_answer', 'question'}),\n",
       " Example({'question': 'Explain your reasoning.', 'student_answer': 'damaged bulb a creates a gap in the path', 'reference_answer': 'If bulb A burns out, B and C are no longer in a closed path with the battery', 'assessment': 'correct'}) (input_keys={'student_answer', 'reference_answer', 'question'}),\n",
       " Example({'question': 'Explain your reasoning.', 'student_answer': 'They are in separate paths.', 'reference_answer': 'If bulb A burns out, B and C are no longer in a closed path with the battery', 'assessment': 'contradictory'}) (input_keys={'student_answer', 'reference_answer', 'question'}),\n",
       " Example({'question': 'Explain your reasoning.', 'student_answer': 'There is a gap in the path', 'reference_answer': 'If bulb A burns out, B and C are no longer in a closed path with the battery', 'assessment': 'partially_correct_incomplete'}) (input_keys={'student_answer', 'reference_answer', 'question'}),\n",
       " Example({'question': 'Explain your reasoning.', 'student_answer': 'they are conected to each other', 'reference_answer': 'If bulb A burns out, B and C are no longer in a closed path with the battery', 'assessment': 'partially_correct_incomplete'}) (input_keys={'student_answer', 'reference_answer', 'question'}),\n",
       " Example({'question': 'Explain your reasoning.', 'student_answer': 'neither bulb b or bulb c will be contained on a closed path', 'reference_answer': 'If bulb A burns out, B and C are no longer in a closed path with the battery', 'assessment': 'correct'}) (input_keys={'student_answer', 'reference_answer', 'question'}),\n",
       " Example({'question': 'Explain your reasoning.', 'student_answer': 'They are no longer on a closed cirucit', 'reference_answer': 'If bulb A burns out, B and C are no longer in a closed path with the battery', 'assessment': 'contradictory'}) (input_keys={'student_answer', 'reference_answer', 'question'}),\n",
       " Example({'question': 'Explain your reasoning.', 'student_answer': 'Without A, there\"s no closed path', 'reference_answer': 'If bulb A burns out, B and C are no longer in a closed path with the battery', 'assessment': 'correct'}) (input_keys={'student_answer', 'reference_answer', 'question'}),\n",
       " Example({'question': 'Explain your reasoning.', 'student_answer': 'B and C will no longer be contained in a closed path to the battery.', 'reference_answer': 'If bulb A burns out, B and C are no longer in a closed path with the battery', 'assessment': 'correct'}) (input_keys={'student_answer', 'reference_answer', 'question'}),\n",
       " Example({'question': 'Explain your reasoning.', 'student_answer': 'because they are in series with a', 'reference_answer': 'If bulb A burns out, B and C are no longer in a closed path with the battery', 'assessment': 'contradictory'}) (input_keys={'student_answer', 'reference_answer', 'question'}),\n",
       " Example({'question': 'Explain your reasoning.', 'student_answer': 'Bulb A creates a gap in the path.', 'reference_answer': 'If bulb A burns out, B and C are no longer in a closed path with the battery', 'assessment': 'correct'}) (input_keys={'student_answer', 'reference_answer', 'question'}),\n",
       " Example({'question': 'Explain your reasoning.', 'student_answer': 'there would be a gap in the closed circuit', 'reference_answer': 'If bulb A burns out, B and C are no longer in a closed path with the battery', 'assessment': 'contradictory'}) (input_keys={'student_answer', 'reference_answer', 'question'}),\n",
       " Example({'question': 'Explain your reasoning.', 'student_answer': 'Damaged bulb A will create a gap.', 'reference_answer': 'If bulb A burns out, B and C are no longer in a closed path with the battery', 'assessment': 'correct'}) (input_keys={'student_answer', 'reference_answer', 'question'}),\n",
       " Example({'question': 'Explain your reasoning.', 'student_answer': 'still connected to the battery', 'reference_answer': 'If bulb A burns out, B and C are no longer in a closed path with the battery', 'assessment': 'contradictory'}) (input_keys={'student_answer', 'reference_answer', 'question'}),\n",
       " Example({'question': 'Explain your reasoning.', 'student_answer': 'they are in the same path', 'reference_answer': 'If bulb A burns out, B and C are no longer in a closed path with the battery', 'assessment': 'partially_correct_incomplete'}) (input_keys={'student_answer', 'reference_answer', 'question'}),\n",
       " Example({'question': 'Explain your reasoning.', 'student_answer': 'Damaged bulb A creates a gap in the circuit', 'reference_answer': 'If bulb A burns out, B and C are no longer in a closed path with the battery', 'assessment': 'partially_correct_incomplete'}) (input_keys={'student_answer', 'reference_answer', 'question'}),\n",
       " Example({'question': 'Explain your reasoning.', 'student_answer': 'there will be a gap', 'reference_answer': 'If bulb A burns out, B and C are no longer in a closed path with the battery', 'assessment': 'partially_correct_incomplete'}) (input_keys={'student_answer', 'reference_answer', 'question'}),\n",
       " Example({'question': 'Explain your reasoning.', 'student_answer': 'because the damaged bulb a creates a gap in the path', 'reference_answer': 'If bulb A burns out, B and C are no longer in a closed path with the battery', 'assessment': 'correct'}) (input_keys={'student_answer', 'reference_answer', 'question'}),\n",
       " Example({'question': 'Explain your reasoning.', 'student_answer': 'Bulb B, and C are still ina contained path.', 'reference_answer': 'If bulb A burns out, B and C are no longer in a closed path with the battery', 'assessment': 'contradictory'}) (input_keys={'student_answer', 'reference_answer', 'question'}),\n",
       " Example({'question': 'Explain your reasoning.', 'student_answer': 'seperate circuits', 'reference_answer': 'If bulb A burns out, B and C are no longer in a closed path with the battery', 'assessment': 'contradictory'}) (input_keys={'student_answer', 'reference_answer', 'question'}),\n",
       " Example({'question': 'Explain your reasoning.', 'student_answer': 'contained in closed path', 'reference_answer': 'If bulb A burns out, B and C are no longer in a closed path with the battery', 'assessment': 'contradictory'}) (input_keys={'student_answer', 'reference_answer', 'question'}),\n",
       " Example({'question': 'Explain your reasoning.', 'student_answer': 'A GAP WIL BE CREATED', 'reference_answer': 'If bulb A burns out, B and C are no longer in a closed path with the battery', 'assessment': 'partially_correct_incomplete'}) (input_keys={'student_answer', 'reference_answer', 'question'}),\n",
       " Example({'question': 'Explain your reasoning.', 'student_answer': 'Bulb A is not in the same path as bulbs B and C.', 'reference_answer': 'If bulb A burns out, B and C are no longer in a closed path with the battery', 'assessment': 'contradictory'}) (input_keys={'student_answer', 'reference_answer', 'question'}),\n",
       " Example({'question': 'Explain your reasoning.', 'student_answer': 'Bulb A will no longer be completing the circuts.', 'reference_answer': 'If bulb A burns out, B and C are no longer in a closed path with the battery', 'assessment': 'correct'}) (input_keys={'student_answer', 'reference_answer', 'question'}),\n",
       " Example({'question': 'Explain your reasoning.', 'student_answer': 'bulb A creates a gap in the closed circuit', 'reference_answer': 'If bulb A burns out, B and C are no longer in a closed path with the battery', 'assessment': 'contradictory'}) (input_keys={'student_answer', 'reference_answer', 'question'}),\n",
       " Example({'question': 'Explain your reasoning.', 'student_answer': 'there is a gap caused by bulb A', 'reference_answer': 'If bulb A burns out, B and C are no longer in a closed path with the battery', 'assessment': 'partially_correct_incomplete'}) (input_keys={'student_answer', 'reference_answer', 'question'}),\n",
       " Example({'question': 'Explain your reasoning.', 'student_answer': 'because it would cause a gap', 'reference_answer': 'If bulb A burns out, B and C are no longer in a closed path with the battery', 'assessment': 'partially_correct_incomplete'}) (input_keys={'student_answer', 'reference_answer', 'question'}),\n",
       " Example({'question': 'Explain your reasoning.', 'student_answer': 'the damaged bulb a creates a gap in the path.', 'reference_answer': 'If bulb A burns out, B and C are no longer in a closed path with the battery', 'assessment': 'partially_correct_incomplete'}) (input_keys={'student_answer', 'reference_answer', 'question'}),\n",
       " Example({'question': 'Explain your reasoning.', 'student_answer': 'because it damages the complete circuit', 'reference_answer': 'If bulb A burns out, B and C are no longer in a closed path with the battery', 'assessment': 'contradictory'}) (input_keys={'student_answer', 'reference_answer', 'question'}),\n",
       " Example({'question': 'Explain your reasoning.', 'student_answer': 'it is on a closed path', 'reference_answer': 'If bulb A burns out, B and C are no longer in a closed path with the battery', 'assessment': 'contradictory'}) (input_keys={'student_answer', 'reference_answer', 'question'}),\n",
       " Example({'question': 'Explain your reasoning.', 'student_answer': 'There is a gap in the closed path.', 'reference_answer': 'If bulb A burns out, B and C are no longer in a closed path with the battery', 'assessment': 'partially_correct_incomplete'}) (input_keys={'student_answer', 'reference_answer', 'question'}),\n",
       " Example({'question': 'Explain your reasoning.', 'student_answer': 'it creats a gap so there are no closed paths', 'reference_answer': 'If bulb A burns out, B and C are no longer in a closed path with the battery', 'assessment': 'correct'}) (input_keys={'student_answer', 'reference_answer', 'question'}),\n",
       " Example({'question': 'Explain your reasoning.', 'student_answer': 'Seperate paths connected to the battery', 'reference_answer': 'If bulb A burns out, B and C are no longer in a closed path with the battery', 'assessment': 'contradictory'}) (input_keys={'student_answer', 'reference_answer', 'question'}),\n",
       " Example({'question': 'Explain your reasoning.', 'student_answer': 'Damaging Bulb A would disrupt the closed path with the battery.', 'reference_answer': 'If bulb A burns out, B and C are no longer in a closed path with the battery', 'assessment': 'correct'}) (input_keys={'student_answer', 'reference_answer', 'question'}),\n",
       " Example({'question': 'Explain your reasoning.', 'student_answer': 'if bulb A burns out then bulbs B and C will no longer be in a closed path.', 'reference_answer': 'If bulb A burns out, B and C are no longer in a closed path with the battery', 'assessment': 'correct'}) (input_keys={'student_answer', 'reference_answer', 'question'}),\n",
       " Example({'question': 'Explain your reasoning.', 'student_answer': 'B nor C will have a contained closed paths to the battery', 'reference_answer': 'If bulb A burns out, B and C are no longer in a closed path with the battery', 'assessment': 'partially_correct_incomplete'}) (input_keys={'student_answer', 'reference_answer', 'question'}),\n",
       " Example({'question': 'Explain your reasoning.', 'student_answer': 'Bulbs B and C are still contained in a closed path to the battery.', 'reference_answer': 'If bulb A burns out, B and C are no longer in a closed path with the battery', 'assessment': 'contradictory'}) (input_keys={'student_answer', 'reference_answer', 'question'}),\n",
       " Example({'question': 'Explain your reasoning.', 'student_answer': 'that creates a gap', 'reference_answer': 'If bulb A burns out, B and C are no longer in a closed path with the battery', 'assessment': 'partially_correct_incomplete'}) (input_keys={'student_answer', 'reference_answer', 'question'}),\n",
       " Example({'question': 'Why?', 'student_answer': 'because there is a difference in electrial states between the two terminals', 'reference_answer': 'A battery uses a chemical reaction to maintain different electrical states at the terminals', 'assessment': 'partially_correct_incomplete'}) (input_keys={'student_answer', 'reference_answer', 'question'}),\n",
       " Example({'question': 'Why?', 'student_answer': 'there is a difference between the electrical states of the two battery  terminals because they are not connected to each other', 'reference_answer': 'A battery uses a chemical reaction to maintain different electrical states at the terminals', 'assessment': 'partially_correct_incomplete'}) (input_keys={'student_answer', 'reference_answer', 'question'}),\n",
       " Example({'question': 'Why?', 'student_answer': 'because the cheminal reaction of the volatge is there wther or not there is an incomplete circuit', 'reference_answer': 'A battery uses a chemical reaction to maintain different electrical states at the terminals', 'assessment': 'correct'}) (input_keys={'student_answer', 'reference_answer', 'question'}),\n",
       " Example({'question': 'Why?', 'student_answer': 'the battery will always have a voltage.', 'reference_answer': 'A battery uses a chemical reaction to maintain different electrical states at the terminals', 'assessment': 'partially_correct_incomplete'}) (input_keys={'student_answer', 'reference_answer', 'question'}),\n",
       " Example({'question': 'Why?', 'student_answer': 'the battery is a chemical reaction that does not rely on the circuit being complete or not.', 'reference_answer': 'A battery uses a chemical reaction to maintain different electrical states at the terminals', 'assessment': 'contradictory'}) (input_keys={'student_answer', 'reference_answer', 'question'}),\n",
       " Example({'question': 'Why?', 'student_answer': 'the terminals in the battery will have an electrical state and chemical reaction that will continuously flow.', 'reference_answer': 'A battery uses a chemical reaction to maintain different electrical states at the terminals', 'assessment': 'contradictory'}) (input_keys={'student_answer', 'reference_answer', 'question'}),\n",
       " Example({'question': 'Why?', 'student_answer': 'because a battery is in a constant state of electrical charge', 'reference_answer': 'A battery uses a chemical reaction to maintain different electrical states at the terminals', 'assessment': 'partially_correct_incomplete'}) (input_keys={'student_answer', 'reference_answer', 'question'}),\n",
       " Example({'question': 'Why?', 'student_answer': 'a battery is in a constant state of electricity', 'reference_answer': 'A battery uses a chemical reaction to maintain different electrical states at the terminals', 'assessment': 'partially_correct_incomplete'}) (input_keys={'student_answer', 'reference_answer', 'question'}),\n",
       " Example({'question': 'Why?', 'student_answer': 'because a battery always has a charge in its positive terminal', 'reference_answer': 'A battery uses a chemical reaction to maintain different electrical states at the terminals', 'assessment': 'contradictory'}) (input_keys={'student_answer', 'reference_answer', 'question'}),\n",
       " Example({'question': 'Why?', 'student_answer': 'because the terminals are not connected', 'reference_answer': 'A battery uses a chemical reaction to maintain different electrical states at the terminals', 'assessment': 'contradictory'}) (input_keys={'student_answer', 'reference_answer', 'question'}),\n",
       " Example({'question': 'Why?', 'student_answer': 'the positive terminal and negative terminal are not connected', 'reference_answer': 'A battery uses a chemical reaction to maintain different electrical states at the terminals', 'assessment': 'contradictory'}) (input_keys={'student_answer', 'reference_answer', 'question'}),\n",
       " Example({'question': 'Why?', 'student_answer': 'the positive battery terminal is not connected to the negative battery terminal.', 'reference_answer': 'A battery uses a chemical reaction to maintain different electrical states at the terminals', 'assessment': 'contradictory'}) (input_keys={'student_answer', 'reference_answer', 'question'}),\n",
       " Example({'question': 'Why?', 'student_answer': 'The chemical reation still exists', 'reference_answer': 'A battery uses a chemical reaction to maintain different electrical states at the terminals', 'assessment': 'partially_correct_incomplete'}) (input_keys={'student_answer', 'reference_answer', 'question'}),\n",
       " Example({'question': 'Why?', 'student_answer': 'The battery uses the chemical reation to create voltage', 'reference_answer': 'A battery uses a chemical reaction to maintain different electrical states at the terminals', 'assessment': 'correct'}) (input_keys={'student_answer', 'reference_answer', 'question'}),\n",
       " Example({'question': 'Why?', 'student_answer': 'there is no short circuit to the battery.', 'reference_answer': 'A battery uses a chemical reaction to maintain different electrical states at the terminals', 'assessment': 'contradictory'}) (input_keys={'student_answer', 'reference_answer', 'question'}),\n",
       " Example({'question': 'Why?', 'student_answer': 'the battery still holds the electrical charge if there is an incomplete circuit.', 'reference_answer': 'A battery uses a chemical reaction to maintain different electrical states at the terminals', 'assessment': 'partially_correct_incomplete'}) (input_keys={'student_answer', 'reference_answer', 'question'}),\n",
       " Example({'question': 'Why?', 'student_answer': 'because the gap will not effect the voltage.', 'reference_answer': 'A battery uses a chemical reaction to maintain different electrical states at the terminals', 'assessment': 'partially_correct_incomplete'}) (input_keys={'student_answer', 'reference_answer', 'question'}),\n",
       " Example({'question': 'Why?', 'student_answer': 'Because the chemical reaction is not effected by a gap.', 'reference_answer': 'A battery uses a chemical reaction to maintain different electrical states at the terminals', 'assessment': 'partially_correct_incomplete'}) (input_keys={'student_answer', 'reference_answer', 'question'}),\n",
       " Example({'question': 'Why?', 'student_answer': 'the terminals must have a difference in electrical states to have voltage', 'reference_answer': 'A battery uses a chemical reaction to maintain different electrical states at the terminals', 'assessment': 'partially_correct_incomplete'}) (input_keys={'student_answer', 'reference_answer', 'question'}),\n",
       " Example({'question': 'Why?', 'student_answer': 'the difference in the electrical states between two terminals causes a chemical reaction', 'reference_answer': 'A battery uses a chemical reaction to maintain different electrical states at the terminals', 'assessment': 'contradictory'}) (input_keys={'student_answer', 'reference_answer', 'question'}),\n",
       " Example({'question': 'Why?', 'student_answer': 'There is always a difference in voltage between two battery terminals.', 'reference_answer': 'A battery uses a chemical reaction to maintain different electrical states at the terminals', 'assessment': 'partially_correct_incomplete'}) (input_keys={'student_answer', 'reference_answer', 'question'}),\n",
       " Example({'question': 'Why?', 'student_answer': 'The gap causes a difference in electrical states.', 'reference_answer': 'A battery uses a chemical reaction to maintain different electrical states at the terminals', 'assessment': 'irrelevant'}) (input_keys={'student_answer', 'reference_answer', 'question'}),\n",
       " Example({'question': 'Why?', 'student_answer': 'The battery terminals have different electrical states.', 'reference_answer': 'A battery uses a chemical reaction to maintain different electrical states at the terminals', 'assessment': 'partially_correct_incomplete'}) (input_keys={'student_answer', 'reference_answer', 'question'}),\n",
       " Example({'question': 'Why?', 'student_answer': 'because the voltage doesnt change in the battery', 'reference_answer': 'A battery uses a chemical reaction to maintain different electrical states at the terminals', 'assessment': 'contradictory'}) (input_keys={'student_answer', 'reference_answer', 'question'}),\n",
       " Example({'question': 'Why?', 'student_answer': 'because of the chemical in the battery', 'reference_answer': 'A battery uses a chemical reaction to maintain different electrical states at the terminals', 'assessment': 'partially_correct_incomplete'}) (input_keys={'student_answer', 'reference_answer', 'question'}),\n",
       " Example({'question': 'Why?', 'student_answer': 'because of the chemical reaction in the battery', 'reference_answer': 'A battery uses a chemical reaction to maintain different electrical states at the terminals', 'assessment': 'partially_correct_incomplete'}) (input_keys={'student_answer', 'reference_answer', 'question'}),\n",
       " Example({'question': 'Why?', 'student_answer': 'because they are in the same electrical state', 'reference_answer': 'A battery uses a chemical reaction to maintain different electrical states at the terminals', 'assessment': 'contradictory'}) (input_keys={'student_answer', 'reference_answer', 'question'}),\n",
       " Example({'question': 'Why?', 'student_answer': 'and they are in the same state', 'reference_answer': 'A battery uses a chemical reaction to maintain different electrical states at the terminals', 'assessment': 'contradictory'}) (input_keys={'student_answer', 'reference_answer', 'question'}),\n",
       " Example({'question': 'Why?', 'student_answer': 'l', 'reference_answer': 'A battery uses a chemical reaction to maintain different electrical states at the terminals', 'assessment': 'non_domain'}) (input_keys={'student_answer', 'reference_answer', 'question'}),\n",
       " Example({'question': 'Why?', 'student_answer': 'There is a difference in electrical states between two terminals.', 'reference_answer': 'A battery uses a chemical reaction to maintain different electrical states at the terminals', 'assessment': 'partially_correct_incomplete'}) (input_keys={'student_answer', 'reference_answer', 'question'}),\n",
       " Example({'question': 'Why?', 'student_answer': 'It is different from the battery.', 'reference_answer': 'A battery uses a chemical reaction to maintain different electrical states at the terminals', 'assessment': 'contradictory'}) (input_keys={'student_answer', 'reference_answer', 'question'}),\n",
       " Example({'question': 'Why?', 'student_answer': 'difference in electrical state', 'reference_answer': 'A battery uses a chemical reaction to maintain different electrical states at the terminals', 'assessment': 'partially_correct_incomplete'}) (input_keys={'student_answer', 'reference_answer', 'question'}),\n",
       " Example({'question': 'Why?', 'student_answer': 'gap in terminal', 'reference_answer': 'A battery uses a chemical reaction to maintain different electrical states at the terminals', 'assessment': 'contradictory'}) (input_keys={'student_answer', 'reference_answer', 'question'}),\n",
       " Example({'question': 'Why?', 'student_answer': 'because the voltage is the difference in electrical states between two terminals', 'reference_answer': 'A battery uses a chemical reaction to maintain different electrical states at the terminals', 'assessment': 'irrelevant'}) (input_keys={'student_answer', 'reference_answer', 'question'}),\n",
       " Example({'question': 'Why?', 'student_answer': 'the terminal has an electrical state between terminals', 'reference_answer': 'A battery uses a chemical reaction to maintain different electrical states at the terminals', 'assessment': 'partially_correct_incomplete'}) (input_keys={'student_answer', 'reference_answer', 'question'}),\n",
       " Example({'question': 'Why?', 'student_answer': 'a chemical reaction between terminals', 'reference_answer': 'A battery uses a chemical reaction to maintain different electrical states at the terminals', 'assessment': 'contradictory'}) (input_keys={'student_answer', 'reference_answer', 'question'}),\n",
       " Example({'question': 'Why?', 'student_answer': 'because the battery has electricity and the gap does not', 'reference_answer': 'A battery uses a chemical reaction to maintain different electrical states at the terminals', 'assessment': 'partially_correct_incomplete'}) (input_keys={'student_answer', 'reference_answer', 'question'}),\n",
       " Example({'question': 'Why?', 'student_answer': 'the battery always has voltage', 'reference_answer': 'A battery uses a chemical reaction to maintain different electrical states at the terminals', 'assessment': 'partially_correct_incomplete'}) (input_keys={'student_answer', 'reference_answer', 'question'}),\n",
       " Example({'question': 'Why?', 'student_answer': 'the terminals are not connected', 'reference_answer': 'A battery uses a chemical reaction to maintain different electrical states at the terminals', 'assessment': 'contradictory'}) (input_keys={'student_answer', 'reference_answer', 'question'}),\n",
       " Example({'question': 'Why?', 'student_answer': 'there is a gap between terminals', 'reference_answer': 'A battery uses a chemical reaction to maintain different electrical states at the terminals', 'assessment': 'contradictory'}) (input_keys={'student_answer', 'reference_answer', 'question'}),\n",
       " Example({'question': 'Why?', 'student_answer': 'a battery uses voltage', 'reference_answer': 'A battery uses a chemical reaction to maintain different electrical states at the terminals', 'assessment': 'contradictory'}) (input_keys={'student_answer', 'reference_answer', 'question'}),\n",
       " Example({'question': 'Why?', 'student_answer': 'dont know', 'reference_answer': 'A battery uses a chemical reaction to maintain different electrical states at the terminals', 'assessment': 'non_domain'}) (input_keys={'student_answer', 'reference_answer', 'question'}),\n",
       " Example({'question': 'Why?', 'student_answer': 'because there is no gap between the positive and negative terminal', 'reference_answer': 'A battery uses a chemical reaction to maintain different electrical states at the terminals', 'assessment': 'contradictory'}) (input_keys={'student_answer', 'reference_answer', 'question'}),\n",
       " Example({'question': 'Why?', 'student_answer': 'the terminals used by the battery have no gap.', 'reference_answer': 'A battery uses a chemical reaction to maintain different electrical states at the terminals', 'assessment': 'contradictory'}) (input_keys={'student_answer', 'reference_answer', 'question'}),\n",
       " Example({'question': 'Why?', 'student_answer': 'Because it is the difference of the electrical state between the two battery terminals', 'reference_answer': 'A battery uses a chemical reaction to maintain different electrical states at the terminals', 'assessment': 'partially_correct_incomplete'}) (input_keys={'student_answer', 'reference_answer', 'question'}),\n",
       " Example({'question': 'Why?', 'student_answer': 'It is the difference of the electrical states caused by a chemical reaction between the two terminals of the battery.', 'reference_answer': 'A battery uses a chemical reaction to maintain different electrical states at the terminals', 'assessment': 'partially_correct_incomplete'}) (input_keys={'student_answer', 'reference_answer', 'question'}),\n",
       " Example({'question': 'Why?', 'student_answer': 'the electrical state difference between the battery\"s two terminals', 'reference_answer': 'A battery uses a chemical reaction to maintain different electrical states at the terminals', 'assessment': 'partially_correct_incomplete'}) (input_keys={'student_answer', 'reference_answer', 'question'}),\n",
       " Example({'question': 'Why?', 'student_answer': 'i dont know', 'reference_answer': 'A battery uses a chemical reaction to maintain different electrical states at the terminals', 'assessment': 'non_domain'}) (input_keys={'student_answer', 'reference_answer', 'question'}),\n",
       " Example({'question': 'Why?', 'student_answer': 'because it has a positive terminal', 'reference_answer': 'A battery uses a chemical reaction to maintain different electrical states at the terminals', 'assessment': 'contradictory'}) (input_keys={'student_answer', 'reference_answer', 'question'}),\n",
       " Example({'question': 'Why?', 'student_answer': 'tell answer', 'reference_answer': 'A battery uses a chemical reaction to maintain different electrical states at the terminals', 'assessment': 'non_domain'}) (input_keys={'student_answer', 'reference_answer', 'question'}),\n",
       " Example({'question': 'Why?', 'student_answer': 'The battery will have a different electrical state than the circuit', 'reference_answer': 'A battery uses a chemical reaction to maintain different electrical states at the terminals', 'assessment': 'contradictory'}) (input_keys={'student_answer', 'reference_answer', 'question'}),\n",
       " Example({'question': 'Why?', 'student_answer': 'The difference in electrical state', 'reference_answer': 'A battery uses a chemical reaction to maintain different electrical states at the terminals', 'assessment': 'contradictory'}) (input_keys={'student_answer', 'reference_answer', 'question'}),\n",
       " Example({'question': 'Why?', 'student_answer': 'The battery has a different electrical state than the incomplete circuit', 'reference_answer': 'A battery uses a chemical reaction to maintain different electrical states at the terminals', 'assessment': 'contradictory'}) (input_keys={'student_answer', 'reference_answer', 'question'}),\n",
       " Example({'question': 'Why?', 'student_answer': 'The battery uses the electrical state', 'reference_answer': 'A battery uses a chemical reaction to maintain different electrical states at the terminals', 'assessment': 'contradictory'}) (input_keys={'student_answer', 'reference_answer', 'question'}),\n",
       " Example({'question': 'Why?', 'student_answer': 'Battery will always have voltage.', 'reference_answer': 'A battery uses a chemical reaction to maintain different electrical states at the terminals', 'assessment': 'partially_correct_incomplete'}) (input_keys={'student_answer', 'reference_answer', 'question'}),\n",
       " Example({'question': 'Why?', 'student_answer': 'The battery keeps a chemical reaction reaction.', 'reference_answer': 'A battery uses a chemical reaction to maintain different electrical states at the terminals', 'assessment': 'partially_correct_incomplete'}) (input_keys={'student_answer', 'reference_answer', 'question'}),\n",
       " Example({'question': 'Why?', 'student_answer': 'The battery uses a chemical reaction to maintain the voltage,', 'reference_answer': 'A battery uses a chemical reaction to maintain different electrical states at the terminals', 'assessment': 'contradictory'}) (input_keys={'student_answer', 'reference_answer', 'question'}),\n",
       " Example({'question': 'Why?', 'student_answer': 'there is always voltage even if there is a gap', 'reference_answer': 'A battery uses a chemical reaction to maintain different electrical states at the terminals', 'assessment': 'irrelevant'}) (input_keys={'student_answer', 'reference_answer', 'question'}),\n",
       " Example({'question': 'Why?', 'student_answer': 'there is a chemical reaction between two terminals', 'reference_answer': 'A battery uses a chemical reaction to maintain different electrical states at the terminals', 'assessment': 'contradictory'}) (input_keys={'student_answer', 'reference_answer', 'question'}),\n",
       " Example({'question': 'Why?', 'student_answer': 'a terminal has an electrical state where theres a chemical reaction', 'reference_answer': 'A battery uses a chemical reaction to maintain different electrical states at the terminals', 'assessment': 'contradictory'}) (input_keys={'student_answer', 'reference_answer', 'question'}),\n",
       " Example({'question': 'Why?', 'student_answer': 'because a battery always has voltage', 'reference_answer': 'A battery uses a chemical reaction to maintain different electrical states at the terminals', 'assessment': 'partially_correct_incomplete'}) (input_keys={'student_answer', 'reference_answer', 'question'}),\n",
       " Example({'question': 'Why?', 'student_answer': 'because a battery has a chemical reaction that causes a voltage', 'reference_answer': 'A battery uses a chemical reaction to maintain different electrical states at the terminals', 'assessment': 'partially_correct_incomplete'}) (input_keys={'student_answer', 'reference_answer', 'question'}),\n",
       " Example({'question': 'Why?', 'student_answer': 'a batter uses a chemical reaction to create voltage', 'reference_answer': 'A battery uses a chemical reaction to maintain different electrical states at the terminals', 'assessment': 'partially_correct_incomplete'}) (input_keys={'student_answer', 'reference_answer', 'question'}),\n",
       " Example({'question': 'Why?', 'student_answer': 'the voltage of the battery depends on the chemical interaction inside the battery. It does not depend on components in a curcuit.', 'reference_answer': 'A battery uses a chemical reaction to maintain different electrical states at the terminals', 'assessment': 'partially_correct_incomplete'}) (input_keys={'student_answer', 'reference_answer', 'question'}),\n",
       " Example({'question': 'Why?', 'student_answer': 'the voltage of a battery does not depend on the components in a curcuit.', 'reference_answer': 'A battery uses a chemical reaction to maintain different electrical states at the terminals', 'assessment': 'partially_correct_incomplete'}) (input_keys={'student_answer', 'reference_answer', 'question'}),\n",
       " Example({'question': 'Why?', 'student_answer': 'the voltage of the battery does not depend on the components in a curcuit. It depends on a chemical reaction.', 'reference_answer': 'A battery uses a chemical reaction to maintain different electrical states at the terminals', 'assessment': 'partially_correct_incomplete'}) (input_keys={'student_answer', 'reference_answer', 'question'}),\n",
       " Example({'question': 'Why?', 'student_answer': 'becasuse it is electrically charged', 'reference_answer': 'A battery uses a chemical reaction to maintain different electrical states at the terminals', 'assessment': 'partially_correct_incomplete'}) (input_keys={'student_answer', 'reference_answer', 'question'}),\n",
       " Example({'question': 'Why?', 'student_answer': 'yes, because there is a chemical reaction', 'reference_answer': 'A battery uses a chemical reaction to maintain different electrical states at the terminals', 'assessment': 'partially_correct_incomplete'}) (input_keys={'student_answer', 'reference_answer', 'question'}),\n",
       " Example({'question': 'Why?', 'student_answer': 'There is a chemical reaction.', 'reference_answer': 'A battery uses a chemical reaction to maintain different electrical states at the terminals', 'assessment': 'partially_correct_incomplete'}) (input_keys={'student_answer', 'reference_answer', 'question'}),\n",
       " Example({'question': 'Why?', 'student_answer': 'circuit do not effect electrical state between terminals', 'reference_answer': 'A battery uses a chemical reaction to maintain different electrical states at the terminals', 'assessment': 'contradictory'}) (input_keys={'student_answer', 'reference_answer', 'question'}),\n",
       " Example({'question': 'Why?', 'student_answer': 'circuits do not effect the electrical state between two terminals.', 'reference_answer': 'A battery uses a chemical reaction to maintain different electrical states at the terminals', 'assessment': 'contradictory'}) (input_keys={'student_answer', 'reference_answer', 'question'}),\n",
       " Example({'question': 'Why?', 'student_answer': 'an incomplete circuit would not effect the the electrical state between the terminals.', 'reference_answer': 'A battery uses a chemical reaction to maintain different electrical states at the terminals', 'assessment': 'contradictory'}) (input_keys={'student_answer', 'reference_answer', 'question'}),\n",
       " Example({'question': 'Why?', 'student_answer': 'the terminal\"s electrical state is not effected by the incomplete circuit.', 'reference_answer': 'A battery uses a chemical reaction to maintain different electrical states at the terminals', 'assessment': 'contradictory'}) (input_keys={'student_answer', 'reference_answer', 'question'}),\n",
       " Example({'question': 'Why?', 'student_answer': 'There is still a voltage is the different terminals', 'reference_answer': 'A battery uses a chemical reaction to maintain different electrical states at the terminals', 'assessment': 'partially_correct_incomplete'}) (input_keys={'student_answer', 'reference_answer', 'question'}),\n",
       " Example({'question': 'Why?', 'student_answer': 'The terminal is still connected to an electrical state of the battery', 'reference_answer': 'A battery uses a chemical reaction to maintain different electrical states at the terminals', 'assessment': 'contradictory'}) (input_keys={'student_answer', 'reference_answer', 'question'}),\n",
       " Example({'question': 'Why?', 'student_answer': 'it always has the same voltage due to a chemical reaction inside of it', 'reference_answer': 'A battery uses a chemical reaction to maintain different electrical states at the terminals', 'assessment': 'partially_correct_incomplete'}) (input_keys={'student_answer', 'reference_answer', 'question'}),\n",
       " Example({'question': 'Why?', 'student_answer': 'a battery is always in the same electrical state. it has a chemical reaction inside of it.', 'reference_answer': 'A battery uses a chemical reaction to maintain different electrical states at the terminals', 'assessment': 'contradictory'}) (input_keys={'student_answer', 'reference_answer', 'question'}),\n",
       " Example({'question': 'Why?', 'student_answer': 'because the battery has its own electrical state within given by the lead', 'reference_answer': 'A battery uses a chemical reaction to maintain different electrical states at the terminals', 'assessment': 'contradictory'}) (input_keys={'student_answer', 'reference_answer', 'question'}),\n",
       " Example({'question': 'Why?', 'student_answer': 'the battery has its own chemical reaction', 'reference_answer': 'A battery uses a chemical reaction to maintain different electrical states at the terminals', 'assessment': 'partially_correct_incomplete'}) (input_keys={'student_answer', 'reference_answer', 'question'}),\n",
       " Example({'question': 'Why?', 'student_answer': 'because terminals are seperate', 'reference_answer': 'A battery uses a chemical reaction to maintain different electrical states at the terminals', 'assessment': 'contradictory'}) (input_keys={'student_answer', 'reference_answer', 'question'}),\n",
       " Example({'question': 'Why?', 'student_answer': 'not connected', 'reference_answer': 'A battery uses a chemical reaction to maintain different electrical states at the terminals', 'assessment': 'contradictory'}) (input_keys={'student_answer', 'reference_answer', 'question'}),\n",
       " Example({'question': 'Why?', 'student_answer': 'battery uses charge', 'reference_answer': 'A battery uses a chemical reaction to maintain different electrical states at the terminals', 'assessment': 'contradictory'}) (input_keys={'student_answer', 'reference_answer', 'question'}),\n",
       " Example({'question': 'Why?', 'student_answer': 'because a batter will always have a voltage even if it is 0', 'reference_answer': 'A battery uses a chemical reaction to maintain different electrical states at the terminals', 'assessment': 'contradictory'}) (input_keys={'student_answer', 'reference_answer', 'question'}),\n",
       " Example({'question': 'Why?', 'student_answer': 'because a battery will always have a voltage even if it is 0', 'reference_answer': 'A battery uses a chemical reaction to maintain different electrical states at the terminals', 'assessment': 'contradictory'}) (input_keys={'student_answer', 'reference_answer', 'question'}),\n",
       " Example({'question': 'Why?', 'student_answer': 'because a battery always has a chemical reaction, positive or negative', 'reference_answer': 'A battery uses a chemical reaction to maintain different electrical states at the terminals', 'assessment': 'contradictory'}) (input_keys={'student_answer', 'reference_answer', 'question'}),\n",
       " Example({'question': 'Why?', 'student_answer': 'because a chemical reaction inside the battery keeps the positive and negative terminals at different electrical states at all times.', 'reference_answer': 'A battery uses a chemical reaction to maintain different electrical states at the terminals', 'assessment': 'correct'}) (input_keys={'student_answer', 'reference_answer', 'question'}),\n",
       " Example({'question': 'Why?', 'student_answer': 'A battery will always have a voltage because the electrical states of the positive and negative terminals are always different.', 'reference_answer': 'A battery uses a chemical reaction to maintain different electrical states at the terminals', 'assessment': 'irrelevant'}) (input_keys={'student_answer', 'reference_answer', 'question'}),\n",
       " Example({'question': 'Why?', 'student_answer': 'A chemical reaction inside the battery makes the electrical states of the positive and negative terminals different at all times.', 'reference_answer': 'A battery uses a chemical reaction to maintain different electrical states at the terminals', 'assessment': 'correct'}) (input_keys={'student_answer', 'reference_answer', 'question'}),\n",
       " Example({'question': 'Why?', 'student_answer': 'The two terminals of a battery will always have different electrical states due to a chemical reaction inside the battery', 'reference_answer': 'A battery uses a chemical reaction to maintain different electrical states at the terminals', 'assessment': 'correct'}) (input_keys={'student_answer', 'reference_answer', 'question'}),\n",
       " Example({'question': 'Why?', 'student_answer': 'The voltage does not change.', 'reference_answer': 'A battery uses a chemical reaction to maintain different electrical states at the terminals', 'assessment': 'irrelevant'}) (input_keys={'student_answer', 'reference_answer', 'question'}),\n",
       " Example({'question': 'Why?', 'student_answer': 'Because it will still be connected to one of the terminals', 'reference_answer': 'A battery uses a chemical reaction to maintain different electrical states at the terminals', 'assessment': 'contradictory'}) (input_keys={'student_answer', 'reference_answer', 'question'}),\n",
       " Example({'question': 'Why?', 'student_answer': 'because the gap creates a difference in electrical states', 'reference_answer': 'A battery uses a chemical reaction to maintain different electrical states at the terminals', 'assessment': 'contradictory'}) (input_keys={'student_answer', 'reference_answer', 'question'}),\n",
       " Example({'question': 'Why?', 'student_answer': 'the voltage of a battery is the result of chemical reactions within the battery', 'reference_answer': 'A battery uses a chemical reaction to maintain different electrical states at the terminals', 'assessment': 'partially_correct_incomplete'}) (input_keys={'student_answer', 'reference_answer', 'question'}),\n",
       " Example({'question': 'Why?', 'student_answer': 'Because it has one regardless of the circuit', 'reference_answer': 'A battery uses a chemical reaction to maintain different electrical states at the terminals', 'assessment': 'irrelevant'}) (input_keys={'student_answer', 'reference_answer', 'question'}),\n",
       " Example({'question': 'Why?', 'student_answer': 'battery always has voltage', 'reference_answer': 'A battery uses a chemical reaction to maintain different electrical states at the terminals', 'assessment': 'partially_correct_incomplete'}) (input_keys={'student_answer', 'reference_answer', 'question'}),\n",
       " Example({'question': 'Why?', 'student_answer': 'Because there is a difference between the electrical states of the two terminals.', 'reference_answer': 'A battery uses a chemical reaction to maintain different electrical states at the terminals', 'assessment': 'partially_correct_incomplete'}) (input_keys={'student_answer', 'reference_answer', 'question'}),\n",
       " Example({'question': 'Why?', 'student_answer': 'because there is still a difference in electrical states.  One side could have a positive connection and the other could have a negative connection', 'reference_answer': 'A battery uses a chemical reaction to maintain different electrical states at the terminals', 'assessment': 'contradictory'}) (input_keys={'student_answer', 'reference_answer', 'question'}),\n",
       " Example({'question': 'Why?', 'student_answer': 'Because the terminals are not in a closed path, so you are giving the voltage of the battery itself', 'reference_answer': 'A battery uses a chemical reaction to maintain different electrical states at the terminals', 'assessment': 'partially_correct_incomplete'}) (input_keys={'student_answer', 'reference_answer', 'question'}),\n",
       " Example({'question': 'Why?', 'student_answer': 'because the battery always has a voltage unless it\"s dead', 'reference_answer': 'A battery uses a chemical reaction to maintain different electrical states at the terminals', 'assessment': 'partially_correct_incomplete'}) (input_keys={'student_answer', 'reference_answer', 'question'}),\n",
       " Example({'question': 'Why?', 'student_answer': 'Because it has two electrial states within itself.', 'reference_answer': 'A battery uses a chemical reaction to maintain different electrical states at the terminals', 'assessment': 'partially_correct_incomplete'}) (input_keys={'student_answer', 'reference_answer', 'question'}),\n",
       " Example({'question': 'Why?', 'student_answer': 'because they aren\"t connected', 'reference_answer': 'A battery uses a chemical reaction to maintain different electrical states at the terminals', 'assessment': 'partially_correct_incomplete'}) (input_keys={'student_answer', 'reference_answer', 'question'}),\n",
       " Example({'question': 'Why?', 'student_answer': 'battery will always have a voltage', 'reference_answer': 'A battery uses a chemical reaction to maintain different electrical states at the terminals', 'assessment': 'contradictory'}) (input_keys={'student_answer', 'reference_answer', 'question'}),\n",
       " Example({'question': 'Why?', 'student_answer': 'There will be a difference in measured electrical states', 'reference_answer': 'A battery uses a chemical reaction to maintain different electrical states at the terminals', 'assessment': 'contradictory'}) (input_keys={'student_answer', 'reference_answer', 'question'}),\n",
       " Example({'question': 'Why?', 'student_answer': 'because', 'reference_answer': 'A battery uses a chemical reaction to maintain different electrical states at the terminals', 'assessment': 'non_domain'}) (input_keys={'student_answer', 'reference_answer', 'question'}),\n",
       " Example({'question': 'Why?', 'student_answer': 'a gap in the circuit does not affect the voltage of the battery.', 'reference_answer': 'A battery uses a chemical reaction to maintain different electrical states at the terminals', 'assessment': 'partially_correct_incomplete'}) (input_keys={'student_answer', 'reference_answer', 'question'}),\n",
       " Example({'question': 'Why?', 'student_answer': 'An incomplete circuit does not affect voltage.', 'reference_answer': 'A battery uses a chemical reaction to maintain different electrical states at the terminals', 'assessment': 'contradictory'}) (input_keys={'student_answer', 'reference_answer', 'question'}),\n",
       " Example({'question': 'Why?', 'student_answer': 'it can be 0', 'reference_answer': 'A battery uses a chemical reaction to maintain different electrical states at the terminals', 'assessment': 'contradictory'}) (input_keys={'student_answer', 'reference_answer', 'question'}),\n",
       " Example({'question': 'Why?', 'student_answer': 'a battery always has voltage unless it is damaged', 'reference_answer': 'A battery uses a chemical reaction to maintain different electrical states at the terminals', 'assessment': 'irrelevant'}) (input_keys={'student_answer', 'reference_answer', 'question'}),\n",
       " Example({'question': 'Why?', 'student_answer': 'circuit has nothing to do with the batteries voltage', 'reference_answer': 'A battery uses a chemical reaction to maintain different electrical states at the terminals', 'assessment': 'contradictory'}) (input_keys={'student_answer', 'reference_answer', 'question'}),\n",
       " Example({'question': 'Why?', 'student_answer': 'Well, it will have a voltage of zero, if that\"s what you are asking.', 'reference_answer': 'A battery uses a chemical reaction to maintain different electrical states at the terminals', 'assessment': 'contradictory'}) (input_keys={'student_answer', 'reference_answer', 'question'}),\n",
       " Example({'question': 'Why?', 'student_answer': 'The battery\"s voltage comes from a chemical reaction that takes place within the battery itself.', 'reference_answer': 'A battery uses a chemical reaction to maintain different electrical states at the terminals', 'assessment': 'partially_correct_incomplete'}) (input_keys={'student_answer', 'reference_answer', 'question'}),\n",
       " Example({'question': 'Why?', 'student_answer': 'because the electrical states between the two battery terminals will be different no matter what', 'reference_answer': 'A battery uses a chemical reaction to maintain different electrical states at the terminals', 'assessment': 'partially_correct_incomplete'}) (input_keys={'student_answer', 'reference_answer', 'question'}),\n",
       " Example({'question': 'Why?', 'student_answer': 'there is a gap', 'reference_answer': 'A battery uses a chemical reaction to maintain different electrical states at the terminals', 'assessment': 'contradictory'}) (input_keys={'student_answer', 'reference_answer', 'question'}),\n",
       " Example({'question': 'Why?', 'student_answer': 'beacause the two terminals still have an electrical state', 'reference_answer': 'A battery uses a chemical reaction to maintain different electrical states at the terminals', 'assessment': 'partially_correct_incomplete'}) (input_keys={'student_answer', 'reference_answer', 'question'}),\n",
       " Example({'question': 'Why?', 'student_answer': 'the battery always has a voltage because there is a positive terminal and there is a negative terminal.', 'reference_answer': 'A battery uses a chemical reaction to maintain different electrical states at the terminals', 'assessment': 'contradictory'}) (input_keys={'student_answer', 'reference_answer', 'question'}),\n",
       " Example({'question': 'Why?', 'student_answer': 'Because it is measuring the difference in electrical states between two terminals.', 'reference_answer': 'A battery uses a chemical reaction to maintain different electrical states at the terminals', 'assessment': 'partially_correct_incomplete'}) (input_keys={'student_answer', 'reference_answer', 'question'}),\n",
       " Example({'question': 'Why?', 'student_answer': 'Because the battery contains chemicals that differe in electrical states.', 'reference_answer': 'A battery uses a chemical reaction to maintain different electrical states at the terminals', 'assessment': 'contradictory'}) (input_keys={'student_answer', 'reference_answer', 'question'}),\n",
       " Example({'question': 'Why?', 'student_answer': 'the voltage stays the same within the battery', 'reference_answer': 'A battery uses a chemical reaction to maintain different electrical states at the terminals', 'assessment': 'contradictory'}) (input_keys={'student_answer', 'reference_answer', 'question'}),\n",
       " Example({'question': 'Why?', 'student_answer': 'I don\"t know', 'reference_answer': 'A battery uses a chemical reaction to maintain different electrical states at the terminals', 'assessment': 'non_domain'}) (input_keys={'student_answer', 'reference_answer', 'question'}),\n",
       " Example({'question': 'Why?', 'student_answer': 'Because the two terminals will always have different electrical states.', 'reference_answer': 'A battery uses a chemical reaction to maintain different electrical states at the terminals', 'assessment': 'partially_correct_incomplete'}) (input_keys={'student_answer', 'reference_answer', 'question'}),\n",
       " Example({'question': 'Why?', 'student_answer': 'because voltage is the difference in electrical states between two terminals.', 'reference_answer': 'A battery uses a chemical reaction to maintain different electrical states at the terminals', 'assessment': 'partially_correct_incomplete'}) (input_keys={'student_answer', 'reference_answer', 'question'}),\n",
       " Example({'question': 'Why?', 'student_answer': 'because the battery has its own chemical reacion between the positive and negative tterminals it contains', 'reference_answer': 'A battery uses a chemical reaction to maintain different electrical states at the terminals', 'assessment': 'partially_correct_incomplete'}) (input_keys={'student_answer', 'reference_answer', 'question'}),\n",
       " Example({'question': 'What is voltage?', 'student_answer': 'is the difference between two terminals', 'reference_answer': 'Voltage is the difference in electrical states between two terminals', 'assessment': 'partially_correct_incomplete'}) (input_keys={'student_answer', 'reference_answer', 'question'}),\n",
       " Example({'question': 'What is voltage?', 'student_answer': 'is the difference between terminals', 'reference_answer': 'Voltage is the difference in electrical states between two terminals', 'assessment': 'partially_correct_incomplete'}) (input_keys={'student_answer', 'reference_answer', 'question'}),\n",
       " Example({'question': 'What is voltage?', 'student_answer': 'the is a difference in the terminals', 'reference_answer': 'Voltage is the difference in electrical states between two terminals', 'assessment': 'partially_correct_incomplete'}) (input_keys={'student_answer', 'reference_answer', 'question'}),\n",
       " Example({'question': 'What is voltage?', 'student_answer': 'is the difference in electrial stat between terminals', 'reference_answer': 'Voltage is the difference in electrical states between two terminals', 'assessment': 'correct'}) (input_keys={'student_answer', 'reference_answer', 'question'}),\n",
       " Example({'question': 'What is voltage?', 'student_answer': 'the difference in electrical states between two terminals', 'reference_answer': 'Voltage is the difference in electrical states between two terminals', 'assessment': 'correct'}) (input_keys={'student_answer', 'reference_answer', 'question'}),\n",
       " Example({'question': 'What is voltage?', 'student_answer': 'the difference in the electrical states of the positive and negative terminals of a battery', 'reference_answer': 'Voltage is the difference in electrical states between two terminals', 'assessment': 'correct'}) (input_keys={'student_answer', 'reference_answer', 'question'}),\n",
       " Example({'question': 'What is voltage?', 'student_answer': 'the measurement between the electrical states of the positive and negative terminals of a battery', 'reference_answer': 'Voltage is the difference in electrical states between two terminals', 'assessment': 'correct'}) (input_keys={'student_answer', 'reference_answer', 'question'}),\n",
       " Example({'question': 'What is voltage?', 'student_answer': 'electricity difference between the battey\"s positive and negative terminals', 'reference_answer': 'Voltage is the difference in electrical states between two terminals', 'assessment': 'partially_correct_incomplete'}) (input_keys={'student_answer', 'reference_answer', 'question'}),\n",
       " Example({'question': 'What is voltage?', 'student_answer': 'a measurement of current and flowing the a source.', 'reference_answer': 'Voltage is the difference in electrical states between two terminals', 'assessment': 'contradictory'}) (input_keys={'student_answer', 'reference_answer', 'question'}),\n",
       " Example({'question': 'What is voltage?', 'student_answer': 'a measurement of current flowing through a source.', 'reference_answer': 'Voltage is the difference in electrical states between two terminals', 'assessment': 'contradictory'}) (input_keys={'student_answer', 'reference_answer', 'question'}),\n",
       " Example({'question': 'What is voltage?', 'student_answer': 'a difference between the electrical states.', 'reference_answer': 'Voltage is the difference in electrical states between two terminals', 'assessment': 'partially_correct_incomplete'}) (input_keys={'student_answer', 'reference_answer', 'question'}),\n",
       " Example({'question': 'What is voltage?', 'student_answer': 'the difference between the positive and negative terminals of a battery', 'reference_answer': 'Voltage is the difference in electrical states between two terminals', 'assessment': 'partially_correct_incomplete'}) (input_keys={'student_answer', 'reference_answer', 'question'}),\n",
       " Example({'question': 'What is voltage?', 'student_answer': 'the difference of electrical states in a battery', 'reference_answer': 'Voltage is the difference in electrical states between two terminals', 'assessment': 'partially_correct_incomplete'}) (input_keys={'student_answer', 'reference_answer', 'question'}),\n",
       " Example({'question': 'What is voltage?', 'student_answer': 'the difference in electricity between terminals', 'reference_answer': 'Voltage is the difference in electrical states between two terminals', 'assessment': 'partially_correct_incomplete'}) (input_keys={'student_answer', 'reference_answer', 'question'}),\n",
       " Example({'question': 'What is voltage?', 'student_answer': 'teh difference of electrical states between two terminals', 'reference_answer': 'Voltage is the difference in electrical states between two terminals', 'assessment': 'correct'}) (input_keys={'student_answer', 'reference_answer', 'question'}),\n",
       " Example({'question': 'What is voltage?', 'student_answer': 'The difference between two terminals', 'reference_answer': 'Voltage is the difference in electrical states between two terminals', 'assessment': 'partially_correct_incomplete'}) (input_keys={'student_answer', 'reference_answer', 'question'}),\n",
       " Example({'question': 'What is voltage?', 'student_answer': 'Two terminals that have different electrical states', 'reference_answer': 'Voltage is the difference in electrical states between two terminals', 'assessment': 'partially_correct_incomplete'}) (input_keys={'student_answer', 'reference_answer', 'question'}),\n",
       " Example({'question': 'What is voltage?', 'student_answer': 'a measurement of electricity', 'reference_answer': 'Voltage is the difference in electrical states between two terminals', 'assessment': 'partially_correct_incomplete'}) (input_keys={'student_answer', 'reference_answer', 'question'}),\n",
       " Example({'question': 'What is voltage?', 'student_answer': 'the different in the positive terminal and negative terminal.', 'reference_answer': 'Voltage is the difference in electrical states between two terminals', 'assessment': 'partially_correct_incomplete'}) (input_keys={'student_answer', 'reference_answer', 'question'}),\n",
       " Example({'question': 'What is voltage?', 'student_answer': 'the difference between the electrical state of the positive terminal and the negative terminal.', 'reference_answer': 'Voltage is the difference in electrical states between two terminals', 'assessment': 'contradictory'}) (input_keys={'student_answer', 'reference_answer', 'question'}),\n",
       " Example({'question': 'What is voltage?', 'student_answer': 'voltage is the measure of electrical charges in a component.', 'reference_answer': 'Voltage is the difference in electrical states between two terminals', 'assessment': 'contradictory'}) (input_keys={'student_answer', 'reference_answer', 'question'}),\n",
       " Example({'question': 'What is voltage?', 'student_answer': 'voltage is the amount of electrical charge within a component.', 'reference_answer': 'Voltage is the difference in electrical states between two terminals', 'assessment': 'contradictory'}) (input_keys={'student_answer', 'reference_answer', 'question'}),\n",
       " Example({'question': 'What is voltage?', 'student_answer': 'voltage is the difference between tow terminals.', 'reference_answer': 'Voltage is the difference in electrical states between two terminals', 'assessment': 'partially_correct_incomplete'}) (input_keys={'student_answer', 'reference_answer', 'question'}),\n",
       " Example({'question': 'What is voltage?', 'student_answer': 'the measurement of power of electricity', 'reference_answer': 'Voltage is the difference in electrical states between two terminals', 'assessment': 'contradictory'}) (input_keys={'student_answer', 'reference_answer', 'question'}),\n",
       " Example({'question': 'What is voltage?', 'student_answer': 'the difference in connections between terminals', 'reference_answer': 'Voltage is the difference in electrical states between two terminals', 'assessment': 'contradictory'}) (input_keys={'student_answer', 'reference_answer', 'question'}),\n",
       " Example({'question': 'What is voltage?', 'student_answer': 'the difference in electrical state between two terminals', 'reference_answer': 'Voltage is the difference in electrical states between two terminals', 'assessment': 'correct'}) (input_keys={'student_answer', 'reference_answer', 'question'}),\n",
       " Example({'question': 'What is voltage?', 'student_answer': 'The difference in electrical states between two terminals.', 'reference_answer': 'Voltage is the difference in electrical states between two terminals', 'assessment': 'correct'}) (input_keys={'student_answer', 'reference_answer', 'question'}),\n",
       " Example({'question': 'What is voltage?', 'student_answer': 'the difference in batteries', 'reference_answer': 'Voltage is the difference in electrical states between two terminals', 'assessment': 'partially_correct_incomplete'}) (input_keys={'student_answer', 'reference_answer', 'question'}),\n",
       " Example({'question': 'What is voltage?', 'student_answer': 'difference between the baterry and termnial', 'reference_answer': 'Voltage is the difference in electrical states between two terminals', 'assessment': 'partially_correct_incomplete'}) (input_keys={'student_answer', 'reference_answer', 'question'}),\n",
       " Example({'question': 'What is voltage?', 'student_answer': 'the difference in the electrical state between the battery and terminal', 'reference_answer': 'Voltage is the difference in electrical states between two terminals', 'assessment': 'contradictory'}) (input_keys={'student_answer', 'reference_answer', 'question'}),\n",
       " Example({'question': 'What is voltage?', 'student_answer': 'voltage is the difference between states', 'reference_answer': 'Voltage is the difference in electrical states between two terminals', 'assessment': 'partially_correct_incomplete'}) (input_keys={'student_answer', 'reference_answer', 'question'}),\n",
       " Example({'question': 'What is voltage?', 'student_answer': 'it is the difference between the electrical states', 'reference_answer': 'Voltage is the difference in electrical states between two terminals', 'assessment': 'partially_correct_incomplete'}) (input_keys={'student_answer', 'reference_answer', 'question'}),\n",
       " Example({'question': 'What is voltage?', 'student_answer': 'voltage is the difference in the electrical states between the terminals', 'reference_answer': 'Voltage is the difference in electrical states between two terminals', 'assessment': 'correct'}) (input_keys={'student_answer', 'reference_answer', 'question'}),\n",
       " Example({'question': 'What is voltage?', 'student_answer': 'The difference in electrical states.', 'reference_answer': 'Voltage is the difference in electrical states between two terminals', 'assessment': 'partially_correct_incomplete'}) (input_keys={'student_answer', 'reference_answer', 'question'}),\n",
       " Example({'question': 'What is voltage?', 'student_answer': 'The measurement in difference of the electrical states.', 'reference_answer': 'Voltage is the difference in electrical states between two terminals', 'assessment': 'partially_correct_incomplete'}) (input_keys={'student_answer', 'reference_answer', 'question'}),\n",
       " Example({'question': 'What is voltage?', 'student_answer': 'measurement of the difference in electrical states between two terminals', 'reference_answer': 'Voltage is the difference in electrical states between two terminals', 'assessment': 'correct'}) (input_keys={'student_answer', 'reference_answer', 'question'}),\n",
       " Example({'question': 'What is voltage?', 'student_answer': 'the measurment of power to a source of energy', 'reference_answer': 'Voltage is the difference in electrical states between two terminals', 'assessment': 'contradictory'}) (input_keys={'student_answer', 'reference_answer', 'question'}),\n",
       " Example({'question': 'What is voltage?', 'student_answer': 'the power of the terminal', 'reference_answer': 'Voltage is the difference in electrical states between two terminals', 'assessment': 'contradictory'}) (input_keys={'student_answer', 'reference_answer', 'question'}),\n",
       " Example({'question': 'What is voltage?', 'student_answer': 'gods state', 'reference_answer': 'Voltage is the difference in electrical states between two terminals', 'assessment': 'non_domain'}) (input_keys={'student_answer', 'reference_answer', 'question'}),\n",
       " Example({'question': 'What is voltage?', 'student_answer': 'the difference between electrical charges of battery terminals', 'reference_answer': 'Voltage is the difference in electrical states between two terminals', 'assessment': 'contradictory'}) (input_keys={'student_answer', 'reference_answer', 'question'}),\n",
       " Example({'question': 'What is voltage?', 'student_answer': 'the difference of chemical signals between terminals', 'reference_answer': 'Voltage is the difference in electrical states between two terminals', 'assessment': 'contradictory'}) (input_keys={'student_answer', 'reference_answer', 'question'}),\n",
       " Example({'question': 'What is voltage?', 'student_answer': 'the difference between electrical charges in a battery', 'reference_answer': 'Voltage is the difference in electrical states between two terminals', 'assessment': 'contradictory'}) (input_keys={'student_answer', 'reference_answer', 'question'}),\n",
       " Example({'question': 'What is voltage?', 'student_answer': 'terminals', 'reference_answer': 'Voltage is the difference in electrical states between two terminals', 'assessment': 'partially_correct_incomplete'}) (input_keys={'student_answer', 'reference_answer', 'question'}),\n",
       " Example({'question': 'What is voltage?', 'student_answer': 'the difference in electricity created by chemical reactions between two terminals', 'reference_answer': 'Voltage is the difference in electrical states between two terminals', 'assessment': 'contradictory'}) (input_keys={'student_answer', 'reference_answer', 'question'}),\n",
       " Example({'question': 'What is voltage?', 'student_answer': 'The difference between the two ends of the battery', 'reference_answer': 'Voltage is the difference in electrical states between two terminals', 'assessment': 'partially_correct_incomplete'}) (input_keys={'student_answer', 'reference_answer', 'question'}),\n",
       " Example({'question': 'What is voltage?', 'student_answer': 'different chemical output', 'reference_answer': 'Voltage is the difference in electrical states between two terminals', 'assessment': 'contradictory'}) (input_keys={'student_answer', 'reference_answer', 'question'}),\n",
       " Example({'question': 'What is voltage?', 'student_answer': 'Difference between the electrical state of the two ends of the battery', 'reference_answer': 'Voltage is the difference in electrical states between two terminals', 'assessment': 'partially_correct_incomplete'}) (input_keys={'student_answer', 'reference_answer', 'question'}),\n",
       " Example({'question': 'What is voltage?', 'student_answer': 'potential difference', 'reference_answer': 'Voltage is the difference in electrical states between two terminals', 'assessment': 'contradictory'}) (input_keys={'student_answer', 'reference_answer', 'question'}),\n",
       " Example({'question': 'What is voltage?', 'student_answer': 'difference in eletricity', 'reference_answer': 'Voltage is the difference in electrical states between two terminals', 'assessment': 'contradictory'}) (input_keys={'student_answer', 'reference_answer', 'question'}),\n",
       " Example({'question': 'What is voltage?', 'student_answer': 'potential difference between 2 terminal', 'reference_answer': 'Voltage is the difference in electrical states between two terminals', 'assessment': 'contradictory'}) (input_keys={'student_answer', 'reference_answer', 'question'}),\n",
       " Example({'question': 'What is voltage?', 'student_answer': 'difference in electrical state between two terminals', 'reference_answer': 'Voltage is the difference in electrical states between two terminals', 'assessment': 'correct'}) (input_keys={'student_answer', 'reference_answer', 'question'}),\n",
       " Example({'question': 'What is voltage?', 'student_answer': 'the difference between the positive and negative measurements of power', 'reference_answer': 'Voltage is the difference in electrical states between two terminals', 'assessment': 'partially_correct_incomplete'}) (input_keys={'student_answer', 'reference_answer', 'question'}),\n",
       " Example({'question': 'What is voltage?', 'student_answer': 'The difference in electrical charge between two terminals', 'reference_answer': 'Voltage is the difference in electrical states between two terminals', 'assessment': 'contradictory'}) (input_keys={'student_answer', 'reference_answer', 'question'}),\n",
       " Example({'question': 'What is voltage?', 'student_answer': 'Voltage is the difference between the positive terminal and negative terminal in a battery.', 'reference_answer': 'Voltage is the difference in electrical states between two terminals', 'assessment': 'partially_correct_incomplete'}) (input_keys={'student_answer', 'reference_answer', 'question'}),\n",
       " Example({'question': 'What is voltage?', 'student_answer': 'Voltage is the difference in electrical states between two terminals.', 'reference_answer': 'Voltage is the difference in electrical states between two terminals', 'assessment': 'correct'}) (input_keys={'student_answer', 'reference_answer', 'question'}),\n",
       " Example({'question': 'What is voltage?', 'student_answer': 'the amount of volts', 'reference_answer': 'Voltage is the difference in electrical states between two terminals', 'assessment': 'contradictory'}) (input_keys={'student_answer', 'reference_answer', 'question'}),\n",
       " Example({'question': 'What is voltage?', 'student_answer': 'the distance between terminals', 'reference_answer': 'Voltage is the difference in electrical states between two terminals', 'assessment': 'contradictory'}) (input_keys={'student_answer', 'reference_answer', 'question'}),\n",
       " Example({'question': 'What is voltage?', 'student_answer': 'the difference between terminals', 'reference_answer': 'Voltage is the difference in electrical states between two terminals', 'assessment': 'partially_correct_incomplete'}) (input_keys={'student_answer', 'reference_answer', 'question'}),\n",
       " Example({'question': 'What is voltage?', 'student_answer': 'a difference between two terminals with a measurement', 'reference_answer': 'Voltage is the difference in electrical states between two terminals', 'assessment': 'partially_correct_incomplete'}) (input_keys={'student_answer', 'reference_answer', 'question'}),\n",
       " Example({'question': 'What is voltage?', 'student_answer': 'a difference is electrical states between two terminals', 'reference_answer': 'Voltage is the difference in electrical states between two terminals', 'assessment': 'partially_correct_incomplete'}) (input_keys={'student_answer', 'reference_answer', 'question'}),\n",
       " Example({'question': 'What is voltage?', 'student_answer': 'voltage is the difference in electrical states between two terminals of a circuit', 'reference_answer': 'Voltage is the difference in electrical states between two terminals', 'assessment': 'correct'}) (input_keys={'student_answer', 'reference_answer', 'question'}),\n",
       " Example({'question': 'What is voltage?', 'student_answer': 'the difference in electrical states of two terminals', 'reference_answer': 'Voltage is the difference in electrical states between two terminals', 'assessment': 'correct'}) (input_keys={'student_answer', 'reference_answer', 'question'}),\n",
       " Example({'question': 'What is voltage?', 'student_answer': 'The difference betweej two terminals that are not connected', 'reference_answer': 'Voltage is the difference in electrical states between two terminals', 'assessment': 'contradictory'}) (input_keys={'student_answer', 'reference_answer', 'question'}),\n",
       " Example({'question': 'What is voltage?', 'student_answer': 'The difference between two terminals that produces and electrical state', 'reference_answer': 'Voltage is the difference in electrical states between two terminals', 'assessment': 'contradictory'}) (input_keys={'student_answer', 'reference_answer', 'question'}),\n",
       " Example({'question': 'What is voltage?', 'student_answer': 'voltage is the diffrence between states.', 'reference_answer': 'Voltage is the difference in electrical states between two terminals', 'assessment': 'partially_correct_incomplete'}) (input_keys={'student_answer', 'reference_answer', 'question'}),\n",
       " Example({'question': 'What is voltage?', 'student_answer': 'voltage is the diffrence in electrical states.', 'reference_answer': 'Voltage is the difference in electrical states between two terminals', 'assessment': 'partially_correct_incomplete'}) (input_keys={'student_answer', 'reference_answer', 'question'}),\n",
       " Example({'question': 'What is voltage?', 'student_answer': 'volatge is the diffrence in electrical state between two terminals.', 'reference_answer': 'Voltage is the difference in electrical states between two terminals', 'assessment': 'correct'}) (input_keys={'student_answer', 'reference_answer', 'question'}),\n",
       " Example({'question': 'What is voltage?', 'student_answer': 'a measure of electric power', 'reference_answer': 'Voltage is the difference in electrical states between two terminals', 'assessment': 'contradictory'}) (input_keys={'student_answer', 'reference_answer', 'question'}),\n",
       " Example({'question': 'What is voltage?', 'student_answer': 'a measure of the strength of electricity', 'reference_answer': 'Voltage is the difference in electrical states between two terminals', 'assessment': 'contradictory'}) (input_keys={'student_answer', 'reference_answer', 'question'}),\n",
       " Example({'question': 'What is voltage?', 'student_answer': 'the difference in size between two terminals', 'reference_answer': 'Voltage is the difference in electrical states between two terminals', 'assessment': 'contradictory'}) (input_keys={'student_answer', 'reference_answer', 'question'}),\n",
       " Example({'question': 'What is voltage?', 'student_answer': 'the measurement of the difference between two terminals', 'reference_answer': 'Voltage is the difference in electrical states between two terminals', 'assessment': 'partially_correct_incomplete'}) (input_keys={'student_answer', 'reference_answer', 'question'}),\n",
       " Example({'question': 'What is voltage?', 'student_answer': 'i dont know', 'reference_answer': 'Voltage is the difference in electrical states between two terminals', 'assessment': 'non_domain'}) (input_keys={'student_answer', 'reference_answer', 'question'}),\n",
       " Example({'question': 'What is voltage?', 'student_answer': '...', 'reference_answer': 'Voltage is the difference in electrical states between two terminals', 'assessment': 'non_domain'}) (input_keys={'student_answer', 'reference_answer', 'question'}),\n",
       " Example({'question': 'What is voltage?', 'student_answer': 'the measurement of the difference between two terminals in an electric state', 'reference_answer': 'Voltage is the difference in electrical states between two terminals', 'assessment': 'partially_correct_incomplete'}) (input_keys={'student_answer', 'reference_answer', 'question'}),\n",
       " Example({'question': 'What is voltage?', 'student_answer': 'distance between terminals', 'reference_answer': 'Voltage is the difference in electrical states between two terminals', 'assessment': 'contradictory'}) (input_keys={'student_answer', 'reference_answer', 'question'}),\n",
       " Example({'question': 'What is voltage?', 'student_answer': 'energy between terminals', 'reference_answer': 'Voltage is the difference in electrical states between two terminals', 'assessment': 'contradictory'}) (input_keys={'student_answer', 'reference_answer', 'question'}),\n",
       " Example({'question': 'What is voltage?', 'student_answer': 'difference between paths of terminals', 'reference_answer': 'Voltage is the difference in electrical states between two terminals', 'assessment': 'contradictory'}) (input_keys={'student_answer', 'reference_answer', 'question'}),\n",
       " Example({'question': 'What is voltage?', 'student_answer': 'negative and positive difference', 'reference_answer': 'Voltage is the difference in electrical states between two terminals', 'assessment': 'partially_correct_incomplete'}) (input_keys={'student_answer', 'reference_answer', 'question'}),\n",
       " Example({'question': 'What is voltage?', 'student_answer': 'the amount of power a battery emits', 'reference_answer': 'Voltage is the difference in electrical states between two terminals', 'assessment': 'contradictory'}) (input_keys={'student_answer', 'reference_answer', 'question'}),\n",
       " Example({'question': 'What is voltage?', 'student_answer': 'the difference in power a battery emits', 'reference_answer': 'Voltage is the difference in electrical states between two terminals', 'assessment': 'contradictory'}) (input_keys={'student_answer', 'reference_answer', 'question'}),\n",
       " Example({'question': 'What is voltage?', 'student_answer': 'the difference in an electrical state a battery has', 'reference_answer': 'Voltage is the difference in electrical states between two terminals', 'assessment': 'contradictory'}) (input_keys={'student_answer', 'reference_answer', 'question'}),\n",
       " Example({'question': 'What is voltage?', 'student_answer': 'the difference between two different terminal\"s electrical states.', 'reference_answer': 'Voltage is the difference in electrical states between two terminals', 'assessment': 'correct'}) (input_keys={'student_answer', 'reference_answer', 'question'}),\n",
       " Example({'question': 'What is voltage?', 'student_answer': 'voltage is a reading of the difference in electrical states between two terminals', 'reference_answer': 'Voltage is the difference in electrical states between two terminals', 'assessment': 'correct'}) (input_keys={'student_answer', 'reference_answer', 'question'}),\n",
       " Example({'question': 'What is voltage?', 'student_answer': 'Voltage is the charge given when two terminals are connected.', 'reference_answer': 'Voltage is the difference in electrical states between two terminals', 'assessment': 'contradictory'}) (input_keys={'student_answer', 'reference_answer', 'question'}),\n",
       " Example({'question': 'What is voltage?', 'student_answer': 'The difference between the terminals.', 'reference_answer': 'Voltage is the difference in electrical states between two terminals', 'assessment': 'partially_correct_incomplete'}) (input_keys={'student_answer', 'reference_answer', 'question'}),\n",
       " Example({'question': 'What is voltage?', 'student_answer': '0.0', 'reference_answer': 'Voltage is the difference in electrical states between two terminals', 'assessment': 'contradictory'}) (input_keys={'student_answer', 'reference_answer', 'question'}),\n",
       " Example({'question': 'What is voltage?', 'student_answer': 'voltage is the difference in the electrical states between two terminals.', 'reference_answer': 'Voltage is the difference in electrical states between two terminals', 'assessment': 'correct'}) (input_keys={'student_answer', 'reference_answer', 'question'}),\n",
       " Example({'question': 'What is voltage?', 'student_answer': 'difference in electrical states of terminals', 'reference_answer': 'Voltage is the difference in electrical states between two terminals', 'assessment': 'partially_correct_incomplete'}) (input_keys={'student_answer', 'reference_answer', 'question'}),\n",
       " Example({'question': 'What is voltage?', 'student_answer': '0', 'reference_answer': 'Voltage is the difference in electrical states between two terminals', 'assessment': 'contradictory'}) (input_keys={'student_answer', 'reference_answer', 'question'}),\n",
       " Example({'question': 'What is voltage?', 'student_answer': 'The measure of electritcy across a power source', 'reference_answer': 'Voltage is the difference in electrical states between two terminals', 'assessment': 'contradictory'}) (input_keys={'student_answer', 'reference_answer', 'question'}),\n",
       " Example({'question': 'What is voltage?', 'student_answer': '0.0 volts', 'reference_answer': 'Voltage is the difference in electrical states between two terminals', 'assessment': 'contradictory'}) (input_keys={'student_answer', 'reference_answer', 'question'}),\n",
       " Example({'question': 'What is voltage?', 'student_answer': 'measure of electicity', 'reference_answer': 'Voltage is the difference in electrical states between two terminals', 'assessment': 'contradictory'}) (input_keys={'student_answer', 'reference_answer', 'question'}),\n",
       " Example({'question': 'What is voltage?', 'student_answer': 'difference between two electrical currents', 'reference_answer': 'Voltage is the difference in electrical states between two terminals', 'assessment': 'contradictory'}) (input_keys={'student_answer', 'reference_answer', 'question'}),\n",
       " Example({'question': 'What is voltage?', 'student_answer': 'Voltage is the difference in electrical states between a bulb terminal and a battery terminal.', 'reference_answer': 'Voltage is the difference in electrical states between two terminals', 'assessment': 'contradictory'}) (input_keys={'student_answer', 'reference_answer', 'question'}),\n",
       " Example({'question': 'What is voltage?', 'student_answer': 'the amount of electricity in a batery', 'reference_answer': 'Voltage is the difference in electrical states between two terminals', 'assessment': 'contradictory'}) (input_keys={'student_answer', 'reference_answer', 'question'}),\n",
       " Example({'question': 'What is voltage?', 'student_answer': 'The amount of charge.', 'reference_answer': 'Voltage is the difference in electrical states between two terminals', 'assessment': 'contradictory'}) (input_keys={'student_answer', 'reference_answer', 'question'}),\n",
       " Example({'question': 'What is voltage?', 'student_answer': 'electrucal charge', 'reference_answer': 'Voltage is the difference in electrical states between two terminals', 'assessment': 'contradictory'}) (input_keys={'student_answer', 'reference_answer', 'question'}),\n",
       " Example({'question': 'What is voltage?', 'student_answer': 'voltage is the differance between the 2 terminals of a batter\"s state', 'reference_answer': 'Voltage is the difference in electrical states between two terminals', 'assessment': 'contradictory'}) (input_keys={'student_answer', 'reference_answer', 'question'}),\n",
       " Example({'question': 'What is voltage?', 'student_answer': 'measure of electrical current?', 'reference_answer': 'Voltage is the difference in electrical states between two terminals', 'assessment': 'contradictory'}) (input_keys={'student_answer', 'reference_answer', 'question'}),\n",
       " Example({'question': 'What is voltage?', 'student_answer': 'Voltage is how much energy is going on inside a battery.', 'reference_answer': 'Voltage is the difference in electrical states between two terminals', 'assessment': 'contradictory'}) (input_keys={'student_answer', 'reference_answer', 'question'}),\n",
       " Example({'question': 'What is voltage?', 'student_answer': 'The difference is electrical states between two terminals.', 'reference_answer': 'Voltage is the difference in electrical states between two terminals', 'assessment': 'correct'}) (input_keys={'student_answer', 'reference_answer', 'question'}),\n",
       " Example({'question': 'What is voltage?', 'student_answer': 'the difference in charges of two terminals', 'reference_answer': 'Voltage is the difference in electrical states between two terminals', 'assessment': 'contradictory'}) (input_keys={'student_answer', 'reference_answer', 'question'}),\n",
       " Example({'question': 'What is voltage?', 'student_answer': 'the difference in electrical states', 'reference_answer': 'Voltage is the difference in electrical states between two terminals', 'assessment': 'partially_correct_incomplete'}) (input_keys={'student_answer', 'reference_answer', 'question'}),\n",
       " Example({'question': 'What is voltage?', 'student_answer': 'voltage is the difference between positive and negative', 'reference_answer': 'Voltage is the difference in electrical states between two terminals', 'assessment': 'partially_correct_incomplete'}) (input_keys={'student_answer', 'reference_answer', 'question'}),\n",
       " Example({'question': 'What is voltage?', 'student_answer': 'the difference between 2 terminals.', 'reference_answer': 'Voltage is the difference in electrical states between two terminals', 'assessment': 'partially_correct_incomplete'}) (input_keys={'student_answer', 'reference_answer', 'question'}),\n",
       " Example({'question': 'What is voltage?', 'student_answer': 'voltage is a property of batteries. voltage is the difference between electrical currents in two terminals.', 'reference_answer': 'Voltage is the difference in electrical states between two terminals', 'assessment': 'contradictory'}) (input_keys={'student_answer', 'reference_answer', 'question'}),\n",
       " Example({'question': 'What is voltage?', 'student_answer': 'The measured difference between two electrical states.', 'reference_answer': 'Voltage is the difference in electrical states between two terminals', 'assessment': 'partially_correct_incomplete'}) (input_keys={'student_answer', 'reference_answer', 'question'}),\n",
       " Example({'question': 'What is voltage?', 'student_answer': 'The difference in charge between the two terminals', 'reference_answer': 'Voltage is the difference in electrical states between two terminals', 'assessment': 'contradictory'}) (input_keys={'student_answer', 'reference_answer', 'question'}),\n",
       " Example({'question': 'What is voltage?', 'student_answer': 'the measurement of the electrical current that occurs when the chemicals are mixed together.', 'reference_answer': 'Voltage is the difference in electrical states between two terminals', 'assessment': 'contradictory'}) (input_keys={'student_answer', 'reference_answer', 'question'}),\n",
       " Example({'question': 'What is voltage?', 'student_answer': 'The amount of electric being put out', 'reference_answer': 'Voltage is the difference in electrical states between two terminals', 'assessment': 'contradictory'}) (input_keys={'student_answer', 'reference_answer', 'question'}),\n",
       " Example({'question': 'What is voltage?', 'student_answer': 'The electrical difference between the two terminals of a battery', 'reference_answer': 'Voltage is the difference in electrical states between two terminals', 'assessment': 'contradictory'}) (input_keys={'student_answer', 'reference_answer', 'question'}),\n",
       " Example({'question': 'What is voltage?', 'student_answer': 'the difference between terminals.', 'reference_answer': 'Voltage is the difference in electrical states between two terminals', 'assessment': 'partially_correct_incomplete'}) (input_keys={'student_answer', 'reference_answer', 'question'}),\n",
       " Example({'question': 'What is voltage?', 'student_answer': 'voltage is the difference in the states of the terminal', 'reference_answer': 'Voltage is the difference in electrical states between two terminals', 'assessment': 'partially_correct_incomplete'}) (input_keys={'student_answer', 'reference_answer', 'question'}),\n",
       " Example({'question': 'What is voltage?', 'student_answer': 'The measure between 2 different terminals', 'reference_answer': 'Voltage is the difference in electrical states between two terminals', 'assessment': 'partially_correct_incomplete'}) (input_keys={'student_answer', 'reference_answer', 'question'}),\n",
       " Example({'question': 'What is voltage?', 'student_answer': 'measure of the difference between the elecrical states of two terminals.', 'reference_answer': 'Voltage is the difference in electrical states between two terminals', 'assessment': 'correct'}) (input_keys={'student_answer', 'reference_answer', 'question'}),\n",
       " Example({'question': 'Why does an open switch impact a circuit?', 'student_answer': 'it causes an open circuit', 'reference_answer': 'the open switch creates a gap', 'assessment': 'partially_correct_incomplete'}) (input_keys={'student_answer', 'reference_answer', 'question'}),\n",
       " Example({'question': 'Why does an open switch impact a circuit?', 'student_answer': 'it causes the path to be open', 'reference_answer': 'the open switch creates a gap', 'assessment': 'correct'}) (input_keys={'student_answer', 'reference_answer', 'question'}),\n",
       " Example({'question': 'Why does an open switch impact a circuit?', 'student_answer': 'it opens the path', 'reference_answer': 'the open switch creates a gap', 'assessment': 'correct'}) (input_keys={'student_answer', 'reference_answer', 'question'}),\n",
       " Example({'question': 'Why does an open switch impact a circuit?', 'student_answer': 'Because the electricity will not flow through the wires if the circuit path is incomplete.', 'reference_answer': 'the open switch creates a gap', 'assessment': 'correct'}) (input_keys={'student_answer', 'reference_answer', 'question'}),\n",
       " Example({'question': 'Why does an open switch impact a circuit?', 'student_answer': 'The bulbs will not be powered if the circuit path is incomplete.', 'reference_answer': 'the open switch creates a gap', 'assessment': 'correct'}) (input_keys={'student_answer', 'reference_answer', 'question'}),\n",
       " Example({'question': 'Why does an open switch impact a circuit?', 'student_answer': 'The open switch makes the circuit incomplete.', 'reference_answer': 'the open switch creates a gap', 'assessment': 'correct'}) (input_keys={'student_answer', 'reference_answer', 'question'}),\n",
       " Example({'question': 'Why does an open switch impact a circuit?', 'student_answer': 'it creates an open path', 'reference_answer': 'the open switch creates a gap', 'assessment': 'correct'}) (input_keys={'student_answer', 'reference_answer', 'question'}),\n",
       " Example({'question': 'Why does an open switch impact a circuit?', 'student_answer': 'because it causes a short circuit.', 'reference_answer': 'the open switch creates a gap', 'assessment': 'contradictory'}) (input_keys={'student_answer', 'reference_answer', 'question'}),\n",
       " Example({'question': 'Why does an open switch impact a circuit?', 'student_answer': 'because it blocks the charge of the circuit.', 'reference_answer': 'the open switch creates a gap', 'assessment': 'partially_correct_incomplete'}) (input_keys={'student_answer', 'reference_answer', 'question'}),\n",
       " Example({'question': 'Why does an open switch impact a circuit?', 'student_answer': 'because the the circuit is complete.', 'reference_answer': 'the open switch creates a gap', 'assessment': 'contradictory'}) (input_keys={'student_answer', 'reference_answer', 'question'}),\n",
       " Example({'question': 'Why does an open switch impact a circuit?', 'student_answer': 'it creates a gap in the current.', 'reference_answer': 'the open switch creates a gap', 'assessment': 'partially_correct_incomplete'}) (input_keys={'student_answer', 'reference_answer', 'question'}),\n",
       " Example({'question': 'Why does an open switch impact a circuit?', 'student_answer': 'it creates a gap int he circuit.', 'reference_answer': 'the open switch creates a gap', 'assessment': 'correct'}) (input_keys={'student_answer', 'reference_answer', 'question'}),\n",
       " Example({'question': 'Why does an open switch impact a circuit?', 'student_answer': 'it creates a gap in the circuit.', 'reference_answer': 'the open switch creates a gap', 'assessment': 'correct'}) (input_keys={'student_answer', 'reference_answer', 'question'}),\n",
       " Example({'question': 'Why does an open switch impact a circuit?', 'student_answer': 'Because it creates a gap, which opens a path.', 'reference_answer': 'the open switch creates a gap', 'assessment': 'correct'}) (input_keys={'student_answer', 'reference_answer', 'question'}),\n",
       " Example({'question': 'Why does an open switch impact a circuit?', 'student_answer': 'i have no idea', 'reference_answer': 'the open switch creates a gap', 'assessment': 'non_domain'}) (input_keys={'student_answer', 'reference_answer', 'question'}),\n",
       " Example({'question': 'Why does an open switch impact a circuit?', 'student_answer': 'a switch creates power', 'reference_answer': 'the open switch creates a gap', 'assessment': 'contradictory'}) (input_keys={'student_answer', 'reference_answer', 'question'}),\n",
       " Example({'question': 'Why does an open switch impact a circuit?', 'student_answer': 'a switch creates a closed circuit', 'reference_answer': 'the open switch creates a gap', 'assessment': 'contradictory'}) (input_keys={'student_answer', 'reference_answer', 'question'}),\n",
       " Example({'question': 'Why does an open switch impact a circuit?', 'student_answer': 'a switch creates a closed path', 'reference_answer': 'the open switch creates a gap', 'assessment': 'contradictory'}) (input_keys={'student_answer', 'reference_answer', 'question'}),\n",
       " Example({'question': 'Why does an open switch impact a circuit?', 'student_answer': 'It breaks the closed path.', 'reference_answer': 'the open switch creates a gap', 'assessment': 'partially_correct_incomplete'}) (input_keys={'student_answer', 'reference_answer', 'question'}),\n",
       " Example({'question': 'Why does an open switch impact a circuit?', 'student_answer': 'A switch creates a break in the closed path.', 'reference_answer': 'the open switch creates a gap', 'assessment': 'partially_correct_incomplete'}) (input_keys={'student_answer', 'reference_answer', 'question'}),\n",
       " Example({'question': 'Why does an open switch impact a circuit?', 'student_answer': 'A switch creates a gap in the path.', 'reference_answer': 'the open switch creates a gap', 'assessment': 'correct'}) (input_keys={'student_answer', 'reference_answer', 'question'}),\n",
       " Example({'question': 'Why does an open switch impact a circuit?', 'student_answer': 'because the path is short', 'reference_answer': 'the open switch creates a gap', 'assessment': 'contradictory'}) (input_keys={'student_answer', 'reference_answer', 'question'}),\n",
       " Example({'question': 'Why does an open switch impact a circuit?', 'student_answer': 'makes  a short circuit', 'reference_answer': 'the open switch creates a gap', 'assessment': 'contradictory'}) (input_keys={'student_answer', 'reference_answer', 'question'}),\n",
       " Example({'question': 'Why does an open switch impact a circuit?', 'student_answer': 'because there is no closed path to the battery', 'reference_answer': 'the open switch creates a gap', 'assessment': 'partially_correct_incomplete'}) (input_keys={'student_answer', 'reference_answer', 'question'}),\n",
       " Example({'question': 'Why does an open switch impact a circuit?', 'student_answer': 'because there is no closed path', 'reference_answer': 'the open switch creates a gap', 'assessment': 'partially_correct_incomplete'}) (input_keys={'student_answer', 'reference_answer', 'question'}),\n",
       " Example({'question': 'Why does an open switch impact a circuit?', 'student_answer': 'It prevents the path from being closed.', 'reference_answer': 'the open switch creates a gap', 'assessment': 'correct'}) (input_keys={'student_answer', 'reference_answer', 'question'}),\n",
       " Example({'question': 'Why does an open switch impact a circuit?', 'student_answer': 'It is not a closed path.', 'reference_answer': 'the open switch creates a gap', 'assessment': 'partially_correct_incomplete'}) (input_keys={'student_answer', 'reference_answer', 'question'}),\n",
       " Example({'question': 'Why does an open switch impact a circuit?', 'student_answer': 'There is a gap in the circuit.', 'reference_answer': 'the open switch creates a gap', 'assessment': 'correct'}) (input_keys={'student_answer', 'reference_answer', 'question'}),\n",
       " Example({'question': 'Why does an open switch impact a circuit?', 'student_answer': 'makes it an open path rather then closed', 'reference_answer': 'the open switch creates a gap', 'assessment': 'correct'}) (input_keys={'student_answer', 'reference_answer', 'question'}),\n",
       " Example({'question': 'Why does an open switch impact a circuit?', 'student_answer': 'it closes the pathway', 'reference_answer': 'the open switch creates a gap', 'assessment': 'contradictory'}) (input_keys={'student_answer', 'reference_answer', 'question'}),\n",
       " Example({'question': 'Why does an open switch impact a circuit?', 'student_answer': 'effects the connection from battery to bulb', 'reference_answer': 'the open switch creates a gap', 'assessment': 'contradictory'}) (input_keys={'student_answer', 'reference_answer', 'question'}),\n",
       " Example({'question': 'Why does an open switch impact a circuit?', 'student_answer': 'creates a connection', 'reference_answer': 'the open switch creates a gap', 'assessment': 'contradictory'}) (input_keys={'student_answer', 'reference_answer', 'question'}),\n",
       " Example({'question': 'Why does an open switch impact a circuit?', 'student_answer': 'creates a circuit?', 'reference_answer': 'the open switch creates a gap', 'assessment': 'contradictory'}) (input_keys={'student_answer', 'reference_answer', 'question'}),\n",
       " Example({'question': 'Why does an open switch impact a circuit?', 'student_answer': 'Because the electricity can\"t pass through', 'reference_answer': 'the open switch creates a gap', 'assessment': 'irrelevant'}) (input_keys={'student_answer', 'reference_answer', 'question'}),\n",
       " Example({'question': 'Why does an open switch impact a circuit?', 'student_answer': 'there is a gap', 'reference_answer': 'the open switch creates a gap', 'assessment': 'correct'}) (input_keys={'student_answer', 'reference_answer', 'question'}),\n",
       " Example({'question': 'Why does an open switch impact a circuit?', 'student_answer': 'because all the terminals are connected to other terminals, an open switch disrupts that.', 'reference_answer': 'the open switch creates a gap', 'assessment': 'partially_correct_incomplete'}) (input_keys={'student_answer', 'reference_answer', 'question'}),\n",
       " Example({'question': 'Why does an open switch impact a circuit?', 'student_answer': 'because an open switch creates a gap.', 'reference_answer': 'the open switch creates a gap', 'assessment': 'correct'}) (input_keys={'student_answer', 'reference_answer', 'question'}),\n",
       " Example({'question': 'Why does an open switch impact a circuit?', 'student_answer': 'It turns off all the bulbs.', 'reference_answer': 'the open switch creates a gap', 'assessment': 'partially_correct_incomplete'}) (input_keys={'student_answer', 'reference_answer', 'question'}),\n",
       " Example({'question': 'Why does an open switch impact a circuit?', 'student_answer': 'It creates a gap in the circut.', 'reference_answer': 'the open switch creates a gap', 'assessment': 'correct'}) (input_keys={'student_answer', 'reference_answer', 'question'}),\n",
       " Example({'question': 'Why does an open switch impact a circuit?', 'student_answer': 'the path is not closed anymore', 'reference_answer': 'the open switch creates a gap', 'assessment': 'correct'}) (input_keys={'student_answer', 'reference_answer', 'question'}),\n",
       " Example({'question': 'Why does an open switch impact a circuit?', 'student_answer': 'it does\"nt make the circuit complete anymore', 'reference_answer': 'the open switch creates a gap', 'assessment': 'correct'}) (input_keys={'student_answer', 'reference_answer', 'question'}),\n",
       " Example({'question': 'Why does an open switch impact a circuit?', 'student_answer': 'the paths of the circuit are no longer complete', 'reference_answer': 'the open switch creates a gap', 'assessment': 'contradictory'}) (input_keys={'student_answer', 'reference_answer', 'question'}),\n",
       " Example({'question': 'Why does an open switch impact a circuit?', 'student_answer': 'the path is complete', 'reference_answer': 'the open switch creates a gap', 'assessment': 'contradictory'}) (input_keys={'student_answer', 'reference_answer', 'question'}),\n",
       " Example({'question': 'Why does an open switch impact a circuit?', 'student_answer': 'The open switch makes the path open', 'reference_answer': 'the open switch creates a gap', 'assessment': 'correct'}) (input_keys={'student_answer', 'reference_answer', 'question'}),\n",
       " Example({'question': 'Why does an open switch impact a circuit?', 'student_answer': 'It stops the flow of electricity.', 'reference_answer': 'the open switch creates a gap', 'assessment': 'partially_correct_incomplete'}) (input_keys={'student_answer', 'reference_answer', 'question'}),\n",
       " Example({'question': 'Why does an open switch impact a circuit?', 'student_answer': 'It makes the circuit incomplete.', 'reference_answer': 'the open switch creates a gap', 'assessment': 'correct'}) (input_keys={'student_answer', 'reference_answer', 'question'}),\n",
       " Example({'question': 'Why does an open switch impact a circuit?', 'student_answer': 'the switch opens the closed circuit', 'reference_answer': 'the open switch creates a gap', 'assessment': 'contradictory'}) (input_keys={'student_answer', 'reference_answer', 'question'}),\n",
       " Example({'question': 'Why does an open switch impact a circuit?', 'student_answer': 'the switch opens the closed path', 'reference_answer': 'the open switch creates a gap', 'assessment': 'correct'}) (input_keys={'student_answer', 'reference_answer', 'question'}),\n",
       " Example({'question': 'Why does an open switch impact a circuit?', 'student_answer': 'the voltage does not reach all the components', 'reference_answer': 'the open switch creates a gap', 'assessment': 'partially_correct_incomplete'}) (input_keys={'student_answer', 'reference_answer', 'question'}),\n",
       " Example({'question': 'Why does an open switch impact a circuit?', 'student_answer': 'the gap in the circuit causes the circuit to be an open circuit', 'reference_answer': 'the open switch creates a gap', 'assessment': 'contradictory'}) (input_keys={'student_answer', 'reference_answer', 'question'}),\n",
       " Example({'question': 'Why does an open switch impact a circuit?', 'student_answer': 'It makes the circuit an incomplete path', 'reference_answer': 'the open switch creates a gap', 'assessment': 'contradictory'}) (input_keys={'student_answer', 'reference_answer', 'question'}),\n",
       " Example({'question': 'Why does an open switch impact a circuit?', 'student_answer': 'the circuit is no longer complete when the switches are open', 'reference_answer': 'the open switch creates a gap', 'assessment': 'correct'}) (input_keys={'student_answer', 'reference_answer', 'question'}),\n",
       " Example({'question': 'Why does an open switch impact a circuit?', 'student_answer': 'Because it opens the connection', 'reference_answer': 'the open switch creates a gap', 'assessment': 'partially_correct_incomplete'}) (input_keys={'student_answer', 'reference_answer', 'question'}),\n",
       " Example({'question': 'Why does an open switch impact a circuit?', 'student_answer': 'Because it stops the battery from being connected.', 'reference_answer': 'the open switch creates a gap', 'assessment': 'partially_correct_incomplete'}) (input_keys={'student_answer', 'reference_answer', 'question'}),\n",
       " Example({'question': 'Why does an open switch impact a circuit?', 'student_answer': 'It creates a short circuit.', 'reference_answer': 'the open switch creates a gap', 'assessment': 'contradictory'}) (input_keys={'student_answer', 'reference_answer', 'question'}),\n",
       " Example({'question': 'Why does an open switch impact a circuit?', 'student_answer': 'an open switch causes a gap.', 'reference_answer': 'the open switch creates a gap', 'assessment': 'correct'}) (input_keys={'student_answer', 'reference_answer', 'question'}),\n",
       " Example({'question': 'Why does an open switch impact a circuit?', 'student_answer': 'The path is not closed.', 'reference_answer': 'the open switch creates a gap', 'assessment': 'correct'}) (input_keys={'student_answer', 'reference_answer', 'question'}),\n",
       " Example({'question': 'Why does an open switch impact a circuit?', 'student_answer': 'an open switch incompletes the circut', 'reference_answer': 'the open switch creates a gap', 'assessment': 'correct'}) (input_keys={'student_answer', 'reference_answer', 'question'}),\n",
       " Example({'question': 'Why does an open switch impact a circuit?', 'student_answer': 'an open switch creates an incomplete circut', 'reference_answer': 'the open switch creates a gap', 'assessment': 'correct'}) (input_keys={'student_answer', 'reference_answer', 'question'}),\n",
       " Example({'question': 'Why does an open switch impact a circuit?', 'student_answer': 'because it creates a gap which in turn created an open path', 'reference_answer': 'the open switch creates a gap', 'assessment': 'correct'}) (input_keys={'student_answer', 'reference_answer', 'question'}),\n",
       " Example({'question': 'Why does an open switch impact a circuit?', 'student_answer': 'open switch creates a gap in the path', 'reference_answer': 'the open switch creates a gap', 'assessment': 'correct'}) (input_keys={'student_answer', 'reference_answer', 'question'}),\n",
       " Example({'question': 'Why does an open switch impact a circuit?', 'student_answer': 'brings he flow of electricity', 'reference_answer': 'the open switch creates a gap', 'assessment': 'contradictory'}) (input_keys={'student_answer', 'reference_answer', 'question'}),\n",
       " Example({'question': 'Why does an open switch impact a circuit?', 'student_answer': 'charges the bulb', 'reference_answer': 'the open switch creates a gap', 'assessment': 'contradictory'}) (input_keys={'student_answer', 'reference_answer', 'question'}),\n",
       " Example({'question': 'Why does an open switch impact a circuit?', 'student_answer': 'switch creates circuit', 'reference_answer': 'the open switch creates a gap', 'assessment': 'contradictory'}) (input_keys={'student_answer', 'reference_answer', 'question'}),\n",
       " Example({'question': 'Why does an open switch impact a circuit?', 'student_answer': 'Because it decides whether the bulb will be lit or not', 'reference_answer': 'the open switch creates a gap', 'assessment': 'contradictory'}) (input_keys={'student_answer', 'reference_answer', 'question'}),\n",
       " Example({'question': 'Why does an open switch impact a circuit?', 'student_answer': 'Because if the gap is open the bulb will not go on', 'reference_answer': 'the open switch creates a gap', 'assessment': 'contradictory'}) (input_keys={'student_answer', 'reference_answer', 'question'}),\n",
       " Example({'question': 'Why does an open switch impact a circuit?', 'student_answer': 'because it creates a gap, thus the circuit becomes incomplete', 'reference_answer': 'the open switch creates a gap', 'assessment': 'correct'}) (input_keys={'student_answer', 'reference_answer', 'question'}),\n",
       " Example({'question': 'Why does an open switch impact a circuit?', 'student_answer': 'The are connected to the same closed path.', 'reference_answer': 'the open switch creates a gap', 'assessment': 'contradictory'}) (input_keys={'student_answer', 'reference_answer', 'question'}),\n",
       " Example({'question': 'Why does an open switch impact a circuit?', 'student_answer': 'Because the voltage does not reach the bulbs.', 'reference_answer': 'the open switch creates a gap', 'assessment': 'contradictory'}) (input_keys={'student_answer', 'reference_answer', 'question'}),\n",
       " Example({'question': 'Why does an open switch impact a circuit?', 'student_answer': 'It cuts the current from the battery', 'reference_answer': 'the open switch creates a gap', 'assessment': 'contradictory'}) (input_keys={'student_answer', 'reference_answer', 'question'}),\n",
       " Example({'question': 'Why does an open switch impact a circuit?', 'student_answer': 'the current cannot pass an open switch', 'reference_answer': 'the open switch creates a gap', 'assessment': 'contradictory'}) (input_keys={'student_answer', 'reference_answer', 'question'}),\n",
       " Example({'question': 'Why does an open switch impact a circuit?', 'student_answer': 'Because the bulb is not longer in a closed circuit', 'reference_answer': 'the open switch creates a gap', 'assessment': 'contradictory'}) (input_keys={'student_answer', 'reference_answer', 'question'}),\n",
       " Example({'question': 'Why does an open switch impact a circuit?', 'student_answer': 'There must be a closed path, and an open switch makes it not closed.', 'reference_answer': 'the open switch creates a gap', 'assessment': 'correct'}) (input_keys={'student_answer', 'reference_answer', 'question'}),\n",
       " Example({'question': 'Why does an open switch impact a circuit?', 'student_answer': 'Because the path between the battery and the light bulb is not closed', 'reference_answer': 'the open switch creates a gap', 'assessment': 'correct'}) (input_keys={'student_answer', 'reference_answer', 'question'}),\n",
       " Example({'question': 'Why does an open switch impact a circuit?', 'student_answer': 'because it opens the circuit, therefore the circuit is not closed', 'reference_answer': 'the open switch creates a gap', 'assessment': 'contradictory'}) (input_keys={'student_answer', 'reference_answer', 'question'}),\n",
       " Example({'question': 'Why does an open switch impact a circuit?', 'student_answer': 'And open switch breaks the closed path, which is essential to function properly', 'reference_answer': 'the open switch creates a gap', 'assessment': 'correct'}) (input_keys={'student_answer', 'reference_answer', 'question'}),\n",
       " Example({'question': 'Why does an open switch impact a circuit?', 'student_answer': 'it breaks the closed circuit', 'reference_answer': 'the open switch creates a gap', 'assessment': 'contradictory'}) (input_keys={'student_answer', 'reference_answer', 'question'}),\n",
       " Example({'question': 'Why does an open switch impact a circuit?', 'student_answer': 'An open switch means the circuit is not a closed path.', 'reference_answer': 'the open switch creates a gap', 'assessment': 'correct'}) (input_keys={'student_answer', 'reference_answer', 'question'}),\n",
       " Example({'question': 'Why does an open switch impact a circuit?', 'student_answer': 'it cuts the flow of electricity', 'reference_answer': 'the open switch creates a gap', 'assessment': 'contradictory'}) (input_keys={'student_answer', 'reference_answer', 'question'}),\n",
       " Example({'question': 'Why does an open switch impact a circuit?', 'student_answer': 'it opens the closed path of the battery', 'reference_answer': 'the open switch creates a gap', 'assessment': 'correct'}) (input_keys={'student_answer', 'reference_answer', 'question'}),\n",
       " Example({'question': 'Why does an open switch impact a circuit?', 'student_answer': 'Because the battery runs in a closed circuit.', 'reference_answer': 'the open switch creates a gap', 'assessment': 'contradictory'}) (input_keys={'student_answer', 'reference_answer', 'question'}),\n",
       " Example({'question': 'Why does an open switch impact a circuit?', 'student_answer': 'because it opens the circuit', 'reference_answer': 'the open switch creates a gap', 'assessment': 'contradictory'}) (input_keys={'student_answer', 'reference_answer', 'question'}),\n",
       " Example({'question': 'Why does an open switch impact a circuit?', 'student_answer': 'any open swith does no allow the bulbs to turn on', 'reference_answer': 'the open switch creates a gap', 'assessment': 'partially_correct_incomplete'}) (input_keys={'student_answer', 'reference_answer', 'question'}),\n",
       " Example({'question': 'Why does an open switch impact a circuit?', 'student_answer': 'the currunt is blocked off', 'reference_answer': 'the open switch creates a gap', 'assessment': 'contradictory'}) (input_keys={'student_answer', 'reference_answer', 'question'}),\n",
       " Example({'question': 'Why does an open switch impact a circuit?', 'student_answer': 'It creates a gap.', 'reference_answer': 'the open switch creates a gap', 'assessment': 'correct'}) (input_keys={'student_answer', 'reference_answer', 'question'}),\n",
       " Example({'question': 'Why does an open switch impact a circuit?', 'student_answer': 'If a switch is open, the circut is no longer closed.', 'reference_answer': 'the open switch creates a gap', 'assessment': 'contradictory'}) (input_keys={'student_answer', 'reference_answer', 'question'}),\n",
       " Example({'question': 'Why does an open switch impact a circuit?', 'student_answer': 'it creates a gap in the circuit', 'reference_answer': 'the open switch creates a gap', 'assessment': 'correct'}) (input_keys={'student_answer', 'reference_answer', 'question'}),\n",
       " Example({'question': 'Why does an open switch impact a circuit?', 'student_answer': 'An open switch stops the energy flow', 'reference_answer': 'the open switch creates a gap', 'assessment': 'contradictory'}) (input_keys={'student_answer', 'reference_answer', 'question'}),\n",
       " Example({'question': 'Why does an open switch impact a circuit?', 'student_answer': 'When a switch is open the circuit is no longer complete', 'reference_answer': 'the open switch creates a gap', 'assessment': 'correct'}) (input_keys={'student_answer', 'reference_answer', 'question'}),\n",
       " Example({'question': 'Why does an open switch impact a circuit?', 'student_answer': 'because they are in a series, because a closed circuit acts together.', 'reference_answer': 'the open switch creates a gap', 'assessment': 'contradictory'}) (input_keys={'student_answer', 'reference_answer', 'question'}),\n",
       " Example({'question': 'Why does an open switch impact a circuit?', 'student_answer': 'Because it stops the flow of one side of a battery from reaching the other light bulbs.', 'reference_answer': 'the open switch creates a gap', 'assessment': 'contradictory'}) (input_keys={'student_answer', 'reference_answer', 'question'}),\n",
       " Example({'question': 'Why does an open switch impact a circuit?', 'student_answer': 'An open switch interrupts the flow of the current.', 'reference_answer': 'the open switch creates a gap', 'assessment': 'contradictory'}) (input_keys={'student_answer', 'reference_answer', 'question'}),\n",
       " Example({'question': 'Why does an open switch impact a circuit?', 'student_answer': 'It breaks the closed pathway that the bulbs require to work.', 'reference_answer': 'the open switch creates a gap', 'assessment': 'correct'}) (input_keys={'student_answer', 'reference_answer', 'question'}),\n",
       " Example({'question': 'Why does an open switch impact a circuit?', 'student_answer': 'There is no closed path', 'reference_answer': 'the open switch creates a gap', 'assessment': 'correct'}) (input_keys={'student_answer', 'reference_answer', 'question'}),\n",
       " Example({'question': 'Why does an open switch impact a circuit?', 'student_answer': 'Because the current can not reach the bulb if the circuit is open.', 'reference_answer': 'the open switch creates a gap', 'assessment': 'contradictory'}) (input_keys={'student_answer', 'reference_answer', 'question'}),\n",
       " Example({'question': 'Why does an open switch impact a circuit?', 'student_answer': 'Then the bulb and battery will not be in a contained circuit.', 'reference_answer': 'the open switch creates a gap', 'assessment': 'contradictory'}) (input_keys={'student_answer', 'reference_answer', 'question'}),\n",
       " Example({'question': 'Why does an open switch impact a circuit?', 'student_answer': 'An open switch impacts a circuit because it causes the path to be closed, therefore the connection cannot be made.', 'reference_answer': 'the open switch creates a gap', 'assessment': 'contradictory'}) (input_keys={'student_answer', 'reference_answer', 'question'}),\n",
       " Example({'question': 'Why does an open switch impact a circuit?', 'student_answer': 'because it changes the path from closed to open', 'reference_answer': 'the open switch creates a gap', 'assessment': 'correct'}) (input_keys={'student_answer', 'reference_answer', 'question'}),\n",
       " Example({'question': 'Explain your reasoning.', 'student_answer': 'bulb b and c are contained in the same closed path', 'reference_answer': 'B and C are in the same path with the battery', 'assessment': 'correct'}) (input_keys={'student_answer', 'reference_answer', 'question'}),\n",
       " Example({'question': 'Explain your reasoning.', 'student_answer': 'Bulb B  and Bulb C are contained in the same path with the battery.', 'reference_answer': 'B and C are in the same path with the battery', 'assessment': 'correct'}) (input_keys={'student_answer', 'reference_answer', 'question'}),\n",
       " Example({'question': 'Explain your reasoning.', 'student_answer': 'contained within the same path with the battery', 'reference_answer': 'B and C are in the same path with the battery', 'assessment': 'correct'}) (input_keys={'student_answer', 'reference_answer', 'question'}),\n",
       " Example({'question': 'Explain your reasoning.', 'student_answer': 'bulb b and bulb c are contained within a closed path', 'reference_answer': 'B and C are in the same path with the battery', 'assessment': 'correct'}) (input_keys={'student_answer', 'reference_answer', 'question'}),\n",
       " Example({'question': 'Explain your reasoning.', 'student_answer': 'bulbs b and c are contained in the same path with the battery.', 'reference_answer': 'B and C are in the same path with the battery', 'assessment': 'correct'}) (input_keys={'student_answer', 'reference_answer', 'question'}),\n",
       " Example({'question': 'Explain your reasoning.', 'student_answer': 'bulbs b and c are contained on the same path with the battery', 'reference_answer': 'B and C are in the same path with the battery', 'assessment': 'correct'}) (input_keys={'student_answer', 'reference_answer', 'question'}),\n",
       " Example({'question': 'Explain your reasoning.', 'student_answer': 'bulb b and c are contained in the same path with the battery.', 'reference_answer': 'B and C are in the same path with the battery', 'assessment': 'correct'}) (input_keys={'student_answer', 'reference_answer', 'question'}),\n",
       " Example({'question': 'Explain your reasoning.', 'student_answer': 'bulb B and bulb C are contained in the same closed path.', 'reference_answer': 'B and C are in the same path with the battery', 'assessment': 'correct'}) (input_keys={'student_answer', 'reference_answer', 'question'}),\n",
       " Example({'question': 'Explain your reasoning.', 'student_answer': 'bulb b and c are contained in the same closed path.', 'reference_answer': 'B and C are in the same path with the battery', 'assessment': 'correct'}) (input_keys={'student_answer', 'reference_answer', 'question'}),\n",
       " Example({'question': 'Explain your reasoning.', 'student_answer': 'they are on the same pah', 'reference_answer': 'B and C are in the same path with the battery', 'assessment': 'correct'}) (input_keys={'student_answer', 'reference_answer', 'question'}),\n",
       " Example({'question': 'Explain your reasoning.', 'student_answer': 'because bulbs B and C are contained in the same closed path', 'reference_answer': 'B and C are in the same path with the battery', 'assessment': 'correct'}) (input_keys={'student_answer', 'reference_answer', 'question'}),\n",
       " Example({'question': 'Explain your reasoning.', 'student_answer': 'bulbs b and c are in the same closed path with the battery', 'reference_answer': 'B and C are in the same path with the battery', 'assessment': 'correct'}) (input_keys={'student_answer', 'reference_answer', 'question'}),\n",
       " Example({'question': 'Explain your reasoning.', 'student_answer': 'Bulb B and bulb C are contained in different path with the battery', 'reference_answer': 'B and C are in the same path with the battery', 'assessment': 'contradictory'}) (input_keys={'student_answer', 'reference_answer', 'question'}),\n",
       " Example({'question': 'Explain your reasoning.', 'student_answer': 'different paths with the battery', 'reference_answer': 'B and C are in the same path with the battery', 'assessment': 'contradictory'}) (input_keys={'student_answer', 'reference_answer', 'question'}),\n",
       " Example({'question': 'Explain your reasoning.', 'student_answer': 'Bulb B and bulb C are contained in different paths with the battery', 'reference_answer': 'B and C are in the same path with the battery', 'assessment': 'contradictory'}) (input_keys={'student_answer', 'reference_answer', 'question'}),\n",
       " Example({'question': 'Explain your reasoning.', 'student_answer': 'because they are in the same path with the battery', 'reference_answer': 'B and C are in the same path with the battery', 'assessment': 'correct'}) (input_keys={'student_answer', 'reference_answer', 'question'}),\n",
       " Example({'question': 'Explain your reasoning.', 'student_answer': 'Bulb B and Bulb C are contained in the same path with the battery.', 'reference_answer': 'B and C are in the same path with the battery', 'assessment': 'correct'}) (input_keys={'student_answer', 'reference_answer', 'question'}),\n",
       " Example({'question': 'Explain your reasoning.', 'student_answer': 'They are contained in the same path with the battery', 'reference_answer': 'B and C are in the same path with the battery', 'assessment': 'correct'}) (input_keys={'student_answer', 'reference_answer', 'question'}),\n",
       " Example({'question': 'Explain your reasoning.', 'student_answer': 'they are on the same closed path', 'reference_answer': 'B and C are in the same path with the battery', 'assessment': 'correct'}) (input_keys={'student_answer', 'reference_answer', 'question'}),\n",
       " Example({'question': 'Explain your reasoning.', 'student_answer': 'they are contained in the same closed path', 'reference_answer': 'B and C are in the same path with the battery', 'assessment': 'correct'}) (input_keys={'student_answer', 'reference_answer', 'question'}),\n",
       " Example({'question': 'Explain your reasoning.', 'student_answer': 'same path with the battery', 'reference_answer': 'B and C are in the same path with the battery', 'assessment': 'partially_correct_incomplete'}) (input_keys={'student_answer', 'reference_answer', 'question'}),\n",
       " Example({'question': 'Explain your reasoning.', 'student_answer': 'bulbs b and c are contained in the same path', 'reference_answer': 'B and C are in the same path with the battery', 'assessment': 'correct'}) (input_keys={'student_answer', 'reference_answer', 'question'}),\n",
       " Example({'question': 'Explain your reasoning.', 'student_answer': 'Bulb B and C are contained in the same closed paths with the battery', 'reference_answer': 'B and C are in the same path with the battery', 'assessment': 'correct'}) (input_keys={'student_answer', 'reference_answer', 'question'}),\n",
       " Example({'question': 'Explain your reasoning.', 'student_answer': 'because bulb b andc are in the same closed path with the battery', 'reference_answer': 'B and C are in the same path with the battery', 'assessment': 'correct'}) (input_keys={'student_answer', 'reference_answer', 'question'}),\n",
       " Example({'question': 'Explain your reasoning.', 'student_answer': 'because bulb b and c are in the same closed path with the battery', 'reference_answer': 'B and C are in the same path with the battery', 'assessment': 'correct'}) (input_keys={'student_answer', 'reference_answer', 'question'}),\n",
       " Example({'question': 'Explain your reasoning.', 'student_answer': 'bulbs B and C are on the same path as the battery', 'reference_answer': 'B and C are in the same path with the battery', 'assessment': 'correct'}) (input_keys={'student_answer', 'reference_answer', 'question'}),\n",
       " Example({'question': 'Explain your reasoning.', 'student_answer': 'bulbs B and C are on the same path with the battery', 'reference_answer': 'B and C are in the same path with the battery', 'assessment': 'correct'}) (input_keys={'student_answer', 'reference_answer', 'question'}),\n",
       " Example({'question': 'Explain your reasoning.', 'student_answer': 'bulb b and c are contained in the same closed path with the same battery', 'reference_answer': 'B and C are in the same path with the battery', 'assessment': 'correct'}) (input_keys={'student_answer', 'reference_answer', 'question'}),\n",
       " Example({'question': 'Explain your reasoning.', 'student_answer': 'both bulbs are on the same path with the battery', 'reference_answer': 'B and C are in the same path with the battery', 'assessment': 'correct'}) (input_keys={'student_answer', 'reference_answer', 'question'}),\n",
       " Example({'question': 'Explain your reasoning.', 'student_answer': 'bulb b and bulb c are contained in the same path with the battery', 'reference_answer': 'B and C are in the same path with the battery', 'assessment': 'correct'}) (input_keys={'student_answer', 'reference_answer', 'question'}),\n",
       " Example({'question': 'Explain your reasoning.', 'student_answer': 'Bulbs B and C are contained in the same closed path with the battery', 'reference_answer': 'B and C are in the same path with the battery', 'assessment': 'correct'}) (input_keys={'student_answer', 'reference_answer', 'question'}),\n",
       " Example({'question': 'Explain your reasoning.', 'student_answer': 'bulb b and bulb c are contain in the same closed path.', 'reference_answer': 'B and C are in the same path with the battery', 'assessment': 'correct'}) (input_keys={'student_answer', 'reference_answer', 'question'}),\n",
       " Example({'question': 'Explain your reasoning.', 'student_answer': 'bulb b and bulb c are contained in the same closed path', 'reference_answer': 'B and C are in the same path with the battery', 'assessment': 'correct'}) (input_keys={'student_answer', 'reference_answer', 'question'}),\n",
       " Example({'question': 'Explain your reasoning.', 'student_answer': 'bulb b and bulb c are on the same closed path', 'reference_answer': 'B and C are in the same path with the battery', 'assessment': 'correct'}) (input_keys={'student_answer', 'reference_answer', 'question'}),\n",
       " Example({'question': 'Explain your reasoning.', 'student_answer': 'Bulb B and bulb C are contained within the same path with the battery', 'reference_answer': 'B and C are in the same path with the battery', 'assessment': 'correct'}) (input_keys={'student_answer', 'reference_answer', 'question'}),\n",
       " Example({'question': 'Explain your reasoning.', 'student_answer': 'They are on the same paths', 'reference_answer': 'B and C are in the same path with the battery', 'assessment': 'correct'}) (input_keys={'student_answer', 'reference_answer', 'question'}),\n",
       " Example({'question': 'Explain your reasoning.', 'student_answer': 'Bulb B and Bulb C are contained in the same pathway', 'reference_answer': 'B and C are in the same path with the battery', 'assessment': 'correct'}) (input_keys={'student_answer', 'reference_answer', 'question'}),\n",
       " Example({'question': 'Explain your reasoning.', 'student_answer': 'They are contained in the same path to the battery', 'reference_answer': 'B and C are in the same path with the battery', 'assessment': 'correct'}) (input_keys={'student_answer', 'reference_answer', 'question'}),\n",
       " Example({'question': 'Explain your reasoning.', 'student_answer': 'because they share the same path', 'reference_answer': 'B and C are in the same path with the battery', 'assessment': 'correct'}) (input_keys={'student_answer', 'reference_answer', 'question'}),\n",
       " Example({'question': 'Explain your reasoning.', 'student_answer': 'Bulbs B and C are contained in the same path with the battery', 'reference_answer': 'B and C are in the same path with the battery', 'assessment': 'correct'}) (input_keys={'student_answer', 'reference_answer', 'question'}),\n",
       " Example({'question': 'Explain your reasoning.', 'student_answer': 'bulb B and bulb C are contained in the same path as the battery', 'reference_answer': 'B and C are in the same path with the battery', 'assessment': 'correct'}) (input_keys={'student_answer', 'reference_answer', 'question'}),\n",
       " Example({'question': 'Explain your reasoning.', 'student_answer': 'same path', 'reference_answer': 'B and C are in the same path with the battery', 'assessment': 'partially_correct_incomplete'}) (input_keys={'student_answer', 'reference_answer', 'question'}),\n",
       " Example({'question': 'Explain your reasoning.', 'student_answer': 'same closed path', 'reference_answer': 'B and C are in the same path with the battery', 'assessment': 'correct'}) (input_keys={'student_answer', 'reference_answer', 'question'}),\n",
       " Example({'question': 'Explain your reasoning.', 'student_answer': 'They are contained in the same path with the battery and are affected by one anotehr', 'reference_answer': 'B and C are in the same path with the battery', 'assessment': 'correct'}) (input_keys={'student_answer', 'reference_answer', 'question'}),\n",
       " Example({'question': 'Explain your reasoning.', 'student_answer': 'they are contained in the same path as the battery', 'reference_answer': 'B and C are in the same path with the battery', 'assessment': 'correct'}) (input_keys={'student_answer', 'reference_answer', 'question'}),\n",
       " Example({'question': 'Explain your reasoning.', 'student_answer': 'Bulb B and Bulb C are in the same path with the battery.', 'reference_answer': 'B and C are in the same path with the battery', 'assessment': 'correct'}) (input_keys={'student_answer', 'reference_answer', 'question'}),\n",
       " Example({'question': 'Explain your reasoning.', 'student_answer': 'they are on the same ppath', 'reference_answer': 'B and C are in the same path with the battery', 'assessment': 'correct'}) (input_keys={'student_answer', 'reference_answer', 'question'}),\n",
       " Example({'question': 'Explain your reasoning.', 'student_answer': 'yes', 'reference_answer': 'B and C are in the same path with the battery', 'assessment': 'contradictory'}) (input_keys={'student_answer', 'reference_answer', 'question'}),\n",
       " Example({'question': 'Explain your reasoning.', 'student_answer': 'They are both within the same path.', 'reference_answer': 'B and C are in the same path with the battery', 'assessment': 'correct'}) (input_keys={'student_answer', 'reference_answer', 'question'}),\n",
       " Example({'question': 'Explain your reasoning.', 'student_answer': 'They are both on the same closed path as the battery.', 'reference_answer': 'B and C are in the same path with the battery', 'assessment': 'correct'}) (input_keys={'student_answer', 'reference_answer', 'question'}),\n",
       " Example({'question': 'Explain your reasoning.', 'student_answer': 'they are wired in the same path with the battery', 'reference_answer': 'B and C are in the same path with the battery', 'assessment': 'correct'}) (input_keys={'student_answer', 'reference_answer', 'question'}),\n",
       " Example({'question': 'Explain your reasoning.', 'student_answer': 'same path to the battery', 'reference_answer': 'B and C are in the same path with the battery', 'assessment': 'correct'}) (input_keys={'student_answer', 'reference_answer', 'question'}),\n",
       " Example({'question': 'Explain your reasoning.', 'student_answer': 'bulb b and c are in a closed path', 'reference_answer': 'B and C are in the same path with the battery', 'assessment': 'partially_correct_incomplete'}) (input_keys={'student_answer', 'reference_answer', 'question'}),\n",
       " Example({'question': 'Explain your reasoning.', 'student_answer': 'both are on same closed paths', 'reference_answer': 'B and C are in the same path with the battery', 'assessment': 'correct'}) (input_keys={'student_answer', 'reference_answer', 'question'}),\n",
       " Example({'question': 'Explain your reasoning.', 'student_answer': 'They are on the same pathway as the battery', 'reference_answer': 'B and C are in the same path with the battery', 'assessment': 'correct'}) (input_keys={'student_answer', 'reference_answer', 'question'}),\n",
       " Example({'question': 'Explain your reasoning.', 'student_answer': 'they are both in the same closed path and effect each other', 'reference_answer': 'B and C are in the same path with the battery', 'assessment': 'correct'}) (input_keys={'student_answer', 'reference_answer', 'question'}),\n",
       " Example({'question': 'Explain your reasoning.', 'student_answer': 'They are contained on the same path with the battery.', 'reference_answer': 'B and C are in the same path with the battery', 'assessment': 'correct'}) (input_keys={'student_answer', 'reference_answer', 'question'}),\n",
       " Example({'question': 'Explain your reasoning.', 'student_answer': 'they are contained inthe same paths with the battery', 'reference_answer': 'B and C are in the same path with the battery', 'assessment': 'correct'}) (input_keys={'student_answer', 'reference_answer', 'question'}),\n",
       " Example({'question': 'Explain your reasoning.', 'student_answer': 'Bulbs B and C are contained on the same path with the battery.', 'reference_answer': 'B and C are in the same path with the battery', 'assessment': 'correct'}) (input_keys={'student_answer', 'reference_answer', 'question'}),\n",
       " Example({'question': 'Explain your reasoning.', 'student_answer': 'they are contained in the same closed path with the battery', 'reference_answer': 'B and C are in the same path with the battery', 'assessment': 'correct'}) (input_keys={'student_answer', 'reference_answer', 'question'}),\n",
       " Example({'question': 'Explain why you got a voltage reading of 1.5 for terminal 1 and the positive terminal.', 'student_answer': 'because they are connected to opposite terminals', 'reference_answer': 'Terminal 1 and the positive terminal are separated by the gap', 'assessment': 'correct'}) (input_keys={'student_answer', 'reference_answer', 'question'}),\n",
       " Example({'question': 'Explain why you got a voltage reading of 1.5 for terminal 1 and the positive terminal.', 'student_answer': 'beacuse terminal 1 is connected to the negative terminal and the battery is connected at the positive terminal', 'reference_answer': 'Terminal 1 and the positive terminal are separated by the gap', 'assessment': 'correct'}) (input_keys={'student_answer', 'reference_answer', 'question'}),\n",
       " Example({'question': 'Explain why you got a voltage reading of 1.5 for terminal 1 and the positive terminal.', 'student_answer': 'because there is a gap', 'reference_answer': 'Terminal 1 and the positive terminal are separated by the gap', 'assessment': 'partially_correct_incomplete'}) (input_keys={'student_answer', 'reference_answer', 'question'}),\n",
       " Example({'question': 'Explain why you got a voltage reading of 1.5 for terminal 1 and the positive terminal.', 'student_answer': 'i do not know', 'reference_answer': 'Terminal 1 and the positive terminal are separated by the gap', 'assessment': 'non_domain'}) (input_keys={'student_answer', 'reference_answer', 'question'}),\n",
       " Example({'question': 'Explain why you got a voltage reading of 1.5 for terminal 1 and the positive terminal.', 'student_answer': 'because it is not connected to the negative terminal', 'reference_answer': 'Terminal 1 and the positive terminal are separated by the gap', 'assessment': 'contradictory'}) (input_keys={'student_answer', 'reference_answer', 'question'}),\n",
       " Example({'question': 'Explain why you got a voltage reading of 1.5 for terminal 1 and the positive terminal.', 'student_answer': 'because it is connected to the positive terminal', 'reference_answer': 'Terminal 1 and the positive terminal are separated by the gap', 'assessment': 'contradictory'}) (input_keys={'student_answer', 'reference_answer', 'question'}),\n",
       " Example({'question': 'Explain why you got a voltage reading of 1.5 for terminal 1 and the positive terminal.', 'student_answer': 'because there is no gap between terminal 1 and the positive terminal', 'reference_answer': 'Terminal 1 and the positive terminal are separated by the gap', 'assessment': 'contradictory'}) (input_keys={'student_answer', 'reference_answer', 'question'}),\n",
       " Example({'question': 'Explain why you got a voltage reading of 1.5 for terminal 1 and the positive terminal.', 'student_answer': 'Because terminal 1 is connected to the positive terminal with no gaps', 'reference_answer': 'Terminal 1 and the positive terminal are separated by the gap', 'assessment': 'contradictory'}) (input_keys={'student_answer', 'reference_answer', 'question'}),\n",
       " Example({'question': 'Explain why you got a voltage reading of 1.5 for terminal 1 and the positive terminal.', 'student_answer': 'It was a mistake. I looked at it wrong.', 'reference_answer': 'Terminal 1 and the positive terminal are separated by the gap', 'assessment': 'non_domain'}) (input_keys={'student_answer', 'reference_answer', 'question'}),\n",
       " Example({'question': 'Explain why you got a voltage reading of 1.5 for terminal 1 and the positive terminal.', 'student_answer': 'We switched the terminals around.', 'reference_answer': 'Terminal 1 and the positive terminal are separated by the gap', 'assessment': 'contradictory'}) (input_keys={'student_answer', 'reference_answer', 'question'}),\n",
       " Example({'question': 'Explain why you got a voltage reading of 1.5 for terminal 1 and the positive terminal.', 'student_answer': 'There was a gap in b. The measurement between the positive battery terminal and terminal 1 was 1.5v.', 'reference_answer': 'Terminal 1 and the positive terminal are separated by the gap', 'assessment': 'partially_correct_incomplete'}) (input_keys={'student_answer', 'reference_answer', 'question'}),\n",
       " Example({'question': 'Explain why you got a voltage reading of 1.5 for terminal 1 and the positive terminal.', 'student_answer': 'The path is not closed. The distance between the positive battery terminal and terminal a is 1.5v.', 'reference_answer': 'Terminal 1 and the positive terminal are separated by the gap', 'assessment': 'contradictory'}) (input_keys={'student_answer', 'reference_answer', 'question'}),\n",
       " Example({'question': 'Explain why you got a voltage reading of 1.5 for terminal 1 and the positive terminal.', 'student_answer': 'terminal 1 was connected to the positive terminal of the battery', 'reference_answer': 'Terminal 1 and the positive terminal are separated by the gap', 'assessment': 'contradictory'}) (input_keys={'student_answer', 'reference_answer', 'question'}),\n",
       " Example({'question': 'Explain why you got a voltage reading of 1.5 for terminal 1 and the positive terminal.', 'student_answer': 'because it was connected to the positive terminal', 'reference_answer': 'Terminal 1 and the positive terminal are separated by the gap', 'assessment': 'contradictory'}) (input_keys={'student_answer', 'reference_answer', 'question'}),\n",
       " Example({'question': 'Explain why you got a voltage reading of 1.5 for terminal 1 and the positive terminal.', 'student_answer': 'because there was no gap from the positive terminal of the battery', 'reference_answer': 'Terminal 1 and the positive terminal are separated by the gap', 'assessment': 'contradictory'}) (input_keys={'student_answer', 'reference_answer', 'question'}),\n",
       " Example({'question': 'Explain why you got a voltage reading of 1.5 for terminal 1 and the positive terminal.', 'student_answer': 'because 1.5 v minus 0 v equals 1.5 v', 'reference_answer': 'Terminal 1 and the positive terminal are separated by the gap', 'assessment': 'irrelevant'}) (input_keys={'student_answer', 'reference_answer', 'question'}),\n",
       " Example({'question': 'Explain why you got a voltage reading of 1.5 for terminal 1 and the positive terminal.', 'student_answer': 'the voltage is the difference between the electrical state of the terminals.', 'reference_answer': 'Terminal 1 and the positive terminal are separated by the gap', 'assessment': 'partially_correct_incomplete'}) (input_keys={'student_answer', 'reference_answer', 'question'}),\n",
       " Example({'question': 'Explain why you got a voltage reading of 1.5 for terminal 1 and the positive terminal.', 'student_answer': 'terminal 1 is connected to the negative terminal of the battery and has 0 v, and the positive terminal of the battery has 1.5 v.', 'reference_answer': 'Terminal 1 and the positive terminal are separated by the gap', 'assessment': 'contradictory'}) (input_keys={'student_answer', 'reference_answer', 'question'}),\n",
       " Example({'question': 'Explain why you got a voltage reading of 1.5 for terminal 1 and the positive terminal.', 'student_answer': 'Because the Meter read the difference in volts between the positive battery terminal and terminal 1 which has a negative charge', 'reference_answer': 'Terminal 1 and the positive terminal are separated by the gap', 'assessment': 'partially_correct_incomplete'}) (input_keys={'student_answer', 'reference_answer', 'question'}),\n",
       " Example({'question': 'Explain why you got a voltage reading of 1.5 for terminal 1 and the positive terminal.', 'student_answer': 'Meter read the difference in volts between the positive battery terminal and terminal 1 which is connected to the negative battery terminal', 'reference_answer': 'Terminal 1 and the positive terminal are separated by the gap', 'assessment': 'partially_correct_incomplete'}) (input_keys={'student_answer', 'reference_answer', 'question'}),\n",
       " Example({'question': 'Explain why you got a voltage reading of 1.5 for terminal 1 and the positive terminal.', 'student_answer': 'The gap causes terminal 1 to have a negative battery characteristic which is different compared  to the positive battery terminal', 'reference_answer': 'Terminal 1 and the positive terminal are separated by the gap', 'assessment': 'correct'}) (input_keys={'student_answer', 'reference_answer', 'question'}),\n",
       " Example({'question': 'Explain why you got a voltage reading of 1.5 for terminal 1 and the positive terminal.', 'student_answer': 'Bulb terminals 3 and 4', 'reference_answer': 'Terminal 1 and the positive terminal are separated by the gap', 'assessment': 'contradictory'}) (input_keys={'student_answer', 'reference_answer', 'question'}),\n",
       " Example({'question': 'Explain why you got a voltage reading of 1.5 for terminal 1 and the positive terminal.', 'student_answer': 'i don\"t know.', 'reference_answer': 'Terminal 1 and the positive terminal are separated by the gap', 'assessment': 'non_domain'}) (input_keys={'student_answer', 'reference_answer', 'question'}),\n",
       " Example({'question': 'Explain why you got a voltage reading of 1.5 for terminal 1 and the positive terminal.', 'student_answer': 'there was no gap between the circuit.', 'reference_answer': 'Terminal 1 and the positive terminal are separated by the gap', 'assessment': 'contradictory'}) (input_keys={'student_answer', 'reference_answer', 'question'}),\n",
       " Example({'question': 'Explain why you got a voltage reading of 1.5 for terminal 1 and the positive terminal.', 'student_answer': 'there was no gap between terminal 1 and the positive battery terminal.', 'reference_answer': 'Terminal 1 and the positive terminal are separated by the gap', 'assessment': 'contradictory'}) (input_keys={'student_answer', 'reference_answer', 'question'}),\n",
       " Example({'question': 'Explain why you got a voltage reading of 1.5 for terminal 1 and the positive terminal.', 'student_answer': 'there was no gap between terminal 1 and the negative battery terminal.', 'reference_answer': 'Terminal 1 and the positive terminal are separated by the gap', 'assessment': 'correct'}) (input_keys={'student_answer', 'reference_answer', 'question'}),\n",
       " Example({'question': 'Explain why you got a voltage reading of 1.5 for terminal 1 and the positive terminal.', 'student_answer': 'Because there was no gap.', 'reference_answer': 'Terminal 1 and the positive terminal are separated by the gap', 'assessment': 'contradictory'}) (input_keys={'student_answer', 'reference_answer', 'question'}),\n",
       " Example({'question': 'Explain why you got a voltage reading of 1.5 for terminal 1 and the positive terminal.', 'student_answer': 'because it was connected to the positive terminal.', 'reference_answer': 'Terminal 1 and the positive terminal are separated by the gap', 'assessment': 'contradictory'}) (input_keys={'student_answer', 'reference_answer', 'question'}),\n",
       " Example({'question': 'Explain why you got a voltage reading of 1.5 for terminal 1 and the positive terminal.', 'student_answer': 'Because terminal 1 had no gap.', 'reference_answer': 'Terminal 1 and the positive terminal are separated by the gap', 'assessment': 'contradictory'}) (input_keys={'student_answer', 'reference_answer', 'question'}),\n",
       " Example({'question': 'Explain why you got a voltage reading of 1.5 for terminal 1 and the positive terminal.', 'student_answer': 'Because terminal 1 is seperated from the positive battery terminal.', 'reference_answer': 'Terminal 1 and the positive terminal are separated by the gap', 'assessment': 'correct'}) (input_keys={'student_answer', 'reference_answer', 'question'}),\n",
       " Example({'question': 'Explain why you got a voltage reading of 1.5 for terminal 1 and the positive terminal.', 'student_answer': 'because they were connected to the positive terminal', 'reference_answer': 'Terminal 1 and the positive terminal are separated by the gap', 'assessment': 'contradictory'}) (input_keys={'student_answer', 'reference_answer', 'question'}),\n",
       " Example({'question': 'Explain why you got a voltage reading of 1.5 for terminal 1 and the positive terminal.', 'student_answer': 'because there is a gap between terminal 3 and 4', 'reference_answer': 'Terminal 1 and the positive terminal are separated by the gap', 'assessment': 'partially_correct_incomplete'}) (input_keys={'student_answer', 'reference_answer', 'question'}),\n",
       " Example({'question': 'Explain why you got a voltage reading of 1.5 for terminal 1 and the positive terminal.', 'student_answer': 'there wasnt a gap', 'reference_answer': 'Terminal 1 and the positive terminal are separated by the gap', 'assessment': 'contradictory'}) (input_keys={'student_answer', 'reference_answer', 'question'}),\n",
       " Example({'question': 'Explain why you got a voltage reading of 1.5 for terminal 1 and the positive terminal.', 'student_answer': 'the voltage doesnt change', 'reference_answer': 'Terminal 1 and the positive terminal are separated by the gap', 'assessment': 'contradictory'}) (input_keys={'student_answer', 'reference_answer', 'question'}),\n",
       " Example({'question': 'Explain why you got a voltage reading of 1.5 for terminal 1 and the positive terminal.', 'student_answer': 'the gap is open', 'reference_answer': 'Terminal 1 and the positive terminal are separated by the gap', 'assessment': 'contradictory'}) (input_keys={'student_answer', 'reference_answer', 'question'}),\n",
       " Example({'question': 'Explain why you got a voltage reading of 1.5 for terminal 1 and the positive terminal.', 'student_answer': 'the paths are seperated', 'reference_answer': 'Terminal 1 and the positive terminal are separated by the gap', 'assessment': 'contradictory'}) (input_keys={'student_answer', 'reference_answer', 'question'}),\n",
       " Example({'question': 'Explain why you got a voltage reading of 1.5 for terminal 1 and the positive terminal.', 'student_answer': 'the terminal was connected to the positive battery', 'reference_answer': 'Terminal 1 and the positive terminal are separated by the gap', 'assessment': 'contradictory'}) (input_keys={'student_answer', 'reference_answer', 'question'}),\n",
       " Example({'question': 'Explain why you got a voltage reading of 1.5 for terminal 1 and the positive terminal.', 'student_answer': 'the terminals were connected to the positive terminals of the battery', 'reference_answer': 'Terminal 1 and the positive terminal are separated by the gap', 'assessment': 'contradictory'}) (input_keys={'student_answer', 'reference_answer', 'question'}),\n",
       " Example({'question': 'Explain why you got a voltage reading of 1.5 for terminal 1 and the positive terminal.', 'student_answer': 'there is no gap between the terminals', 'reference_answer': 'Terminal 1 and the positive terminal are separated by the gap', 'assessment': 'contradictory'}) (input_keys={'student_answer', 'reference_answer', 'question'}),\n",
       " Example({'question': 'Explain why you got a voltage reading of 1.5 for terminal 1 and the positive terminal.', 'student_answer': 'Terminal 1 is connected to the negative terminal.', 'reference_answer': 'Terminal 1 and the positive terminal are separated by the gap', 'assessment': 'correct'}) (input_keys={'student_answer', 'reference_answer', 'question'}),\n",
       " Example({'question': 'Explain why you got a voltage reading of 1.5 for terminal 1 and the positive terminal.', 'student_answer': 'i dont know', 'reference_answer': 'Terminal 1 and the positive terminal are separated by the gap', 'assessment': 'non_domain'}) (input_keys={'student_answer', 'reference_answer', 'question'}),\n",
       " Example({'question': 'Explain why you got a voltage reading of 1.5 for terminal 1 and the positive terminal.', 'student_answer': 'there was a gap in bulb B', 'reference_answer': 'Terminal 1 and the positive terminal are separated by the gap', 'assessment': 'partially_correct_incomplete'}) (input_keys={'student_answer', 'reference_answer', 'question'}),\n",
       " Example({'question': 'Explain why you got a voltage reading of 1.5 for terminal 1 and the positive terminal.', 'student_answer': 'circuit was complete until gap', 'reference_answer': 'Terminal 1 and the positive terminal are separated by the gap', 'assessment': 'partially_correct_incomplete'}) (input_keys={'student_answer', 'reference_answer', 'question'}),\n",
       " Example({'question': 'Explain why you got a voltage reading of 1.5 for terminal 1 and the positive terminal.', 'student_answer': 'gap', 'reference_answer': 'Terminal 1 and the positive terminal are separated by the gap', 'assessment': 'partially_correct_incomplete'}) (input_keys={'student_answer', 'reference_answer', 'question'}),\n",
       " Example({'question': 'Explain why you got a voltage reading of 1.5 for terminal 1 and the positive terminal.', 'student_answer': 'gap, battery and electricity', 'reference_answer': 'Terminal 1 and the positive terminal are separated by the gap', 'assessment': 'contradictory'}) (input_keys={'student_answer', 'reference_answer', 'question'}),\n",
       " Example({'question': 'Explain why you got a voltage reading of 1.5 for terminal 1 and the positive terminal.', 'student_answer': 'there was no gap', 'reference_answer': 'Terminal 1 and the positive terminal are separated by the gap', 'assessment': 'contradictory'}) (input_keys={'student_answer', 'reference_answer', 'question'}),\n",
       " Example({'question': 'Explain why you got a voltage reading of 1.5 for terminal 1 and the positive terminal.', 'student_answer': 'they are in a closed circuit', 'reference_answer': 'Terminal 1 and the positive terminal are separated by the gap', 'assessment': 'contradictory'}) (input_keys={'student_answer', 'reference_answer', 'question'}),\n",
       " Example({'question': 'Explain why you got a voltage reading of 1.5 for terminal 1 and the positive terminal.', 'student_answer': 'there is no gap', 'reference_answer': 'Terminal 1 and the positive terminal are separated by the gap', 'assessment': 'contradictory'}) (input_keys={'student_answer', 'reference_answer', 'question'}),\n",
       " Example({'question': 'Explain why you got a voltage reading of 1.5 for terminal 1 and the positive terminal.', 'student_answer': 'i don\"t know', 'reference_answer': 'Terminal 1 and the positive terminal are separated by the gap', 'assessment': 'non_domain'}) (input_keys={'student_answer', 'reference_answer', 'question'}),\n",
       " Example({'question': 'Explain why you got a voltage reading of 1.5 for terminal 1 and the positive terminal.', 'student_answer': 'there is a gap in the path', 'reference_answer': 'Terminal 1 and the positive terminal are separated by the gap', 'assessment': 'partially_correct_incomplete'}) (input_keys={'student_answer', 'reference_answer', 'question'}),\n",
       " Example({'question': 'Explain why you got a voltage reading of 1.5 for terminal 1 and the positive terminal.', 'student_answer': 'there is no gap in the path', 'reference_answer': 'Terminal 1 and the positive terminal are separated by the gap', 'assessment': 'contradictory'}) (input_keys={'student_answer', 'reference_answer', 'question'}),\n",
       " Example({'question': 'Explain why you got a voltage reading of 1.5 for terminal 1 and the positive terminal.', 'student_answer': 'there is a gap in the circuit', 'reference_answer': 'Terminal 1 and the positive terminal are separated by the gap', 'assessment': 'partially_correct_incomplete'}) (input_keys={'student_answer', 'reference_answer', 'question'}),\n",
       " Example({'question': 'Explain why you got a voltage reading of 1.5 for terminal 1 and the positive terminal.', 'student_answer': 'don\"t know', 'reference_answer': 'Terminal 1 and the positive terminal are separated by the gap', 'assessment': 'non_domain'}) (input_keys={'student_answer', 'reference_answer', 'question'}),\n",
       " Example({'question': 'Explain why you got a voltage reading of 1.5 for terminal 1 and the positive terminal.', 'student_answer': 'there is no gapp between the positive terminal and terminal 1.', 'reference_answer': 'Terminal 1 and the positive terminal are separated by the gap', 'assessment': 'contradictory'}) (input_keys={'student_answer', 'reference_answer', 'question'}),\n",
       " Example({'question': 'Explain why you got a voltage reading of 1.5 for terminal 1 and the positive terminal.', 'student_answer': 'there is no gap between terminal 1 and the positive terminal.', 'reference_answer': 'Terminal 1 and the positive terminal are separated by the gap', 'assessment': 'contradictory'}) (input_keys={'student_answer', 'reference_answer', 'question'}),\n",
       " Example({'question': 'Explain why you got a voltage reading of 1.5 for terminal 1 and the positive terminal.', 'student_answer': 'It was connected to the positive terminal.', 'reference_answer': 'Terminal 1 and the positive terminal are separated by the gap', 'assessment': 'contradictory'}) (input_keys={'student_answer', 'reference_answer', 'question'}),\n",
       " Example({'question': 'Explain why you got a voltage reading of 1.5 for terminal 1 and the positive terminal.', 'student_answer': 'Terminal 1 was connected to the positive terminal.', 'reference_answer': 'Terminal 1 and the positive terminal are separated by the gap', 'assessment': 'contradictory'}) (input_keys={'student_answer', 'reference_answer', 'question'}),\n",
       " Example({'question': 'Explain why you got a voltage reading of 1.5 for terminal 1 and the positive terminal.', 'student_answer': 'Terminal 1 was not connected to the negative terminal.', 'reference_answer': 'Terminal 1 and the positive terminal are separated by the gap', 'assessment': 'contradictory'}) (input_keys={'student_answer', 'reference_answer', 'question'}),\n",
       " Example({'question': 'Explain why you got a voltage reading of 1.5 for terminal 1 and the positive terminal.', 'student_answer': 'fjdajf', 'reference_answer': 'Terminal 1 and the positive terminal are separated by the gap', 'assessment': 'non_domain'}) (input_keys={'student_answer', 'reference_answer', 'question'}),\n",
       " Example({'question': 'Explain why you got a voltage reading of 1.5 for terminal 1 and the positive terminal.', 'student_answer': 'terminal one is connected to the negative battery terminal', 'reference_answer': 'Terminal 1 and the positive terminal are separated by the gap', 'assessment': 'correct'}) (input_keys={'student_answer', 'reference_answer', 'question'}),\n",
       " Example({'question': 'Explain why you got a voltage reading of 1.5 for terminal 1 and the positive terminal.', 'student_answer': 'terminal 1 was connected to the positive terminal', 'reference_answer': 'Terminal 1 and the positive terminal are separated by the gap', 'assessment': 'contradictory'}) (input_keys={'student_answer', 'reference_answer', 'question'}),\n",
       " Example({'question': 'Explain why you got a voltage reading of 1.5 for terminal 1 and the positive terminal.', 'student_answer': 'terminal 1 was connected to the positive battery terminal', 'reference_answer': 'Terminal 1 and the positive terminal are separated by the gap', 'assessment': 'contradictory'}) (input_keys={'student_answer', 'reference_answer', 'question'}),\n",
       " Example({'question': 'Explain why you got a voltage reading of 1.5 for terminal 1 and the positive terminal.', 'student_answer': 'whatever', 'reference_answer': 'Terminal 1 and the positive terminal are separated by the gap', 'assessment': 'non_domain'}) (input_keys={'student_answer', 'reference_answer', 'question'}),\n",
       " Example({'question': 'Explain why you got a voltage reading of 1.5 for terminal 1 and the positive terminal.', 'student_answer': 'The positive terminal has 1.5 V', 'reference_answer': 'Terminal 1 and the positive terminal are separated by the gap', 'assessment': 'contradictory'}) (input_keys={'student_answer', 'reference_answer', 'question'}),\n",
       " Example({'question': 'Explain why you got a voltage reading of 1.5 for terminal 1 and the positive terminal.', 'student_answer': 'There is a gap between the postive terminal and terminal 1', 'reference_answer': 'Terminal 1 and the positive terminal are separated by the gap', 'assessment': 'correct'}) (input_keys={'student_answer', 'reference_answer', 'question'}),\n",
       " Example({'question': 'Explain why you got a voltage reading of 1.5 for terminal 1 and the positive terminal.', 'student_answer': 'Voltage is the difference between a positive and negative end on the battery.', 'reference_answer': 'Terminal 1 and the positive terminal are separated by the gap', 'assessment': 'irrelevant'}) (input_keys={'student_answer', 'reference_answer', 'question'}),\n",
       " Example({'question': 'Explain why you got a voltage reading of 1.5 for terminal 1 and the positive terminal.', 'student_answer': 'Voltage is the difference between a positive and negative terminal on the battery.', 'reference_answer': 'Terminal 1 and the positive terminal are separated by the gap', 'assessment': 'irrelevant'}) (input_keys={'student_answer', 'reference_answer', 'question'}),\n",
       " Example({'question': 'Explain why you got a voltage reading of 1.5 for terminal 1 and the positive terminal.', 'student_answer': 'the positive terminal', 'reference_answer': 'Terminal 1 and the positive terminal are separated by the gap', 'assessment': 'irrelevant'}) (input_keys={'student_answer', 'reference_answer', 'question'}),\n",
       " Example({'question': 'Explain why you got a voltage reading of 1.5 for terminal 1 and the positive terminal.', 'student_answer': 'the positive terminal is connected to the bulb', 'reference_answer': 'Terminal 1 and the positive terminal are separated by the gap', 'assessment': 'irrelevant'}) (input_keys={'student_answer', 'reference_answer', 'question'}),\n",
       " Example({'question': 'Explain why you got a voltage reading of 1.5 for terminal 1 and the positive terminal.', 'student_answer': 'because 1.5 v is the difference between the positive terminal and terminal 1', 'reference_answer': 'Terminal 1 and the positive terminal are separated by the gap', 'assessment': 'irrelevant'}) (input_keys={'student_answer', 'reference_answer', 'question'}),\n",
       " Example({'question': 'Explain why you got a voltage reading of 1.5 for terminal 1 and the positive terminal.', 'student_answer': 'because terminal is connected to the negative terminal', 'reference_answer': 'Terminal 1 and the positive terminal are separated by the gap', 'assessment': 'correct'}) (input_keys={'student_answer', 'reference_answer', 'question'}),\n",
       " Example({'question': 'Explain why you got a voltage reading of 1.5 for terminal 1 and the positive terminal.', 'student_answer': 'because terminal 1 is connected to the negative terminal', 'reference_answer': 'Terminal 1 and the positive terminal are separated by the gap', 'assessment': 'correct'}) (input_keys={'student_answer', 'reference_answer', 'question'}),\n",
       " Example({'question': 'Explain why you got a voltage reading of 1.5 for terminal 1 and the positive terminal.', 'student_answer': 'The positive terminal and terminal 1 read 1.5 V because the difference across the terminals is 1.5 V', 'reference_answer': 'Terminal 1 and the positive terminal are separated by the gap', 'assessment': 'irrelevant'}) (input_keys={'student_answer', 'reference_answer', 'question'}),\n",
       " Example({'question': 'Explain why you got a voltage reading of 1.5 for terminal 1 and the positive terminal.', 'student_answer': 'the voltage between terminal 1 and the positive terminal is 1.5 V', 'reference_answer': 'Terminal 1 and the positive terminal are separated by the gap', 'assessment': 'irrelevant'}) (input_keys={'student_answer', 'reference_answer', 'question'}),\n",
       " Example({'question': 'Explain why you got a voltage reading of 1.5 for terminal 1 and the positive terminal.', 'student_answer': 'terminal 1 is connected to the negative terminal so the voltage reading is 1.5 V', 'reference_answer': 'Terminal 1 and the positive terminal are separated by the gap', 'assessment': 'correct'}) (input_keys={'student_answer', 'reference_answer', 'question'}),\n",
       " Example({'question': 'Explain why you got a voltage reading of 1.5 for terminal 1 and the positive terminal.', 'student_answer': '?', 'reference_answer': 'Terminal 1 and the positive terminal are separated by the gap', 'assessment': 'non_domain'}) (input_keys={'student_answer', 'reference_answer', 'question'}),\n",
       " Example({'question': 'Explain why you got a voltage reading of 1.5 for terminal 1 and the positive terminal.', 'student_answer': 'I  do not know', 'reference_answer': 'Terminal 1 and the positive terminal are separated by the gap', 'assessment': 'non_domain'}) (input_keys={'student_answer', 'reference_answer', 'question'}),\n",
       " Example({'question': 'Explain why you got a voltage reading of 1.5 for terminal 1 and the positive terminal.', 'student_answer': 'There is a gap after bulb B.', 'reference_answer': 'Terminal 1 and the positive terminal are separated by the gap', 'assessment': 'partially_correct_incomplete'}) (input_keys={'student_answer', 'reference_answer', 'question'}),\n",
       " Example({'question': 'Explain why you got a voltage reading of 1.5 for terminal 1 and the positive terminal.', 'student_answer': 'There is a gap after bulb b', 'reference_answer': 'Terminal 1 and the positive terminal are separated by the gap', 'assessment': 'partially_correct_incomplete'}) (input_keys={'student_answer', 'reference_answer', 'question'}),\n",
       " Example({'question': 'Explain why you got a voltage reading of 1.5 for terminal 1 and the positive terminal.', 'student_answer': 'All components are in a closed circuit.', 'reference_answer': 'Terminal 1 and the positive terminal are separated by the gap', 'assessment': 'contradictory'}) (input_keys={'student_answer', 'reference_answer', 'question'}),\n",
       " Example({'question': 'Explain why you got a voltage reading of 1.5 for terminal 1 and the positive terminal.', 'student_answer': 'terminal 1 is connected to the 1.5 volt battery.', 'reference_answer': 'Terminal 1 and the positive terminal are separated by the gap', 'assessment': 'contradictory'}) (input_keys={'student_answer', 'reference_answer', 'question'}),\n",
       " Example({'question': 'Explain why you got a voltage reading of 1.5 for terminal 1 and the positive terminal.', 'student_answer': 'i dont know.', 'reference_answer': 'Terminal 1 and the positive terminal are separated by the gap', 'assessment': 'non_domain'}) (input_keys={'student_answer', 'reference_answer', 'question'}),\n",
       " Example({'question': 'Explain why you got a voltage reading of 1.5 for terminal 1 and the positive terminal.', 'student_answer': 'because terminal 1 and the neavtive terminal are seperated.', 'reference_answer': 'Terminal 1 and the positive terminal are separated by the gap', 'assessment': 'contradictory'}) (input_keys={'student_answer', 'reference_answer', 'question'}),\n",
       " Example({'question': 'Explain why you got a voltage reading of 1.5 for terminal 1 and the positive terminal.', 'student_answer': 'they created a circut', 'reference_answer': 'Terminal 1 and the positive terminal are separated by the gap', 'assessment': 'contradictory'}) (input_keys={'student_answer', 'reference_answer', 'question'}),\n",
       " Example({'question': 'Explain why you got a voltage reading of 1.5 for terminal 1 and the positive terminal.', 'student_answer': 'the posotive battery and terminal 1 created a circut', 'reference_answer': 'Terminal 1 and the positive terminal are separated by the gap', 'assessment': 'contradictory'}) (input_keys={'student_answer', 'reference_answer', 'question'}),\n",
       " Example({'question': 'Explain why you got a voltage reading of 1.5 for terminal 1 and the positive terminal.', 'student_answer': 'there was no gap in the circut', 'reference_answer': 'Terminal 1 and the positive terminal are separated by the gap', 'assessment': 'contradictory'}) (input_keys={'student_answer', 'reference_answer', 'question'}),\n",
       " Example({'question': 'Explain why you got a voltage reading of 1.5 for terminal 1 and the positive terminal.', 'student_answer': 'because of the gap that bulb B created', 'reference_answer': 'Terminal 1 and the positive terminal are separated by the gap', 'assessment': 'partially_correct_incomplete'}) (input_keys={'student_answer', 'reference_answer', 'question'}),\n",
       " Example({'question': 'Explain why you got a voltage reading of 1.5 for terminal 1 and the positive terminal.', 'student_answer': 'the positive and the negative sides of the battery are separated by the gap', 'reference_answer': 'Terminal 1 and the positive terminal are separated by the gap', 'assessment': 'correct'}) (input_keys={'student_answer', 'reference_answer', 'question'}),\n",
       " Example({'question': 'Explain why you got a voltage reading of 1.5 for terminal 1 and the positive terminal.', 'student_answer': 'because positive charge is before gap', 'reference_answer': 'Terminal 1 and the positive terminal are separated by the gap', 'assessment': 'contradictory'}) (input_keys={'student_answer', 'reference_answer', 'question'}),\n",
       " Example({'question': 'Explain why you got a voltage reading of 1.5 for terminal 1 and the positive terminal.', 'student_answer': 'positive before gap', 'reference_answer': 'Terminal 1 and the positive terminal are separated by the gap', 'assessment': 'contradictory'}) (input_keys={'student_answer', 'reference_answer', 'question'}),\n",
       " Example({'question': 'Explain why you got a voltage reading of 1.5 for terminal 1 and the positive terminal.', 'student_answer': 'positive connects to negative', 'reference_answer': 'Terminal 1 and the positive terminal are separated by the gap', 'assessment': 'contradictory'}) (input_keys={'student_answer', 'reference_answer', 'question'}),\n",
       " Example({'question': 'Explain why you got a voltage reading of 1.5 for terminal 1 and the positive terminal.', 'student_answer': 'terminal negative', 'reference_answer': 'Terminal 1 and the positive terminal are separated by the gap', 'assessment': 'contradictory'}) (input_keys={'student_answer', 'reference_answer', 'question'}),\n",
       " Example({'question': 'Explain why you got a voltage reading of 1.5 for terminal 1 and the positive terminal.', 'student_answer': 'terminal 1 is connected to the positive terminal', 'reference_answer': 'Terminal 1 and the positive terminal are separated by the gap', 'assessment': 'contradictory'}) (input_keys={'student_answer', 'reference_answer', 'question'}),\n",
       " Example({'question': 'Explain why you got a voltage reading of 1.5 for terminal 1 and the positive terminal.', 'student_answer': 'terminal 1 is not connected to the positive terminal', 'reference_answer': 'Terminal 1 and the positive terminal are separated by the gap', 'assessment': 'correct'}) (input_keys={'student_answer', 'reference_answer', 'question'}),\n",
       " Example({'question': 'Explain why you got a voltage reading of 1.5 for terminal 1 and the positive terminal.', 'student_answer': 'I don\"t know, actually.', 'reference_answer': 'Terminal 1 and the positive terminal are separated by the gap', 'assessment': 'non_domain'}) (input_keys={'student_answer', 'reference_answer', 'question'}),\n",
       " Example({'question': 'Explain why you got a voltage reading of 1.5 for terminal 1 and the positive terminal.', 'student_answer': 'because the gap does not affect the posistive terminal', 'reference_answer': 'Terminal 1 and the positive terminal are separated by the gap', 'assessment': 'contradictory'}) (input_keys={'student_answer', 'reference_answer', 'question'}),\n",
       " Example({'question': 'Explain why you got a voltage reading of 1.5 for terminal 1 and the positive terminal.', 'student_answer': 'because there is no gap between the terminals', 'reference_answer': 'Terminal 1 and the positive terminal are separated by the gap', 'assessment': 'contradictory'}) (input_keys={'student_answer', 'reference_answer', 'question'}),\n",
       " Example({'question': 'Explain why you got a voltage reading of 1.5 for terminal 1 and the positive terminal.', 'student_answer': 'the gap', 'reference_answer': 'Terminal 1 and the positive terminal are separated by the gap', 'assessment': 'partially_correct_incomplete'}) (input_keys={'student_answer', 'reference_answer', 'question'}),\n",
       " Example({'question': 'Explain why you got a voltage reading of 1.5 for terminal 1 and the positive terminal.', 'student_answer': 'The posititve terminal is not damaged.', 'reference_answer': 'Terminal 1 and the positive terminal are separated by the gap', 'assessment': 'contradictory'}) (input_keys={'student_answer', 'reference_answer', 'question'}),\n",
       " Example({'question': 'Explain why you got a voltage reading of 1.5 for terminal 1 and the positive terminal.', 'student_answer': 'because they are flipped', 'reference_answer': 'Terminal 1 and the positive terminal are separated by the gap', 'assessment': 'contradictory'}) (input_keys={'student_answer', 'reference_answer', 'question'}),\n",
       " Example({'question': 'Explain why you got a voltage reading of 1.5 for terminal 1 and the positive terminal.', 'student_answer': 'Because it was connected to the positive side.', 'reference_answer': 'Terminal 1 and the positive terminal are separated by the gap', 'assessment': 'contradictory'}) (input_keys={'student_answer', 'reference_answer', 'question'}),\n",
       " Example({'question': 'Explain why you got a voltage reading of 1.5 for terminal 1 and the positive terminal.', 'student_answer': 'They are different electrical states', 'reference_answer': 'Terminal 1 and the positive terminal are separated by the gap', 'assessment': 'partially_correct_incomplete'}) (input_keys={'student_answer', 'reference_answer', 'question'}),\n",
       " Example({'question': 'Explain why you got a voltage reading of 1.5 for terminal 1 and the positive terminal.', 'student_answer': 'The electrical state at the terminal matches the battery\"s electrical state', 'reference_answer': 'Terminal 1 and the positive terminal are separated by the gap', 'assessment': 'contradictory'}) (input_keys={'student_answer', 'reference_answer', 'question'}),\n",
       " Example({'question': 'Explain why you got a voltage reading of 1.5 for terminal 1 and the positive terminal.', 'student_answer': 'because the voltage meter was connected to a positive and negative side', 'reference_answer': 'Terminal 1 and the positive terminal are separated by the gap', 'assessment': 'contradictory'}) (input_keys={'student_answer', 'reference_answer', 'question'}),\n",
       " Example({'question': 'Explain why you got a voltage reading of 1.5 for terminal 1 and the positive terminal.', 'student_answer': 'Because it was not connect to the negative end of the terminal', 'reference_answer': 'Terminal 1 and the positive terminal are separated by the gap', 'assessment': 'contradictory'}) (input_keys={'student_answer', 'reference_answer', 'question'}),\n",
       " Example({'question': 'Explain why you got a voltage reading of 1.5 for terminal 1 and the positive terminal.', 'student_answer': 'because voltage measures the difference between two points', 'reference_answer': 'Terminal 1 and the positive terminal are separated by the gap', 'assessment': 'irrelevant'}) (input_keys={'student_answer', 'reference_answer', 'question'}),\n",
       " Example({'question': 'Explain why you got a voltage reading of 1.5 for terminal 1 and the positive terminal.', 'student_answer': 'I do not know.', 'reference_answer': 'Terminal 1 and the positive terminal are separated by the gap', 'assessment': 'non_domain'}) (input_keys={'student_answer', 'reference_answer', 'question'}),\n",
       " Example({'question': 'Explain why you got a voltage reading of 1.5 for terminal 1 and the positive terminal.', 'student_answer': 'not sure', 'reference_answer': 'Terminal 1 and the positive terminal are separated by the gap', 'assessment': 'non_domain'}) (input_keys={'student_answer', 'reference_answer', 'question'}),\n",
       " Example({'question': 'Explain why you got a voltage reading of 1.5 for terminal 1 and the positive terminal.', 'student_answer': 'it was connected to the positive terminal', 'reference_answer': 'Terminal 1 and the positive terminal are separated by the gap', 'assessment': 'contradictory'}) (input_keys={'student_answer', 'reference_answer', 'question'}),\n",
       " Example({'question': 'Explain why you got a voltage reading of 1.5 for terminal 1 and the positive terminal.', 'student_answer': 'The difference between the electrical states is 1.5 volts', 'reference_answer': 'Terminal 1 and the positive terminal are separated by the gap', 'assessment': 'irrelevant'}) (input_keys={'student_answer', 'reference_answer', 'question'}),\n",
       " Example({'question': 'Explain why you got a voltage reading of 1.5 for terminal 1 and the positive terminal.', 'student_answer': 'because there was a closed circuit', 'reference_answer': 'Terminal 1 and the positive terminal are separated by the gap', 'assessment': 'contradictory'}) (input_keys={'student_answer', 'reference_answer', 'question'}),\n",
       " Example({'question': 'Explain why you got a voltage reading of 1.5 for terminal 1 and the positive terminal.', 'student_answer': 'Because the positive terminal is in a closed path.', 'reference_answer': 'Terminal 1 and the positive terminal are separated by the gap', 'assessment': 'contradictory'}) (input_keys={'student_answer', 'reference_answer', 'question'}),\n",
       " Example({'question': 'Explain why you got a voltage reading of 1.5 for terminal 1 and the positive terminal.', 'student_answer': 'it is connected to the positive terminal', 'reference_answer': 'Terminal 1 and the positive terminal are separated by the gap', 'assessment': 'contradictory'}) (input_keys={'student_answer', 'reference_answer', 'question'}),\n",
       " Example({'question': 'Explain why you got a voltage reading of 1.5 for terminal 1 and the positive terminal.', 'student_answer': 'terminal one is connected to a positive battery terminal', 'reference_answer': 'Terminal 1 and the positive terminal are separated by the gap', 'assessment': 'contradictory'}) (input_keys={'student_answer', 'reference_answer', 'question'}),\n",
       " Example({'question': 'Explain why you got a voltage reading of 1.5 for terminal 1 and the positive terminal.', 'student_answer': 'Because it was attached to the postive terminal!', 'reference_answer': 'Terminal 1 and the positive terminal are separated by the gap', 'assessment': 'contradictory'}) (input_keys={'student_answer', 'reference_answer', 'question'}),\n",
       " Example({'question': 'Explain why you got a voltage reading of 1.5 for terminal 1 and the positive terminal.', 'student_answer': 'terminal 1 is connected to the negative battery terminal', 'reference_answer': 'Terminal 1 and the positive terminal are separated by the gap', 'assessment': 'correct'}) (input_keys={'student_answer', 'reference_answer', 'question'}),\n",
       " Example({'question': 'Explain why you got a voltage reading of 1.5 for terminal 1 and the positive terminal.', 'student_answer': 'Different states', 'reference_answer': 'Terminal 1 and the positive terminal are separated by the gap', 'assessment': 'partially_correct_incomplete'}) (input_keys={'student_answer', 'reference_answer', 'question'}),\n",
       " Example({'question': 'Explain why you got a voltage reading of 1.5 for terminal 1 and the positive terminal.', 'student_answer': 'there is a difference of 1.5 volts between terminal 1 and the positive terminal', 'reference_answer': 'Terminal 1 and the positive terminal are separated by the gap', 'assessment': 'partially_correct_incomplete'}) (input_keys={'student_answer', 'reference_answer', 'question'}),\n",
       " Example({'question': 'Explain why you got a voltage reading of 1.5 for terminal 1 and the positive terminal.', 'student_answer': 'terminal 1 and the positive terminal are connected.', 'reference_answer': 'Terminal 1 and the positive terminal are separated by the gap', 'assessment': 'contradictory'}) (input_keys={'student_answer', 'reference_answer', 'question'}),\n",
       " Example({'question': 'Explain why you got a voltage reading of 1.5 for terminal 1 and the positive terminal.', 'student_answer': 'because terminal 1 is connected to the negative terminal which has a 1.5 volt difference with the positive terminal', 'reference_answer': 'Terminal 1 and the positive terminal are separated by the gap', 'assessment': 'correct'}) (input_keys={'student_answer', 'reference_answer', 'question'}),\n",
       " Example({'question': 'Explain why you got a voltage reading of 1.5 for terminal 1 and the positive terminal.', 'student_answer': 'Because the meter was hooked up to two sides of the battery.', 'reference_answer': 'Terminal 1 and the positive terminal are separated by the gap', 'assessment': 'contradictory'}) (input_keys={'student_answer', 'reference_answer', 'question'}),\n",
       " Example({'question': 'Explain why you got a voltage reading of 1.5 for terminal 1 and the positive terminal.', 'student_answer': 'Terminal 1 is connected to the negative battery terminal and is in a different state than the positive battery terminal.', 'reference_answer': 'Terminal 1 and the positive terminal are separated by the gap', 'assessment': 'correct'}) (input_keys={'student_answer', 'reference_answer', 'question'}),\n",
       " Example({'question': 'Explain why you got a voltage reading of 1.5 for terminal 1 and the positive terminal.', 'student_answer': 'because terminal 1 had both a positive and negative charge.', 'reference_answer': 'Terminal 1 and the positive terminal are separated by the gap', 'assessment': 'contradictory'}) (input_keys={'student_answer', 'reference_answer', 'question'}),\n",
       " Example({'question': 'Explain why you got a voltage reading of 1.5 for terminal 1 and the positive terminal.', 'student_answer': 'I\"m not sure', 'reference_answer': 'Terminal 1 and the positive terminal are separated by the gap', 'assessment': 'non_domain'}) (input_keys={'student_answer', 'reference_answer', 'question'}),\n",
       " Example({'question': 'Explain why you got a voltage reading of 1.5 for terminal 1 and the positive terminal.', 'student_answer': 'Because the positive circuit has a voltage of 1.5 volts.', 'reference_answer': 'Terminal 1 and the positive terminal are separated by the gap', 'assessment': 'contradictory'}) (input_keys={'student_answer', 'reference_answer', 'question'}),\n",
       " Example({'question': 'Explain why you got a voltage reading of 1.5 for terminal 1 and the positive terminal.', 'student_answer': 'Postive terminal is not connected to 1.', 'reference_answer': 'Terminal 1 and the positive terminal are separated by the gap', 'assessment': 'correct'}) (input_keys={'student_answer', 'reference_answer', 'question'}),\n",
       " Example({'question': 'Explain why you got a voltage reading of 1.5 for terminal 1 and the positive terminal.', 'student_answer': 'Because terminal 1 was hooked u to the positive terminal which is automatically 1.5 V', 'reference_answer': 'Terminal 1 and the positive terminal are separated by the gap', 'assessment': 'contradictory'}) (input_keys={'student_answer', 'reference_answer', 'question'}),\n",
       " Example({'question': 'Explain why you got a voltage reading of 1.5 for terminal 1 and the positive terminal.', 'student_answer': 'terminal 1 is not connected to the positive battery terminal', 'reference_answer': 'Terminal 1 and the positive terminal are separated by the gap', 'assessment': 'correct'}) (input_keys={'student_answer', 'reference_answer', 'question'}),\n",
       " Example({'question': 'Explain why you got a voltage reading of 1.5 for terminal 1 and the positive terminal.', 'student_answer': 'because they are connected to opposite terminals', 'reference_answer': 'Terminal 1 and the positive terminal are not connected', 'assessment': 'correct'}) (input_keys={'student_answer', 'reference_answer', 'question'}),\n",
       " Example({'question': 'Explain why you got a voltage reading of 1.5 for terminal 1 and the positive terminal.', 'student_answer': 'beacuse terminal 1 is connected to the negative terminal and the battery is connected at the positive terminal', 'reference_answer': 'Terminal 1 and the positive terminal are not connected', 'assessment': 'correct'}) (input_keys={'student_answer', 'reference_answer', 'question'}),\n",
       " Example({'question': 'Explain why you got a voltage reading of 1.5 for terminal 1 and the positive terminal.', 'student_answer': 'because there is a gap', 'reference_answer': 'Terminal 1 and the positive terminal are not connected', 'assessment': 'partially_correct_incomplete'}) (input_keys={'student_answer', 'reference_answer', 'question'}),\n",
       " Example({'question': 'Explain why you got a voltage reading of 1.5 for terminal 1 and the positive terminal.', 'student_answer': 'i do not know', 'reference_answer': 'Terminal 1 and the positive terminal are not connected', 'assessment': 'non_domain'}) (input_keys={'student_answer', 'reference_answer', 'question'}),\n",
       " Example({'question': 'Explain why you got a voltage reading of 1.5 for terminal 1 and the positive terminal.', 'student_answer': 'because it is not connected to the negative terminal', 'reference_answer': 'Terminal 1 and the positive terminal are not connected', 'assessment': 'contradictory'}) (input_keys={'student_answer', 'reference_answer', 'question'}),\n",
       " Example({'question': 'Explain why you got a voltage reading of 1.5 for terminal 1 and the positive terminal.', 'student_answer': 'because it is connected to the positive terminal', 'reference_answer': 'Terminal 1 and the positive terminal are not connected', 'assessment': 'contradictory'}) (input_keys={'student_answer', 'reference_answer', 'question'}),\n",
       " Example({'question': 'Explain why you got a voltage reading of 1.5 for terminal 1 and the positive terminal.', 'student_answer': 'because there is no gap between terminal 1 and the positive terminal', 'reference_answer': 'Terminal 1 and the positive terminal are not connected', 'assessment': 'contradictory'}) (input_keys={'student_answer', 'reference_answer', 'question'}),\n",
       " Example({'question': 'Explain why you got a voltage reading of 1.5 for terminal 1 and the positive terminal.', 'student_answer': 'Because terminal 1 is connected to the positive terminal with no gaps', 'reference_answer': 'Terminal 1 and the positive terminal are not connected', 'assessment': 'contradictory'}) (input_keys={'student_answer', 'reference_answer', 'question'}),\n",
       " Example({'question': 'Explain why you got a voltage reading of 1.5 for terminal 1 and the positive terminal.', 'student_answer': 'It was a mistake. I looked at it wrong.', 'reference_answer': 'Terminal 1 and the positive terminal are not connected', 'assessment': 'non_domain'}) (input_keys={'student_answer', 'reference_answer', 'question'}),\n",
       " Example({'question': 'Explain why you got a voltage reading of 1.5 for terminal 1 and the positive terminal.', 'student_answer': 'We switched the terminals around.', 'reference_answer': 'Terminal 1 and the positive terminal are not connected', 'assessment': 'contradictory'}) (input_keys={'student_answer', 'reference_answer', 'question'}),\n",
       " Example({'question': 'Explain why you got a voltage reading of 1.5 for terminal 1 and the positive terminal.', 'student_answer': 'There was a gap in b. The measurement between the positive battery terminal and terminal 1 was 1.5v.', 'reference_answer': 'Terminal 1 and the positive terminal are not connected', 'assessment': 'partially_correct_incomplete'}) (input_keys={'student_answer', 'reference_answer', 'question'}),\n",
       " Example({'question': 'Explain why you got a voltage reading of 1.5 for terminal 1 and the positive terminal.', 'student_answer': 'The path is not closed. The distance between the positive battery terminal and terminal a is 1.5v.', 'reference_answer': 'Terminal 1 and the positive terminal are not connected', 'assessment': 'contradictory'}) (input_keys={'student_answer', 'reference_answer', 'question'}),\n",
       " Example({'question': 'Explain why you got a voltage reading of 1.5 for terminal 1 and the positive terminal.', 'student_answer': 'terminal 1 was connected to the positive terminal of the battery', 'reference_answer': 'Terminal 1 and the positive terminal are not connected', 'assessment': 'contradictory'}) (input_keys={'student_answer', 'reference_answer', 'question'}),\n",
       " Example({'question': 'Explain why you got a voltage reading of 1.5 for terminal 1 and the positive terminal.', 'student_answer': 'because it was connected to the positive terminal', 'reference_answer': 'Terminal 1 and the positive terminal are not connected', 'assessment': 'contradictory'}) (input_keys={'student_answer', 'reference_answer', 'question'}),\n",
       " Example({'question': 'Explain why you got a voltage reading of 1.5 for terminal 1 and the positive terminal.', 'student_answer': 'because there was no gap from the positive terminal of the battery', 'reference_answer': 'Terminal 1 and the positive terminal are not connected', 'assessment': 'contradictory'}) (input_keys={'student_answer', 'reference_answer', 'question'}),\n",
       " Example({'question': 'Explain why you got a voltage reading of 1.5 for terminal 1 and the positive terminal.', 'student_answer': 'because 1.5 v minus 0 v equals 1.5 v', 'reference_answer': 'Terminal 1 and the positive terminal are not connected', 'assessment': 'irrelevant'}) (input_keys={'student_answer', 'reference_answer', 'question'}),\n",
       " Example({'question': 'Explain why you got a voltage reading of 1.5 for terminal 1 and the positive terminal.', 'student_answer': 'the voltage is the difference between the electrical state of the terminals.', 'reference_answer': 'Terminal 1 and the positive terminal are not connected', 'assessment': 'partially_correct_incomplete'}) (input_keys={'student_answer', 'reference_answer', 'question'}),\n",
       " Example({'question': 'Explain why you got a voltage reading of 1.5 for terminal 1 and the positive terminal.', 'student_answer': 'terminal 1 is connected to the negative terminal of the battery and has 0 v, and the positive terminal of the battery has 1.5 v.', 'reference_answer': 'Terminal 1 and the positive terminal are not connected', 'assessment': 'contradictory'}) (input_keys={'student_answer', 'reference_answer', 'question'}),\n",
       " Example({'question': 'Explain why you got a voltage reading of 1.5 for terminal 1 and the positive terminal.', 'student_answer': 'Because the Meter read the difference in volts between the positive battery terminal and terminal 1 which has a negative charge', 'reference_answer': 'Terminal 1 and the positive terminal are not connected', 'assessment': 'partially_correct_incomplete'}) (input_keys={'student_answer', 'reference_answer', 'question'}),\n",
       " Example({'question': 'Explain why you got a voltage reading of 1.5 for terminal 1 and the positive terminal.', 'student_answer': 'Meter read the difference in volts between the positive battery terminal and terminal 1 which is connected to the negative battery terminal', 'reference_answer': 'Terminal 1 and the positive terminal are not connected', 'assessment': 'partially_correct_incomplete'}) (input_keys={'student_answer', 'reference_answer', 'question'}),\n",
       " Example({'question': 'Explain why you got a voltage reading of 1.5 for terminal 1 and the positive terminal.', 'student_answer': 'The gap causes terminal 1 to have a negative battery characteristic which is different compared  to the positive battery terminal', 'reference_answer': 'Terminal 1 and the positive terminal are not connected', 'assessment': 'correct'}) (input_keys={'student_answer', 'reference_answer', 'question'}),\n",
       " Example({'question': 'Explain why you got a voltage reading of 1.5 for terminal 1 and the positive terminal.', 'student_answer': 'Bulb terminals 3 and 4', 'reference_answer': 'Terminal 1 and the positive terminal are not connected', 'assessment': 'contradictory'}) (input_keys={'student_answer', 'reference_answer', 'question'}),\n",
       " Example({'question': 'Explain why you got a voltage reading of 1.5 for terminal 1 and the positive terminal.', 'student_answer': 'i don\"t know.', 'reference_answer': 'Terminal 1 and the positive terminal are not connected', 'assessment': 'non_domain'}) (input_keys={'student_answer', 'reference_answer', 'question'}),\n",
       " Example({'question': 'Explain why you got a voltage reading of 1.5 for terminal 1 and the positive terminal.', 'student_answer': 'there was no gap between the circuit.', 'reference_answer': 'Terminal 1 and the positive terminal are not connected', 'assessment': 'contradictory'}) (input_keys={'student_answer', 'reference_answer', 'question'}),\n",
       " Example({'question': 'Explain why you got a voltage reading of 1.5 for terminal 1 and the positive terminal.', 'student_answer': 'there was no gap between terminal 1 and the positive battery terminal.', 'reference_answer': 'Terminal 1 and the positive terminal are not connected', 'assessment': 'contradictory'}) (input_keys={'student_answer', 'reference_answer', 'question'}),\n",
       " Example({'question': 'Explain why you got a voltage reading of 1.5 for terminal 1 and the positive terminal.', 'student_answer': 'there was no gap between terminal 1 and the negative battery terminal.', 'reference_answer': 'Terminal 1 and the positive terminal are not connected', 'assessment': 'correct'}) (input_keys={'student_answer', 'reference_answer', 'question'}),\n",
       " Example({'question': 'Explain why you got a voltage reading of 1.5 for terminal 1 and the positive terminal.', 'student_answer': 'Because there was no gap.', 'reference_answer': 'Terminal 1 and the positive terminal are not connected', 'assessment': 'contradictory'}) (input_keys={'student_answer', 'reference_answer', 'question'}),\n",
       " Example({'question': 'Explain why you got a voltage reading of 1.5 for terminal 1 and the positive terminal.', 'student_answer': 'because it was connected to the positive terminal.', 'reference_answer': 'Terminal 1 and the positive terminal are not connected', 'assessment': 'contradictory'}) (input_keys={'student_answer', 'reference_answer', 'question'}),\n",
       " Example({'question': 'Explain why you got a voltage reading of 1.5 for terminal 1 and the positive terminal.', 'student_answer': 'Because terminal 1 had no gap.', 'reference_answer': 'Terminal 1 and the positive terminal are not connected', 'assessment': 'contradictory'}) (input_keys={'student_answer', 'reference_answer', 'question'}),\n",
       " Example({'question': 'Explain why you got a voltage reading of 1.5 for terminal 1 and the positive terminal.', 'student_answer': 'Because terminal 1 is seperated from the positive battery terminal.', 'reference_answer': 'Terminal 1 and the positive terminal are not connected', 'assessment': 'correct'}) (input_keys={'student_answer', 'reference_answer', 'question'}),\n",
       " Example({'question': 'Explain why you got a voltage reading of 1.5 for terminal 1 and the positive terminal.', 'student_answer': 'because they were connected to the positive terminal', 'reference_answer': 'Terminal 1 and the positive terminal are not connected', 'assessment': 'contradictory'}) (input_keys={'student_answer', 'reference_answer', 'question'}),\n",
       " Example({'question': 'Explain why you got a voltage reading of 1.5 for terminal 1 and the positive terminal.', 'student_answer': 'because there is a gap between terminal 3 and 4', 'reference_answer': 'Terminal 1 and the positive terminal are not connected', 'assessment': 'partially_correct_incomplete'}) (input_keys={'student_answer', 'reference_answer', 'question'}),\n",
       " Example({'question': 'Explain why you got a voltage reading of 1.5 for terminal 1 and the positive terminal.', 'student_answer': 'there wasnt a gap', 'reference_answer': 'Terminal 1 and the positive terminal are not connected', 'assessment': 'contradictory'}) (input_keys={'student_answer', 'reference_answer', 'question'}),\n",
       " Example({'question': 'Explain why you got a voltage reading of 1.5 for terminal 1 and the positive terminal.', 'student_answer': 'the voltage doesnt change', 'reference_answer': 'Terminal 1 and the positive terminal are not connected', 'assessment': 'contradictory'}) (input_keys={'student_answer', 'reference_answer', 'question'}),\n",
       " Example({'question': 'Explain why you got a voltage reading of 1.5 for terminal 1 and the positive terminal.', 'student_answer': 'the gap is open', 'reference_answer': 'Terminal 1 and the positive terminal are not connected', 'assessment': 'contradictory'}) (input_keys={'student_answer', 'reference_answer', 'question'}),\n",
       " Example({'question': 'Explain why you got a voltage reading of 1.5 for terminal 1 and the positive terminal.', 'student_answer': 'the paths are seperated', 'reference_answer': 'Terminal 1 and the positive terminal are not connected', 'assessment': 'contradictory'}) (input_keys={'student_answer', 'reference_answer', 'question'}),\n",
       " Example({'question': 'Explain why you got a voltage reading of 1.5 for terminal 1 and the positive terminal.', 'student_answer': 'the terminal was connected to the positive battery', 'reference_answer': 'Terminal 1 and the positive terminal are not connected', 'assessment': 'contradictory'}) (input_keys={'student_answer', 'reference_answer', 'question'}),\n",
       " Example({'question': 'Explain why you got a voltage reading of 1.5 for terminal 1 and the positive terminal.', 'student_answer': 'the terminals were connected to the positive terminals of the battery', 'reference_answer': 'Terminal 1 and the positive terminal are not connected', 'assessment': 'contradictory'}) (input_keys={'student_answer', 'reference_answer', 'question'}),\n",
       " Example({'question': 'Explain why you got a voltage reading of 1.5 for terminal 1 and the positive terminal.', 'student_answer': 'there is no gap between the terminals', 'reference_answer': 'Terminal 1 and the positive terminal are not connected', 'assessment': 'contradictory'}) (input_keys={'student_answer', 'reference_answer', 'question'}),\n",
       " Example({'question': 'Explain why you got a voltage reading of 1.5 for terminal 1 and the positive terminal.', 'student_answer': 'Terminal 1 is connected to the negative terminal.', 'reference_answer': 'Terminal 1 and the positive terminal are not connected', 'assessment': 'correct'}) (input_keys={'student_answer', 'reference_answer', 'question'}),\n",
       " Example({'question': 'Explain why you got a voltage reading of 1.5 for terminal 1 and the positive terminal.', 'student_answer': 'i dont know', 'reference_answer': 'Terminal 1 and the positive terminal are not connected', 'assessment': 'non_domain'}) (input_keys={'student_answer', 'reference_answer', 'question'}),\n",
       " Example({'question': 'Explain why you got a voltage reading of 1.5 for terminal 1 and the positive terminal.', 'student_answer': 'there was a gap in bulb B', 'reference_answer': 'Terminal 1 and the positive terminal are not connected', 'assessment': 'partially_correct_incomplete'}) (input_keys={'student_answer', 'reference_answer', 'question'}),\n",
       " Example({'question': 'Explain why you got a voltage reading of 1.5 for terminal 1 and the positive terminal.', 'student_answer': 'circuit was complete until gap', 'reference_answer': 'Terminal 1 and the positive terminal are not connected', 'assessment': 'partially_correct_incomplete'}) (input_keys={'student_answer', 'reference_answer', 'question'}),\n",
       " Example({'question': 'Explain why you got a voltage reading of 1.5 for terminal 1 and the positive terminal.', 'student_answer': 'gap', 'reference_answer': 'Terminal 1 and the positive terminal are not connected', 'assessment': 'partially_correct_incomplete'}) (input_keys={'student_answer', 'reference_answer', 'question'}),\n",
       " Example({'question': 'Explain why you got a voltage reading of 1.5 for terminal 1 and the positive terminal.', 'student_answer': 'gap, battery and electricity', 'reference_answer': 'Terminal 1 and the positive terminal are not connected', 'assessment': 'contradictory'}) (input_keys={'student_answer', 'reference_answer', 'question'}),\n",
       " Example({'question': 'Explain why you got a voltage reading of 1.5 for terminal 1 and the positive terminal.', 'student_answer': 'there was no gap', 'reference_answer': 'Terminal 1 and the positive terminal are not connected', 'assessment': 'contradictory'}) (input_keys={'student_answer', 'reference_answer', 'question'}),\n",
       " Example({'question': 'Explain why you got a voltage reading of 1.5 for terminal 1 and the positive terminal.', 'student_answer': 'they are in a closed circuit', 'reference_answer': 'Terminal 1 and the positive terminal are not connected', 'assessment': 'contradictory'}) (input_keys={'student_answer', 'reference_answer', 'question'}),\n",
       " Example({'question': 'Explain why you got a voltage reading of 1.5 for terminal 1 and the positive terminal.', 'student_answer': 'there is no gap', 'reference_answer': 'Terminal 1 and the positive terminal are not connected', 'assessment': 'contradictory'}) (input_keys={'student_answer', 'reference_answer', 'question'}),\n",
       " Example({'question': 'Explain why you got a voltage reading of 1.5 for terminal 1 and the positive terminal.', 'student_answer': 'i don\"t know', 'reference_answer': 'Terminal 1 and the positive terminal are not connected', 'assessment': 'non_domain'}) (input_keys={'student_answer', 'reference_answer', 'question'}),\n",
       " Example({'question': 'Explain why you got a voltage reading of 1.5 for terminal 1 and the positive terminal.', 'student_answer': 'there is a gap in the path', 'reference_answer': 'Terminal 1 and the positive terminal are not connected', 'assessment': 'partially_correct_incomplete'}) (input_keys={'student_answer', 'reference_answer', 'question'}),\n",
       " Example({'question': 'Explain why you got a voltage reading of 1.5 for terminal 1 and the positive terminal.', 'student_answer': 'there is no gap in the path', 'reference_answer': 'Terminal 1 and the positive terminal are not connected', 'assessment': 'contradictory'}) (input_keys={'student_answer', 'reference_answer', 'question'}),\n",
       " Example({'question': 'Explain why you got a voltage reading of 1.5 for terminal 1 and the positive terminal.', 'student_answer': 'there is a gap in the circuit', 'reference_answer': 'Terminal 1 and the positive terminal are not connected', 'assessment': 'partially_correct_incomplete'}) (input_keys={'student_answer', 'reference_answer', 'question'}),\n",
       " Example({'question': 'Explain why you got a voltage reading of 1.5 for terminal 1 and the positive terminal.', 'student_answer': 'don\"t know', 'reference_answer': 'Terminal 1 and the positive terminal are not connected', 'assessment': 'non_domain'}) (input_keys={'student_answer', 'reference_answer', 'question'}),\n",
       " Example({'question': 'Explain why you got a voltage reading of 1.5 for terminal 1 and the positive terminal.', 'student_answer': 'there is no gapp between the positive terminal and terminal 1.', 'reference_answer': 'Terminal 1 and the positive terminal are not connected', 'assessment': 'contradictory'}) (input_keys={'student_answer', 'reference_answer', 'question'}),\n",
       " Example({'question': 'Explain why you got a voltage reading of 1.5 for terminal 1 and the positive terminal.', 'student_answer': 'there is no gap between terminal 1 and the positive terminal.', 'reference_answer': 'Terminal 1 and the positive terminal are not connected', 'assessment': 'contradictory'}) (input_keys={'student_answer', 'reference_answer', 'question'}),\n",
       " Example({'question': 'Explain why you got a voltage reading of 1.5 for terminal 1 and the positive terminal.', 'student_answer': 'It was connected to the positive terminal.', 'reference_answer': 'Terminal 1 and the positive terminal are not connected', 'assessment': 'contradictory'}) (input_keys={'student_answer', 'reference_answer', 'question'}),\n",
       " Example({'question': 'Explain why you got a voltage reading of 1.5 for terminal 1 and the positive terminal.', 'student_answer': 'Terminal 1 was connected to the positive terminal.', 'reference_answer': 'Terminal 1 and the positive terminal are not connected', 'assessment': 'contradictory'}) (input_keys={'student_answer', 'reference_answer', 'question'}),\n",
       " Example({'question': 'Explain why you got a voltage reading of 1.5 for terminal 1 and the positive terminal.', 'student_answer': 'Terminal 1 was not connected to the negative terminal.', 'reference_answer': 'Terminal 1 and the positive terminal are not connected', 'assessment': 'contradictory'}) (input_keys={'student_answer', 'reference_answer', 'question'}),\n",
       " Example({'question': 'Explain why you got a voltage reading of 1.5 for terminal 1 and the positive terminal.', 'student_answer': 'fjdajf', 'reference_answer': 'Terminal 1 and the positive terminal are not connected', 'assessment': 'non_domain'}) (input_keys={'student_answer', 'reference_answer', 'question'}),\n",
       " Example({'question': 'Explain why you got a voltage reading of 1.5 for terminal 1 and the positive terminal.', 'student_answer': 'terminal one is connected to the negative battery terminal', 'reference_answer': 'Terminal 1 and the positive terminal are not connected', 'assessment': 'correct'}) (input_keys={'student_answer', 'reference_answer', 'question'}),\n",
       " Example({'question': 'Explain why you got a voltage reading of 1.5 for terminal 1 and the positive terminal.', 'student_answer': 'terminal 1 was connected to the positive terminal', 'reference_answer': 'Terminal 1 and the positive terminal are not connected', 'assessment': 'contradictory'}) (input_keys={'student_answer', 'reference_answer', 'question'}),\n",
       " Example({'question': 'Explain why you got a voltage reading of 1.5 for terminal 1 and the positive terminal.', 'student_answer': 'terminal 1 was connected to the positive battery terminal', 'reference_answer': 'Terminal 1 and the positive terminal are not connected', 'assessment': 'contradictory'}) (input_keys={'student_answer', 'reference_answer', 'question'}),\n",
       " Example({'question': 'Explain why you got a voltage reading of 1.5 for terminal 1 and the positive terminal.', 'student_answer': 'whatever', 'reference_answer': 'Terminal 1 and the positive terminal are not connected', 'assessment': 'non_domain'}) (input_keys={'student_answer', 'reference_answer', 'question'}),\n",
       " Example({'question': 'Explain why you got a voltage reading of 1.5 for terminal 1 and the positive terminal.', 'student_answer': 'The positive terminal has 1.5 V', 'reference_answer': 'Terminal 1 and the positive terminal are not connected', 'assessment': 'contradictory'}) (input_keys={'student_answer', 'reference_answer', 'question'}),\n",
       " Example({'question': 'Explain why you got a voltage reading of 1.5 for terminal 1 and the positive terminal.', 'student_answer': 'There is a gap between the postive terminal and terminal 1', 'reference_answer': 'Terminal 1 and the positive terminal are not connected', 'assessment': 'correct'}) (input_keys={'student_answer', 'reference_answer', 'question'}),\n",
       " Example({'question': 'Explain why you got a voltage reading of 1.5 for terminal 1 and the positive terminal.', 'student_answer': 'Voltage is the difference between a positive and negative end on the battery.', 'reference_answer': 'Terminal 1 and the positive terminal are not connected', 'assessment': 'irrelevant'}) (input_keys={'student_answer', 'reference_answer', 'question'}),\n",
       " Example({'question': 'Explain why you got a voltage reading of 1.5 for terminal 1 and the positive terminal.', 'student_answer': 'Voltage is the difference between a positive and negative terminal on the battery.', 'reference_answer': 'Terminal 1 and the positive terminal are not connected', 'assessment': 'irrelevant'}) (input_keys={'student_answer', 'reference_answer', 'question'}),\n",
       " Example({'question': 'Explain why you got a voltage reading of 1.5 for terminal 1 and the positive terminal.', 'student_answer': 'the positive terminal', 'reference_answer': 'Terminal 1 and the positive terminal are not connected', 'assessment': 'irrelevant'}) (input_keys={'student_answer', 'reference_answer', 'question'}),\n",
       " Example({'question': 'Explain why you got a voltage reading of 1.5 for terminal 1 and the positive terminal.', 'student_answer': 'the positive terminal is connected to the bulb', 'reference_answer': 'Terminal 1 and the positive terminal are not connected', 'assessment': 'irrelevant'}) (input_keys={'student_answer', 'reference_answer', 'question'}),\n",
       " Example({'question': 'Explain why you got a voltage reading of 1.5 for terminal 1 and the positive terminal.', 'student_answer': 'because 1.5 v is the difference between the positive terminal and terminal 1', 'reference_answer': 'Terminal 1 and the positive terminal are not connected', 'assessment': 'irrelevant'}) (input_keys={'student_answer', 'reference_answer', 'question'}),\n",
       " Example({'question': 'Explain why you got a voltage reading of 1.5 for terminal 1 and the positive terminal.', 'student_answer': 'because terminal is connected to the negative terminal', 'reference_answer': 'Terminal 1 and the positive terminal are not connected', 'assessment': 'correct'}) (input_keys={'student_answer', 'reference_answer', 'question'}),\n",
       " Example({'question': 'Explain why you got a voltage reading of 1.5 for terminal 1 and the positive terminal.', 'student_answer': 'because terminal 1 is connected to the negative terminal', 'reference_answer': 'Terminal 1 and the positive terminal are not connected', 'assessment': 'correct'}) (input_keys={'student_answer', 'reference_answer', 'question'}),\n",
       " Example({'question': 'Explain why you got a voltage reading of 1.5 for terminal 1 and the positive terminal.', 'student_answer': 'The positive terminal and terminal 1 read 1.5 V because the difference across the terminals is 1.5 V', 'reference_answer': 'Terminal 1 and the positive terminal are not connected', 'assessment': 'irrelevant'}) (input_keys={'student_answer', 'reference_answer', 'question'}),\n",
       " Example({'question': 'Explain why you got a voltage reading of 1.5 for terminal 1 and the positive terminal.', 'student_answer': 'the voltage between terminal 1 and the positive terminal is 1.5 V', 'reference_answer': 'Terminal 1 and the positive terminal are not connected', 'assessment': 'irrelevant'}) (input_keys={'student_answer', 'reference_answer', 'question'}),\n",
       " Example({'question': 'Explain why you got a voltage reading of 1.5 for terminal 1 and the positive terminal.', 'student_answer': 'terminal 1 is connected to the negative terminal so the voltage reading is 1.5 V', 'reference_answer': 'Terminal 1 and the positive terminal are not connected', 'assessment': 'correct'}) (input_keys={'student_answer', 'reference_answer', 'question'}),\n",
       " Example({'question': 'Explain why you got a voltage reading of 1.5 for terminal 1 and the positive terminal.', 'student_answer': '?', 'reference_answer': 'Terminal 1 and the positive terminal are not connected', 'assessment': 'non_domain'}) (input_keys={'student_answer', 'reference_answer', 'question'}),\n",
       " Example({'question': 'Explain why you got a voltage reading of 1.5 for terminal 1 and the positive terminal.', 'student_answer': 'I  do not know', 'reference_answer': 'Terminal 1 and the positive terminal are not connected', 'assessment': 'non_domain'}) (input_keys={'student_answer', 'reference_answer', 'question'}),\n",
       " Example({'question': 'Explain why you got a voltage reading of 1.5 for terminal 1 and the positive terminal.', 'student_answer': 'There is a gap after bulb B.', 'reference_answer': 'Terminal 1 and the positive terminal are not connected', 'assessment': 'partially_correct_incomplete'}) (input_keys={'student_answer', 'reference_answer', 'question'}),\n",
       " Example({'question': 'Explain why you got a voltage reading of 1.5 for terminal 1 and the positive terminal.', 'student_answer': 'There is a gap after bulb b', 'reference_answer': 'Terminal 1 and the positive terminal are not connected', 'assessment': 'partially_correct_incomplete'}) (input_keys={'student_answer', 'reference_answer', 'question'}),\n",
       " Example({'question': 'Explain why you got a voltage reading of 1.5 for terminal 1 and the positive terminal.', 'student_answer': 'All components are in a closed circuit.', 'reference_answer': 'Terminal 1 and the positive terminal are not connected', 'assessment': 'contradictory'}) (input_keys={'student_answer', 'reference_answer', 'question'}),\n",
       " Example({'question': 'Explain why you got a voltage reading of 1.5 for terminal 1 and the positive terminal.', 'student_answer': 'terminal 1 is connected to the 1.5 volt battery.', 'reference_answer': 'Terminal 1 and the positive terminal are not connected', 'assessment': 'contradictory'}) (input_keys={'student_answer', 'reference_answer', 'question'}),\n",
       " Example({'question': 'Explain why you got a voltage reading of 1.5 for terminal 1 and the positive terminal.', 'student_answer': 'i dont know.', 'reference_answer': 'Terminal 1 and the positive terminal are not connected', 'assessment': 'non_domain'}) (input_keys={'student_answer', 'reference_answer', 'question'}),\n",
       " Example({'question': 'Explain why you got a voltage reading of 1.5 for terminal 1 and the positive terminal.', 'student_answer': 'because terminal 1 and the neavtive terminal are seperated.', 'reference_answer': 'Terminal 1 and the positive terminal are not connected', 'assessment': 'contradictory'}) (input_keys={'student_answer', 'reference_answer', 'question'}),\n",
       " Example({'question': 'Explain why you got a voltage reading of 1.5 for terminal 1 and the positive terminal.', 'student_answer': 'they created a circut', 'reference_answer': 'Terminal 1 and the positive terminal are not connected', 'assessment': 'contradictory'}) (input_keys={'student_answer', 'reference_answer', 'question'}),\n",
       " Example({'question': 'Explain why you got a voltage reading of 1.5 for terminal 1 and the positive terminal.', 'student_answer': 'the posotive battery and terminal 1 created a circut', 'reference_answer': 'Terminal 1 and the positive terminal are not connected', 'assessment': 'contradictory'}) (input_keys={'student_answer', 'reference_answer', 'question'}),\n",
       " Example({'question': 'Explain why you got a voltage reading of 1.5 for terminal 1 and the positive terminal.', 'student_answer': 'there was no gap in the circut', 'reference_answer': 'Terminal 1 and the positive terminal are not connected', 'assessment': 'contradictory'}) (input_keys={'student_answer', 'reference_answer', 'question'}),\n",
       " Example({'question': 'Explain why you got a voltage reading of 1.5 for terminal 1 and the positive terminal.', 'student_answer': 'because of the gap that bulb B created', 'reference_answer': 'Terminal 1 and the positive terminal are not connected', 'assessment': 'partially_correct_incomplete'}) (input_keys={'student_answer', 'reference_answer', 'question'}),\n",
       " Example({'question': 'Explain why you got a voltage reading of 1.5 for terminal 1 and the positive terminal.', 'student_answer': 'the positive and the negative sides of the battery are separated by the gap', 'reference_answer': 'Terminal 1 and the positive terminal are not connected', 'assessment': 'correct'}) (input_keys={'student_answer', 'reference_answer', 'question'}),\n",
       " Example({'question': 'Explain why you got a voltage reading of 1.5 for terminal 1 and the positive terminal.', 'student_answer': 'because positive charge is before gap', 'reference_answer': 'Terminal 1 and the positive terminal are not connected', 'assessment': 'contradictory'}) (input_keys={'student_answer', 'reference_answer', 'question'}),\n",
       " Example({'question': 'Explain why you got a voltage reading of 1.5 for terminal 1 and the positive terminal.', 'student_answer': 'positive before gap', 'reference_answer': 'Terminal 1 and the positive terminal are not connected', 'assessment': 'contradictory'}) (input_keys={'student_answer', 'reference_answer', 'question'}),\n",
       " Example({'question': 'Explain why you got a voltage reading of 1.5 for terminal 1 and the positive terminal.', 'student_answer': 'positive connects to negative', 'reference_answer': 'Terminal 1 and the positive terminal are not connected', 'assessment': 'contradictory'}) (input_keys={'student_answer', 'reference_answer', 'question'}),\n",
       " Example({'question': 'Explain why you got a voltage reading of 1.5 for terminal 1 and the positive terminal.', 'student_answer': 'terminal negative', 'reference_answer': 'Terminal 1 and the positive terminal are not connected', 'assessment': 'contradictory'}) (input_keys={'student_answer', 'reference_answer', 'question'}),\n",
       " Example({'question': 'Explain why you got a voltage reading of 1.5 for terminal 1 and the positive terminal.', 'student_answer': 'terminal 1 is connected to the positive terminal', 'reference_answer': 'Terminal 1 and the positive terminal are not connected', 'assessment': 'contradictory'}) (input_keys={'student_answer', 'reference_answer', 'question'}),\n",
       " Example({'question': 'Explain why you got a voltage reading of 1.5 for terminal 1 and the positive terminal.', 'student_answer': 'terminal 1 is not connected to the positive terminal', 'reference_answer': 'Terminal 1 and the positive terminal are not connected', 'assessment': 'correct'}) (input_keys={'student_answer', 'reference_answer', 'question'}),\n",
       " Example({'question': 'Explain why you got a voltage reading of 1.5 for terminal 1 and the positive terminal.', 'student_answer': 'I don\"t know, actually.', 'reference_answer': 'Terminal 1 and the positive terminal are not connected', 'assessment': 'non_domain'}) (input_keys={'student_answer', 'reference_answer', 'question'}),\n",
       " Example({'question': 'Explain why you got a voltage reading of 1.5 for terminal 1 and the positive terminal.', 'student_answer': 'because the gap does not affect the posistive terminal', 'reference_answer': 'Terminal 1 and the positive terminal are not connected', 'assessment': 'contradictory'}) (input_keys={'student_answer', 'reference_answer', 'question'}),\n",
       " Example({'question': 'Explain why you got a voltage reading of 1.5 for terminal 1 and the positive terminal.', 'student_answer': 'because there is no gap between the terminals', 'reference_answer': 'Terminal 1 and the positive terminal are not connected', 'assessment': 'contradictory'}) (input_keys={'student_answer', 'reference_answer', 'question'}),\n",
       " Example({'question': 'Explain why you got a voltage reading of 1.5 for terminal 1 and the positive terminal.', 'student_answer': 'the gap', 'reference_answer': 'Terminal 1 and the positive terminal are not connected', 'assessment': 'partially_correct_incomplete'}) (input_keys={'student_answer', 'reference_answer', 'question'}),\n",
       " Example({'question': 'Explain why you got a voltage reading of 1.5 for terminal 1 and the positive terminal.', 'student_answer': 'The posititve terminal is not damaged.', 'reference_answer': 'Terminal 1 and the positive terminal are not connected', 'assessment': 'contradictory'}) (input_keys={'student_answer', 'reference_answer', 'question'}),\n",
       " Example({'question': 'Explain why you got a voltage reading of 1.5 for terminal 1 and the positive terminal.', 'student_answer': 'because they are flipped', 'reference_answer': 'Terminal 1 and the positive terminal are not connected', 'assessment': 'contradictory'}) (input_keys={'student_answer', 'reference_answer', 'question'}),\n",
       " Example({'question': 'Explain why you got a voltage reading of 1.5 for terminal 1 and the positive terminal.', 'student_answer': 'Because it was connected to the positive side.', 'reference_answer': 'Terminal 1 and the positive terminal are not connected', 'assessment': 'contradictory'}) (input_keys={'student_answer', 'reference_answer', 'question'}),\n",
       " Example({'question': 'Explain why you got a voltage reading of 1.5 for terminal 1 and the positive terminal.', 'student_answer': 'They are different electrical states', 'reference_answer': 'Terminal 1 and the positive terminal are not connected', 'assessment': 'partially_correct_incomplete'}) (input_keys={'student_answer', 'reference_answer', 'question'}),\n",
       " Example({'question': 'Explain why you got a voltage reading of 1.5 for terminal 1 and the positive terminal.', 'student_answer': 'The electrical state at the terminal matches the battery\"s electrical state', 'reference_answer': 'Terminal 1 and the positive terminal are not connected', 'assessment': 'contradictory'}) (input_keys={'student_answer', 'reference_answer', 'question'}),\n",
       " Example({'question': 'Explain why you got a voltage reading of 1.5 for terminal 1 and the positive terminal.', 'student_answer': 'because the voltage meter was connected to a positive and negative side', 'reference_answer': 'Terminal 1 and the positive terminal are not connected', 'assessment': 'contradictory'}) (input_keys={'student_answer', 'reference_answer', 'question'}),\n",
       " Example({'question': 'Explain why you got a voltage reading of 1.5 for terminal 1 and the positive terminal.', 'student_answer': 'Because it was not connect to the negative end of the terminal', 'reference_answer': 'Terminal 1 and the positive terminal are not connected', 'assessment': 'contradictory'}) (input_keys={'student_answer', 'reference_answer', 'question'}),\n",
       " Example({'question': 'Explain why you got a voltage reading of 1.5 for terminal 1 and the positive terminal.', 'student_answer': 'because voltage measures the difference between two points', 'reference_answer': 'Terminal 1 and the positive terminal are not connected', 'assessment': 'irrelevant'}) (input_keys={'student_answer', 'reference_answer', 'question'}),\n",
       " Example({'question': 'Explain why you got a voltage reading of 1.5 for terminal 1 and the positive terminal.', 'student_answer': 'I do not know.', 'reference_answer': 'Terminal 1 and the positive terminal are not connected', 'assessment': 'non_domain'}) (input_keys={'student_answer', 'reference_answer', 'question'}),\n",
       " Example({'question': 'Explain why you got a voltage reading of 1.5 for terminal 1 and the positive terminal.', 'student_answer': 'not sure', 'reference_answer': 'Terminal 1 and the positive terminal are not connected', 'assessment': 'non_domain'}) (input_keys={'student_answer', 'reference_answer', 'question'}),\n",
       " Example({'question': 'Explain why you got a voltage reading of 1.5 for terminal 1 and the positive terminal.', 'student_answer': 'it was connected to the positive terminal', 'reference_answer': 'Terminal 1 and the positive terminal are not connected', 'assessment': 'contradictory'}) (input_keys={'student_answer', 'reference_answer', 'question'}),\n",
       " Example({'question': 'Explain why you got a voltage reading of 1.5 for terminal 1 and the positive terminal.', 'student_answer': 'The difference between the electrical states is 1.5 volts', 'reference_answer': 'Terminal 1 and the positive terminal are not connected', 'assessment': 'irrelevant'}) (input_keys={'student_answer', 'reference_answer', 'question'}),\n",
       " Example({'question': 'Explain why you got a voltage reading of 1.5 for terminal 1 and the positive terminal.', 'student_answer': 'because there was a closed circuit', 'reference_answer': 'Terminal 1 and the positive terminal are not connected', 'assessment': 'contradictory'}) (input_keys={'student_answer', 'reference_answer', 'question'}),\n",
       " Example({'question': 'Explain why you got a voltage reading of 1.5 for terminal 1 and the positive terminal.', 'student_answer': 'Because the positive terminal is in a closed path.', 'reference_answer': 'Terminal 1 and the positive terminal are not connected', 'assessment': 'contradictory'}) (input_keys={'student_answer', 'reference_answer', 'question'}),\n",
       " Example({'question': 'Explain why you got a voltage reading of 1.5 for terminal 1 and the positive terminal.', 'student_answer': 'it is connected to the positive terminal', 'reference_answer': 'Terminal 1 and the positive terminal are not connected', 'assessment': 'contradictory'}) (input_keys={'student_answer', 'reference_answer', 'question'}),\n",
       " Example({'question': 'Explain why you got a voltage reading of 1.5 for terminal 1 and the positive terminal.', 'student_answer': 'terminal one is connected to a positive battery terminal', 'reference_answer': 'Terminal 1 and the positive terminal are not connected', 'assessment': 'contradictory'}) (input_keys={'student_answer', 'reference_answer', 'question'}),\n",
       " Example({'question': 'Explain why you got a voltage reading of 1.5 for terminal 1 and the positive terminal.', 'student_answer': 'Because it was attached to the postive terminal!', 'reference_answer': 'Terminal 1 and the positive terminal are not connected', 'assessment': 'contradictory'}) (input_keys={'student_answer', 'reference_answer', 'question'}),\n",
       " Example({'question': 'Explain why you got a voltage reading of 1.5 for terminal 1 and the positive terminal.', 'student_answer': 'terminal 1 is connected to the negative battery terminal', 'reference_answer': 'Terminal 1 and the positive terminal are not connected', 'assessment': 'correct'}) (input_keys={'student_answer', 'reference_answer', 'question'}),\n",
       " Example({'question': 'Explain why you got a voltage reading of 1.5 for terminal 1 and the positive terminal.', 'student_answer': 'Different states', 'reference_answer': 'Terminal 1 and the positive terminal are not connected', 'assessment': 'partially_correct_incomplete'}) (input_keys={'student_answer', 'reference_answer', 'question'}),\n",
       " Example({'question': 'Explain why you got a voltage reading of 1.5 for terminal 1 and the positive terminal.', 'student_answer': 'there is a difference of 1.5 volts between terminal 1 and the positive terminal', 'reference_answer': 'Terminal 1 and the positive terminal are not connected', 'assessment': 'partially_correct_incomplete'}) (input_keys={'student_answer', 'reference_answer', 'question'}),\n",
       " Example({'question': 'Explain why you got a voltage reading of 1.5 for terminal 1 and the positive terminal.', 'student_answer': 'terminal 1 and the positive terminal are connected.', 'reference_answer': 'Terminal 1 and the positive terminal are not connected', 'assessment': 'contradictory'}) (input_keys={'student_answer', 'reference_answer', 'question'}),\n",
       " Example({'question': 'Explain why you got a voltage reading of 1.5 for terminal 1 and the positive terminal.', 'student_answer': 'because terminal 1 is connected to the negative terminal which has a 1.5 volt difference with the positive terminal', 'reference_answer': 'Terminal 1 and the positive terminal are not connected', 'assessment': 'correct'}) (input_keys={'student_answer', 'reference_answer', 'question'}),\n",
       " Example({'question': 'Explain why you got a voltage reading of 1.5 for terminal 1 and the positive terminal.', 'student_answer': 'Because the meter was hooked up to two sides of the battery.', 'reference_answer': 'Terminal 1 and the positive terminal are not connected', 'assessment': 'contradictory'}) (input_keys={'student_answer', 'reference_answer', 'question'}),\n",
       " Example({'question': 'Explain why you got a voltage reading of 1.5 for terminal 1 and the positive terminal.', 'student_answer': 'Terminal 1 is connected to the negative battery terminal and is in a different state than the positive battery terminal.', 'reference_answer': 'Terminal 1 and the positive terminal are not connected', 'assessment': 'correct'}) (input_keys={'student_answer', 'reference_answer', 'question'}),\n",
       " Example({'question': 'Explain why you got a voltage reading of 1.5 for terminal 1 and the positive terminal.', 'student_answer': 'because terminal 1 had both a positive and negative charge.', 'reference_answer': 'Terminal 1 and the positive terminal are not connected', 'assessment': 'contradictory'}) (input_keys={'student_answer', 'reference_answer', 'question'}),\n",
       " Example({'question': 'Explain why you got a voltage reading of 1.5 for terminal 1 and the positive terminal.', 'student_answer': 'I\"m not sure', 'reference_answer': 'Terminal 1 and the positive terminal are not connected', 'assessment': 'non_domain'}) (input_keys={'student_answer', 'reference_answer', 'question'}),\n",
       " Example({'question': 'Explain why you got a voltage reading of 1.5 for terminal 1 and the positive terminal.', 'student_answer': 'Because the positive circuit has a voltage of 1.5 volts.', 'reference_answer': 'Terminal 1 and the positive terminal are not connected', 'assessment': 'contradictory'}) (input_keys={'student_answer', 'reference_answer', 'question'}),\n",
       " Example({'question': 'Explain why you got a voltage reading of 1.5 for terminal 1 and the positive terminal.', 'student_answer': 'Postive terminal is not connected to 1.', 'reference_answer': 'Terminal 1 and the positive terminal are not connected', 'assessment': 'correct'}) (input_keys={'student_answer', 'reference_answer', 'question'}),\n",
       " Example({'question': 'Explain why you got a voltage reading of 1.5 for terminal 1 and the positive terminal.', 'student_answer': 'Because terminal 1 was hooked u to the positive terminal which is automatically 1.5 V', 'reference_answer': 'Terminal 1 and the positive terminal are not connected', 'assessment': 'contradictory'}) (input_keys={'student_answer', 'reference_answer', 'question'}),\n",
       " Example({'question': 'Explain why you got a voltage reading of 1.5 for terminal 1 and the positive terminal.', 'student_answer': 'terminal 1 is not connected to the positive battery terminal', 'reference_answer': 'Terminal 1 and the positive terminal are not connected', 'assessment': 'correct'}) (input_keys={'student_answer', 'reference_answer', 'question'}),\n",
       " Example({'question': 'Explain your reasoning.', 'student_answer': 'there will be a gap at bulb b, thus affecting the rest of the circuit', 'reference_answer': 'bulb B creates a gap', 'assessment': 'correct'}) (input_keys={'student_answer', 'reference_answer', 'question'}),\n",
       " Example({'question': 'Explain your reasoning.', 'student_answer': 'if bulb b is damaged there will be a gap in the path at that bulb', 'reference_answer': 'bulb B creates a gap', 'assessment': 'correct'}) (input_keys={'student_answer', 'reference_answer', 'question'}),\n",
       " Example({'question': 'Explain your reasoning.', 'student_answer': 'if bulb b is off there will be a gap in the path', 'reference_answer': 'bulb B creates a gap', 'assessment': 'correct'}) (input_keys={'student_answer', 'reference_answer', 'question'}),\n",
       " Example({'question': 'Explain your reasoning.', 'student_answer': 'The bulb does not effect the others', 'reference_answer': 'bulb B creates a gap', 'assessment': 'contradictory'}) (input_keys={'student_answer', 'reference_answer', 'question'}),\n",
       " Example({'question': 'Explain your reasoning.', 'student_answer': 'bulb B does not effect the other bulbs', 'reference_answer': 'bulb B creates a gap', 'assessment': 'contradictory'}) (input_keys={'student_answer', 'reference_answer', 'question'}),\n",
       " Example({'question': 'Explain your reasoning.', 'student_answer': 'If bulb b is damaged, then the circuit will be incomplete.', 'reference_answer': 'bulb B creates a gap', 'assessment': 'correct'}) (input_keys={'student_answer', 'reference_answer', 'question'}),\n",
       " Example({'question': 'Explain your reasoning.', 'student_answer': 'there is a gap in the connection', 'reference_answer': 'bulb B creates a gap', 'assessment': 'correct'}) (input_keys={'student_answer', 'reference_answer', 'question'}),\n",
       " Example({'question': 'Explain your reasoning.', 'student_answer': 'the damaged bulb creates a gap in the circuit.', 'reference_answer': 'bulb B creates a gap', 'assessment': 'correct'}) (input_keys={'student_answer', 'reference_answer', 'question'}),\n",
       " Example({'question': 'Explain your reasoning.', 'student_answer': 'There will be a gap in the path', 'reference_answer': 'bulb B creates a gap', 'assessment': 'correct'}) (input_keys={'student_answer', 'reference_answer', 'question'}),\n",
       " Example({'question': 'Explain your reasoning.', 'student_answer': 'there is no path through the connection of bulb b.', 'reference_answer': 'bulb B creates a gap', 'assessment': 'contradictory'}) (input_keys={'student_answer', 'reference_answer', 'question'}),\n",
       " Example({'question': 'Explain your reasoning.', 'student_answer': 'there is no path through bulb b.', 'reference_answer': 'bulb B creates a gap', 'assessment': 'contradictory'}) (input_keys={'student_answer', 'reference_answer', 'question'}),\n",
       " Example({'question': 'Explain your reasoning.', 'student_answer': 'If bulb B is damaged a gap is created.', 'reference_answer': 'bulb B creates a gap', 'assessment': 'correct'}) (input_keys={'student_answer', 'reference_answer', 'question'}),\n",
       " Example({'question': 'Explain your reasoning.', 'student_answer': 'actually bulbs a and c will be off because the path will no longer be cloed', 'reference_answer': 'bulb B creates a gap', 'assessment': 'correct'}) (input_keys={'student_answer', 'reference_answer', 'question'}),\n",
       " Example({'question': 'Explain your reasoning.', 'student_answer': 'There will be a gap in the path.', 'reference_answer': 'bulb B creates a gap', 'assessment': 'correct'}) (input_keys={'student_answer', 'reference_answer', 'question'}),\n",
       " Example({'question': 'Explain your reasoning.', 'student_answer': 'there is no path for the other bulbs', 'reference_answer': 'bulb B creates a gap', 'assessment': 'contradictory'}) (input_keys={'student_answer', 'reference_answer', 'question'}),\n",
       " Example({'question': 'Explain your reasoning.', 'student_answer': 'A and B are off', 'reference_answer': 'bulb B creates a gap', 'assessment': 'contradictory'}) (input_keys={'student_answer', 'reference_answer', 'question'}),\n",
       " Example({'question': 'Explain your reasoning.', 'student_answer': 'there will be a gap between bulbs', 'reference_answer': 'bulb B creates a gap', 'assessment': 'partially_correct_incomplete'}) (input_keys={'student_answer', 'reference_answer', 'question'}),\n",
       " Example({'question': 'Explain your reasoning.', 'student_answer': 'there will be a gap between the bulbs', 'reference_answer': 'bulb B creates a gap', 'assessment': 'partially_correct_incomplete'}) (input_keys={'student_answer', 'reference_answer', 'question'}),\n",
       " Example({'question': 'Explain your reasoning.', 'student_answer': 'There will be a gap in the circuit.', 'reference_answer': 'bulb B creates a gap', 'assessment': 'correct'}) (input_keys={'student_answer', 'reference_answer', 'question'}),\n",
       " Example({'question': 'Explain your reasoning.', 'student_answer': 'gap in bulb b', 'reference_answer': 'bulb B creates a gap', 'assessment': 'correct'}) (input_keys={'student_answer', 'reference_answer', 'question'}),\n",
       " Example({'question': 'Explain your reasoning.', 'student_answer': 'bulb B has a gap', 'reference_answer': 'bulb B creates a gap', 'assessment': 'correct'}) (input_keys={'student_answer', 'reference_answer', 'question'}),\n",
       " Example({'question': 'Explain your reasoning.', 'student_answer': 'there is a gap', 'reference_answer': 'bulb B creates a gap', 'assessment': 'correct'}) (input_keys={'student_answer', 'reference_answer', 'question'}),\n",
       " Example({'question': 'Explain your reasoning.', 'student_answer': 'there is no path between the bulb-holders', 'reference_answer': 'bulb B creates a gap', 'assessment': 'contradictory'}) (input_keys={'student_answer', 'reference_answer', 'question'}),\n",
       " Example({'question': 'Explain your reasoning.', 'student_answer': 'there is no path', 'reference_answer': 'bulb B creates a gap', 'assessment': 'contradictory'}) (input_keys={'student_answer', 'reference_answer', 'question'}),\n",
       " Example({'question': 'Explain your reasoning.', 'student_answer': 'there is no path between the bulbs', 'reference_answer': 'bulb B creates a gap', 'assessment': 'contradictory'}) (input_keys={'student_answer', 'reference_answer', 'question'}),\n",
       " Example({'question': 'Explain your reasoning.', 'student_answer': 'damaged bulb b creates a gap', 'reference_answer': 'bulb B creates a gap', 'assessment': 'correct'}) (input_keys={'student_answer', 'reference_answer', 'question'}),\n",
       " Example({'question': 'Explain your reasoning.', 'student_answer': 'There is a gap.', 'reference_answer': 'bulb B creates a gap', 'assessment': 'correct'}) (input_keys={'student_answer', 'reference_answer', 'question'}),\n",
       " Example({'question': 'Explain your reasoning.', 'student_answer': 'the path is not closed anymore', 'reference_answer': 'bulb B creates a gap', 'assessment': 'correct'}) (input_keys={'student_answer', 'reference_answer', 'question'}),\n",
       " Example({'question': 'Explain your reasoning.', 'student_answer': 'if bulb B is damaged, the path will have a gap', 'reference_answer': 'bulb B creates a gap', 'assessment': 'correct'}) (input_keys={'student_answer', 'reference_answer', 'question'}),\n",
       " Example({'question': 'Explain your reasoning.', 'student_answer': 'If bulb B is damaged, there is no path', 'reference_answer': 'bulb B creates a gap', 'assessment': 'contradictory'}) (input_keys={'student_answer', 'reference_answer', 'question'}),\n",
       " Example({'question': 'Explain your reasoning.', 'student_answer': 'There is no path through bulb B', 'reference_answer': 'bulb B creates a gap', 'assessment': 'contradictory'}) (input_keys={'student_answer', 'reference_answer', 'question'}),\n",
       " Example({'question': 'Explain your reasoning.', 'student_answer': 'There will be a gap.', 'reference_answer': 'bulb B creates a gap', 'assessment': 'correct'}) (input_keys={'student_answer', 'reference_answer', 'question'}),\n",
       " Example({'question': 'Explain your reasoning.', 'student_answer': 'there is a gap in the closed path', 'reference_answer': 'bulb B creates a gap', 'assessment': 'correct'}) (input_keys={'student_answer', 'reference_answer', 'question'}),\n",
       " Example({'question': 'Explain your reasoning.', 'student_answer': 'there is a gap in the circuit', 'reference_answer': 'bulb B creates a gap', 'assessment': 'correct'}) (input_keys={'student_answer', 'reference_answer', 'question'}),\n",
       " Example({'question': 'Explain your reasoning.', 'student_answer': 'if bulb B is damaged there will be a gap in the curcuit', 'reference_answer': 'bulb B creates a gap', 'assessment': 'correct'}) (input_keys={'student_answer', 'reference_answer', 'question'}),\n",
       " Example({'question': 'Explain your reasoning.', 'student_answer': '?', 'reference_answer': 'bulb B creates a gap', 'assessment': 'non_domain'}) (input_keys={'student_answer', 'reference_answer', 'question'}),\n",
       " Example({'question': 'Explain your reasoning.', 'student_answer': 'They will not be on because it will cause a gap.', 'reference_answer': 'bulb B creates a gap', 'assessment': 'correct'}) (input_keys={'student_answer', 'reference_answer', 'question'}),\n",
       " Example({'question': 'Explain your reasoning.', 'student_answer': 'if bulb b is damaged, it creates a gap in the circuit.', 'reference_answer': 'bulb B creates a gap', 'assessment': 'correct'}) (input_keys={'student_answer', 'reference_answer', 'question'}),\n",
       " Example({'question': 'Explain your reasoning.', 'student_answer': 'The path will not be closed.', 'reference_answer': 'bulb B creates a gap', 'assessment': 'correct'}) (input_keys={'student_answer', 'reference_answer', 'question'}),\n",
       " Example({'question': 'Explain your reasoning.', 'student_answer': 'if bulb b is damaged it does not make a complete circut', 'reference_answer': 'bulb B creates a gap', 'assessment': 'correct'}) (input_keys={'student_answer', 'reference_answer', 'question'}),\n",
       " Example({'question': 'Explain your reasoning.', 'student_answer': 'when bulb b is damaged there is no complete circut', 'reference_answer': 'bulb B creates a gap', 'assessment': 'correct'}) (input_keys={'student_answer', 'reference_answer', 'question'}),\n",
       " Example({'question': 'Explain your reasoning.', 'student_answer': 'there will be a gap', 'reference_answer': 'bulb B creates a gap', 'assessment': 'correct'}) (input_keys={'student_answer', 'reference_answer', 'question'}),\n",
       " Example({'question': 'Explain your reasoning.', 'student_answer': 'distrupt the circuit', 'reference_answer': 'bulb B creates a gap', 'assessment': 'partially_correct_incomplete'}) (input_keys={'student_answer', 'reference_answer', 'question'}),\n",
       " Example({'question': 'Explain your reasoning.', 'student_answer': 'Because the path connecting the bulbs will be damaged', 'reference_answer': 'bulb B creates a gap', 'assessment': 'partially_correct_incomplete'}) (input_keys={'student_answer', 'reference_answer', 'question'}),\n",
       " Example({'question': 'Explain your reasoning.', 'student_answer': 'the holder of the bulb will damage the other bulb', 'reference_answer': 'bulb B creates a gap', 'assessment': 'contradictory'}) (input_keys={'student_answer', 'reference_answer', 'question'}),\n",
       " Example({'question': 'Explain your reasoning.', 'student_answer': 'because if bulb b is damaged, then there is no path through the bulb, creating an incomplete circuit', 'reference_answer': 'bulb B creates a gap', 'assessment': 'correct'}) (input_keys={'student_answer', 'reference_answer', 'question'}),\n",
       " Example({'question': 'Explain your reasoning.', 'student_answer': 'if bulb b is damaged, then the path will have a gap.', 'reference_answer': 'bulb B creates a gap', 'assessment': 'correct'}) (input_keys={'student_answer', 'reference_answer', 'question'}),\n",
       " Example({'question': 'Explain your reasoning.', 'student_answer': 'It still has a connect path between bulb a and c and the battery.', 'reference_answer': 'bulb B creates a gap', 'assessment': 'contradictory'}) (input_keys={'student_answer', 'reference_answer', 'question'}),\n",
       " Example({'question': 'Explain your reasoning.', 'student_answer': 'They are connected to the battery not each other', 'reference_answer': 'bulb B creates a gap', 'assessment': 'partially_correct_incomplete'}) (input_keys={'student_answer', 'reference_answer', 'question'}),\n",
       " Example({'question': 'Explain your reasoning.', 'student_answer': 'when the bulb is burnt it creates a gap in the closed path', 'reference_answer': 'bulb B creates a gap', 'assessment': 'correct'}) (input_keys={'student_answer', 'reference_answer', 'question'}),\n",
       " Example({'question': 'Explain your reasoning.', 'student_answer': 'there will be a gap at bulb b. this will create an open circuit.', 'reference_answer': 'bulb B creates a gap', 'assessment': 'contradictory'}) (input_keys={'student_answer', 'reference_answer', 'question'}),\n",
       " Example({'question': 'Explain your reasoning.', 'student_answer': 'Because they are breaking the circuit.', 'reference_answer': 'bulb B creates a gap', 'assessment': 'contradictory'}) (input_keys={'student_answer', 'reference_answer', 'question'}),\n",
       " Example({'question': 'Explain your reasoning.', 'student_answer': 'There will not be a closed path.', 'reference_answer': 'bulb B creates a gap', 'assessment': 'correct'}) (input_keys={'student_answer', 'reference_answer', 'question'}),\n",
       " Example({'question': 'Explain your reasoning.', 'student_answer': 'The path between the bulbs and the battery is open', 'reference_answer': 'bulb B creates a gap', 'assessment': 'correct'}) (input_keys={'student_answer', 'reference_answer', 'question'}),\n",
       " Example({'question': 'Explain your reasoning.', 'student_answer': 'because there is no connection so the path is not closed', 'reference_answer': 'bulb B creates a gap', 'assessment': 'correct'}) (input_keys={'student_answer', 'reference_answer', 'question'}),\n",
       " Example({'question': 'Explain your reasoning.', 'student_answer': 'A damaged bulb does not create a gap in a closed path', 'reference_answer': 'bulb B creates a gap', 'assessment': 'contradictory'}) (input_keys={'student_answer', 'reference_answer', 'question'}),\n",
       " Example({'question': 'Explain your reasoning.', 'student_answer': 'If bulb B is damaged there is a gap in the circuit', 'reference_answer': 'bulb B creates a gap', 'assessment': 'correct'}) (input_keys={'student_answer', 'reference_answer', 'question'}),\n",
       " Example({'question': 'Explain your reasoning.', 'student_answer': 'If buld B is damaged that will create a gap.', 'reference_answer': 'bulb B creates a gap', 'assessment': 'correct'}) (input_keys={'student_answer', 'reference_answer', 'question'}),\n",
       " Example({'question': 'Explain your reasoning.', 'student_answer': 'Maybe because there is still one path that connects A and C through B', 'reference_answer': 'bulb B creates a gap', 'assessment': 'contradictory'}) (input_keys={'student_answer', 'reference_answer', 'question'}),\n",
       " Example({'question': 'Explain your reasoning.', 'student_answer': 'There will be a gap where the bulb holder is supposed to be', 'reference_answer': 'bulb B creates a gap', 'assessment': 'correct'}) (input_keys={'student_answer', 'reference_answer', 'question'}),\n",
       " Example({'question': 'Explain your reasoning.', 'student_answer': 'Burned out bulb B will cause a gap in the closed path.', 'reference_answer': 'bulb B creates a gap', 'assessment': 'correct'}) (input_keys={'student_answer', 'reference_answer', 'question'}),\n",
       " Example({'question': 'Explain your reasoning.', 'student_answer': 'Because there is a gap.', 'reference_answer': 'bulb B creates a gap', 'assessment': 'correct'}) (input_keys={'student_answer', 'reference_answer', 'question'}),\n",
       " Example({'question': 'Explain your reasoning.', 'student_answer': 'because there is a gap in the bulb', 'reference_answer': 'bulb B creates a gap', 'assessment': 'contradictory'}) (input_keys={'student_answer', 'reference_answer', 'question'}),\n",
       " Example({'question': 'Explain your reasoning.', 'student_answer': 'it will cut off the circuit', 'reference_answer': 'bulb B creates a gap', 'assessment': 'contradictory'}) (input_keys={'student_answer', 'reference_answer', 'question'}),\n",
       " Example({'question': 'Explain your reasoning.', 'student_answer': 'I\"m not sure.', 'reference_answer': 'bulb B creates a gap', 'assessment': 'non_domain'}) (input_keys={'student_answer', 'reference_answer', 'question'}),\n",
       " Example({'question': 'Explain your reasoning.', 'student_answer': 'If bulb B is damaged, then the circut is no longer closed.', 'reference_answer': 'bulb B creates a gap', 'assessment': 'contradictory'}) (input_keys={'student_answer', 'reference_answer', 'question'}),\n",
       " Example({'question': 'Explain your reasoning.', 'student_answer': 'bulb B becomes a gap in the circuit', 'reference_answer': 'bulb B creates a gap', 'assessment': 'correct'}) (input_keys={'student_answer', 'reference_answer', 'question'}),\n",
       " Example({'question': 'Explain your reasoning.', 'student_answer': 'The bulbs aren\"t codependent so they will still be on', 'reference_answer': 'bulb B creates a gap', 'assessment': 'contradictory'}) (input_keys={'student_answer', 'reference_answer', 'question'}),\n",
       " Example({'question': 'Explain your reasoning.', 'student_answer': 'there would be a gap in the circuit', 'reference_answer': 'bulb B creates a gap', 'assessment': 'correct'}) (input_keys={'student_answer', 'reference_answer', 'question'}),\n",
       " Example({'question': 'Explain your reasoning.', 'student_answer': 'the gap between the damaged wires of bulb b creates a gap in the path.', 'reference_answer': 'bulb B creates a gap', 'assessment': 'correct'}) (input_keys={'student_answer', 'reference_answer', 'question'}),\n",
       " Example({'question': 'Explain your reasoning.', 'student_answer': 'the current will flow to the other bulbs even though it is not able to execute light on B. Also, I\"ve experienced that one light can be out without them all being affected.', 'reference_answer': 'bulb B creates a gap', 'assessment': 'contradictory'}) (input_keys={'student_answer', 'reference_answer', 'question'}),\n",
       " Example({'question': 'Explain your reasoning.', 'student_answer': 'Because their is a gap between A and C now.', 'reference_answer': 'bulb B creates a gap', 'assessment': 'correct'}) (input_keys={'student_answer', 'reference_answer', 'question'}),\n",
       " Example({'question': 'Explain your reasoning.', 'student_answer': 'When bulb B is damaged there is a disruption in the current.', 'reference_answer': 'bulb B creates a gap', 'assessment': 'contradictory'}) (input_keys={'student_answer', 'reference_answer', 'question'}),\n",
       " Example({'question': 'Explain your reasoning.', 'student_answer': 'if it is not connected the electrical current can\"t pass through to connect the other bulbs.', 'reference_answer': 'bulb B creates a gap', 'assessment': 'partially_correct_incomplete'}) (input_keys={'student_answer', 'reference_answer', 'question'}),\n",
       " Example({'question': 'Explain your reasoning.', 'student_answer': 'There are two pathways', 'reference_answer': 'bulb B creates a gap', 'assessment': 'contradictory'}) (input_keys={'student_answer', 'reference_answer', 'question'}),\n",
       " Example({'question': 'Explain your reasoning.', 'student_answer': 'The circuit will become incomplete.', 'reference_answer': 'bulb B creates a gap', 'assessment': 'correct'}) (input_keys={'student_answer', 'reference_answer', 'question'}),\n",
       " Example({'question': 'Explain your reasoning.', 'student_answer': 'If bulb B is damaged, there will be a gap.', 'reference_answer': 'bulb B creates a gap', 'assessment': 'correct'}) (input_keys={'student_answer', 'reference_answer', 'question'}),\n",
       " Example({'question': 'Explain your reasoning.', 'student_answer': 'There would be a gap.', 'reference_answer': 'bulb B creates a gap', 'assessment': 'correct'}) (input_keys={'student_answer', 'reference_answer', 'question'}),\n",
       " Example({'question': 'Explain your reasoning.', 'student_answer': 'it would create a gap', 'reference_answer': 'bulb B creates a gap', 'assessment': 'correct'}) (input_keys={'student_answer', 'reference_answer', 'question'}),\n",
       " Example({'question': 'Explain your reasoning.', 'student_answer': 'they are contained within the same path', 'reference_answer': 'A and C are in the same closed path', 'assessment': 'correct'}) (input_keys={'student_answer', 'reference_answer', 'question'}),\n",
       " Example({'question': 'Explain your reasoning.', 'student_answer': 'bulb c and a are in the same path. and affect one another', 'reference_answer': 'A and C are in the same closed path', 'assessment': 'correct'}) (input_keys={'student_answer', 'reference_answer', 'question'}),\n",
       " Example({'question': 'Explain your reasoning.', 'student_answer': 'bulb c and a are contained in the same closed path', 'reference_answer': 'A and C are in the same closed path', 'assessment': 'correct'}) (input_keys={'student_answer', 'reference_answer', 'question'}),\n",
       " Example({'question': 'Explain your reasoning.', 'student_answer': 'damaging one turns off the other', 'reference_answer': 'A and C are in the same closed path', 'assessment': 'correct'}) (input_keys={'student_answer', 'reference_answer', 'question'}),\n",
       " Example({'question': 'Explain your reasoning.', 'student_answer': 'if bulb a is damaged, bulb c turns off.', 'reference_answer': 'A and C are in the same closed path', 'assessment': 'correct'}) (input_keys={'student_answer', 'reference_answer', 'question'}),\n",
       " Example({'question': 'Explain your reasoning.', 'student_answer': 'contained within the same closed path', 'reference_answer': 'A and C are in the same closed path', 'assessment': 'correct'}) (input_keys={'student_answer', 'reference_answer', 'question'}),\n",
       " Example({'question': 'Explain your reasoning.', 'student_answer': 'bulbs a and c affect each other.', 'reference_answer': 'A and C are in the same closed path', 'assessment': 'partially_correct_incomplete'}) (input_keys={'student_answer', 'reference_answer', 'question'}),\n",
       " Example({'question': 'Explain your reasoning.', 'student_answer': 'bulb a affects bulb c. bulb c affects bulb a.', 'reference_answer': 'A and C are in the same closed path', 'assessment': 'partially_correct_incomplete'}) (input_keys={'student_answer', 'reference_answer', 'question'}),\n",
       " Example({'question': 'Explain your reasoning.', 'student_answer': 'they are both on the same path', 'reference_answer': 'A and C are in the same closed path', 'assessment': 'correct'}) (input_keys={'student_answer', 'reference_answer', 'question'}),\n",
       " Example({'question': 'Explain your reasoning.', 'student_answer': 'bulbs a b and c are on a closed path', 'reference_answer': 'A and C are in the same closed path', 'assessment': 'correct'}) (input_keys={'student_answer', 'reference_answer', 'question'}),\n",
       " Example({'question': 'Explain your reasoning.', 'student_answer': 'removing bulb a will affect bulb c', 'reference_answer': 'A and C are in the same closed path', 'assessment': 'partially_correct_incomplete'}) (input_keys={'student_answer', 'reference_answer', 'question'}),\n",
       " Example({'question': 'Explain your reasoning.', 'student_answer': 'bulb a affects bulb c', 'reference_answer': 'A and C are in the same closed path', 'assessment': 'partially_correct_incomplete'}) (input_keys={'student_answer', 'reference_answer', 'question'}),\n",
       " Example({'question': 'Explain your reasoning.', 'student_answer': 'they are on a path', 'reference_answer': 'A and C are in the same closed path', 'assessment': 'partially_correct_incomplete'}) (input_keys={'student_answer', 'reference_answer', 'question'}),\n",
       " Example({'question': 'Explain your reasoning.', 'student_answer': 'they all affect each other', 'reference_answer': 'A and C are in the same closed path', 'assessment': 'partially_correct_incomplete'}) (input_keys={'student_answer', 'reference_answer', 'question'}),\n",
       " Example({'question': 'Explain your reasoning.', 'student_answer': 'bulbs a, b, and c are on a path with the battery', 'reference_answer': 'A and C are in the same closed path', 'assessment': 'partially_correct_incomplete'}) (input_keys={'student_answer', 'reference_answer', 'question'}),\n",
       " Example({'question': 'Explain your reasoning.', 'student_answer': 'if bulb a burns out if affects bulbs b and c.', 'reference_answer': 'A and C are in the same closed path', 'assessment': 'irrelevant'}) (input_keys={'student_answer', 'reference_answer', 'question'}),\n",
       " Example({'question': 'Explain your reasoning.', 'student_answer': 'bulbs a, b, and c are all in the same path.', 'reference_answer': 'A and C are in the same closed path', 'assessment': 'partially_correct_incomplete'}) (input_keys={'student_answer', 'reference_answer', 'question'}),\n",
       " Example({'question': 'Explain your reasoning.', 'student_answer': 'removing one bulb shuts off the other.', 'reference_answer': 'A and C are in the same closed path', 'assessment': 'irrelevant'}) (input_keys={'student_answer', 'reference_answer', 'question'}),\n",
       " Example({'question': 'Explain your reasoning.', 'student_answer': 'the path is closed', 'reference_answer': 'A and C are in the same closed path', 'assessment': 'partially_correct_incomplete'}) (input_keys={'student_answer', 'reference_answer', 'question'}),\n",
       " Example({'question': 'Explain your reasoning.', 'student_answer': 'because they are in the same path', 'reference_answer': 'A and C are in the same closed path', 'assessment': 'correct'}) (input_keys={'student_answer', 'reference_answer', 'question'}),\n",
       " Example({'question': 'Explain your reasoning.', 'student_answer': 'that is all', 'reference_answer': 'A and C are in the same closed path', 'assessment': 'non_domain'}) (input_keys={'student_answer', 'reference_answer', 'question'}),\n",
       " Example({'question': 'Explain your reasoning.', 'student_answer': 'Bulbs A and C are in the same closed path with the battery.', 'reference_answer': 'A and C are in the same closed path', 'assessment': 'correct'}) (input_keys={'student_answer', 'reference_answer', 'question'}),\n",
       " Example({'question': 'Explain your reasoning.', 'student_answer': 'the are on the same wire', 'reference_answer': 'A and C are in the same closed path', 'assessment': 'irrelevant'}) (input_keys={'student_answer', 'reference_answer', 'question'}),\n",
       " Example({'question': 'Explain your reasoning.', 'student_answer': 'they are not parralel', 'reference_answer': 'A and C are in the same closed path', 'assessment': 'partially_correct_incomplete'}) (input_keys={'student_answer', 'reference_answer', 'question'}),\n",
       " Example({'question': 'Explain your reasoning.', 'student_answer': 'they have the same path', 'reference_answer': 'A and C are in the same closed path', 'assessment': 'correct'}) (input_keys={'student_answer', 'reference_answer', 'question'}),\n",
       " Example({'question': 'Explain your reasoning.', 'student_answer': 'they are in the same closed path but not next to each other', 'reference_answer': 'A and C are in the same closed path', 'assessment': 'correct'}) (input_keys={'student_answer', 'reference_answer', 'question'}),\n",
       " Example({'question': 'Explain your reasoning.', 'student_answer': 'They are in the same path.', 'reference_answer': 'A and C are in the same closed path', 'assessment': 'correct'}) (input_keys={'student_answer', 'reference_answer', 'question'}),\n",
       " Example({'question': 'Explain your reasoning.', 'student_answer': 'That is basically what I said sir.', 'reference_answer': 'A and C are in the same closed path', 'assessment': 'non_domain'}) (input_keys={'student_answer', 'reference_answer', 'question'}),\n",
       " Example({'question': 'Explain your reasoning.', 'student_answer': 'If one bulb is burns out, then they all stop', 'reference_answer': 'A and C are in the same closed path', 'assessment': 'partially_correct_incomplete'}) (input_keys={'student_answer', 'reference_answer', 'question'}),\n",
       " Example({'question': 'Explain your reasoning.', 'student_answer': 'If one bulb is removed, the others stop working', 'reference_answer': 'A and C are in the same closed path', 'assessment': 'partially_correct_incomplete'}) (input_keys={'student_answer', 'reference_answer', 'question'}),\n",
       " Example({'question': 'Explain your reasoning.', 'student_answer': 'removing one bulb shuts off the other', 'reference_answer': 'A and C are in the same closed path', 'assessment': 'partially_correct_incomplete'}) (input_keys={'student_answer', 'reference_answer', 'question'}),\n",
       " Example({'question': 'Explain your reasoning.', 'student_answer': 'i did', 'reference_answer': 'A and C are in the same closed path', 'assessment': 'non_domain'}) (input_keys={'student_answer', 'reference_answer', 'question'}),\n",
       " Example({'question': 'Explain your reasoning.', 'student_answer': 'because they are on the same closed path', 'reference_answer': 'A and C are in the same closed path', 'assessment': 'correct'}) (input_keys={'student_answer', 'reference_answer', 'question'}),\n",
       " Example({'question': 'Explain your reasoning.', 'student_answer': 'they are contained in the same closed path', 'reference_answer': 'A and C are in the same closed path', 'assessment': 'correct'}) (input_keys={'student_answer', 'reference_answer', 'question'}),\n",
       " Example({'question': 'Explain your reasoning.', 'student_answer': 'they are in the same path', 'reference_answer': 'A and C are in the same closed path', 'assessment': 'partially_correct_incomplete'}) (input_keys={'student_answer', 'reference_answer', 'question'}),\n",
       " Example({'question': 'Explain your reasoning.', 'student_answer': 'bulbs a and c are wired within a closed path', 'reference_answer': 'A and C are in the same closed path', 'assessment': 'partially_correct_incomplete'}) (input_keys={'student_answer', 'reference_answer', 'question'}),\n",
       " Example({'question': 'Explain your reasoning.', 'student_answer': 'bulbs a and c are wired within the same closed path', 'reference_answer': 'A and C are in the same closed path', 'assessment': 'correct'}) (input_keys={'student_answer', 'reference_answer', 'question'}),\n",
       " Example({'question': 'Explain your reasoning.', 'student_answer': 'both bulbs a and c are contained in a closed path', 'reference_answer': 'A and C are in the same closed path', 'assessment': 'partially_correct_incomplete'}) (input_keys={'student_answer', 'reference_answer', 'question'}),\n",
       " Example({'question': 'Explain your reasoning.', 'student_answer': 'they are contained in the same path', 'reference_answer': 'A and C are in the same closed path', 'assessment': 'partially_correct_incomplete'}) (input_keys={'student_answer', 'reference_answer', 'question'}),\n",
       " Example({'question': 'Explain your reasoning.', 'student_answer': 'kkkdfdadkjlf', 'reference_answer': 'A and C are in the same closed path', 'assessment': 'non_domain'}) (input_keys={'student_answer', 'reference_answer', 'question'}),\n",
       " Example({'question': 'Explain your reasoning.', 'student_answer': 'and the circut is closed', 'reference_answer': 'A and C are in the same closed path', 'assessment': 'contradictory'}) (input_keys={'student_answer', 'reference_answer', 'question'}),\n",
       " Example({'question': 'Explain your reasoning.', 'student_answer': 'they are in a line on the same closed path', 'reference_answer': 'A and C are in the same closed path', 'assessment': 'correct'}) (input_keys={'student_answer', 'reference_answer', 'question'}),\n",
       " Example({'question': 'Explain your reasoning.', 'student_answer': 'they are on the same closed path', 'reference_answer': 'A and C are in the same closed path', 'assessment': 'correct'}) (input_keys={'student_answer', 'reference_answer', 'question'}),\n",
       " Example({'question': 'Explain your reasoning.', 'student_answer': 'bulbs A,B, and C are all on the same path', 'reference_answer': 'A and C are in the same closed path', 'assessment': 'partially_correct_incomplete'}) (input_keys={'student_answer', 'reference_answer', 'question'}),\n",
       " Example({'question': 'Explain your reasoning.', 'student_answer': 'tell answer', 'reference_answer': 'A and C are in the same closed path', 'assessment': 'non_domain'}) (input_keys={'student_answer', 'reference_answer', 'question'}),\n",
       " Example({'question': 'Explain your reasoning.', 'student_answer': 'They are contained in the same closed path, so if one bulb goes out so do the others.', 'reference_answer': 'A and C are in the same closed path', 'assessment': 'correct'}) (input_keys={'student_answer', 'reference_answer', 'question'}),\n",
       " Example({'question': 'Explain your reasoning.', 'student_answer': 'The lightbulbs are all contained in the same closed path.', 'reference_answer': 'A and C are in the same closed path', 'assessment': 'correct'}) (input_keys={'student_answer', 'reference_answer', 'question'}),\n",
       " Example({'question': 'Explain your reasoning.', 'student_answer': 'they are all contained in the same closed path with a battery', 'reference_answer': 'A and C are in the same closed path', 'assessment': 'correct'}) (input_keys={'student_answer', 'reference_answer', 'question'}),\n",
       " Example({'question': 'Explain your reasoning.', 'student_answer': 'the bulbs are on the same path', 'reference_answer': 'A and C are in the same closed path', 'assessment': 'partially_correct_incomplete'}) (input_keys={'student_answer', 'reference_answer', 'question'}),\n",
       " Example({'question': 'Explain your reasoning.', 'student_answer': 'the bulbs are on the same path with the battery', 'reference_answer': 'A and C are in the same closed path', 'assessment': 'partially_correct_incomplete'}) (input_keys={'student_answer', 'reference_answer', 'question'}),\n",
       " Example({'question': 'Explain your reasoning.', 'student_answer': 'they are in the same closed path', 'reference_answer': 'A and C are in the same closed path', 'assessment': 'correct'}) (input_keys={'student_answer', 'reference_answer', 'question'}),\n",
       " Example({'question': 'Explain your reasoning.', 'student_answer': 'the closed path contains bulb A, bulb B, bulb C, and a battery.', 'reference_answer': 'A and C are in the same closed path', 'assessment': 'correct'}) (input_keys={'student_answer', 'reference_answer', 'question'}),\n",
       " Example({'question': 'Explain your reasoning.', 'student_answer': 'They are contained in the same path. If one bulb goes out it will affect the other ones.', 'reference_answer': 'A and C are in the same closed path', 'assessment': 'correct'}) (input_keys={'student_answer', 'reference_answer', 'question'}),\n",
       " Example({'question': 'Explain your reasoning.', 'student_answer': 'bulbs A and C are contained in the same path', 'reference_answer': 'A and C are in the same closed path', 'assessment': 'correct'}) (input_keys={'student_answer', 'reference_answer', 'question'}),\n",
       " Example({'question': 'Explain your reasoning.', 'student_answer': 'removing of damaging any of the bulbs will shut off the other bulbs.', 'reference_answer': 'A and C are in the same closed path', 'assessment': 'partially_correct_incomplete'}) (input_keys={'student_answer', 'reference_answer', 'question'}),\n",
       " Example({'question': 'Explain your reasoning.', 'student_answer': 'i give up', 'reference_answer': 'A and C are in the same closed path', 'assessment': 'non_domain'}) (input_keys={'student_answer', 'reference_answer', 'question'}),\n",
       " Example({'question': 'Explain your reasoning.', 'student_answer': 'they are all connected in the same path to the battery', 'reference_answer': 'A and C are in the same closed path', 'assessment': 'correct'}) (input_keys={'student_answer', 'reference_answer', 'question'}),\n",
       " Example({'question': 'Explain your reasoning.', 'student_answer': 'they are in a series of connections with the battery', 'reference_answer': 'A and C are in the same closed path', 'assessment': 'contradictory'}) (input_keys={'student_answer', 'reference_answer', 'question'}),\n",
       " Example({'question': 'Explain your reasoning.', 'student_answer': 'a and c are on the same closed path with the battery', 'reference_answer': 'A and C are in the same closed path', 'assessment': 'correct'}) (input_keys={'student_answer', 'reference_answer', 'question'}),\n",
       " Example({'question': 'Explain your reasoning.', 'student_answer': 'removing a bulb will turn off another bulb', 'reference_answer': 'A and C are in the same closed path', 'assessment': 'correct'}) (input_keys={'student_answer', 'reference_answer', 'question'}),\n",
       " Example({'question': 'Explain your reasoning.', 'student_answer': 'bulbs are on the same closed path', 'reference_answer': 'A and C are in the same closed path', 'assessment': 'correct'}) (input_keys={'student_answer', 'reference_answer', 'question'}),\n",
       " Example({'question': 'Explain your reasoning.', 'student_answer': 'they are located on the same path and will affect each other', 'reference_answer': 'A and C are in the same closed path', 'assessment': 'correct'}) (input_keys={'student_answer', 'reference_answer', 'question'}),\n",
       " Example({'question': 'Explain your reasoning.', 'student_answer': 'bulbs A and C are located on the same path', 'reference_answer': 'A and C are in the same closed path', 'assessment': 'correct'}) (input_keys={'student_answer', 'reference_answer', 'question'}),\n",
       " Example({'question': 'Explain your reasoning.', 'student_answer': 'They are on the same path', 'reference_answer': 'A and C are in the same closed path', 'assessment': 'correct'}) (input_keys={'student_answer', 'reference_answer', 'question'}),\n",
       " Example({'question': 'Explain your reasoning.', 'student_answer': 'they are teh begning and end of the path', 'reference_answer': 'A and C are in the same closed path', 'assessment': 'contradictory'}) (input_keys={'student_answer', 'reference_answer', 'question'}),\n",
       " Example({'question': 'Explain your reasoning.', 'student_answer': 'they can affect each other', 'reference_answer': 'A and C are in the same closed path', 'assessment': 'partially_correct_incomplete'}) (input_keys={'student_answer', 'reference_answer', 'question'}),\n",
       " Example({'question': 'Explain your reasoning.', 'student_answer': 'Because they are connected along the same path', 'reference_answer': 'A and C are in the same closed path', 'assessment': 'correct'}) (input_keys={'student_answer', 'reference_answer', 'question'}),\n",
       " Example({'question': 'Explain your reasoning.', 'student_answer': 'Each bulb affects the other bulbs', 'reference_answer': 'A and C are in the same closed path', 'assessment': 'partially_correct_incomplete'}) (input_keys={'student_answer', 'reference_answer', 'question'}),\n",
       " Example({'question': 'Explain your reasoning.', 'student_answer': 'They are on the same path to the battery without interruption', 'reference_answer': 'A and C are in the same closed path', 'assessment': 'correct'}) (input_keys={'student_answer', 'reference_answer', 'question'}),\n",
       " Example({'question': 'Explain your reasoning.', 'student_answer': 'becuase there is only one path', 'reference_answer': 'A and C are in the same closed path', 'assessment': 'correct'}) (input_keys={'student_answer', 'reference_answer', 'question'}),\n",
       " Example({'question': 'Explain your reasoning.', 'student_answer': 'If any of the 3 bulbs are damaged the other 2 bulbs would turn off because they are all within the same path', 'reference_answer': 'A and C are in the same closed path', 'assessment': 'correct'}) (input_keys={'student_answer', 'reference_answer', 'question'}),\n",
       " Example({'question': 'Explain your reasoning.', 'student_answer': 'Bulb A and bulb C are in the same path.', 'reference_answer': 'A and C are in the same closed path', 'assessment': 'correct'}) (input_keys={'student_answer', 'reference_answer', 'question'}),\n",
       " Example({'question': 'Explain your reasoning.', 'student_answer': 'they are on the same apth', 'reference_answer': 'A and C are in the same closed path', 'assessment': 'correct'}) (input_keys={'student_answer', 'reference_answer', 'question'}),\n",
       " Example({'question': 'Explain your reasoning.', 'student_answer': 'wired in same path', 'reference_answer': 'A and C are in the same closed path', 'assessment': 'correct'}) (input_keys={'student_answer', 'reference_answer', 'question'}),\n",
       " Example({'question': 'Explain your reasoning.', 'student_answer': 'They are all affected by one another along the same path', 'reference_answer': 'A and C are in the same closed path', 'assessment': 'correct'}) (input_keys={'student_answer', 'reference_answer', 'question'}),\n",
       " Example({'question': 'Explain your reasoning.', 'student_answer': 'theya re connectted by another bulb', 'reference_answer': 'A and C are in the same closed path', 'assessment': 'partially_correct_incomplete'}) (input_keys={'student_answer', 'reference_answer', 'question'}),\n",
       " Example({'question': 'Explain your reasoning.', 'student_answer': 'closed path', 'reference_answer': 'A and C are in the same closed path', 'assessment': 'partially_correct_incomplete'}) (input_keys={'student_answer', 'reference_answer', 'question'}),\n",
       " Example({'question': 'Explain your reasoning.', 'student_answer': 'THE ARE ON THE SAME PATH', 'reference_answer': 'A and C are in the same closed path', 'assessment': 'correct'}) (input_keys={'student_answer', 'reference_answer', 'question'}),\n",
       " Example({'question': 'Explain your reasoning.', 'student_answer': 'They are all within the same path.', 'reference_answer': 'A and C are in the same closed path', 'assessment': 'correct'}) (input_keys={'student_answer', 'reference_answer', 'question'}),\n",
       " Example({'question': 'Explain your reasoning.', 'student_answer': 'They are on the same path.', 'reference_answer': 'A and C are in the same closed path', 'assessment': 'correct'}) (input_keys={'student_answer', 'reference_answer', 'question'}),\n",
       " Example({'question': 'Explain your reasoning.', 'student_answer': 'they affect one another', 'reference_answer': 'A and C are in the same closed path', 'assessment': 'partially_correct_incomplete'}) (input_keys={'student_answer', 'reference_answer', 'question'}),\n",
       " Example({'question': 'Explain your reasoning.', 'student_answer': 'bulb a and c are in a closed circuit', 'reference_answer': 'A and C are in the same closed path', 'assessment': 'contradictory'}) (input_keys={'student_answer', 'reference_answer', 'question'}),\n",
       " Example({'question': 'Explain your reasoning.', 'student_answer': 'Bulb A and bulb C affect each other.', 'reference_answer': 'A and C are in the same closed path', 'assessment': 'partially_correct_incomplete'}) (input_keys={'student_answer', 'reference_answer', 'question'}),\n",
       " Example({'question': 'Explain your reasoning.', 'student_answer': 'becuase breaking one  bulb then affects the ability of the others to light up.', 'reference_answer': 'A and C are in the same closed path', 'assessment': 'partially_correct_incomplete'}) (input_keys={'student_answer', 'reference_answer', 'question'}),\n",
       " Example({'question': 'Explain your reasoning.', 'student_answer': 'if one is out the others will go out, they are in the same closed path', 'reference_answer': 'A and C are in the same closed path', 'assessment': 'correct'}) (input_keys={'student_answer', 'reference_answer', 'question'}),\n",
       " Example({'question': 'Explain your reasoning.', 'student_answer': 'They are all on the dame closed path', 'reference_answer': 'A and C are in the same closed path', 'assessment': 'correct'}) (input_keys={'student_answer', 'reference_answer', 'question'}),\n",
       " Example({'question': 'Explain your reasoning.', 'student_answer': 'They are contained on the same closed path.', 'reference_answer': 'A and C are in the same closed path', 'assessment': 'correct'}) (input_keys={'student_answer', 'reference_answer', 'question'}),\n",
       " Example({'question': 'Explain your reasoning.', 'student_answer': 'they are not parallel', 'reference_answer': 'A and C are in the same closed path', 'assessment': 'partially_correct_incomplete'}) (input_keys={'student_answer', 'reference_answer', 'question'}),\n",
       " Example({'question': 'Explain your reasoning.', 'student_answer': 'removing either A or C will turn off the other bulb', 'reference_answer': 'A and C are in the same closed path', 'assessment': 'partially_correct_incomplete'}) (input_keys={'student_answer', 'reference_answer', 'question'}),\n",
       " Example({'question': 'Why didn^t bulbs A and C go out after bulb B burned out?', 'student_answer': 'because bulb a and c were still contained within a closed path with the battery', 'reference_answer': 'Bulbs A and C are still contained in closed paths with the battery', 'assessment': 'correct'}) (input_keys={'student_answer', 'reference_answer', 'question'}),\n",
       " Example({'question': 'Why didn^t bulbs A and C go out after bulb B burned out?', 'student_answer': 'there is still a closed path that contains the battery, bulb a, and bulb c', 'reference_answer': 'Bulbs A and C are still contained in closed paths with the battery', 'assessment': 'correct'}) (input_keys={'student_answer', 'reference_answer', 'question'}),\n",
       " Example({'question': 'Why didn^t bulbs A and C go out after bulb B burned out?', 'student_answer': 'because they are within different paths', 'reference_answer': 'Bulbs A and C are still contained in closed paths with the battery', 'assessment': 'correct'}) (input_keys={'student_answer', 'reference_answer', 'question'}),\n",
       " Example({'question': 'Why didn^t bulbs A and C go out after bulb B burned out?', 'student_answer': 'because bulb a had a seperate closed path from b. bulb c had a seperate closed path from bulb b.', 'reference_answer': 'Bulbs A and C are still contained in closed paths with the battery', 'assessment': 'correct'}) (input_keys={'student_answer', 'reference_answer', 'question'}),\n",
       " Example({'question': 'Why didn^t bulbs A and C go out after bulb B burned out?', 'student_answer': 'because bulb a is in a closed path, and bulb c is in a closed path.', 'reference_answer': 'Bulbs A and C are still contained in closed paths with the battery', 'assessment': 'correct'}) (input_keys={'student_answer', 'reference_answer', 'question'}),\n",
       " Example({'question': 'Why didn^t bulbs A and C go out after bulb B burned out?', 'student_answer': 'because bulbs a and c are on a closed path with the battery', 'reference_answer': 'Bulbs A and C are still contained in closed paths with the battery', 'assessment': 'correct'}) (input_keys={'student_answer', 'reference_answer', 'question'}),\n",
       " Example({'question': 'Why didn^t bulbs A and C go out after bulb B burned out?', 'student_answer': 'because bulb b did not create a gaop.', 'reference_answer': 'Bulbs A and C are still contained in closed paths with the battery', 'assessment': 'contradictory'}) (input_keys={'student_answer', 'reference_answer', 'question'}),\n",
       " Example({'question': 'Why didn^t bulbs A and C go out after bulb B burned out?', 'student_answer': 'because bulb a and c were still in a closed path with the battery.', 'reference_answer': 'Bulbs A and C are still contained in closed paths with the battery', 'assessment': 'correct'}) (input_keys={'student_answer', 'reference_answer', 'question'}),\n",
       " Example({'question': 'Why didn^t bulbs A and C go out after bulb B burned out?', 'student_answer': 'Bulbs A and C were still on closed paths with the battery', 'reference_answer': 'Bulbs A and C are still contained in closed paths with the battery', 'assessment': 'correct'}) (input_keys={'student_answer', 'reference_answer', 'question'}),\n",
       " Example({'question': 'Why didn^t bulbs A and C go out after bulb B burned out?', 'student_answer': 'bulbs a and c are not in the same path of bulb b', 'reference_answer': 'Bulbs A and C are still contained in closed paths with the battery', 'assessment': 'correct'}) (input_keys={'student_answer', 'reference_answer', 'question'}),\n",
       " Example({'question': 'Why didn^t bulbs A and C go out after bulb B burned out?', 'student_answer': 'Because they were contained in closed paths.', 'reference_answer': 'Bulbs A and C are still contained in closed paths with the battery', 'assessment': 'correct'}) (input_keys={'student_answer', 'reference_answer', 'question'}),\n",
       " Example({'question': 'Why didn^t bulbs A and C go out after bulb B burned out?', 'student_answer': 'because the paths were still in a closed circuit with the battery terminal', 'reference_answer': 'Bulbs A and C are still contained in closed paths with the battery', 'assessment': 'contradictory'}) (input_keys={'student_answer', 'reference_answer', 'question'}),\n",
       " Example({'question': 'Why didn^t bulbs A and C go out after bulb B burned out?', 'student_answer': 'Bulbs a and c are in separate paths.', 'reference_answer': 'Bulbs A and C are still contained in closed paths with the battery', 'assessment': 'correct'}) (input_keys={'student_answer', 'reference_answer', 'question'}),\n",
       " Example({'question': 'Why didn^t bulbs A and C go out after bulb B burned out?', 'student_answer': 'because bulb A and C are in a closed path', 'reference_answer': 'Bulbs A and C are still contained in closed paths with the battery', 'assessment': 'correct'}) (input_keys={'student_answer', 'reference_answer', 'question'}),\n",
       " Example({'question': 'Why didn^t bulbs A and C go out after bulb B burned out?', 'student_answer': 'each bulb contains its own closed path', 'reference_answer': 'Bulbs A and C are still contained in closed paths with the battery', 'assessment': 'correct'}) (input_keys={'student_answer', 'reference_answer', 'question'}),\n",
       " Example({'question': 'Why didn^t bulbs A and C go out after bulb B burned out?', 'student_answer': 'there are 3 separate closed pat for the 3 bulbs', 'reference_answer': 'Bulbs A and C are still contained in closed paths with the battery', 'assessment': 'correct'}) (input_keys={'student_answer', 'reference_answer', 'question'}),\n",
       " Example({'question': 'Why didn^t bulbs A and C go out after bulb B burned out?', 'student_answer': 'Bulb A and C are still in a closed path with the battery.', 'reference_answer': 'Bulbs A and C are still contained in closed paths with the battery', 'assessment': 'correct'}) (input_keys={'student_answer', 'reference_answer', 'question'}),\n",
       " Example({'question': 'Why didn^t bulbs A and C go out after bulb B burned out?', 'student_answer': 'They are in independent paths', 'reference_answer': 'Bulbs A and C are still contained in closed paths with the battery', 'assessment': 'partially_correct_incomplete'}) (input_keys={'student_answer', 'reference_answer', 'question'}),\n",
       " Example({'question': 'Why didn^t bulbs A and C go out after bulb B burned out?', 'student_answer': 'still a closed path to the other bulbs', 'reference_answer': 'Bulbs A and C are still contained in closed paths with the battery', 'assessment': 'partially_correct_incomplete'}) (input_keys={'student_answer', 'reference_answer', 'question'}),\n",
       " Example({'question': 'Why didn^t bulbs A and C go out after bulb B burned out?', 'student_answer': 'the path is closed', 'reference_answer': 'Bulbs A and C are still contained in closed paths with the battery', 'assessment': 'partially_correct_incomplete'}) (input_keys={'student_answer', 'reference_answer', 'question'}),\n",
       " Example({'question': 'Why didn^t bulbs A and C go out after bulb B burned out?', 'student_answer': 'because the bulbs are on seperate paths', 'reference_answer': 'Bulbs A and C are still contained in closed paths with the battery', 'assessment': 'correct'}) (input_keys={'student_answer', 'reference_answer', 'question'}),\n",
       " Example({'question': 'Why didn^t bulbs A and C go out after bulb B burned out?', 'student_answer': 'bulbs a and c are seperate from bulb a', 'reference_answer': 'Bulbs A and C are still contained in closed paths with the battery', 'assessment': 'contradictory'}) (input_keys={'student_answer', 'reference_answer', 'question'}),\n",
       " Example({'question': 'Why didn^t bulbs A and C go out after bulb B burned out?', 'student_answer': 'exactly', 'reference_answer': 'Bulbs A and C are still contained in closed paths with the battery', 'assessment': 'non_domain'}) (input_keys={'student_answer', 'reference_answer', 'question'}),\n",
       " Example({'question': 'Why didn^t bulbs A and C go out after bulb B burned out?', 'student_answer': 'they each have their own closed paths', 'reference_answer': 'Bulbs A and C are still contained in closed paths with the battery', 'assessment': 'correct'}) (input_keys={'student_answer', 'reference_answer', 'question'}),\n",
       " Example({'question': 'Why didn^t bulbs A and C go out after bulb B burned out?', 'student_answer': 'bulbs a and c have their own closed paths', 'reference_answer': 'Bulbs A and C are still contained in closed paths with the battery', 'assessment': 'correct'}) (input_keys={'student_answer', 'reference_answer', 'question'}),\n",
       " Example({'question': 'Why didn^t bulbs A and C go out after bulb B burned out?', 'student_answer': 'because of the seperate closed paths, one bulb being burned out doesn\"t affect the others.', 'reference_answer': 'Bulbs A and C are still contained in closed paths with the battery', 'assessment': 'correct'}) (input_keys={'student_answer', 'reference_answer', 'question'}),\n",
       " Example({'question': 'Why didn^t bulbs A and C go out after bulb B burned out?', 'student_answer': 'bulbs a and c are contained in closed paths', 'reference_answer': 'Bulbs A and C are still contained in closed paths with the battery', 'assessment': 'correct'}) (input_keys={'student_answer', 'reference_answer', 'question'}),\n",
       " Example({'question': 'Why didn^t bulbs A and C go out after bulb B burned out?', 'student_answer': 'they are on separate paths', 'reference_answer': 'Bulbs A and C are still contained in closed paths with the battery', 'assessment': 'correct'}) (input_keys={'student_answer', 'reference_answer', 'question'}),\n",
       " Example({'question': 'Why didn^t bulbs A and C go out after bulb B burned out?', 'student_answer': 'they were on closed paths containing the battery', 'reference_answer': 'Bulbs A and C are still contained in closed paths with the battery', 'assessment': 'correct'}) (input_keys={'student_answer', 'reference_answer', 'question'}),\n",
       " Example({'question': 'Why didn^t bulbs A and C go out after bulb B burned out?', 'student_answer': 'bulbs A and C are in different paths that do not contain bulb B', 'reference_answer': 'Bulbs A and C are still contained in closed paths with the battery', 'assessment': 'correct'}) (input_keys={'student_answer', 'reference_answer', 'question'}),\n",
       " Example({'question': 'Why didn^t bulbs A and C go out after bulb B burned out?', 'student_answer': 'They were still contained in a closed path with the batter', 'reference_answer': 'Bulbs A and C are still contained in closed paths with the battery', 'assessment': 'correct'}) (input_keys={'student_answer', 'reference_answer', 'question'}),\n",
       " Example({'question': 'Why didn^t bulbs A and C go out after bulb B burned out?', 'student_answer': 'They were still contained in a closed path with the battery', 'reference_answer': 'Bulbs A and C are still contained in closed paths with the battery', 'assessment': 'correct'}) (input_keys={'student_answer', 'reference_answer', 'question'}),\n",
       " Example({'question': 'Why didn^t bulbs A and C go out after bulb B burned out?', 'student_answer': 'bulb b did not create a gap for bulb a and c', 'reference_answer': 'Bulbs A and C are still contained in closed paths with the battery', 'assessment': 'partially_correct_incomplete'}) (input_keys={'student_answer', 'reference_answer', 'question'}),\n",
       " Example({'question': 'Why didn^t bulbs A and C go out after bulb B burned out?', 'student_answer': 'bulb b did not create a gap in the path for bulb b or c', 'reference_answer': 'Bulbs A and C are still contained in closed paths with the battery', 'assessment': 'partially_correct_incomplete'}) (input_keys={'student_answer', 'reference_answer', 'question'}),\n",
       " Example({'question': 'Why didn^t bulbs A and C go out after bulb B burned out?', 'student_answer': 'bulb b did not create a gap in the path for bulb a and c', 'reference_answer': 'Bulbs A and C are still contained in closed paths with the battery', 'assessment': 'partially_correct_incomplete'}) (input_keys={'student_answer', 'reference_answer', 'question'}),\n",
       " Example({'question': 'Why didn^t bulbs A and C go out after bulb B burned out?', 'student_answer': 'both bulbs a and c still have a closed path', 'reference_answer': 'Bulbs A and C are still contained in closed paths with the battery', 'assessment': 'correct'}) (input_keys={'student_answer', 'reference_answer', 'question'}),\n",
       " Example({'question': 'Why didn^t bulbs A and C go out after bulb B burned out?', 'student_answer': 'there is a closed path to the battery', 'reference_answer': 'Bulbs A and C are still contained in closed paths with the battery', 'assessment': 'partially_correct_incomplete'}) (input_keys={'student_answer', 'reference_answer', 'question'}),\n",
       " Example({'question': 'Why didn^t bulbs A and C go out after bulb B burned out?', 'student_answer': 'the bulbs are contained in a closed path', 'reference_answer': 'Bulbs A and C are still contained in closed paths with the battery', 'assessment': 'correct'}) (input_keys={'student_answer', 'reference_answer', 'question'}),\n",
       " Example({'question': 'Why didn^t bulbs A and C go out after bulb B burned out?', 'student_answer': 'because they were still in a closed path with the battery', 'reference_answer': 'Bulbs A and C are still contained in closed paths with the battery', 'assessment': 'correct'}) (input_keys={'student_answer', 'reference_answer', 'question'}),\n",
       " Example({'question': 'Why didn^t bulbs A and C go out after bulb B burned out?', 'student_answer': 'bulb a and bulb c are not on the same path as bulb B', 'reference_answer': 'Bulbs A and C are still contained in closed paths with the battery', 'assessment': 'correct'}) (input_keys={'student_answer', 'reference_answer', 'question'}),\n",
       " Example({'question': 'Why didn^t bulbs A and C go out after bulb B burned out?', 'student_answer': 'bulb a and bulb c are not on the same path with bulb b', 'reference_answer': 'Bulbs A and C are still contained in closed paths with the battery', 'assessment': 'correct'}) (input_keys={'student_answer', 'reference_answer', 'question'}),\n",
       " Example({'question': 'Why didn^t bulbs A and C go out after bulb B burned out?', 'student_answer': 'Because bulbs A and C are on different closed paths with the battery', 'reference_answer': 'Bulbs A and C are still contained in closed paths with the battery', 'assessment': 'correct'}) (input_keys={'student_answer', 'reference_answer', 'question'}),\n",
       " Example({'question': 'Why didn^t bulbs A and C go out after bulb B burned out?', 'student_answer': 'bulb a and bulb c were still contained in a closed path with the battery.', 'reference_answer': 'Bulbs A and C are still contained in closed paths with the battery', 'assessment': 'correct'}) (input_keys={'student_answer', 'reference_answer', 'question'}),\n",
       " Example({'question': 'Why didn^t bulbs A and C go out after bulb B burned out?', 'student_answer': 'there is still a closed path that contains the battery and bulb a and bulb c', 'reference_answer': 'Bulbs A and C are still contained in closed paths with the battery', 'assessment': 'correct'}) (input_keys={'student_answer', 'reference_answer', 'question'}),\n",
       " Example({'question': 'Why didn^t bulbs A and C go out after bulb B burned out?', 'student_answer': 'bulb a and bulb c still had a complete path to the battery', 'reference_answer': 'Bulbs A and C are still contained in closed paths with the battery', 'assessment': 'contradictory'}) (input_keys={'student_answer', 'reference_answer', 'question'}),\n",
       " Example({'question': 'Why didn^t bulbs A and C go out after bulb B burned out?', 'student_answer': 'bulb b did not create a gap in the path', 'reference_answer': 'Bulbs A and C are still contained in closed paths with the battery', 'assessment': 'partially_correct_incomplete'}) (input_keys={'student_answer', 'reference_answer', 'question'}),\n",
       " Example({'question': 'Why didn^t bulbs A and C go out after bulb B burned out?', 'student_answer': 'there is still a complete path to bulb a and bulb c', 'reference_answer': 'Bulbs A and C are still contained in closed paths with the battery', 'assessment': 'contradictory'}) (input_keys={'student_answer', 'reference_answer', 'question'}),\n",
       " Example({'question': 'Why didn^t bulbs A and C go out after bulb B burned out?', 'student_answer': 'because the bulbs are on separate paths', 'reference_answer': 'Bulbs A and C are still contained in closed paths with the battery', 'assessment': 'correct'}) (input_keys={'student_answer', 'reference_answer', 'question'}),\n",
       " Example({'question': 'Why didn^t bulbs A and C go out after bulb B burned out?', 'student_answer': 'bulbs A and C are on separate paths from bulb B', 'reference_answer': 'Bulbs A and C are still contained in closed paths with the battery', 'assessment': 'correct'}) (input_keys={'student_answer', 'reference_answer', 'question'}),\n",
       " Example({'question': 'Why didn^t bulbs A and C go out after bulb B burned out?', 'student_answer': 'bulbs a and c are connected to the battery on the same path', 'reference_answer': 'Bulbs A and C are still contained in closed paths with the battery', 'assessment': 'contradictory'}) (input_keys={'student_answer', 'reference_answer', 'question'}),\n",
       " Example({'question': 'Why didn^t bulbs A and C go out after bulb B burned out?', 'student_answer': 'the battery is contained on a path with bulb a and b', 'reference_answer': 'Bulbs A and C are still contained in closed paths with the battery', 'assessment': 'contradictory'}) (input_keys={'student_answer', 'reference_answer', 'question'}),\n",
       " Example({'question': 'Why didn^t bulbs A and C go out after bulb B burned out?', 'student_answer': 'the battery is contained on a closed path with bulb a and b', 'reference_answer': 'Bulbs A and C are still contained in closed paths with the battery', 'assessment': 'contradictory'}) (input_keys={'student_answer', 'reference_answer', 'question'}),\n",
       " Example({'question': 'Why didn^t bulbs A and C go out after bulb B burned out?', 'student_answer': 'the battery contains bulb a and b on a closed path', 'reference_answer': 'Bulbs A and C are still contained in closed paths with the battery', 'assessment': 'contradictory'}) (input_keys={'student_answer', 'reference_answer', 'question'}),\n",
       " Example({'question': 'Why didn^t bulbs A and C go out after bulb B burned out?', 'student_answer': 'because the bulbs are in separate paths', 'reference_answer': 'Bulbs A and C are still contained in closed paths with the battery', 'assessment': 'correct'}) (input_keys={'student_answer', 'reference_answer', 'question'}),\n",
       " Example({'question': 'Why didn^t bulbs A and C go out after bulb B burned out?', 'student_answer': 'Because they were still contained in a closed path with the battery', 'reference_answer': 'Bulbs A and C are still contained in closed paths with the battery', 'assessment': 'correct'}) (input_keys={'student_answer', 'reference_answer', 'question'}),\n",
       " Example({'question': 'Why didn^t bulbs A and C go out after bulb B burned out?', 'student_answer': 'They were still on path with the battery.', 'reference_answer': 'Bulbs A and C are still contained in closed paths with the battery', 'assessment': 'correct'}) (input_keys={'student_answer', 'reference_answer', 'question'}),\n",
       " Example({'question': 'Why didn^t bulbs A and C go out after bulb B burned out?', 'student_answer': 'they do not run on the same current', 'reference_answer': 'Bulbs A and C are still contained in closed paths with the battery', 'assessment': 'contradictory'}) (input_keys={'student_answer', 'reference_answer', 'question'}),\n",
       " Example({'question': 'Why didn^t bulbs A and C go out after bulb B burned out?', 'student_answer': 'they are on their own closed paths with the battery', 'reference_answer': 'Bulbs A and C are still contained in closed paths with the battery', 'assessment': 'correct'}) (input_keys={'student_answer', 'reference_answer', 'question'}),\n",
       " Example({'question': 'Why didn^t bulbs A and C go out after bulb B burned out?', 'student_answer': 'Bulbs A and C were still contained on closed paths with the batery', 'reference_answer': 'Bulbs A and C are still contained in closed paths with the battery', 'assessment': 'correct'}) (input_keys={'student_answer', 'reference_answer', 'question'}),\n",
       " Example({'question': 'Why didn^t bulbs A and C go out after bulb B burned out?', 'student_answer': 'Because they are on a pathway that is a closed circuit', 'reference_answer': 'Bulbs A and C are still contained in closed paths with the battery', 'assessment': 'contradictory'}) (input_keys={'student_answer', 'reference_answer', 'question'}),\n",
       " Example({'question': 'Why didn^t bulbs A and C go out after bulb B burned out?', 'student_answer': 'They had their own closed paths', 'reference_answer': 'Bulbs A and C are still contained in closed paths with the battery', 'assessment': 'correct'}) (input_keys={'student_answer', 'reference_answer', 'question'}),\n",
       " Example({'question': 'Why didn^t bulbs A and C go out after bulb B burned out?', 'student_answer': 'Because they were still contained in a closed path to battery', 'reference_answer': 'Bulbs A and C are still contained in closed paths with the battery', 'assessment': 'correct'}) (input_keys={'student_answer', 'reference_answer', 'question'}),\n",
       " Example({'question': 'Why didn^t bulbs A and C go out after bulb B burned out?', 'student_answer': 'because they all have different paths', 'reference_answer': 'Bulbs A and C are still contained in closed paths with the battery', 'assessment': 'correct'}) (input_keys={'student_answer', 'reference_answer', 'question'}),\n",
       " Example({'question': 'Why didn^t bulbs A and C go out after bulb B burned out?', 'student_answer': 'Because bulbs A and C were in a separate closed path', 'reference_answer': 'Bulbs A and C are still contained in closed paths with the battery', 'assessment': 'contradictory'}) (input_keys={'student_answer', 'reference_answer', 'question'}),\n",
       " Example({'question': 'Why didn^t bulbs A and C go out after bulb B burned out?', 'student_answer': 'bulb a and bulb c were still in a closed path with the battery', 'reference_answer': 'Bulbs A and C are still contained in closed paths with the battery', 'assessment': 'correct'}) (input_keys={'student_answer', 'reference_answer', 'question'}),\n",
       " Example({'question': 'Why didn^t bulbs A and C go out after bulb B burned out?', 'student_answer': 'Bulb A and C still had a closed path with the battery.', 'reference_answer': 'Bulbs A and C are still contained in closed paths with the battery', 'assessment': 'contradictory'}) (input_keys={'student_answer', 'reference_answer', 'question'}),\n",
       " Example({'question': 'Why didn^t bulbs A and C go out after bulb B burned out?', 'student_answer': 'they still have connection to the battery', 'reference_answer': 'Bulbs A and C are still contained in closed paths with the battery', 'assessment': 'partially_correct_incomplete'}) (input_keys={'student_answer', 'reference_answer', 'question'}),\n",
       " Example({'question': 'Why didn^t bulbs A and C go out after bulb B burned out?', 'student_answer': 'There is still a closed path for bulb A and C', 'reference_answer': 'Bulbs A and C are still contained in closed paths with the battery', 'assessment': 'correct'}) (input_keys={'student_answer', 'reference_answer', 'question'}),\n",
       " Example({'question': 'Why didn^t bulbs A and C go out after bulb B burned out?', 'student_answer': 'They were still in a closed pathway with the battery.', 'reference_answer': 'Bulbs A and C are still contained in closed paths with the battery', 'assessment': 'correct'}) (input_keys={'student_answer', 'reference_answer', 'question'}),\n",
       " Example({'question': 'Why didn^t bulbs A and C go out after bulb B burned out?', 'student_answer': 'The path was still closed.', 'reference_answer': 'Bulbs A and C are still contained in closed paths with the battery', 'assessment': 'contradictory'}) (input_keys={'student_answer', 'reference_answer', 'question'}),\n",
       " Example({'question': 'Why didn^t bulbs A and C go out after bulb B burned out?', 'student_answer': 'they are on seperate circuits', 'reference_answer': 'Bulbs A and C are still contained in closed paths with the battery', 'assessment': 'contradictory'}) (input_keys={'student_answer', 'reference_answer', 'question'}),\n",
       " Example({'question': 'Why didn^t bulbs A and C go out after bulb B burned out?', 'student_answer': 'Different path', 'reference_answer': 'Bulbs A and C are still contained in closed paths with the battery', 'assessment': 'partially_correct_incomplete'}) (input_keys={'student_answer', 'reference_answer', 'question'}),\n",
       " Example({'question': 'Why didn^t bulbs A and C go out after bulb B burned out?', 'student_answer': 'SEPARATE PATHS', 'reference_answer': 'Bulbs A and C are still contained in closed paths with the battery', 'assessment': 'partially_correct_incomplete'}) (input_keys={'student_answer', 'reference_answer', 'question'}),\n",
       " Example({'question': 'Why didn^t bulbs A and C go out after bulb B burned out?', 'student_answer': 'They were not in the same path as bulb B.', 'reference_answer': 'Bulbs A and C are still contained in closed paths with the battery', 'assessment': 'correct'}) (input_keys={'student_answer', 'reference_answer', 'question'}),\n",
       " Example({'question': 'Why didn^t bulbs A and C go out after bulb B burned out?', 'student_answer': 'Bulbs A and C were still on their own completed circuts.', 'reference_answer': 'Bulbs A and C are still contained in closed paths with the battery', 'assessment': 'correct'}) (input_keys={'student_answer', 'reference_answer', 'question'}),\n",
       " Example({'question': 'Why didn^t bulbs A and C go out after bulb B burned out?', 'student_answer': 'they were still contained in closed circuits with the battery', 'reference_answer': 'Bulbs A and C are still contained in closed paths with the battery', 'assessment': 'contradictory'}) (input_keys={'student_answer', 'reference_answer', 'question'}),\n",
       " Example({'question': 'Why didn^t bulbs A and C go out after bulb B burned out?', 'student_answer': 'they were on another closed path', 'reference_answer': 'Bulbs A and C are still contained in closed paths with the battery', 'assessment': 'correct'}) (input_keys={'student_answer', 'reference_answer', 'question'}),\n",
       " Example({'question': 'Why didn^t bulbs A and C go out after bulb B burned out?', 'student_answer': 'because each bulb has its own path', 'reference_answer': 'Bulbs A and C are still contained in closed paths with the battery', 'assessment': 'correct'}) (input_keys={'student_answer', 'reference_answer', 'question'}),\n",
       " Example({'question': 'Why didn^t bulbs A and C go out after bulb B burned out?', 'student_answer': 'bulbs a and c are still contained in a complete path with the battery.', 'reference_answer': 'Bulbs A and C are still contained in closed paths with the battery', 'assessment': 'contradictory'}) (input_keys={'student_answer', 'reference_answer', 'question'}),\n",
       " Example({'question': 'Why didn^t bulbs A and C go out after bulb B burned out?', 'student_answer': 'because they were still in a closed circuit with the battery', 'reference_answer': 'Bulbs A and C are still contained in closed paths with the battery', 'assessment': 'contradictory'}) (input_keys={'student_answer', 'reference_answer', 'question'}),\n",
       " Example({'question': 'Why didn^t bulbs A and C go out after bulb B burned out?', 'student_answer': 'They are on separate paths.', 'reference_answer': 'Bulbs A and C are still contained in closed paths with the battery', 'assessment': 'correct'}) (input_keys={'student_answer', 'reference_answer', 'question'}),\n",
       " Example({'question': 'Why didn^t bulbs A and C go out after bulb B burned out?', 'student_answer': 'Bulb A and bulb C are on closed paths containing the battery.', 'reference_answer': 'Bulbs A and C are still contained in closed paths with the battery', 'assessment': 'correct'}) (input_keys={'student_answer', 'reference_answer', 'question'}),\n",
       " Example({'question': 'Why didn^t bulbs A and C go out after bulb B burned out?', 'student_answer': 'Becuase they had their own pathways to work on.', 'reference_answer': 'Bulbs A and C are still contained in closed paths with the battery', 'assessment': 'correct'}) (input_keys={'student_answer', 'reference_answer', 'question'}),\n",
       " Example({'question': 'Why didn^t bulbs A and C go out after bulb B burned out?', 'student_answer': 'because they both still had closed paths', 'reference_answer': 'Bulbs A and C are still contained in closed paths with the battery', 'assessment': 'correct'}) (input_keys={'student_answer', 'reference_answer', 'question'}),\n",
       " Example({'question': 'Why didn^t bulbs A and C go out after bulb B burned out?', 'student_answer': 'They all have their own paths connected to the battery', 'reference_answer': 'Bulbs A and C are still contained in closed paths with the battery', 'assessment': 'correct'}) (input_keys={'student_answer', 'reference_answer', 'question'}),\n",
       " Example({'question': 'Why didn^t bulbs A and C go out after bulb B burned out?', 'student_answer': 'Because they are not on the same closed path.', 'reference_answer': 'Bulbs A and C are still contained in closed paths with the battery', 'assessment': 'correct'}) (input_keys={'student_answer', 'reference_answer', 'question'}),\n",
       " Example({'question': 'Why didn^t bulbs A and C go out after bulb B burned out?', 'student_answer': 'because they are not in the same pathway as bulb b.', 'reference_answer': 'Bulbs A and C are still contained in closed paths with the battery', 'assessment': 'correct'}) (input_keys={'student_answer', 'reference_answer', 'question'}),\n",
       " Example({'question': 'Why didn^t bulbs A and C go out after bulb B burned out?', 'student_answer': 'Because bulbs A and C are still contained in a closed path to the battery.', 'reference_answer': 'Bulbs A and C are still contained in closed paths with the battery', 'assessment': 'correct'}) (input_keys={'student_answer', 'reference_answer', 'question'}),\n",
       " Example({'question': 'Why didn^t bulbs A and C go out after bulb B burned out?', 'student_answer': 'because they are on separate paths than B is', 'reference_answer': 'Bulbs A and C are still contained in closed paths with the battery', 'assessment': 'correct'}) (input_keys={'student_answer', 'reference_answer', 'question'}),\n",
       " Example({'question': 'Explain your reasoning.', 'student_answer': 'bulb a and c will still be contained within a closed path of the battery', 'reference_answer': 'Bulbs A and C are still in closed paths with the battery', 'assessment': 'correct'}) (input_keys={'student_answer', 'reference_answer', 'question'}),\n",
       " Example({'question': 'Explain your reasoning.', 'student_answer': 'there is still a closed path that contains the battery, bulb a, and bulb c', 'reference_answer': 'Bulbs A and C are still in closed paths with the battery', 'assessment': 'correct'}) (input_keys={'student_answer', 'reference_answer', 'question'}),\n",
       " ...]"
      ]
     },
     "execution_count": 14,
     "metadata": {},
     "output_type": "execute_result"
    }
   ],
   "source": [
    "dspy_dataset_best_quality_all"
   ]
  },
  {
   "cell_type": "code",
   "execution_count": 15,
   "id": "0df7f059-108b-4378-98e9-a5f8bea22aca",
   "metadata": {},
   "outputs": [
    {
     "name": "stdout",
     "output_type": "stream",
     "text": [
      "we have 5129 data points in total\n"
     ]
    }
   ],
   "source": [
    "print(f\"we have {len(dspy_dataset_best_quality_all)} data points in total\")"
   ]
  },
  {
   "cell_type": "code",
   "execution_count": 16,
   "id": "b902e8b7-400c-46af-9164-f143071dfd6f",
   "metadata": {},
   "outputs": [],
   "source": [
    "# creating a smaller dataset, with 60 examples for each label\n",
    "import random\n",
    "\n",
    "num_examples_per_label = 60\n",
    "\n",
    "# Initialize lists to store examples for each label\n",
    "correct_examples = []\n",
    "partially_correct_examples = []\n",
    "contradictory_examples = []\n",
    "non_domain_examples = []\n",
    "irrelevant_examples = []\n",
    "\n",
    "# Iterate through the original dataset and filter examples by label\n",
    "for example in best_quality_dataset:\n",
    "    label = example[\"label_5way\"]\n",
    "    if label == \"correct\":\n",
    "        correct_examples.append(example)\n",
    "    elif label == \"partially_correct_incomplete\":\n",
    "        partially_correct_examples.append(example)\n",
    "    elif label == \"contradictory\":\n",
    "        contradictory_examples.append(example)\n",
    "    elif label == \"non_domain\":\n",
    "        non_domain_examples.append(example)\n",
    "    elif label == \"irrelevant\":\n",
    "        irrelevant_examples.append(example)\n",
    "\n",
    "# Randomly sample 60 examples for each label\n",
    "sampled_examples = (\n",
    "    random.sample(correct_examples, num_examples_per_label) +\n",
    "    random.sample(partially_correct_examples, num_examples_per_label) +\n",
    "    random.sample(contradictory_examples, num_examples_per_label) +\n",
    "    random.sample(non_domain_examples, num_examples_per_label) +\n",
    "    random.sample(irrelevant_examples, num_examples_per_label)\n",
    ")\n",
    "\n",
    "# Shuffle the sampled examples\n",
    "random.shuffle(sampled_examples)\n",
    "\n",
    "# Create dspy.Example objects for the sampled examples\n",
    "dspy_dataset_equal_distribution = [\n",
    "    dspy.Example(\n",
    "        question=example[\"question\"],\n",
    "        student_answer=example[\"student_answer\"],\n",
    "        reference_answer=example[\"reference_answer\"],\n",
    "        assessment=example[\"label_5way\"]\n",
    "    ).with_inputs(\"question\", \"student_answer\", \"reference_answer\")\n",
    "    for example in sampled_examples\n",
    "]"
   ]
  },
  {
   "cell_type": "code",
   "execution_count": 17,
   "id": "7571e92f-65bf-4ff1-bba5-f6cbefb0d774",
   "metadata": {},
   "outputs": [
    {
     "name": "stdout",
     "output_type": "stream",
     "text": [
      "we have 300 data points in dspy_dataset_equal_distribution\n"
     ]
    }
   ],
   "source": [
    "print(f\"we have {len(dspy_dataset_equal_distribution)} data points in dspy_dataset_equal_distribution\")"
   ]
  },
  {
   "cell_type": "code",
   "execution_count": 18,
   "id": "95555ca4-93c8-4d3d-8355-429b59addcb2",
   "metadata": {},
   "outputs": [],
   "source": [
    "from sklearn.model_selection import train_test_split\n",
    "\n",
    "train_data, dev_data = train_test_split(dspy_dataset_equal_distribution, test_size=0.3, random_state=42)"
   ]
  },
  {
   "cell_type": "code",
   "execution_count": 19,
   "id": "25d38e26-8d0d-4f53-8429-c97ef2ec14ba",
   "metadata": {},
   "outputs": [
    {
     "data": {
      "text/plain": [
       "[Example({'question': 'Explain why you got a voltage reading of 1.5 for terminal 1 and terminal 6.', 'student_answer': 'terminal 1 is connected to the negative battery terminal and terminal 6 is connected to the positive battery terminal', 'reference_answer': 'Terminals 1 and 6 are separated by the gap', 'assessment': 'partially_correct_incomplete'}) (input_keys={'student_answer', 'reference_answer', 'question'}),\n",
       " Example({'question': 'Why?', 'student_answer': 'because a battery always has a charge in its positive terminal', 'reference_answer': 'A battery uses a chemical reaction to maintain different electrical states at the terminals', 'assessment': 'contradictory'}) (input_keys={'student_answer', 'reference_answer', 'question'}),\n",
       " Example({'question': 'Explain why you got a voltage reading of 0 for terminal 5 and the positive terminal.', 'student_answer': 'Terminal 5 is connected to the postive battery terminal', 'reference_answer': 'Terminal 5 and the positive terminal are connected', 'assessment': 'correct'}) (input_keys={'student_answer', 'reference_answer', 'question'}),\n",
       " Example({'question': 'Why was bulb A on when switch Y was open and switch Z was closed?', 'student_answer': 'because the path was closed', 'reference_answer': 'Bulb A is still contained in a closed path with the battery.', 'assessment': 'partially_correct_incomplete'}) (input_keys={'student_answer', 'reference_answer', 'question'}),\n",
       " Example({'question': 'What does a voltage reading of 0 tell you about the connection between a bulb terminal and a battery terminal?', 'student_answer': 'the terminal are seperated by a gap when the bulb goes out', 'reference_answer': 'the terminals are connected', 'assessment': 'irrelevant'}) (input_keys={'student_answer', 'reference_answer', 'question'}),\n",
       " Example({'question': 'As you move the multimeter leads from one bulb terminal to the next, what does it mean when the voltage reading jumps from 0 to 1.5?', 'student_answer': 'There is a gap in between the terminals.', 'reference_answer': 'the terminals are not connected', 'assessment': 'correct'}) (input_keys={'student_answer', 'reference_answer', 'question'}),\n",
       " Example({'question': 'Explain why circuit 2 is not a short circuit.', 'student_answer': 'There is a bulb connected to the battery terminal.', 'reference_answer': 'The battery in 2 is not in a closed path', 'assessment': 'irrelevant'}) (input_keys={'student_answer', 'reference_answer', 'question'}),\n",
       " Example({'question': 'Explain why you got a voltage reading of 1.5 for terminal 1 and the positive terminal.', 'student_answer': 'terminal 1 and the positive terminal are connected.', 'reference_answer': 'Terminal 1 and the positive terminal are not connected', 'assessment': 'contradictory'}) (input_keys={'student_answer', 'reference_answer', 'question'}),\n",
       " Example({'question': 'Explain why you got a voltage reading of 0 for terminal 1 and terminal 2.', 'student_answer': 'Because they were both on the negative terminal.', 'reference_answer': 'Terminals 1 and 2 are connected', 'assessment': 'partially_correct_incomplete'}) (input_keys={'student_answer', 'reference_answer', 'question'}),\n",
       " Example({'question': 'What are the conditions that are required to make a bulb light up?', 'student_answer': 'connection to a battery', 'reference_answer': 'there is a closed path containing both the bulb and a battery', 'assessment': 'partially_correct_incomplete'}) (input_keys={'student_answer', 'reference_answer', 'question'}),\n",
       " Example({'question': 'Explain why you got a voltage reading of 1.5 for terminal 1 and the positive terminal.', 'student_answer': 'the gap separates the positive battery terminal from terminal 1', 'reference_answer': 'Terminal 1 and the positive terminal are separated by the gap', 'assessment': 'correct'}) (input_keys={'student_answer', 'reference_answer', 'question'}),\n",
       " Example({'question': 'Why do both bulbs A and B stay on when bulb C is burned out?', 'student_answer': 'They are contained in a close pathway', 'reference_answer': 'If C burns out then A and B are still in a closed path with the battery', 'assessment': 'correct'}) (input_keys={'student_answer', 'reference_answer', 'question'}),\n",
       " Example({'question': 'Explain why circuit 5 is a short circuit.', 'student_answer': 'the battery  is in a closed path with itself.', 'reference_answer': 'The battery is contained in a closed path which does not contain any other components', 'assessment': 'partially_correct_incomplete'}) (input_keys={'student_answer', 'reference_answer', 'question'}),\n",
       " Example({'question': 'Explain why circuit 5 is a short circuit.', 'student_answer': 'path 5 is a short circuit.', 'reference_answer': 'The battery is contained in a closed path which does not contain any other components', 'assessment': 'irrelevant'}) (input_keys={'student_answer', 'reference_answer', 'question'}),\n",
       " Example({'question': 'As you move the multimeter leads from one bulb terminal to the next, what does it mean when the voltage reading jumps from 0 to 1.5?', 'student_answer': 'negative to positive terminals', 'reference_answer': 'the bulb is damaged', 'assessment': 'contradictory'}) (input_keys={'student_answer', 'reference_answer', 'question'}),\n",
       " Example({'question': 'Explain your reasoning.', 'student_answer': 'bulbs are on the same closed path', 'reference_answer': 'A and C are in the same closed path', 'assessment': 'correct'}) (input_keys={'student_answer', 'reference_answer', 'question'}),\n",
       " Example({'question': 'When switch X was closed and switch Y was open, why was bulb A on?', 'student_answer': 'bulb a was on', 'reference_answer': 'Bulb A was still contained in the same closed path with the battery.', 'assessment': 'irrelevant'}) (input_keys={'student_answer', 'reference_answer', 'question'}),\n",
       " Example({'question': 'Why was bulb A on when switch Y was open and switch Z was closed?', 'student_answer': 'it was in a closed path', 'reference_answer': 'Bulb A is still contained in a closed path with the battery and switch Z.', 'assessment': 'partially_correct_incomplete'}) (input_keys={'student_answer', 'reference_answer', 'question'}),\n",
       " Example({'question': 'Describe the paths in this diagram and explain how those paths account for the results.', 'student_answer': 'if a a bulb is out on the some path as another bulb than the bulb is also out', 'reference_answer': \"Bulb A is in a path which does not contain B and C, so bulbs B and C don't affect it. Bulbs B and C are in the same path. They affect each other, but Bulb A doesn't affect them.\", 'assessment': 'partially_correct_incomplete'}) (input_keys={'student_answer', 'reference_answer', 'question'}),\n",
       " Example({'question': 'Explain why you got a voltage reading of 0 for terminal 4 and the positive terminal.', 'student_answer': 'I don\"t know.', 'reference_answer': 'Terminal 4 and the positive terminal are connected', 'assessment': 'non_domain'}) (input_keys={'student_answer', 'reference_answer', 'question'}),\n",
       " Example({'question': 'Why?', 'student_answer': 'It is the difference of the electrical states caused by a chemical reaction between the two terminals of the battery.', 'reference_answer': 'A battery uses a chemical reaction to maintain different electrical states at the terminals', 'assessment': 'partially_correct_incomplete'}) (input_keys={'student_answer', 'reference_answer', 'question'}),\n",
       " Example({'question': 'Describe the paths in this diagram and explain how those paths account for the results.', 'student_answer': 'bulb does not affect a different path', 'reference_answer': \"Bulb A is in a path which does not contain B and C, so bulbs B and C don't affect it. Bulbs B and C are in the same path. They affect each other, but Bulb A doesn't affect them.\", 'assessment': 'partially_correct_incomplete'}) (input_keys={'student_answer', 'reference_answer', 'question'}),\n",
       " Example({'question': 'Explain why you got a voltage reading of 0 for terminal 1 and terminal 2.', 'student_answer': 'contained in the same circuit not connected to the opposite terminal', 'reference_answer': 'Terminals 1 and 2 are connected', 'assessment': 'contradictory'}) (input_keys={'student_answer', 'reference_answer', 'question'}),\n",
       " Example({'question': 'Explain your reasoning.', 'student_answer': 'bulbs a and c are still contained in a closed path with the battery.', 'reference_answer': 'Bulbs A and C are still in closed paths with the battery', 'assessment': 'correct'}) (input_keys={'student_answer', 'reference_answer', 'question'}),\n",
       " Example({'question': 'Explain why you got a voltage reading of 0 for terminal 4 and the positive terminal.', 'student_answer': 'terminal 4 is connected to the positive terminal of the battery', 'reference_answer': 'Terminal 4 and the positive terminal are connected', 'assessment': 'correct'}) (input_keys={'student_answer', 'reference_answer', 'question'}),\n",
       " Example({'question': 'Why not?', 'student_answer': 'l', 'reference_answer': 'Bulb A is still in a closed path with the battery', 'assessment': 'non_domain'}) (input_keys={'student_answer', 'reference_answer', 'question'}),\n",
       " Example({'question': 'Why do you think the other terminals are being held in a different electrical state than that of the negative terminal?', 'student_answer': 'Because they are connected to the positive terminal.', 'reference_answer': 'Terminals 4, 5 and 6 are not connected to the negative battery terminal', 'assessment': 'correct'}) (input_keys={'student_answer', 'reference_answer', 'question'}),\n",
       " Example({'question': 'Explain why you got a voltage reading of 1.5 for terminal 1 and the positive terminal.', 'student_answer': 'i don\"t know', 'reference_answer': 'Terminal 1 and the positive terminal are not connected', 'assessment': 'non_domain'}) (input_keys={'student_answer', 'reference_answer', 'question'}),\n",
       " Example({'question': 'What does a voltage reading of 1.5 tell you about the connection between a bulb terminal and a battery terminal?', 'student_answer': 'There is a difference in eletrical states.', 'reference_answer': 'the terminals are not connected', 'assessment': 'irrelevant'}) (input_keys={'student_answer', 'reference_answer', 'question'}),\n",
       " Example({'question': 'Explain your reasoning.', 'student_answer': 'bulbs A,B, and C are all on the same path', 'reference_answer': 'A and C are in the same closed path', 'assessment': 'partially_correct_incomplete'}) (input_keys={'student_answer', 'reference_answer', 'question'}),\n",
       " Example({'question': 'Explain your reasoning.', 'student_answer': 'because they share the same path', 'reference_answer': 'B and C are in the same path with the battery', 'assessment': 'correct'}) (input_keys={'student_answer', 'reference_answer', 'question'}),\n",
       " Example({'question': 'Explain why you got a voltage reading of 1.5 for terminal 1 and the positive terminal.', 'student_answer': 'Voltage is the difference between a positive and negative end on a battery.', 'reference_answer': 'Terminal 1 and the positive terminal are separated by the gap', 'assessment': 'irrelevant'}) (input_keys={'student_answer', 'reference_answer', 'question'}),\n",
       " Example({'question': 'Explain why you got a voltage reading of 1.5 for terminal 3 and the positive terminal.', 'student_answer': 'Terminal 2 had a 0.00 V.', 'reference_answer': 'Terminal 3 and the positive terminal are not connected', 'assessment': 'irrelevant'}) (input_keys={'student_answer', 'reference_answer', 'question'}),\n",
       " Example({'question': 'Why was bulb C off when switch Z was open?', 'student_answer': 'Bulb C was in an incomplete path', 'reference_answer': 'There was no longer a closed path containing Bulb C and the battery', 'assessment': 'contradictory'}) (input_keys={'student_answer', 'reference_answer', 'question'}),\n",
       " Example({'question': 'Why not?', 'student_answer': 'its not effecting the current to switch A', 'reference_answer': 'Bulb A is still in a closed path with the battery', 'assessment': 'irrelevant'}) (input_keys={'student_answer', 'reference_answer', 'question'}),\n",
       " Example({'question': 'Why was bulb C off when switch Z was open?', 'student_answer': 'bulb C is not contained in a close path with the battery', 'reference_answer': 'There was no longer a closed path containing Bulb C and the battery', 'assessment': 'correct'}) (input_keys={'student_answer', 'reference_answer', 'question'}),\n",
       " Example({'question': 'When switch X was closed and switch Y was open, why was bulb A on?', 'student_answer': 'There was a closed path between the battery and bulb a.', 'reference_answer': 'Bulb A is still contained in a closed path with the battery and switch X.', 'assessment': 'correct'}) (input_keys={'student_answer', 'reference_answer', 'question'}),\n",
       " Example({'question': 'As you move the multimeter leads from one bulb terminal to the next, what does it mean when the voltage reading jumps from 0 to 1.5?', 'student_answer': 'That when the voltage reading is zero, the terminals are connected, when the voltage reading is 1.5, the terminals are not connected. It jumps from connected to not connected.', 'reference_answer': 'the terminals are not connected', 'assessment': 'correct'}) (input_keys={'student_answer', 'reference_answer', 'question'}),\n",
       " Example({'question': 'What role does the path play in determining whether or not a switch affects a bulb?', 'student_answer': 'the path passes the energy through the switch', 'reference_answer': 'If a bulb and a switch are in the same path the switch affects the bulb', 'assessment': 'irrelevant'}) (input_keys={'student_answer', 'reference_answer', 'question'}),\n",
       " Example({'question': 'As you move the multimeter leads from one bulb terminal to the next, what does it mean when the voltage reading jumps from 0 to 1.5?', 'student_answer': 'I do not know.', 'reference_answer': 'the terminals are not connected', 'assessment': 'non_domain'}) (input_keys={'student_answer', 'reference_answer', 'question'}),\n",
       " Example({'question': 'What are the conditions that are required to make a bulb light up?', 'student_answer': 'a component to the battery', 'reference_answer': 'there is a closed path containing both the bulb and a battery', 'assessment': 'contradictory'}) (input_keys={'student_answer', 'reference_answer', 'question'}),\n",
       " Example({'question': 'Explain why you got a voltage reading of 1.5 for terminal 1 and the positive terminal.', 'student_answer': 'no', 'reference_answer': 'Terminal 1 and the positive terminal are separated by the gap', 'assessment': 'non_domain'}) (input_keys={'student_answer', 'reference_answer', 'question'}),\n",
       " Example({'question': 'Why does measuring voltage help you locate a burned out bulb? Try to answer in terms of electrical states, connections and/ or a gap.', 'student_answer': 'a battery uses a chemical reaction to maintain different electrical states between two terminals', 'reference_answer': 'Measuring voltage indicates the place where the electrical state changes due to a gap.', 'assessment': 'irrelevant'}) (input_keys={'student_answer', 'reference_answer', 'question'}),\n",
       " Example({'question': 'Under what circumstances will a switch affect a bulb?', 'student_answer': 'a switch will effect a bulb if it in the closed path to the battery', 'reference_answer': 'When the switch and the bulb are contained in the same path', 'assessment': 'partially_correct_incomplete'}) (input_keys={'student_answer', 'reference_answer', 'question'}),\n",
       " Example({'question': 'Why was bulb C off when switch Z was open?', 'student_answer': 'Bulb B is in the path of the opened switch', 'reference_answer': 'There was no longer a closed path containing Bulb C and the battery', 'assessment': 'irrelevant'}) (input_keys={'student_answer', 'reference_answer', 'question'}),\n",
       " Example({'question': 'Under what circumstances will a switch affect a bulb?', 'student_answer': 'when the switch is part of the bulb\"s path', 'reference_answer': 'When the switch and the bulb are contained in the same path', 'assessment': 'correct'}) (input_keys={'student_answer', 'reference_answer', 'question'}),\n",
       " Example({'question': 'Explain why you got a voltage reading of 1.5 for terminal 1 and the positive terminal.', 'student_answer': 'the voltage between terminal 1 and the positive terminal is 1.5 V', 'reference_answer': 'Terminal 1 and the positive terminal are not connected', 'assessment': 'irrelevant'}) (input_keys={'student_answer', 'reference_answer', 'question'}),\n",
       " Example({'question': 'Explain why circuit 5 is a short circuit.', 'student_answer': 'path 5 is a short circuit.', 'reference_answer': 'the battery is contained in a path in which there is no bulb', 'assessment': 'irrelevant'}) (input_keys={'student_answer', 'reference_answer', 'question'}),\n",
       " Example({'question': 'Why was bulb C off when switch Z was open?', 'student_answer': 'With switch Z open, bulb C was not contained in a closed path.', 'reference_answer': 'There was no longer a closed path containing Bulb C and the battery', 'assessment': 'correct'}) (input_keys={'student_answer', 'reference_answer', 'question'}),\n",
       " Example({'question': 'Why do you think those terminals and the negative battery terminal are in the same state?', 'student_answer': 'The gap seperates the positive and negative charges', 'reference_answer': 'Terminals 1, 2 and 3 are connected to the negative battery terminal', 'assessment': 'partially_correct_incomplete'}) (input_keys={'student_answer', 'reference_answer', 'question'}),\n",
       " Example({'question': 'Explain why you got a voltage reading of 1.5 for terminal 3 and the positive terminal.', 'student_answer': 'same answer as above', 'reference_answer': 'Terminal 3 and the positive terminal are not connected', 'assessment': 'non_domain'}) (input_keys={'student_answer', 'reference_answer', 'question'}),\n",
       " Example({'question': 'Explain why circuit 4 is not a short circuit.', 'student_answer': 'the battery is not cantained in a closed path', 'reference_answer': 'Circuit 4 has no closed paths', 'assessment': 'correct'}) (input_keys={'student_answer', 'reference_answer', 'question'}),\n",
       " Example({'question': 'Explain your reasoning.', 'student_answer': 'bulbs b and c are contiained in the the same path with the battery.', 'reference_answer': 'A and C are in different paths with the battery', 'assessment': 'irrelevant'}) (input_keys={'student_answer', 'reference_answer', 'question'}),\n",
       " Example({'question': 'Why does measuring voltage help you locate a burned out bulb? Try to answer in terms of electrical states, connections and/ or a gap.', 'student_answer': 'tell answer', 'reference_answer': 'Measuring voltage indicates the place where the electrical state changes due to a damaged bulb.', 'assessment': 'non_domain'}) (input_keys={'student_answer', 'reference_answer', 'question'}),\n",
       " Example({'question': 'Why was bulb A on when switch Y was open and switch Z was closed?', 'student_answer': 'Bulb A is contained in the circuit.', 'reference_answer': 'Bulb A is still contained in a closed path with the battery.', 'assessment': 'partially_correct_incomplete'}) (input_keys={'student_answer', 'reference_answer', 'question'}),\n",
       " Example({'question': 'Why do you think those terminals and the negative battery terminal are in the same state?', 'student_answer': 'since a a gap does not affect the voltage of a battery', 'reference_answer': 'Terminals 1, 2 and 3 are connected to the negative battery terminal', 'assessment': 'irrelevant'}) (input_keys={'student_answer', 'reference_answer', 'question'}),\n",
       " Example({'question': 'Why didn^t bulbs A and C go out after bulb B burned out?', 'student_answer': 'bulb b did not create a gap in the path for bulb b or c', 'reference_answer': 'Bulbs A and C are still contained in closed paths with the battery', 'assessment': 'partially_correct_incomplete'}) (input_keys={'student_answer', 'reference_answer', 'question'}),\n",
       " Example({'question': 'Why not?', 'student_answer': 'its not effecting the current to switch A', 'reference_answer': 'there is still a closed path containing Switch Z, Switch X, Bulbs A and C and the battery', 'assessment': 'irrelevant'}) (input_keys={'student_answer', 'reference_answer', 'question'}),\n",
       " Example({'question': 'Explain your reasoning.', 'student_answer': 'They are on the same path.', 'reference_answer': 'A and C are in the same closed path', 'assessment': 'correct'}) (input_keys={'student_answer', 'reference_answer', 'question'}),\n",
       " Example({'question': 'Explain your reasoning.', 'student_answer': 'removing either A or C will turn off the other bulb', 'reference_answer': 'A and C are in the same closed path', 'assessment': 'partially_correct_incomplete'}) (input_keys={'student_answer', 'reference_answer', 'question'}),\n",
       " Example({'question': 'Explain why you got a voltage reading of 1.5 for terminal 3 and the positive terminal.', 'student_answer': 'The positive battery terminal is separated by a gap from terminal 2.', 'reference_answer': 'Terminal 3 and the positive terminal are not connected', 'assessment': 'irrelevant'}) (input_keys={'student_answer', 'reference_answer', 'question'}),\n",
       " Example({'question': 'Why not?', 'student_answer': 'i don\"t know', 'reference_answer': 'Bulb A is still in a closed path with the battery', 'assessment': 'non_domain'}) (input_keys={'student_answer', 'reference_answer', 'question'}),\n",
       " Example({'question': 'Why do you think those terminals and the negative battery terminal are in the same state?', 'student_answer': 'the terminals are connedted to the negative terminal of the battery.', 'reference_answer': 'Terminals 1, 2 and 3 are connected to the negative battery terminal', 'assessment': 'correct'}) (input_keys={'student_answer', 'reference_answer', 'question'}),\n",
       " Example({'question': 'Explain why you got a voltage reading of 1.5 for terminal 1 and the positive terminal.', 'student_answer': 'there is a gap in the circuit', 'reference_answer': 'Terminal 1 and the positive terminal are separated by the gap', 'assessment': 'partially_correct_incomplete'}) (input_keys={'student_answer', 'reference_answer', 'question'}),\n",
       " Example({'question': 'Why?', 'student_answer': 'There is a chemical reaction.', 'reference_answer': 'A battery uses a chemical reaction to maintain different electrical states at the terminals', 'assessment': 'partially_correct_incomplete'}) (input_keys={'student_answer', 'reference_answer', 'question'}),\n",
       " Example({'question': 'What do you think the red X means?', 'student_answer': 'No electricity is being produced.', 'reference_answer': 'the battery is damaged', 'assessment': 'contradictory'}) (input_keys={'student_answer', 'reference_answer', 'question'}),\n",
       " Example({'question': 'Why was bulb C off when switch Z was open?', 'student_answer': 'bulb c was not connected to the battery.', 'reference_answer': 'Bulb C was no longer in a closed path with the battery', 'assessment': 'partially_correct_incomplete'}) (input_keys={'student_answer', 'reference_answer', 'question'}),\n",
       " Example({'question': 'Explain why circuit 2 is not a short circuit.', 'student_answer': 'it has a battery', 'reference_answer': 'The battery in 2 is not in a closed path', 'assessment': 'partially_correct_incomplete'}) (input_keys={'student_answer', 'reference_answer', 'question'}),\n",
       " Example({'question': 'Explain why you got a voltage reading of 0 for terminal 1 and terminal 4.', 'student_answer': 'same reason as 2', 'reference_answer': 'Terminals 1 and 4 are connected', 'assessment': 'contradictory'}) (input_keys={'student_answer', 'reference_answer', 'question'}),\n",
       " Example({'question': 'Explain your reasoning.', 'student_answer': 'bulb B does not effect the other bulbs', 'reference_answer': 'bulb B creates a gap', 'assessment': 'contradictory'}) (input_keys={'student_answer', 'reference_answer', 'question'}),\n",
       " Example({'question': 'Explain why you got a voltage reading of 0 for terminal 1 and terminal 2.', 'student_answer': 'Becuae they are connected to the negative terminal', 'reference_answer': 'Terminals 1 and 2 are connected', 'assessment': 'partially_correct_incomplete'}) (input_keys={'student_answer', 'reference_answer', 'question'}),\n",
       " Example({'question': 'Why does a damaged bulb impact a circuit?', 'student_answer': 'the path is not closed anymore', 'reference_answer': 'a damaged bulb creates a gap', 'assessment': 'correct'}) (input_keys={'student_answer', 'reference_answer', 'question'}),\n",
       " Example({'question': 'Why was bulb A on when switch Y was open and switch Z was closed?', 'student_answer': 'it has a closed path with the battery', 'reference_answer': 'Bulb A is still contained in a closed path with the battery.', 'assessment': 'correct'}) (input_keys={'student_answer', 'reference_answer', 'question'}),\n",
       " Example({'question': 'Describe the paths in this diagram and explain how those paths account for the results.', 'student_answer': 'tell answer', 'reference_answer': \"Bulb A is in a path which does not contain B and C, so bulbs B and C don't affect it. Bulbs B and C are in the same path. They affect each other, but Bulb A doesn't affect them.\", 'assessment': 'non_domain'}) (input_keys={'student_answer', 'reference_answer', 'question'}),\n",
       " Example({'question': 'Explain why you got a voltage reading of 1.5 for terminal 2 and the positive terminal.', 'student_answer': 'i still dont know', 'reference_answer': 'Terminal 2 and the positive terminal are not connected', 'assessment': 'non_domain'}) (input_keys={'student_answer', 'reference_answer', 'question'}),\n",
       " Example({'question': 'Why not?', 'student_answer': 'bulb a is in a closed path without switch y', 'reference_answer': 'Bulb A is still in a closed path with the battery', 'assessment': 'correct'}) (input_keys={'student_answer', 'reference_answer', 'question'}),\n",
       " Example({'question': 'Explain why you got a voltage reading of 1.5 for terminal 2 and the positive terminal.', 'student_answer': 'Terminal 2 and the positive terminal had different electrical states.', 'reference_answer': 'Terminal 2 and the positive terminal are not connected', 'assessment': 'partially_correct_incomplete'}) (input_keys={'student_answer', 'reference_answer', 'question'}),\n",
       " Example({'question': 'As you move the multimeter leads from one bulb terminal to the next, what does it mean when the voltage reading jumps from 0 to 1.5?', 'student_answer': 'i don\"t know.', 'reference_answer': 'the terminals are not connected', 'assessment': 'non_domain'}) (input_keys={'student_answer', 'reference_answer', 'question'}),\n",
       " Example({'question': 'Why?', 'student_answer': 'The battery uses a chemical reaction to maintain the voltage,', 'reference_answer': 'A battery uses a chemical reaction to maintain different electrical states at the terminals', 'assessment': 'contradictory'}) (input_keys={'student_answer', 'reference_answer', 'question'}),\n",
       " Example({'question': 'What does a voltage reading of 1.5 tell you about the connection between a bulb terminal and a battery terminal?', 'student_answer': 'i do not know', 'reference_answer': 'the terminals are not connected', 'assessment': 'non_domain'}) (input_keys={'student_answer', 'reference_answer', 'question'}),\n",
       " Example({'question': 'Explain why you got a voltage reading of 0 for terminal 1 and terminal 4.', 'student_answer': 'they are connected to each other', 'reference_answer': 'Terminals 1 and 4 are connected', 'assessment': 'correct'}) (input_keys={'student_answer', 'reference_answer', 'question'}),\n",
       " Example({'question': 'Explain why you got a voltage reading of 1.5 for terminal 2 and the positive terminal.', 'student_answer': 'tell answer', 'reference_answer': 'Terminal 2 and the positive terminal are not connected', 'assessment': 'non_domain'}) (input_keys={'student_answer', 'reference_answer', 'question'}),\n",
       " Example({'question': 'Explain why you got a voltage reading of 1.5 for terminal 2 and the positive terminal.', 'student_answer': 'i still dont know', 'reference_answer': 'Terminal 2 and the positive terminal are separated by the gap', 'assessment': 'non_domain'}) (input_keys={'student_answer', 'reference_answer', 'question'}),\n",
       " Example({'question': 'Why do both bulbs A and B stay on when bulb C is burned out?', 'student_answer': 'becaudse the terminica;l circuit bulb sidshfklopc', 'reference_answer': 'If C burns out then A and B are still in a closed path with the battery', 'assessment': 'non_domain'}) (input_keys={'student_answer', 'reference_answer', 'question'}),\n",
       " Example({'question': 'Why do you think the other terminals are being held in a different electrical state than that of the negative terminal?', 'student_answer': 'Terminal 4, terminal 5, and terminal 6 is connected to the positive battery terminal.', 'reference_answer': 'Terminals 4, 5 and 6 are not connected to the negative battery terminal', 'assessment': 'correct'}) (input_keys={'student_answer', 'reference_answer', 'question'}),\n",
       " Example({'question': 'Why didn^t bulbs A and C go out after bulb B burned out?', 'student_answer': 'the path is closed', 'reference_answer': 'Bulbs A and C are still contained in closed paths with the battery', 'assessment': 'partially_correct_incomplete'}) (input_keys={'student_answer', 'reference_answer', 'question'}),\n",
       " Example({'question': 'Explain why you got a voltage reading of 0 for terminal 5 and the positive terminal.', 'student_answer': 'no clue', 'reference_answer': 'Terminal 5 and the positive terminal are connected', 'assessment': 'non_domain'}) (input_keys={'student_answer', 'reference_answer', 'question'}),\n",
       " Example({'question': 'Explain why you got a voltage reading of 1.5 for terminal 1 and the positive terminal.', 'student_answer': 'i don\"t know.', 'reference_answer': 'Terminal 1 and the positive terminal are not connected', 'assessment': 'non_domain'}) (input_keys={'student_answer', 'reference_answer', 'question'}),\n",
       " Example({'question': 'What role does the path play in determining whether or not a switch affects a bulb?', 'student_answer': 'I don\"t know', 'reference_answer': 'If a bulb and a switch are in the same path the switch affects the bulb', 'assessment': 'non_domain'}) (input_keys={'student_answer', 'reference_answer', 'question'}),\n",
       " Example({'question': 'Why do both bulbs A and B stay on when bulb C is burned out?', 'student_answer': 'no i do not want to', 'reference_answer': 'If C burns out then A and B are still in a closed path with the battery', 'assessment': 'non_domain'}) (input_keys={'student_answer', 'reference_answer', 'question'}),\n",
       " Example({'question': 'Explain why you got a voltage reading of 1.5 for terminal 1 and the positive terminal.', 'student_answer': 'the positive terminal', 'reference_answer': 'Terminal 1 and the positive terminal are separated by the gap', 'assessment': 'irrelevant'}) (input_keys={'student_answer', 'reference_answer', 'question'}),\n",
       " Example({'question': 'Explain why you got a voltage reading of 1.5 for terminal 1 and terminal 6.', 'student_answer': 'it closes the circuit', 'reference_answer': 'Terminals 1 and 6 are separated by the gap', 'assessment': 'contradictory'}) (input_keys={'student_answer', 'reference_answer', 'question'}),\n",
       " Example({'question': 'Explain why you got a voltage reading of 1.5 for terminal 1 and the positive terminal.', 'student_answer': 'because voltage measures the difference between two points', 'reference_answer': 'Terminal 1 and the positive terminal are not connected', 'assessment': 'irrelevant'}) (input_keys={'student_answer', 'reference_answer', 'question'}),\n",
       " Example({'question': 'Under what circumstances will a damaged/ burned out bulb affect another bulb?', 'student_answer': 'the other bulb will not light.', 'reference_answer': 'If they are in the same path the burned out bulb affects the other bulb.', 'assessment': 'irrelevant'}) (input_keys={'student_answer', 'reference_answer', 'question'}),\n",
       " Example({'question': 'What are the conditions that are required to make a bulb light up?', 'student_answer': 'It must be connected to the battery.', 'reference_answer': 'there is a closed path containing both the bulb and a battery', 'assessment': 'partially_correct_incomplete'}) (input_keys={'student_answer', 'reference_answer', 'question'}),\n",
       " Example({'question': 'Why does measuring voltage help you locate a burned out bulb? Try to answer in terms of electrical states, connections and/ or a gap.', 'student_answer': 'a gap causes a chemical reaction', 'reference_answer': 'Measuring voltage indicates the place where the electrical state changes due to a gap.', 'assessment': 'contradictory'}) (input_keys={'student_answer', 'reference_answer', 'question'}),\n",
       " Example({'question': 'Explain why circuit 5 is a short circuit.', 'student_answer': 'the batter is in a closed path without any other components.', 'reference_answer': 'The battery is contained in a closed path which does not contain any other components', 'assessment': 'correct'}) (input_keys={'student_answer', 'reference_answer', 'question'}),\n",
       " Example({'question': 'Explain your reasoning.', 'student_answer': 'They are all on the dame closed path', 'reference_answer': 'A and C are in the same closed path', 'assessment': 'correct'}) (input_keys={'student_answer', 'reference_answer', 'question'}),\n",
       " Example({'question': 'Why was bulb C off when switch Z was open?', 'student_answer': 'Z being open created a gap in the circut.', 'reference_answer': 'Bulb C was no longer in a closed path with the battery', 'assessment': 'partially_correct_incomplete'}) (input_keys={'student_answer', 'reference_answer', 'question'}),\n",
       " Example({'question': 'What role does the path play in determining whether or not a switch affects a bulb?', 'student_answer': 'a switch is contained in the path', 'reference_answer': 'If a bulb and a switch are in the same path the switch affects the bulb', 'assessment': 'partially_correct_incomplete'}) (input_keys={'student_answer', 'reference_answer', 'question'}),\n",
       " Example({'question': 'Why does measuring voltage help you locate a burned out bulb? Try to answer in terms of electrical states, connections and/ or a gap.', 'student_answer': 'i dont know.', 'reference_answer': 'Measuring voltage indicates the place where the electrical state changes due to a damaged bulb.', 'assessment': 'non_domain'}) (input_keys={'student_answer', 'reference_answer', 'question'}),\n",
       " Example({'question': 'Why was bulb A on when switch Y was open and switch Z was closed?', 'student_answer': 'the bettery is contained in the terminal', 'reference_answer': 'Bulb A is still contained in a closed path with the battery and switch Z.', 'assessment': 'contradictory'}) (input_keys={'student_answer', 'reference_answer', 'question'}),\n",
       " Example({'question': 'Explain why you got a voltage reading of 1.5 for terminal 1 and the positive terminal.', 'student_answer': 'Because terminal 1 had no gap.', 'reference_answer': 'Terminal 1 and the positive terminal are not connected', 'assessment': 'contradictory'}) (input_keys={'student_answer', 'reference_answer', 'question'}),\n",
       " Example({'question': 'Explain your reasoning.', 'student_answer': 'nooyutgyhjiko', 'reference_answer': 'If bulb A burns out, B and C are no longer in a closed path with the battery', 'assessment': 'non_domain'}) (input_keys={'student_answer', 'reference_answer', 'question'}),\n",
       " Example({'question': 'Why do you think those terminals and the negative battery terminal are in the same state?', 'student_answer': 'they are not connected to the battery', 'reference_answer': 'Terminals 1, 2 and 3 are connected to the negative battery terminal', 'assessment': 'contradictory'}) (input_keys={'student_answer', 'reference_answer', 'question'}),\n",
       " Example({'question': 'Why?', 'student_answer': 'The voltage does not change.', 'reference_answer': 'A battery uses a chemical reaction to maintain different electrical states at the terminals', 'assessment': 'irrelevant'}) (input_keys={'student_answer', 'reference_answer', 'question'}),\n",
       " Example({'question': 'What does a voltage reading of 1.5 tell you about the connection between a bulb terminal and a battery terminal?', 'student_answer': 'There is a gap.', 'reference_answer': 'the terminals are not connected', 'assessment': 'correct'}) (input_keys={'student_answer', 'reference_answer', 'question'}),\n",
       " Example({'question': 'Explain why you got a voltage reading of 1.5 for terminal 2 and the positive terminal.', 'student_answer': 'The positive battery terminal is separated by a gap from terminal 1.', 'reference_answer': 'Terminal 2 and the positive terminal are separated by the gap', 'assessment': 'irrelevant'}) (input_keys={'student_answer', 'reference_answer', 'question'}),\n",
       " Example({'question': 'Why was bulb C off when switch Z was open?', 'student_answer': 'because bulb C is not connected to switch z', 'reference_answer': 'Bulb C was no longer in a closed path with the battery', 'assessment': 'contradictory'}) (input_keys={'student_answer', 'reference_answer', 'question'}),\n",
       " Example({'question': 'Why does measuring voltage help you locate a burned out bulb? Try to answer in terms of electrical states, connections and/ or a gap.', 'student_answer': 'you can locate the gap in a connection', 'reference_answer': 'Measuring voltage indicates the place where the electrical state changes due to a damaged bulb.', 'assessment': 'correct'}) (input_keys={'student_answer', 'reference_answer', 'question'}),\n",
       " Example({'question': 'Why does measuring voltage help you locate a burned out bulb? Try to answer in terms of electrical states, connections and/ or a gap.', 'student_answer': 'if there is a gap in the circuit there the bulb will not light up.', 'reference_answer': 'Measuring voltage indicates the place where the electrical state changes due to a gap.', 'assessment': 'irrelevant'}) (input_keys={'student_answer', 'reference_answer', 'question'}),\n",
       " Example({'question': 'Explain why you got a voltage reading of 1.5 for terminal 1 and terminal 6.', 'student_answer': 'Because they are not connected within the same terminal.', 'reference_answer': 'Terminals 1 and 6 are separated by the gap', 'assessment': 'correct'}) (input_keys={'student_answer', 'reference_answer', 'question'}),\n",
       " Example({'question': 'Why?', 'student_answer': 'dont know', 'reference_answer': 'A battery uses a chemical reaction to maintain different electrical states at the terminals', 'assessment': 'non_domain'}) (input_keys={'student_answer', 'reference_answer', 'question'}),\n",
       " Example({'question': 'Why do you think those terminals and the negative battery terminal are in the same state?', 'student_answer': 'because they have the same voltage', 'reference_answer': 'Terminals 1, 2 and 3 are connected to the negative battery terminal', 'assessment': 'irrelevant'}) (input_keys={'student_answer', 'reference_answer', 'question'}),\n",
       " Example({'question': 'Why does measuring voltage help you locate a burned out bulb? Try to answer in terms of electrical states, connections and/ or a gap.', 'student_answer': 'k', 'reference_answer': 'Measuring voltage indicates the place where the electrical state changes due to a gap.', 'assessment': 'non_domain'}) (input_keys={'student_answer', 'reference_answer', 'question'}),\n",
       " Example({'question': 'Why do you think the other terminals are being held in a different electrical state than that of the negative terminal?', 'student_answer': 'your an idiot', 'reference_answer': 'Terminals 4, 5 and 6 are not connected to the negative battery terminal', 'assessment': 'non_domain'}) (input_keys={'student_answer', 'reference_answer', 'question'}),\n",
       " Example({'question': 'Explain your reasoning.', 'student_answer': 'they are teh begning and end of the path', 'reference_answer': 'A and C are in the same closed path', 'assessment': 'contradictory'}) (input_keys={'student_answer', 'reference_answer', 'question'}),\n",
       " Example({'question': 'Why do you think those terminals and the negative battery terminal are in the same state?', 'student_answer': 'Because these terminals all had a reading of 0.0 volts', 'reference_answer': 'Terminals 1, 2 and 3 are connected to the negative battery terminal', 'assessment': 'irrelevant'}) (input_keys={'student_answer', 'reference_answer', 'question'}),\n",
       " Example({'question': 'Describe the paths in this diagram and explain how those paths account for the results.', 'student_answer': 'the bulb will be on if it is still on a closed path', 'reference_answer': \"Bulb A is in a path which does not contain B and C, so bulbs B and C don't affect it. Bulbs B and C are in the same path. They affect each other, but Bulb A doesn't affect them.\", 'assessment': 'irrelevant'}) (input_keys={'student_answer', 'reference_answer', 'question'}),\n",
       " Example({'question': 'Explain your reasoning.', 'student_answer': 'because the outcome of the bulb will not affect each other', 'reference_answer': 'A and C are in different paths with the battery', 'assessment': 'irrelevant'}) (input_keys={'student_answer', 'reference_answer', 'question'}),\n",
       " Example({'question': 'Explain why you got a voltage reading of 1.5 for terminal 1 and the positive terminal.', 'student_answer': 'not sure', 'reference_answer': 'Terminal 1 and the positive terminal are separated by the gap', 'assessment': 'non_domain'}) (input_keys={'student_answer', 'reference_answer', 'question'}),\n",
       " Example({'question': 'Why does measuring voltage help you locate a burned out bulb? Try to answer in terms of electrical states, connections and/ or a gap.', 'student_answer': 'It will help find where the gap in the circuit is.', 'reference_answer': 'Measuring voltage indicates the place where the electrical state changes due to a gap.', 'assessment': 'partially_correct_incomplete'}) (input_keys={'student_answer', 'reference_answer', 'question'}),\n",
       " Example({'question': 'Explain why circuit 5 is a short circuit.', 'student_answer': 'the battery is connected to itself in a closed path', 'reference_answer': 'the battery is contained in a path in which there is no bulb', 'assessment': 'partially_correct_incomplete'}) (input_keys={'student_answer', 'reference_answer', 'question'}),\n",
       " Example({'question': 'Why?', 'student_answer': 'there is always voltage even if there is a gap', 'reference_answer': 'A battery uses a chemical reaction to maintain different electrical states at the terminals', 'assessment': 'irrelevant'}) (input_keys={'student_answer', 'reference_answer', 'question'}),\n",
       " Example({'question': 'Explain why you got a voltage reading of 1.5 for terminal 1 and the positive terminal.', 'student_answer': 'because there was no separation in the positive battery terminal and terminal 1.', 'reference_answer': 'Terminal 1 and the positive terminal are not connected', 'assessment': 'contradictory'}) (input_keys={'student_answer', 'reference_answer', 'question'}),\n",
       " Example({'question': 'Explain why you got a voltage reading of 0 for terminal 1 and terminal 2.', 'student_answer': 'The are both connected the negative battery terminal.', 'reference_answer': 'Terminals 1 and 2 are connected', 'assessment': 'partially_correct_incomplete'}) (input_keys={'student_answer', 'reference_answer', 'question'}),\n",
       " Example({'question': 'Explain why you got a voltage reading of 1.5 for terminal 3 and the positive terminal.', 'student_answer': 'i dont know', 'reference_answer': 'Terminal 3 and the positive terminal are not connected', 'assessment': 'non_domain'}) (input_keys={'student_answer', 'reference_answer', 'question'}),\n",
       " Example({'question': 'Explain why you got a voltage reading of 0 for terminal 4 and the positive terminal.', 'student_answer': 'the  negative batter terminal is seperated by a gap from terminal 4', 'reference_answer': 'Terminal 4 and the positive terminal are connected', 'assessment': 'correct'}) (input_keys={'student_answer', 'reference_answer', 'question'}),\n",
       " Example({'question': 'Explain your reasoning.', 'student_answer': '?', 'reference_answer': 'bulb B creates a gap', 'assessment': 'non_domain'}) (input_keys={'student_answer', 'reference_answer', 'question'}),\n",
       " Example({'question': 'Explain why you got a voltage reading of 1.5 for terminal 1 and the positive terminal.', 'student_answer': '?', 'reference_answer': 'Terminal 1 and the positive terminal are not connected', 'assessment': 'non_domain'}) (input_keys={'student_answer', 'reference_answer', 'question'}),\n",
       " Example({'question': 'Why?', 'student_answer': 'because the voltage is the difference in electrical states between two terminals', 'reference_answer': 'A battery uses a chemical reaction to maintain different electrical states at the terminals', 'assessment': 'irrelevant'}) (input_keys={'student_answer', 'reference_answer', 'question'}),\n",
       " Example({'question': 'Why does measuring voltage help you locate a burned out bulb? Try to answer in terms of electrical states, connections and/ or a gap.', 'student_answer': 'you can measure voltage to see if there is a gap that the bulb caused.', 'reference_answer': 'Measuring voltage indicates the place where the electrical state changes due to a damaged bulb.', 'assessment': 'correct'}) (input_keys={'student_answer', 'reference_answer', 'question'}),\n",
       " Example({'question': 'What do you think the red X means?', 'student_answer': 'wrong', 'reference_answer': 'the battery is damaged', 'assessment': 'contradictory'}) (input_keys={'student_answer', 'reference_answer', 'question'}),\n",
       " Example({'question': 'Why was bulb A on when switch Y was open and switch Z was closed?', 'student_answer': 'Because switch Y occurs after Bulb A and does not affect it.', 'reference_answer': 'Bulb A is still contained in a closed path with the battery.', 'assessment': 'contradictory'}) (input_keys={'student_answer', 'reference_answer', 'question'}),\n",
       " Example({'question': 'What role does the path play in determining whether or not a switch affects a bulb?', 'student_answer': 'The path determines if the bulb will turn on or not', 'reference_answer': 'If a bulb and a switch are in the same path the switch affects the bulb', 'assessment': 'partially_correct_incomplete'}) (input_keys={'student_answer', 'reference_answer', 'question'}),\n",
       " Example({'question': 'Explain why you got a voltage reading of 0 for terminal 1 and terminal 2.', 'student_answer': 'terminal 1 and 2 have the same difference in electrical states', 'reference_answer': 'Terminals 1 and 2 are connected', 'assessment': 'contradictory'}) (input_keys={'student_answer', 'reference_answer', 'question'}),\n",
       " Example({'question': 'Explain why you got a voltage reading of 0 for terminal 4 and the positive terminal.', 'student_answer': 'bulb b created a gap', 'reference_answer': 'Terminal 4 and the positive terminal are connected', 'assessment': 'irrelevant'}) (input_keys={'student_answer', 'reference_answer', 'question'}),\n",
       " Example({'question': 'Describe the paths in this diagram and explain how those paths account for the results.', 'student_answer': 'gaps', 'reference_answer': \"Bulb A is in a path which does not contain B and C, so bulbs B and C don't affect it. Bulbs B and C are in the same path. They affect each other, but Bulb A doesn't affect them.\", 'assessment': 'contradictory'}) (input_keys={'student_answer', 'reference_answer', 'question'}),\n",
       " Example({'question': 'Explain why you got a voltage reading of 1.5 for terminal 1 and terminal 6.', 'student_answer': 'there is a gap', 'reference_answer': 'There is a gap between terminals 1 and 6', 'assessment': 'partially_correct_incomplete'}) (input_keys={'student_answer', 'reference_answer', 'question'}),\n",
       " Example({'question': 'Explain why circuit 2 is not a short circuit.', 'student_answer': 'circuit 2 is not a short circuit because the battery is not in a closed path.', 'reference_answer': 'The battery in 2 is not in a closed path', 'assessment': 'correct'}) (input_keys={'student_answer', 'reference_answer', 'question'}),\n",
       " Example({'question': 'What are the conditions that are required to make a bulb light up?', 'student_answer': 'They have to be closed circuts', 'reference_answer': 'there is a closed path containing both the bulb and a battery', 'assessment': 'contradictory'}) (input_keys={'student_answer', 'reference_answer', 'question'}),\n",
       " Example({'question': 'Under what circumstances will a switch affect a bulb?', 'student_answer': 'If it is interrupting the path of the bulb and the battery', 'reference_answer': 'When the switch and the bulb are contained in the same path', 'assessment': 'partially_correct_incomplete'}) (input_keys={'student_answer', 'reference_answer', 'question'}),\n",
       " Example({'question': 'What does a voltage reading of 0 tell you about the connection between a bulb terminal and a battery terminal?', 'student_answer': 'they are the same', 'reference_answer': 'the terminals are connected', 'assessment': 'irrelevant'}) (input_keys={'student_answer', 'reference_answer', 'question'}),\n",
       " Example({'question': 'What does a voltage reading of 0 tell you about the connection between a bulb terminal and a battery terminal?', 'student_answer': 'i dont know the rest', 'reference_answer': 'the terminals are connected', 'assessment': 'non_domain'}) (input_keys={'student_answer', 'reference_answer', 'question'}),\n",
       " Example({'question': 'When switch X was open and switch Y was closed, why were bulbs B and C on?', 'student_answer': 'switch x is not in the same path as bulbs b and c.', 'reference_answer': 'Bulb B and Bulb C were still contained in the same closed path with the battery.', 'assessment': 'correct'}) (input_keys={'student_answer', 'reference_answer', 'question'}),\n",
       " Example({'question': 'Explain your reasoning.', 'student_answer': 'they are connected int he same closed path', 'reference_answer': 'A and C are in different paths with the battery', 'assessment': 'contradictory'}) (input_keys={'student_answer', 'reference_answer', 'question'}),\n",
       " Example({'question': 'Explain why circuit 2 is not a short circuit.', 'student_answer': 'it only has 1 connection.', 'reference_answer': 'The battery in 2 is not in a closed path', 'assessment': 'partially_correct_incomplete'}) (input_keys={'student_answer', 'reference_answer', 'question'}),\n",
       " Example({'question': 'Explain your reasoning.', 'student_answer': 'i dont know.', 'reference_answer': 'A and C are in different paths with the battery', 'assessment': 'non_domain'}) (input_keys={'student_answer', 'reference_answer', 'question'}),\n",
       " Example({'question': 'Why does measuring voltage help you locate a burned out bulb? Try to answer in terms of electrical states, connections and/ or a gap.', 'student_answer': 'the bulb causes a gap', 'reference_answer': 'Measuring voltage indicates the place where the electrical state changes due to a gap.', 'assessment': 'partially_correct_incomplete'}) (input_keys={'student_answer', 'reference_answer', 'question'}),\n",
       " Example({'question': 'Why does measuring voltage help you locate a burned out bulb? Try to answer in terms of electrical states, connections and/ or a gap.', 'student_answer': 'because a difference in voltage is due to a gap.', 'reference_answer': 'Measuring voltage indicates the place where the electrical state changes due to a damaged bulb.', 'assessment': 'partially_correct_incomplete'}) (input_keys={'student_answer', 'reference_answer', 'question'}),\n",
       " Example({'question': 'What are the conditions that are required to make a bulb light up?', 'student_answer': 'There must be a closed path and a battery.', 'reference_answer': 'there is a closed path containing both the bulb and a battery', 'assessment': 'partially_correct_incomplete'}) (input_keys={'student_answer', 'reference_answer', 'question'}),\n",
       " Example({'question': 'What is voltage?', 'student_answer': 'The measured difference between two electrical states.', 'reference_answer': 'Voltage is the difference in electrical states between two terminals', 'assessment': 'partially_correct_incomplete'}) (input_keys={'student_answer', 'reference_answer', 'question'}),\n",
       " Example({'question': 'Explain why circuit 5 is a short circuit.', 'student_answer': '2', 'reference_answer': 'The battery is contained in a closed path which does not contain any other components', 'assessment': 'contradictory'}) (input_keys={'student_answer', 'reference_answer', 'question'}),\n",
       " Example({'question': 'Explain why you got a voltage reading of 1.5 for terminal 1 and the positive terminal.', 'student_answer': 'the positive terminal is connected to the bulb', 'reference_answer': 'Terminal 1 and the positive terminal are not connected', 'assessment': 'irrelevant'}) (input_keys={'student_answer', 'reference_answer', 'question'}),\n",
       " Example({'question': 'Explain why you got a voltage reading of 1.5 for terminal 1 and the positive terminal.', 'student_answer': 'positive connected to negative terminal', 'reference_answer': 'Terminal 1 and the positive terminal are not connected', 'assessment': 'contradictory'}) (input_keys={'student_answer', 'reference_answer', 'question'}),\n",
       " Example({'question': 'Why does measuring voltage help you locate a burned out bulb? Try to answer in terms of electrical states, connections and/ or a gap.', 'student_answer': 'Electrical states between connected terminals will differ than those that are separated by a gap.', 'reference_answer': 'Measuring voltage indicates the place where the electrical state changes due to a damaged bulb.', 'assessment': 'partially_correct_incomplete'}) (input_keys={'student_answer', 'reference_answer', 'question'}),\n",
       " Example({'question': 'Explain why you got a voltage reading of 1.5 for terminal 1 and the positive terminal.', 'student_answer': 'It was a mistake. I looked at it wrong.', 'reference_answer': 'Terminal 1 and the positive terminal are separated by the gap', 'assessment': 'non_domain'}) (input_keys={'student_answer', 'reference_answer', 'question'}),\n",
       " Example({'question': 'Why does measuring voltage help you locate a burned out bulb? Try to answer in terms of electrical states, connections and/ or a gap.', 'student_answer': 'measuring voltage checks for connections and gaps. It measures the electrical states between two terminals.', 'reference_answer': 'Measuring voltage indicates the place where the electrical state changes due to a damaged bulb.', 'assessment': 'partially_correct_incomplete'}) (input_keys={'student_answer', 'reference_answer', 'question'}),\n",
       " Example({'question': 'Explain why you got a voltage reading of 0 for terminal 6 and the positive terminal.', 'student_answer': 'the negative battery terminal is separated by a gap from terminal 6 and bulb c is damaged', 'reference_answer': 'Terminal 6 and the positive terminal are connected', 'assessment': 'correct'}) (input_keys={'student_answer', 'reference_answer', 'question'}),\n",
       " Example({'question': 'What role does the path play in determining whether or not a switch affects a bulb?', 'student_answer': 'if the switch is included in the bulb\"s closed path, then the switch being open will affect the bulb', 'reference_answer': 'If a bulb and a switch are in the same path the switch affects the bulb', 'assessment': 'correct'}) (input_keys={'student_answer', 'reference_answer', 'question'}),\n",
       " Example({'question': 'Why?', 'student_answer': 'I don\"t know', 'reference_answer': 'A battery uses a chemical reaction to maintain different electrical states at the terminals', 'assessment': 'non_domain'}) (input_keys={'student_answer', 'reference_answer', 'question'}),\n",
       " Example({'question': 'Why does an open switch impact a circuit?', 'student_answer': 'Because it stops the battery from being connected.', 'reference_answer': 'the open switch creates a gap', 'assessment': 'partially_correct_incomplete'}) (input_keys={'student_answer', 'reference_answer', 'question'}),\n",
       " Example({'question': 'When switch X was closed and switch Y was open, why was bulb A on?', 'student_answer': 'Bulb A has a closed pathway', 'reference_answer': 'Bulb A was still contained in the same closed path with the battery.', 'assessment': 'partially_correct_incomplete'}) (input_keys={'student_answer', 'reference_answer', 'question'}),\n",
       " Example({'question': 'Why?', 'student_answer': 'the voltage of the battery does not depend on the components in a curcuit. It depends on a chemical reaction.', 'reference_answer': 'A battery uses a chemical reaction to maintain different electrical states at the terminals', 'assessment': 'partially_correct_incomplete'}) (input_keys={'student_answer', 'reference_answer', 'question'}),\n",
       " Example({'question': 'Why not?', 'student_answer': 'It is still contained in a closed path', 'reference_answer': 'there is still a closed path containing Switch Z, Switch X, Bulbs A and C and the battery', 'assessment': 'correct'}) (input_keys={'student_answer', 'reference_answer', 'question'}),\n",
       " Example({'question': 'Why do both bulbs A and B stay on when bulb C is burned out?', 'student_answer': 'Bulb B and bulb A were still contained in a closed path with the battery.', 'reference_answer': 'If C burns out then A and B are still in a closed path with the battery', 'assessment': 'correct'}) (input_keys={'student_answer', 'reference_answer', 'question'}),\n",
       " Example({'question': 'What role does the path play in determining whether or not a switch affects a bulb?', 'student_answer': 'The bulb has to be in the same closed path as the battery which is connected to the switch.', 'reference_answer': 'If a bulb and a switch are in the same path the switch affects the bulb', 'assessment': 'correct'}) (input_keys={'student_answer', 'reference_answer', 'question'}),\n",
       " Example({'question': 'Explain why you got a voltage reading of 1.5 for terminal 1 and the positive terminal.', 'student_answer': 'i do not understand', 'reference_answer': 'Terminal 1 and the positive terminal are not connected', 'assessment': 'non_domain'}) (input_keys={'student_answer', 'reference_answer', 'question'}),\n",
       " Example({'question': 'Why does measuring voltage help you locate a burned out bulb? Try to answer in terms of electrical states, connections and/ or a gap.', 'student_answer': 'if the electrical state is non-zero you can find the gap in the circuit', 'reference_answer': 'Measuring voltage indicates the place where the electrical state changes due to a damaged bulb.', 'assessment': 'partially_correct_incomplete'}) (input_keys={'student_answer', 'reference_answer', 'question'}),\n",
       " Example({'question': 'Why was bulb C off when switch Z was open?', 'student_answer': 'gap in the path to the battery', 'reference_answer': 'There was no longer a closed path containing Bulb C and the battery', 'assessment': 'partially_correct_incomplete'}) (input_keys={'student_answer', 'reference_answer', 'question'}),\n",
       " Example({'question': 'Describe the paths in this diagram and explain how those paths account for the results.', 'student_answer': 'sigh, some things never change. this da 21st centuary, u woudl think they could have programmed you smarter', 'reference_answer': \"Bulb A is in a path which does not contain B and C, so bulbs B and C don't affect it. Bulbs B and C are in the same path. They affect each other, but Bulb A doesn't affect them.\", 'assessment': 'non_domain'}) (input_keys={'student_answer', 'reference_answer', 'question'}),\n",
       " Example({'question': 'What does a voltage reading of 1.5 tell you about the connection between a bulb terminal and a battery terminal?', 'student_answer': 'god', 'reference_answer': 'the terminals are not connected', 'assessment': 'non_domain'}) (input_keys={'student_answer', 'reference_answer', 'question'}),\n",
       " Example({'question': 'Explain your reasoning.', 'student_answer': 'bulb a and bulb c are wired in parallel', 'reference_answer': 'A and C are in different paths with the battery', 'assessment': 'irrelevant'}) (input_keys={'student_answer', 'reference_answer', 'question'}),\n",
       " Example({'question': 'When switch X was closed and switch Y was open, why was bulb A on?', 'student_answer': 'Yes it was on', 'reference_answer': 'Bulb A was still contained in the same closed path with the battery.', 'assessment': 'irrelevant'}) (input_keys={'student_answer', 'reference_answer', 'question'}),\n",
       " Example({'question': 'What is voltage?', 'student_answer': 'The amount of electric being put out', 'reference_answer': 'Voltage is the difference in electrical states between two terminals', 'assessment': 'contradictory'}) (input_keys={'student_answer', 'reference_answer', 'question'}),\n",
       " Example({'question': 'What does a voltage reading of 1.5 tell you about the connection between a bulb terminal and a battery terminal?', 'student_answer': 'a terminal is connected to the positive battery terminal', 'reference_answer': 'the terminals are not connected', 'assessment': 'contradictory'}) (input_keys={'student_answer', 'reference_answer', 'question'}),\n",
       " Example({'question': 'Describe the paths in this diagram and explain how those paths account for the results.', 'student_answer': 'if two bulbs are contained in the same path the damaged bulb affects the other bulb', 'reference_answer': \"Bulb A is in a path which does not contain B and C, so bulbs B and C don't affect it. Bulbs B and C are in the same path. They affect each other, but Bulb A doesn't affect them.\", 'assessment': 'irrelevant'}) (input_keys={'student_answer', 'reference_answer', 'question'}),\n",
       " Example({'question': 'Explain why you got a voltage reading of 1.5 for terminal 1 and the positive terminal.', 'student_answer': 'gap', 'reference_answer': 'Terminal 1 and the positive terminal are not connected', 'assessment': 'partially_correct_incomplete'}) (input_keys={'student_answer', 'reference_answer', 'question'}),\n",
       " Example({'question': 'Explain why you got a voltage reading of 1.5 for terminal 1 and terminal 6.', 'student_answer': 'because there is a positive and negative connections', 'reference_answer': 'There is a gap between terminals 1 and 6', 'assessment': 'contradictory'}) (input_keys={'student_answer', 'reference_answer', 'question'}),\n",
       " Example({'question': 'Explain why you got a voltage reading of 1.5 for terminal 1 and the positive terminal.', 'student_answer': 'the positive terminal is connected to the bulb', 'reference_answer': 'Terminal 1 and the positive terminal are separated by the gap', 'assessment': 'irrelevant'}) (input_keys={'student_answer', 'reference_answer', 'question'}),\n",
       " Example({'question': 'What role does the path play in determining whether or not a switch affects a bulb?', 'student_answer': 'i dont know', 'reference_answer': 'If a bulb and a switch are in the same path the switch affects the bulb', 'assessment': 'non_domain'}) (input_keys={'student_answer', 'reference_answer', 'question'}),\n",
       " Example({'question': 'When switch X was closed and switch Y was open, why was bulb A on?', 'student_answer': 'Bulb A is in a closed path with the battery', 'reference_answer': 'Bulb A was still contained in the same closed path with the battery.', 'assessment': 'correct'}) (input_keys={'student_answer', 'reference_answer', 'question'}),\n",
       " Example({'question': 'Explain why you got a voltage reading of 0 for terminal 5 and the positive terminal.', 'student_answer': 'there is no gap between the positive battery terminal and terminal 4', 'reference_answer': 'Terminal 5 and the positive terminal are connected', 'assessment': 'irrelevant'}) (input_keys={'student_answer', 'reference_answer', 'question'}),\n",
       " Example({'question': 'Explain why you got a voltage reading of 1.5 for terminal 3 and the positive terminal.', 'student_answer': 'positive and negative is seperate', 'reference_answer': 'Terminal 3 and the positive terminal are separated by the gap', 'assessment': 'irrelevant'}) (input_keys={'student_answer', 'reference_answer', 'question'}),\n",
       " Example({'question': 'When switch X was open and switch Y was closed, why were bulbs B and C on?', 'student_answer': 'Because bulbs B and C were contained in a closed path with the battery.', 'reference_answer': 'Bulb B and Bulb C were still contained in the same closed path with the battery.', 'assessment': 'correct'}) (input_keys={'student_answer', 'reference_answer', 'question'}),\n",
       " Example({'question': 'Explain your reasoning.', 'student_answer': 'different paths with the battery', 'reference_answer': 'B and C are in the same path with the battery', 'assessment': 'contradictory'}) (input_keys={'student_answer', 'reference_answer', 'question'}),\n",
       " Example({'question': 'Explain why circuit 5 is a short circuit.', 'student_answer': 'In circuit 5, the battery IS in a closed path.', 'reference_answer': 'The battery is contained in a closed path which does not contain any other components', 'assessment': 'partially_correct_incomplete'}) (input_keys={'student_answer', 'reference_answer', 'question'}),\n",
       " Example({'question': 'Explain why you got a voltage reading of 1.5 for terminal 1 and the positive terminal.', 'student_answer': 'The difference between the electrical states is 1.5 volts', 'reference_answer': 'Terminal 1 and the positive terminal are separated by the gap', 'assessment': 'irrelevant'}) (input_keys={'student_answer', 'reference_answer', 'question'}),\n",
       " Example({'question': 'Explain why you got a voltage reading of 1.5 for terminal 1 and the positive terminal.', 'student_answer': 'the gap is open', 'reference_answer': 'Terminal 1 and the positive terminal are not connected', 'assessment': 'contradictory'}) (input_keys={'student_answer', 'reference_answer', 'question'}),\n",
       " Example({'question': 'Why was bulb A on when switch Y was open and switch Z was closed?', 'student_answer': 'Because it was in the same circuit', 'reference_answer': 'Bulb A is still contained in a closed path with the battery.', 'assessment': 'irrelevant'}) (input_keys={'student_answer', 'reference_answer', 'question'}),\n",
       " Example({'question': 'As you move the multimeter leads from one bulb terminal to the next, what does it mean when the voltage reading jumps from 0 to 1.5?', 'student_answer': 'i don\"t know', 'reference_answer': 'the terminals are not connected', 'assessment': 'non_domain'}) (input_keys={'student_answer', 'reference_answer', 'question'}),\n",
       " Example({'question': 'Why do both bulbs A and B stay on when bulb C is burned out?', 'student_answer': 'bulb c is contained in a closed path', 'reference_answer': 'If C burns out then A and B are still in a closed path with the battery', 'assessment': 'contradictory'}) (input_keys={'student_answer', 'reference_answer', 'question'}),\n",
       " Example({'question': 'Under what circumstances will a switch affect a bulb?', 'student_answer': 'tell answer', 'reference_answer': 'When the switch and the bulb are contained in the same path', 'assessment': 'non_domain'}) (input_keys={'student_answer', 'reference_answer', 'question'}),\n",
       " Example({'question': 'Explain your reasoning.', 'student_answer': 'bulb a still has a path to the battery', 'reference_answer': 'If bulb A burns out, B and C are no longer in a closed path with the battery', 'assessment': 'irrelevant'}) (input_keys={'student_answer', 'reference_answer', 'question'}),\n",
       " Example({'question': 'Explain your reasoning.', 'student_answer': 'if bulb a burns out if affects bulbs b and c.', 'reference_answer': 'A and C are in the same closed path', 'assessment': 'irrelevant'}) (input_keys={'student_answer', 'reference_answer', 'question'}),\n",
       " Example({'question': 'Why do you think the other terminals are being held in a different electrical state than that of the negative terminal?', 'student_answer': 'there is a separation between the bulbs and the negative battery terminal', 'reference_answer': 'Terminals 4, 5 and 6 are not connected to the negative battery terminal', 'assessment': 'partially_correct_incomplete'}) (input_keys={'student_answer', 'reference_answer', 'question'}),\n",
       " Example({'question': 'Explain why you got a voltage reading of 1.5 for terminal 1 and the positive terminal.', 'student_answer': 'I\"m not sure', 'reference_answer': 'Terminal 1 and the positive terminal are not connected', 'assessment': 'non_domain'}) (input_keys={'student_answer', 'reference_answer', 'question'}),\n",
       " Example({'question': 'Explain why you got a voltage reading of 1.5 for terminal 1 and the positive terminal.', 'student_answer': 'it was connected to a positive battery terminal', 'reference_answer': 'Terminal 1 and the positive terminal are not connected', 'assessment': 'contradictory'}) (input_keys={'student_answer', 'reference_answer', 'question'}),\n",
       " Example({'question': 'Why does measuring voltage help you locate a burned out bulb? Try to answer in terms of electrical states, connections and/ or a gap.', 'student_answer': 'You will find out wehere the difference in electrical staates', 'reference_answer': 'Measuring voltage indicates the place where the electrical state changes due to a damaged bulb.', 'assessment': 'partially_correct_incomplete'}) (input_keys={'student_answer', 'reference_answer', 'question'}),\n",
       " Example({'question': 'Why do you think those terminals and the negative battery terminal are in the same state?', 'student_answer': 'connected to the negative terminal', 'reference_answer': 'Terminals 1, 2 and 3 are connected to the negative battery terminal', 'assessment': 'partially_correct_incomplete'}) (input_keys={'student_answer', 'reference_answer', 'question'}),\n",
       " Example({'question': 'Explain why circuit 5 is a short circuit.', 'student_answer': 'i don\"t know.', 'reference_answer': 'The battery is contained in a closed path which does not contain any other components', 'assessment': 'non_domain'}) (input_keys={'student_answer', 'reference_answer', 'question'}),\n",
       " Example({'question': 'Why?', 'student_answer': 'battery will always have a voltage', 'reference_answer': 'A battery uses a chemical reaction to maintain different electrical states at the terminals', 'assessment': 'contradictory'}) (input_keys={'student_answer', 'reference_answer', 'question'}),\n",
       " Example({'question': 'Why?', 'student_answer': 'because the voltage doesnt change in the battery', 'reference_answer': 'A battery uses a chemical reaction to maintain different electrical states at the terminals', 'assessment': 'contradictory'}) (input_keys={'student_answer', 'reference_answer', 'question'}),\n",
       " Example({'question': 'Explain why you got a voltage reading of 0 for terminal 6 and the positive terminal.', 'student_answer': 'answer', 'reference_answer': 'Terminal 6 and the positive terminal are connected', 'assessment': 'non_domain'}) (input_keys={'student_answer', 'reference_answer', 'question'}),\n",
       " Example({'question': 'Why does measuring voltage help you locate a burned out bulb? Try to answer in terms of electrical states, connections and/ or a gap.', 'student_answer': 'an electircl aasoidrjf', 'reference_answer': 'Measuring voltage indicates the place where the electrical state changes due to a damaged bulb.', 'assessment': 'non_domain'}) (input_keys={'student_answer', 'reference_answer', 'question'}),\n",
       " Example({'question': 'Explain your reasoning.', 'student_answer': 'they will still be contained in closed circuits with the battery', 'reference_answer': 'Bulbs A and C are still in closed paths with the battery', 'assessment': 'contradictory'}) (input_keys={'student_answer', 'reference_answer', 'question'}),\n",
       " Example({'question': 'Explain why you got a voltage reading of 0 for terminal 6 and the positive terminal.', 'student_answer': 'no idea', 'reference_answer': 'Terminal 6 and the positive terminal are connected', 'assessment': 'non_domain'}) (input_keys={'student_answer', 'reference_answer', 'question'}),\n",
       " Example({'question': 'Why do you think those terminals and the negative battery terminal are in the same state?', 'student_answer': 'they all have 0 volts', 'reference_answer': 'Terminals 1, 2 and 3 are connected to the negative battery terminal', 'assessment': 'irrelevant'}) (input_keys={'student_answer', 'reference_answer', 'question'}),\n",
       " Example({'question': 'Explain why you got a voltage reading of 1.5 for terminal 1 and the positive terminal.', 'student_answer': 'don\"t know', 'reference_answer': 'Terminal 1 and the positive terminal are separated by the gap', 'assessment': 'non_domain'}) (input_keys={'student_answer', 'reference_answer', 'question'}),\n",
       " Example({'question': 'Explain why you got a voltage reading of 1.5 for terminal 1 and the positive terminal.', 'student_answer': 'positive connected to negative terminal', 'reference_answer': 'Terminal 1 and the positive terminal are separated by the gap', 'assessment': 'contradictory'}) (input_keys={'student_answer', 'reference_answer', 'question'})]"
      ]
     },
     "execution_count": 19,
     "metadata": {},
     "output_type": "execute_result"
    }
   ],
   "source": [
    "train_data"
   ]
  },
  {
   "cell_type": "markdown",
   "id": "f9494af3-a74e-48a3-80b2-94be80b6cb56",
   "metadata": {},
   "source": [
    "## Building a metric"
   ]
  },
  {
   "cell_type": "code",
   "execution_count": 36,
   "id": "52efdd2a-fa00-4520-aeee-15f49ddef525",
   "metadata": {},
   "outputs": [],
   "source": [
    "import dspy\n",
    "\n",
    "def grading_accuracy_metric(example, predicted, trace=None):\n",
    "    # print(f\"example: {example}, predicted_assessment: {predicted}\")\n",
    "    actual_assessment = example[\"assessment\"]\n",
    "    \n",
    "    # score = dspy.evaluate.answer_exact_match(actual_assessment, predicted_assessment)\n",
    "    score = 1 if example[\"assessment\"] == predicted[\"assessment\"] else 0\n",
    "    \n",
    "    return score\n",
    "\n",
    "from dspy.evaluate import Evaluate\n",
    "\n",
    "EM_metric = dspy.evaluate.answer_exact_match"
   ]
  },
  {
   "cell_type": "markdown",
   "id": "4fbadbc7-1310-4f87-a25d-49b3c5aa0aa8",
   "metadata": {},
   "source": [
    "## Optimising Few Shot Examples"
   ]
  },
  {
   "cell_type": "code",
   "execution_count": 41,
   "id": "4dd7c9e0-394b-4e8c-8c84-f10069ad9ba4",
   "metadata": {},
   "outputs": [
    {
     "name": "stderr",
     "output_type": "stream",
     "text": [
      "Average Metric: 4 / 10  (40.0): 100%|█| 10/10 [00:00<00:00, 682.31\n",
      "  0%|                                      | 0/10 [00:00<?, ?it/s]INFO:backoff:Backing off request(...) for 0.7s (openai.RateLimitError: Error code: 429 - {'error': {'message': 'Rate limit reached for gpt-3.5-turbo-instruct in organization org-DNIQnZOwEXH3HneN5ZlhWRmr on tokens per min (TPM): Limit 90000, Used 89667, Requested 1169. Please try again in 557ms. Visit https://platform.openai.com/account/rate-limits to learn more.', 'type': 'tokens', 'param': None, 'code': 'rate_limit_exceeded'}})\n"
     ]
    },
    {
     "name": "stdout",
     "output_type": "stream",
     "text": [
      "Backing off 0.7 seconds after 1 tries calling function <function GPT3.request at 0x12e9b4860> with kwargs {}\n"
     ]
    },
    {
     "name": "stderr",
     "output_type": "stream",
     "text": [
      "Average Metric: 1 / 3  (33.3):  20%|▏| 2/10 [00:02<00:08,  1.02s/iINFO:backoff:Backing off request(...) for 0.4s (openai.RateLimitError: Error code: 429 - {'error': {'message': 'Rate limit reached for gpt-3.5-turbo-instruct in organization org-DNIQnZOwEXH3HneN5ZlhWRmr on tokens per min (TPM): Limit 90000, Used 89044, Requested 1158. Please try again in 134ms. Visit https://platform.openai.com/account/rate-limits to learn more.', 'type': 'tokens', 'param': None, 'code': 'rate_limit_exceeded'}})\n"
     ]
    },
    {
     "name": "stdout",
     "output_type": "stream",
     "text": [
      "Backing off 0.4 seconds after 1 tries calling function <function GPT3.request at 0x12e9b4860> with kwargs {}\n"
     ]
    },
    {
     "name": "stderr",
     "output_type": "stream",
     "text": [
      "INFO:backoff:Backing off request(...) for 0.8s (openai.RateLimitError: Error code: 429 - {'error': {'message': 'Rate limit reached for gpt-3.5-turbo-instruct in organization org-DNIQnZOwEXH3HneN5ZlhWRmr on tokens per min (TPM): Limit 90000, Used 89693, Requested 1145. Please try again in 558ms. Visit https://platform.openai.com/account/rate-limits to learn more.', 'type': 'tokens', 'param': None, 'code': 'rate_limit_exceeded'}})\n",
      "INFO:backoff:Backing off request(...) for 1.2s (openai.RateLimitError: Error code: 429 - {'error': {'message': 'Rate limit reached for gpt-3.5-turbo-instruct in organization org-DNIQnZOwEXH3HneN5ZlhWRmr on tokens per min (TPM): Limit 90000, Used 89682, Requested 1169. Please try again in 567ms. Visit https://platform.openai.com/account/rate-limits to learn more.', 'type': 'tokens', 'param': None, 'code': 'rate_limit_exceeded'}})\n"
     ]
    },
    {
     "name": "stdout",
     "output_type": "stream",
     "text": [
      "Backing off 0.8 seconds after 1 tries calling function <function GPT3.request at 0x12e9b4860> with kwargs {}\n",
      "Backing off 1.2 seconds after 2 tries calling function <function GPT3.request at 0x12e9b4860> with kwargs {}\n"
     ]
    },
    {
     "name": "stderr",
     "output_type": "stream",
     "text": [
      "Average Metric: 1 / 4  (25.0):  40%|▍| 4/10 [00:03<00:04,  1.41it/INFO:backoff:Backing off request(...) for 1.6s (openai.RateLimitError: Error code: 429 - {'error': {'message': 'Rate limit reached for gpt-3.5-turbo-instruct in organization org-DNIQnZOwEXH3HneN5ZlhWRmr on tokens per min (TPM): Limit 90000, Used 89096, Requested 1158. Please try again in 169ms. Visit https://platform.openai.com/account/rate-limits to learn more.', 'type': 'tokens', 'param': None, 'code': 'rate_limit_exceeded'}})\n"
     ]
    },
    {
     "name": "stdout",
     "output_type": "stream",
     "text": [
      "Backing off 1.6 seconds after 2 tries calling function <function GPT3.request at 0x12e9b4860> with kwargs {}\n"
     ]
    },
    {
     "name": "stderr",
     "output_type": "stream",
     "text": [
      "Average Metric: 2 / 5  (40.0):  50%|▌| 5/10 [00:04<00:04,  1.19it/INFO:backoff:Backing off request(...) for 0.3s (openai.RateLimitError: Error code: 429 - {'error': {'message': 'Rate limit reached for gpt-3.5-turbo-instruct in organization org-DNIQnZOwEXH3HneN5ZlhWRmr on tokens per min (TPM): Limit 90000, Used 89351, Requested 1148. Please try again in 332ms. Visit https://platform.openai.com/account/rate-limits to learn more.', 'type': 'tokens', 'param': None, 'code': 'rate_limit_exceeded'}})\n",
      "Average Metric: 3 / 6  (50.0):  60%|▌| 6/10 [00:04<00:02,  1.52it/"
     ]
    },
    {
     "name": "stdout",
     "output_type": "stream",
     "text": [
      "Backing off 0.3 seconds after 1 tries calling function <function GPT3.request at 0x12e9b4860> with kwargs {}\n"
     ]
    },
    {
     "name": "stderr",
     "output_type": "stream",
     "text": [
      "Average Metric: 4 / 7  (57.1):  60%|▌| 6/10 [00:04<00:02,  1.52it/INFO:backoff:Backing off request(...) for 2.3s (openai.RateLimitError: Error code: 429 - {'error': {'message': 'Rate limit reached for gpt-3.5-turbo-instruct in organization org-DNIQnZOwEXH3HneN5ZlhWRmr on tokens per min (TPM): Limit 90000, Used 89059, Requested 1169. Please try again in 152ms. Visit https://platform.openai.com/account/rate-limits to learn more.', 'type': 'tokens', 'param': None, 'code': 'rate_limit_exceeded'}})\n"
     ]
    },
    {
     "name": "stdout",
     "output_type": "stream",
     "text": [
      "Backing off 2.3 seconds after 3 tries calling function <function GPT3.request at 0x12e9b4860> with kwargs {}\n"
     ]
    },
    {
     "name": "stderr",
     "output_type": "stream",
     "text": [
      "Average Metric: 6 / 10  (60.0): 100%|█| 10/10 [00:10<00:00,  1.09s\n",
      "100%|█████████████████████████████| 10/10 [00:24<00:00,  2.49s/it]\n",
      "  0%|                                      | 0/10 [00:00<?, ?it/s]INFO:backoff:Backing off request(...) for 0.9s (openai.RateLimitError: Error code: 429 - {'error': {'message': 'Rate limit reached for gpt-3.5-turbo-instruct in organization org-DNIQnZOwEXH3HneN5ZlhWRmr on tokens per min (TPM): Limit 90000, Used 89660, Requested 1661. Please try again in 880ms. Visit https://platform.openai.com/account/rate-limits to learn more.', 'type': 'tokens', 'param': None, 'code': 'rate_limit_exceeded'}})\n",
      "INFO:backoff:Backing off request(...) for 0.4s (openai.RateLimitError: Error code: 429 - {'error': {'message': 'Rate limit reached for gpt-3.5-turbo-instruct in organization org-DNIQnZOwEXH3HneN5ZlhWRmr on tokens per min (TPM): Limit 90000, Used 89662, Requested 1650. Please try again in 874ms. Visit https://platform.openai.com/account/rate-limits to learn more.', 'type': 'tokens', 'param': None, 'code': 'rate_limit_exceeded'}})\n",
      "INFO:backoff:Backing off request(...) for 0.9s (openai.RateLimitError: Error code: 429 - {'error': {'message': 'Rate limit reached for gpt-3.5-turbo-instruct in organization org-DNIQnZOwEXH3HneN5ZlhWRmr on tokens per min (TPM): Limit 90000, Used 89656, Requested 1671. Please try again in 884ms. Visit https://platform.openai.com/account/rate-limits to learn more.', 'type': 'tokens', 'param': None, 'code': 'rate_limit_exceeded'}})\n",
      "INFO:backoff:Backing off request(...) for 0.4s (openai.RateLimitError: Error code: 429 - {'error': {'message': 'Rate limit reached for gpt-3.5-turbo-instruct in organization org-DNIQnZOwEXH3HneN5ZlhWRmr on tokens per min (TPM): Limit 90000, Used 89631, Requested 1651. Please try again in 854ms. Visit https://platform.openai.com/account/rate-limits to learn more.', 'type': 'tokens', 'param': None, 'code': 'rate_limit_exceeded'}})\n"
     ]
    },
    {
     "name": "stdout",
     "output_type": "stream",
     "text": [
      "Backing off 0.9 seconds after 1 tries calling function <function GPT3.request at 0x12e9b4860> with kwargs {}\n",
      "Backing off 0.4 seconds after 1 tries calling function <function GPT3.request at 0x12e9b4860> with kwargs {}\n",
      "Backing off 0.9 seconds after 1 tries calling function <function GPT3.request at 0x12e9b4860> with kwargs {}\n",
      "Backing off 0.4 seconds after 1 tries calling function <function GPT3.request at 0x12e9b4860> with kwargs {}\n"
     ]
    },
    {
     "name": "stderr",
     "output_type": "stream",
     "text": [
      "Average Metric: 0 / 2  (0.0):  20%|▏| 2/10 [00:02<00:09,  1.25s/itINFO:backoff:Backing off request(...) for 0.6s (openai.RateLimitError: Error code: 429 - {'error': {'message': 'Rate limit reached for gpt-3.5-turbo-instruct in organization org-DNIQnZOwEXH3HneN5ZlhWRmr on tokens per min (TPM): Limit 90000, Used 89314, Requested 1650. Please try again in 642ms. Visit https://platform.openai.com/account/rate-limits to learn more.', 'type': 'tokens', 'param': None, 'code': 'rate_limit_exceeded'}})\n",
      "INFO:backoff:Backing off request(...) for 0.7s (openai.RateLimitError: Error code: 429 - {'error': {'message': 'Rate limit reached for gpt-3.5-turbo-instruct in organization org-DNIQnZOwEXH3HneN5ZlhWRmr on tokens per min (TPM): Limit 90000, Used 89296, Requested 1651. Please try again in 631ms. Visit https://platform.openai.com/account/rate-limits to learn more.', 'type': 'tokens', 'param': None, 'code': 'rate_limit_exceeded'}})\n"
     ]
    },
    {
     "name": "stdout",
     "output_type": "stream",
     "text": [
      "Backing off 0.6 seconds after 2 tries calling function <function GPT3.request at 0x12e9b4860> with kwargs {}\n",
      "Backing off 0.7 seconds after 2 tries calling function <function GPT3.request at 0x12e9b4860> with kwargs {}\n"
     ]
    },
    {
     "name": "stderr",
     "output_type": "stream",
     "text": [
      "INFO:backoff:Backing off request(...) for 0.4s (openai.RateLimitError: Error code: 429 - {'error': {'message': 'Rate limit reached for gpt-3.5-turbo-instruct in organization org-DNIQnZOwEXH3HneN5ZlhWRmr on tokens per min (TPM): Limit 90000, Used 89677, Requested 1646. Please try again in 882ms. Visit https://platform.openai.com/account/rate-limits to learn more.', 'type': 'tokens', 'param': None, 'code': 'rate_limit_exceeded'}})\n",
      "INFO:backoff:Backing off request(...) for 0.4s (openai.RateLimitError: Error code: 429 - {'error': {'message': 'Rate limit reached for gpt-3.5-turbo-instruct in organization org-DNIQnZOwEXH3HneN5ZlhWRmr on tokens per min (TPM): Limit 90000, Used 89660, Requested 1661. Please try again in 880ms. Visit https://platform.openai.com/account/rate-limits to learn more.', 'type': 'tokens', 'param': None, 'code': 'rate_limit_exceeded'}})\n",
      "Average Metric: 1 / 3  (33.3):  30%|▎| 3/10 [00:04<00:09,  1.32s/i"
     ]
    },
    {
     "name": "stdout",
     "output_type": "stream",
     "text": [
      "Backing off 0.4 seconds after 1 tries calling function <function GPT3.request at 0x12e9b4860> with kwargs {}\n",
      "Backing off 0.4 seconds after 2 tries calling function <function GPT3.request at 0x12e9b4860> with kwargs {}\n"
     ]
    },
    {
     "name": "stderr",
     "output_type": "stream",
     "text": [
      "Average Metric: 2 / 4  (50.0):  40%|▍| 4/10 [00:05<00:06,  1.14s/iINFO:backoff:Backing off request(...) for 0.9s (openai.RateLimitError: Error code: 429 - {'error': {'message': 'Rate limit reached for gpt-3.5-turbo-instruct in organization org-DNIQnZOwEXH3HneN5ZlhWRmr on tokens per min (TPM): Limit 90000, Used 89256, Requested 1650. Please try again in 604ms. Visit https://platform.openai.com/account/rate-limits to learn more.', 'type': 'tokens', 'param': None, 'code': 'rate_limit_exceeded'}})\n",
      "Average Metric: 2 / 5  (40.0):  50%|▌| 5/10 [00:06<00:05,  1.06s/i"
     ]
    },
    {
     "name": "stdout",
     "output_type": "stream",
     "text": [
      "Backing off 0.9 seconds after 1 tries calling function <function GPT3.request at 0x12e9b4860> with kwargs {}\n"
     ]
    },
    {
     "name": "stderr",
     "output_type": "stream",
     "text": [
      "INFO:backoff:Backing off request(...) for 0.0s (openai.RateLimitError: Error code: 429 - {'error': {'message': 'Rate limit reached for gpt-3.5-turbo-instruct in organization org-DNIQnZOwEXH3HneN5ZlhWRmr on tokens per min (TPM): Limit 90000, Used 89242, Requested 1650. Please try again in 594ms. Visit https://platform.openai.com/account/rate-limits to learn more.', 'type': 'tokens', 'param': None, 'code': 'rate_limit_exceeded'}})\n",
      "INFO:backoff:Backing off request(...) for 1.8s (openai.RateLimitError: Error code: 429 - {'error': {'message': 'Rate limit reached for gpt-3.5-turbo-instruct in organization org-DNIQnZOwEXH3HneN5ZlhWRmr on tokens per min (TPM): Limit 90000, Used 89287, Requested 1661. Please try again in 632ms. Visit https://platform.openai.com/account/rate-limits to learn more.', 'type': 'tokens', 'param': None, 'code': 'rate_limit_exceeded'}})\n",
      "Average Metric: 3 / 6  (50.0):  60%|▌| 6/10 [00:06<00:04,  1.00s/i"
     ]
    },
    {
     "name": "stdout",
     "output_type": "stream",
     "text": [
      "Backing off 0.0 seconds after 1 tries calling function <function GPT3.request at 0x12e9b4860> with kwargs {}\n",
      "Backing off 1.8 seconds after 3 tries calling function <function GPT3.request at 0x12e9b4860> with kwargs {}\n"
     ]
    },
    {
     "name": "stderr",
     "output_type": "stream",
     "text": [
      "Average Metric: 5 / 10  (50.0): 100%|█| 10/10 [00:10<00:00,  1.02s\n",
      " 90%|███████████████████████████   | 9/10 [00:13<00:01,  1.50s/it]\n",
      "  0%|                                      | 0/10 [00:00<?, ?it/s]INFO:backoff:Backing off request(...) for 0.1s (openai.RateLimitError: Error code: 429 - {'error': {'message': 'Rate limit reached for gpt-3.5-turbo-instruct in organization org-DNIQnZOwEXH3HneN5ZlhWRmr on tokens per min (TPM): Limit 90000, Used 89002, Requested 1538. Please try again in 360ms. Visit https://platform.openai.com/account/rate-limits to learn more.', 'type': 'tokens', 'param': None, 'code': 'rate_limit_exceeded'}})\n",
      "INFO:backoff:Backing off request(...) for 1.0s (openai.RateLimitError: Error code: 429 - {'error': {'message': 'Rate limit reached for gpt-3.5-turbo-instruct in organization org-DNIQnZOwEXH3HneN5ZlhWRmr on tokens per min (TPM): Limit 90000, Used 88992, Requested 1545. Please try again in 358ms. Visit https://platform.openai.com/account/rate-limits to learn more.', 'type': 'tokens', 'param': None, 'code': 'rate_limit_exceeded'}})\n"
     ]
    },
    {
     "name": "stdout",
     "output_type": "stream",
     "text": [
      "Backing off 0.1 seconds after 1 tries calling function <function GPT3.request at 0x12e9b4860> with kwargs {}\n",
      "Backing off 1.0 seconds after 1 tries calling function <function GPT3.request at 0x12e9b4860> with kwargs {}\n"
     ]
    },
    {
     "name": "stderr",
     "output_type": "stream",
     "text": [
      "Average Metric: 0 / 1  (0.0):  10%| | 1/10 [00:01<00:15,  1.75s/itINFO:backoff:Backing off request(...) for 0.9s (openai.RateLimitError: Error code: 429 - {'error': {'message': 'Rate limit reached for gpt-3.5-turbo-instruct in organization org-DNIQnZOwEXH3HneN5ZlhWRmr on tokens per min (TPM): Limit 90000, Used 89628, Requested 1536. Please try again in 776ms. Visit https://platform.openai.com/account/rate-limits to learn more.', 'type': 'tokens', 'param': None, 'code': 'rate_limit_exceeded'}})\n"
     ]
    },
    {
     "name": "stdout",
     "output_type": "stream",
     "text": [
      "Backing off 0.9 seconds after 1 tries calling function <function GPT3.request at 0x12e9b4860> with kwargs {}\n"
     ]
    },
    {
     "name": "stderr",
     "output_type": "stream",
     "text": [
      "Average Metric: 1 / 3  (33.3):  30%|▎| 3/10 [00:02<00:05,  1.28it/INFO:backoff:Backing off request(...) for 0.4s (openai.RateLimitError: Error code: 429 - {'error': {'message': 'Rate limit reached for gpt-3.5-turbo-instruct in organization org-DNIQnZOwEXH3HneN5ZlhWRmr on tokens per min (TPM): Limit 90000, Used 89637, Requested 1538. Please try again in 783ms. Visit https://platform.openai.com/account/rate-limits to learn more.', 'type': 'tokens', 'param': None, 'code': 'rate_limit_exceeded'}})\n"
     ]
    },
    {
     "name": "stdout",
     "output_type": "stream",
     "text": [
      "Backing off 0.4 seconds after 2 tries calling function <function GPT3.request at 0x12e9b4860> with kwargs {}\n"
     ]
    },
    {
     "name": "stderr",
     "output_type": "stream",
     "text": [
      "Average Metric: 1 / 5  (20.0):  50%|▌| 5/10 [00:04<00:03,  1.38it/INFO:backoff:Backing off request(...) for 0.7s (openai.RateLimitError: Error code: 429 - {'error': {'message': 'Rate limit reached for gpt-3.5-turbo-instruct in organization org-DNIQnZOwEXH3HneN5ZlhWRmr on tokens per min (TPM): Limit 90000, Used 88926, Requested 1525. Please try again in 300ms. Visit https://platform.openai.com/account/rate-limits to learn more.', 'type': 'tokens', 'param': None, 'code': 'rate_limit_exceeded'}})\n",
      "INFO:backoff:Backing off request(...) for 0.3s (openai.RateLimitError: Error code: 429 - {'error': {'message': 'Rate limit reached for gpt-3.5-turbo-instruct in organization org-DNIQnZOwEXH3HneN5ZlhWRmr on tokens per min (TPM): Limit 90000, Used 88886, Requested 1545. Please try again in 287ms. Visit https://platform.openai.com/account/rate-limits to learn more.', 'type': 'tokens', 'param': None, 'code': 'rate_limit_exceeded'}})\n",
      "INFO:backoff:Backing off request(...) for 0.1s (openai.RateLimitError: Error code: 429 - {'error': {'message': 'Rate limit reached for gpt-3.5-turbo-instruct in organization org-DNIQnZOwEXH3HneN5ZlhWRmr on tokens per min (TPM): Limit 90000, Used 88854, Requested 1536. Please try again in 260ms. Visit https://platform.openai.com/account/rate-limits to learn more.', 'type': 'tokens', 'param': None, 'code': 'rate_limit_exceeded'}})\n"
     ]
    },
    {
     "name": "stdout",
     "output_type": "stream",
     "text": [
      "Backing off 0.7 seconds after 1 tries calling function <function GPT3.request at 0x12e9b4860> with kwargs {}\n",
      "Backing off 0.3 seconds after 2 tries calling function <function GPT3.request at 0x12e9b4860> with kwargs {}\n",
      "Backing off 0.1 seconds after 2 tries calling function <function GPT3.request at 0x12e9b4860> with kwargs {}\n"
     ]
    },
    {
     "name": "stderr",
     "output_type": "stream",
     "text": [
      "Average Metric: 1 / 7  (14.3):  70%|▋| 7/10 [00:05<00:02,  1.34it/INFO:backoff:Backing off request(...) for 0.6s (openai.RateLimitError: Error code: 429 - {'error': {'message': 'Rate limit reached for gpt-3.5-turbo-instruct in organization org-DNIQnZOwEXH3HneN5ZlhWRmr on tokens per min (TPM): Limit 90000, Used 88658, Requested 1524. Please try again in 121ms. Visit https://platform.openai.com/account/rate-limits to learn more.', 'type': 'tokens', 'param': None, 'code': 'rate_limit_exceeded'}})\n"
     ]
    },
    {
     "name": "stdout",
     "output_type": "stream",
     "text": [
      "Backing off 0.6 seconds after 1 tries calling function <function GPT3.request at 0x12e9b4860> with kwargs {}\n"
     ]
    },
    {
     "name": "stderr",
     "output_type": "stream",
     "text": [
      "Average Metric: 4 / 10  (40.0): 100%|█| 10/10 [00:08<00:00,  1.11i\n",
      " 30%|█████████                     | 3/10 [00:05<00:13,  1.93s/it]\n",
      "  0%|                                      | 0/10 [00:00<?, ?it/s]INFO:backoff:Backing off request(...) for 0.3s (openai.RateLimitError: Error code: 429 - {'error': {'message': 'Rate limit reached for gpt-3.5-turbo-instruct in organization org-DNIQnZOwEXH3HneN5ZlhWRmr on tokens per min (TPM): Limit 90000, Used 89033, Requested 1376. Please try again in 272ms. Visit https://platform.openai.com/account/rate-limits to learn more.', 'type': 'tokens', 'param': None, 'code': 'rate_limit_exceeded'}})\n",
      "INFO:backoff:Backing off request(...) for 0.8s (openai.RateLimitError: Error code: 429 - {'error': {'message': 'Rate limit reached for gpt-3.5-turbo-instruct in organization org-DNIQnZOwEXH3HneN5ZlhWRmr on tokens per min (TPM): Limit 90000, Used 88995, Requested 1373. Please try again in 245ms. Visit https://platform.openai.com/account/rate-limits to learn more.', 'type': 'tokens', 'param': None, 'code': 'rate_limit_exceeded'}})\n",
      "INFO:backoff:Backing off request(...) for 0.0s (openai.RateLimitError: Error code: 429 - {'error': {'message': 'Rate limit reached for gpt-3.5-turbo-instruct in organization org-DNIQnZOwEXH3HneN5ZlhWRmr on tokens per min (TPM): Limit 90000, Used 88991, Requested 1364. Please try again in 236ms. Visit https://platform.openai.com/account/rate-limits to learn more.', 'type': 'tokens', 'param': None, 'code': 'rate_limit_exceeded'}})\n",
      "INFO:backoff:Backing off request(...) for 0.8s (openai.RateLimitError: Error code: 429 - {'error': {'message': 'Rate limit reached for gpt-3.5-turbo-instruct in organization org-DNIQnZOwEXH3HneN5ZlhWRmr on tokens per min (TPM): Limit 90000, Used 88975, Requested 1374. Please try again in 232ms. Visit https://platform.openai.com/account/rate-limits to learn more.', 'type': 'tokens', 'param': None, 'code': 'rate_limit_exceeded'}})\n"
     ]
    },
    {
     "name": "stdout",
     "output_type": "stream",
     "text": [
      "Backing off 0.3 seconds after 1 tries calling function <function GPT3.request at 0x12e9b4860> with kwargs {}\n",
      "Backing off 0.8 seconds after 1 tries calling function <function GPT3.request at 0x12e9b4860> with kwargs {}\n",
      "Backing off 0.0 seconds after 1 tries calling function <function GPT3.request at 0x12e9b4860> with kwargs {}\n",
      "Backing off 0.8 seconds after 1 tries calling function <function GPT3.request at 0x12e9b4860> with kwargs {}\n"
     ]
    },
    {
     "name": "stderr",
     "output_type": "stream",
     "text": [
      "Average Metric: 2 / 3  (66.7):  20%|▏| 2/10 [00:03<00:12,  1.51s/iINFO:backoff:Backing off request(...) for 0.3s (openai.RateLimitError: Error code: 429 - {'error': {'message': 'Rate limit reached for gpt-3.5-turbo-instruct in organization org-DNIQnZOwEXH3HneN5ZlhWRmr on tokens per min (TPM): Limit 90000, Used 88971, Requested 1359. Please try again in 220ms. Visit https://platform.openai.com/account/rate-limits to learn more.', 'type': 'tokens', 'param': None, 'code': 'rate_limit_exceeded'}})\n",
      "INFO:backoff:Backing off request(...) for 0.7s (openai.RateLimitError: Error code: 429 - {'error': {'message': 'Rate limit reached for gpt-3.5-turbo-instruct in organization org-DNIQnZOwEXH3HneN5ZlhWRmr on tokens per min (TPM): Limit 90000, Used 88980, Requested 1376. Please try again in 237ms. Visit https://platform.openai.com/account/rate-limits to learn more.', 'type': 'tokens', 'param': None, 'code': 'rate_limit_exceeded'}})\n"
     ]
    },
    {
     "name": "stdout",
     "output_type": "stream",
     "text": [
      "Backing off 0.3 seconds after 1 tries calling function <function GPT3.request at 0x12e9b4860> with kwargs {}\n",
      "Backing off 0.7 seconds after 2 tries calling function <function GPT3.request at 0x12e9b4860> with kwargs {}\n"
     ]
    },
    {
     "name": "stderr",
     "output_type": "stream",
     "text": [
      "INFO:backoff:Backing off request(...) for 1.7s (openai.RateLimitError: Error code: 429 - {'error': {'message': 'Rate limit reached for gpt-3.5-turbo-instruct in organization org-DNIQnZOwEXH3HneN5ZlhWRmr on tokens per min (TPM): Limit 90000, Used 89672, Requested 1373. Please try again in 696ms. Visit https://platform.openai.com/account/rate-limits to learn more.', 'type': 'tokens', 'param': None, 'code': 'rate_limit_exceeded'}})\n",
      "Average Metric: 2 / 4  (50.0):  40%|▍| 4/10 [00:04<00:05,  1.12it/"
     ]
    },
    {
     "name": "stdout",
     "output_type": "stream",
     "text": [
      "Backing off 1.7 seconds after 2 tries calling function <function GPT3.request at 0x12e9b4860> with kwargs {}\n"
     ]
    },
    {
     "name": "stderr",
     "output_type": "stream",
     "text": [
      "Average Metric: 4 / 6  (66.7):  60%|▌| 6/10 [00:05<00:02,  1.34it/INFO:backoff:Backing off request(...) for 1.4s (openai.RateLimitError: Error code: 429 - {'error': {'message': 'Rate limit reached for gpt-3.5-turbo-instruct in organization org-DNIQnZOwEXH3HneN5ZlhWRmr on tokens per min (TPM): Limit 90000, Used 89299, Requested 1359. Please try again in 438ms. Visit https://platform.openai.com/account/rate-limits to learn more.', 'type': 'tokens', 'param': None, 'code': 'rate_limit_exceeded'}})\n"
     ]
    },
    {
     "name": "stdout",
     "output_type": "stream",
     "text": [
      "Backing off 1.4 seconds after 2 tries calling function <function GPT3.request at 0x12e9b4860> with kwargs {}\n"
     ]
    },
    {
     "name": "stderr",
     "output_type": "stream",
     "text": [
      "Average Metric: 5 / 10  (50.0): 100%|█| 10/10 [00:08<00:00,  1.23i\n",
      " 20%|██████                        | 2/10 [00:02<00:11,  1.41s/it]\n",
      "  0%|                                      | 0/10 [00:00<?, ?it/s]INFO:backoff:Backing off request(...) for 0.0s (openai.RateLimitError: Error code: 429 - {'error': {'message': 'Rate limit reached for gpt-3.5-turbo-instruct in organization org-DNIQnZOwEXH3HneN5ZlhWRmr on tokens per min (TPM): Limit 90000, Used 89688, Requested 1271. Please try again in 639ms. Visit https://platform.openai.com/account/rate-limits to learn more.', 'type': 'tokens', 'param': None, 'code': 'rate_limit_exceeded'}})\n",
      "INFO:backoff:Backing off request(...) for 1.0s (openai.RateLimitError: Error code: 429 - {'error': {'message': 'Rate limit reached for gpt-3.5-turbo-instruct in organization org-DNIQnZOwEXH3HneN5ZlhWRmr on tokens per min (TPM): Limit 90000, Used 89677, Requested 1270. Please try again in 631ms. Visit https://platform.openai.com/account/rate-limits to learn more.', 'type': 'tokens', 'param': None, 'code': 'rate_limit_exceeded'}})\n"
     ]
    },
    {
     "name": "stdout",
     "output_type": "stream",
     "text": [
      "Backing off 0.0 seconds after 1 tries calling function <function GPT3.request at 0x12e9b4860> with kwargs {}\n",
      "Backing off 1.0 seconds after 1 tries calling function <function GPT3.request at 0x12e9b4860> with kwargs {}\n"
     ]
    },
    {
     "name": "stderr",
     "output_type": "stream",
     "text": [
      "Average Metric: 2 / 4  (50.0):  30%|▎| 3/10 [00:02<00:04,  1.59it/INFO:backoff:Backing off request(...) for 0.8s (openai.RateLimitError: Error code: 429 - {'error': {'message': 'Rate limit reached for gpt-3.5-turbo-instruct in organization org-DNIQnZOwEXH3HneN5ZlhWRmr on tokens per min (TPM): Limit 90000, Used 89022, Requested 1271. Please try again in 195ms. Visit https://platform.openai.com/account/rate-limits to learn more.', 'type': 'tokens', 'param': None, 'code': 'rate_limit_exceeded'}})\n"
     ]
    },
    {
     "name": "stdout",
     "output_type": "stream",
     "text": [
      "Backing off 0.8 seconds after 2 tries calling function <function GPT3.request at 0x12e9b4860> with kwargs {}\n"
     ]
    },
    {
     "name": "stderr",
     "output_type": "stream",
     "text": [
      "INFO:backoff:Backing off request(...) for 0.6s (openai.RateLimitError: Error code: 429 - {'error': {'message': 'Rate limit reached for gpt-3.5-turbo-instruct in organization org-DNIQnZOwEXH3HneN5ZlhWRmr on tokens per min (TPM): Limit 90000, Used 89608, Requested 1270. Please try again in 585ms. Visit https://platform.openai.com/account/rate-limits to learn more.', 'type': 'tokens', 'param': None, 'code': 'rate_limit_exceeded'}})\n",
      "Average Metric: 3 / 5  (60.0):  50%|▌| 5/10 [00:02<00:02,  2.09it/"
     ]
    },
    {
     "name": "stdout",
     "output_type": "stream",
     "text": [
      "Backing off 0.6 seconds after 1 tries calling function <function GPT3.request at 0x12e9b4860> with kwargs {}\n"
     ]
    },
    {
     "name": "stderr",
     "output_type": "stream",
     "text": [
      "Average Metric: 3 / 6  (50.0):  60%|▌| 6/10 [00:03<00:01,  2.07it/INFO:backoff:Backing off request(...) for 0.5s (openai.RateLimitError: Error code: 429 - {'error': {'message': 'Rate limit reached for gpt-3.5-turbo-instruct in organization org-DNIQnZOwEXH3HneN5ZlhWRmr on tokens per min (TPM): Limit 90000, Used 88996, Requested 1261. Please try again in 171ms. Visit https://platform.openai.com/account/rate-limits to learn more.', 'type': 'tokens', 'param': None, 'code': 'rate_limit_exceeded'}})\n"
     ]
    },
    {
     "name": "stdout",
     "output_type": "stream",
     "text": [
      "Backing off 0.5 seconds after 1 tries calling function <function GPT3.request at 0x12e9b4860> with kwargs {}\n"
     ]
    },
    {
     "name": "stderr",
     "output_type": "stream",
     "text": [
      "Average Metric: 6 / 10  (60.0): 100%|█| 10/10 [00:06<00:00,  1.61i\n",
      " 50%|███████████████               | 5/10 [00:07<00:07,  1.55s/it]\n",
      "Average Metric: 1 / 2  (50.0):  20%|▏| 2/10 [00:01<00:04,  1.70it/INFO:backoff:Backing off request(...) for 0.4s (openai.RateLimitError: Error code: 429 - {'error': {'message': 'Rate limit reached for gpt-3.5-turbo-instruct in organization org-DNIQnZOwEXH3HneN5ZlhWRmr on tokens per min (TPM): Limit 90000, Used 89652, Requested 1379. Please try again in 687ms. Visit https://platform.openai.com/account/rate-limits to learn more.', 'type': 'tokens', 'param': None, 'code': 'rate_limit_exceeded'}})\n"
     ]
    },
    {
     "name": "stdout",
     "output_type": "stream",
     "text": [
      "Backing off 0.4 seconds after 1 tries calling function <function GPT3.request at 0x12e9b4860> with kwargs {}\n"
     ]
    },
    {
     "name": "stderr",
     "output_type": "stream",
     "text": [
      "INFO:backoff:Backing off request(...) for 0.3s (openai.RateLimitError: Error code: 429 - {'error': {'message': 'Rate limit reached for gpt-3.5-turbo-instruct in organization org-DNIQnZOwEXH3HneN5ZlhWRmr on tokens per min (TPM): Limit 90000, Used 89303, Requested 1375. Please try again in 452ms. Visit https://platform.openai.com/account/rate-limits to learn more.', 'type': 'tokens', 'param': None, 'code': 'rate_limit_exceeded'}})\n",
      "INFO:backoff:Backing off request(...) for 0.2s (openai.RateLimitError: Error code: 429 - {'error': {'message': 'Rate limit reached for gpt-3.5-turbo-instruct in organization org-DNIQnZOwEXH3HneN5ZlhWRmr on tokens per min (TPM): Limit 90000, Used 89302, Requested 1367. Please try again in 446ms. Visit https://platform.openai.com/account/rate-limits to learn more.', 'type': 'tokens', 'param': None, 'code': 'rate_limit_exceeded'}})\n"
     ]
    },
    {
     "name": "stdout",
     "output_type": "stream",
     "text": [
      "Backing off 0.3 seconds after 1 tries calling function <function GPT3.request at 0x12e9b4860> with kwargs {}\n",
      "Backing off 0.2 seconds after 1 tries calling function <function GPT3.request at 0x12e9b4860> with kwargs {}\n"
     ]
    },
    {
     "name": "stderr",
     "output_type": "stream",
     "text": [
      "Average Metric: 2 / 3  (66.7):  30%|▎| 3/10 [00:02<00:05,  1.31it/INFO:backoff:Backing off request(...) for 0.5s (openai.RateLimitError: Error code: 429 - {'error': {'message': 'Rate limit reached for gpt-3.5-turbo-instruct in organization org-DNIQnZOwEXH3HneN5ZlhWRmr on tokens per min (TPM): Limit 90000, Used 89330, Requested 1362. Please try again in 461ms. Visit https://platform.openai.com/account/rate-limits to learn more.', 'type': 'tokens', 'param': None, 'code': 'rate_limit_exceeded'}})\n",
      "Average Metric: 3 / 4  (75.0):  40%|▍| 4/10 [00:02<00:03,  1.64it/"
     ]
    },
    {
     "name": "stdout",
     "output_type": "stream",
     "text": [
      "Backing off 0.5 seconds after 1 tries calling function <function GPT3.request at 0x12e9b4860> with kwargs {}\n"
     ]
    },
    {
     "name": "stderr",
     "output_type": "stream",
     "text": [
      "Average Metric: 3 / 5  (60.0):  50%|▌| 5/10 [00:03<00:03,  1.54it/INFO:backoff:Backing off request(...) for 1.7s (openai.RateLimitError: Error code: 429 - {'error': {'message': 'Rate limit reached for gpt-3.5-turbo-instruct in organization org-DNIQnZOwEXH3HneN5ZlhWRmr on tokens per min (TPM): Limit 90000, Used 89296, Requested 1367. Please try again in 442ms. Visit https://platform.openai.com/account/rate-limits to learn more.', 'type': 'tokens', 'param': None, 'code': 'rate_limit_exceeded'}})\n",
      "INFO:backoff:Backing off request(...) for 1.8s (openai.RateLimitError: Error code: 429 - {'error': {'message': 'Rate limit reached for gpt-3.5-turbo-instruct in organization org-DNIQnZOwEXH3HneN5ZlhWRmr on tokens per min (TPM): Limit 90000, Used 89294, Requested 1375. Please try again in 446ms. Visit https://platform.openai.com/account/rate-limits to learn more.', 'type': 'tokens', 'param': None, 'code': 'rate_limit_exceeded'}})\n"
     ]
    },
    {
     "name": "stdout",
     "output_type": "stream",
     "text": [
      "Backing off 1.7 seconds after 2 tries calling function <function GPT3.request at 0x12e9b4860> with kwargs {}\n",
      "Backing off 1.8 seconds after 2 tries calling function <function GPT3.request at 0x12e9b4860> with kwargs {}\n"
     ]
    },
    {
     "name": "stderr",
     "output_type": "stream",
     "text": [
      "Average Metric: 5 / 10  (50.0): 100%|█| 10/10 [00:07<00:00,  1.32i\n",
      " 60%|██████████████████            | 6/10 [00:14<00:09,  2.44s/it]\n",
      "Average Metric: 0 / 1  (0.0):  10%| | 1/10 [00:01<00:14,  1.62s/itINFO:backoff:Backing off request(...) for 0.4s (openai.RateLimitError: Error code: 429 - {'error': {'message': 'Rate limit reached for gpt-3.5-turbo-instruct in organization org-DNIQnZOwEXH3HneN5ZlhWRmr on tokens per min (TPM): Limit 90000, Used 89319, Requested 1375. Please try again in 462ms. Visit https://platform.openai.com/account/rate-limits to learn more.', 'type': 'tokens', 'param': None, 'code': 'rate_limit_exceeded'}})\n",
      "INFO:backoff:Backing off request(...) for 0.4s (openai.RateLimitError: Error code: 429 - {'error': {'message': 'Rate limit reached for gpt-3.5-turbo-instruct in organization org-DNIQnZOwEXH3HneN5ZlhWRmr on tokens per min (TPM): Limit 90000, Used 89310, Requested 1387. Please try again in 464ms. Visit https://platform.openai.com/account/rate-limits to learn more.', 'type': 'tokens', 'param': None, 'code': 'rate_limit_exceeded'}})\n",
      "INFO:backoff:Backing off request(...) for 0.4s (openai.RateLimitError: Error code: 429 - {'error': {'message': 'Rate limit reached for gpt-3.5-turbo-instruct in organization org-DNIQnZOwEXH3HneN5ZlhWRmr on tokens per min (TPM): Limit 90000, Used 89310, Requested 1385. Please try again in 463ms. Visit https://platform.openai.com/account/rate-limits to learn more.', 'type': 'tokens', 'param': None, 'code': 'rate_limit_exceeded'}})\n"
     ]
    },
    {
     "name": "stdout",
     "output_type": "stream",
     "text": [
      "Backing off 0.4 seconds after 1 tries calling function <function GPT3.request at 0x12e9b4860> with kwargs {}\n",
      "Backing off 0.4 seconds after 1 tries calling function <function GPT3.request at 0x12e9b4860> with kwargs {}\n",
      "Backing off 0.4 seconds after 1 tries calling function <function GPT3.request at 0x12e9b4860> with kwargs {}\n"
     ]
    },
    {
     "name": "stderr",
     "output_type": "stream",
     "text": [
      "Average Metric: 2 / 4  (50.0):  40%|▍| 4/10 [00:03<00:04,  1.27it/INFO:backoff:Backing off request(...) for 1.7s (openai.RateLimitError: Error code: 429 - {'error': {'message': 'Rate limit reached for gpt-3.5-turbo-instruct in organization org-DNIQnZOwEXH3HneN5ZlhWRmr on tokens per min (TPM): Limit 90000, Used 88956, Requested 1385. Please try again in 227ms. Visit https://platform.openai.com/account/rate-limits to learn more.', 'type': 'tokens', 'param': None, 'code': 'rate_limit_exceeded'}})\n",
      "INFO:backoff:Backing off request(...) for 0.7s (openai.RateLimitError: Error code: 429 - {'error': {'message': 'Rate limit reached for gpt-3.5-turbo-instruct in organization org-DNIQnZOwEXH3HneN5ZlhWRmr on tokens per min (TPM): Limit 90000, Used 88963, Requested 1387. Please try again in 233ms. Visit https://platform.openai.com/account/rate-limits to learn more.', 'type': 'tokens', 'param': None, 'code': 'rate_limit_exceeded'}})\n",
      "INFO:backoff:Backing off request(...) for 1.2s (openai.RateLimitError: Error code: 429 - {'error': {'message': 'Rate limit reached for gpt-3.5-turbo-instruct in organization org-DNIQnZOwEXH3HneN5ZlhWRmr on tokens per min (TPM): Limit 90000, Used 88964, Requested 1375. Please try again in 226ms. Visit https://platform.openai.com/account/rate-limits to learn more.', 'type': 'tokens', 'param': None, 'code': 'rate_limit_exceeded'}})\n"
     ]
    },
    {
     "name": "stdout",
     "output_type": "stream",
     "text": [
      "Backing off 1.7 seconds after 2 tries calling function <function GPT3.request at 0x12e9b4860> with kwargs {}\n",
      "Backing off 0.7 seconds after 2 tries calling function <function GPT3.request at 0x12e9b4860> with kwargs {}\n",
      "Backing off 1.2 seconds after 2 tries calling function <function GPT3.request at 0x12e9b4860> with kwargs {}\n"
     ]
    },
    {
     "name": "stderr",
     "output_type": "stream",
     "text": [
      "Average Metric: 4 / 10  (40.0): 100%|█| 10/10 [00:08<00:00,  1.18i\n",
      "100%|█████████████████████████████| 10/10 [00:18<00:00,  1.80s/it]\n",
      "  0%|                                      | 0/10 [00:00<?, ?it/s]INFO:backoff:Backing off request(...) for 0.2s (openai.RateLimitError: Error code: 429 - {'error': {'message': 'Rate limit reached for gpt-3.5-turbo-instruct in organization org-DNIQnZOwEXH3HneN5ZlhWRmr on tokens per min (TPM): Limit 90000, Used 89013, Requested 1673. Please try again in 457ms. Visit https://platform.openai.com/account/rate-limits to learn more.', 'type': 'tokens', 'param': None, 'code': 'rate_limit_exceeded'}})\n",
      "INFO:backoff:Backing off request(...) for 0.4s (openai.RateLimitError: Error code: 429 - {'error': {'message': 'Rate limit reached for gpt-3.5-turbo-instruct in organization org-DNIQnZOwEXH3HneN5ZlhWRmr on tokens per min (TPM): Limit 90000, Used 88999, Requested 1661. Please try again in 440ms. Visit https://platform.openai.com/account/rate-limits to learn more.', 'type': 'tokens', 'param': None, 'code': 'rate_limit_exceeded'}})\n",
      "INFO:backoff:Backing off request(...) for 0.3s (openai.RateLimitError: Error code: 429 - {'error': {'message': 'Rate limit reached for gpt-3.5-turbo-instruct in organization org-DNIQnZOwEXH3HneN5ZlhWRmr on tokens per min (TPM): Limit 90000, Used 88986, Requested 1665. Please try again in 434ms. Visit https://platform.openai.com/account/rate-limits to learn more.', 'type': 'tokens', 'param': None, 'code': 'rate_limit_exceeded'}})\n",
      "INFO:backoff:Backing off request(...) for 0.4s (openai.RateLimitError: Error code: 429 - {'error': {'message': 'Rate limit reached for gpt-3.5-turbo-instruct in organization org-DNIQnZOwEXH3HneN5ZlhWRmr on tokens per min (TPM): Limit 90000, Used 88982, Requested 1663. Please try again in 430ms. Visit https://platform.openai.com/account/rate-limits to learn more.', 'type': 'tokens', 'param': None, 'code': 'rate_limit_exceeded'}})\n",
      "Average Metric: 1 / 1  (100.0):  10%| | 1/10 [00:02<00:22,  2.46s/"
     ]
    },
    {
     "name": "stdout",
     "output_type": "stream",
     "text": [
      "Backing off 0.2 seconds after 1 tries calling function <function GPT3.request at 0x12e9b4860> with kwargs {}\n",
      "Backing off 0.4 seconds after 1 tries calling function <function GPT3.request at 0x12e9b4860> with kwargs {}\n",
      "Backing off 0.3 seconds after 1 tries calling function <function GPT3.request at 0x12e9b4860> with kwargs {}\n",
      "Backing off 0.4 seconds after 1 tries calling function <function GPT3.request at 0x12e9b4860> with kwargs {}\n"
     ]
    },
    {
     "name": "stderr",
     "output_type": "stream",
     "text": [
      "Average Metric: 1 / 3  (33.3):  30%|▎| 3/10 [00:04<00:07,  1.14s/iINFO:backoff:Backing off request(...) for 0.7s (openai.RateLimitError: Error code: 429 - {'error': {'message': 'Rate limit reached for gpt-3.5-turbo-instruct in organization org-DNIQnZOwEXH3HneN5ZlhWRmr on tokens per min (TPM): Limit 90000, Used 89193, Requested 1673. Please try again in 577ms. Visit https://platform.openai.com/account/rate-limits to learn more.', 'type': 'tokens', 'param': None, 'code': 'rate_limit_exceeded'}})\n",
      "INFO:backoff:Backing off request(...) for 1.4s (openai.RateLimitError: Error code: 429 - {'error': {'message': 'Rate limit reached for gpt-3.5-turbo-instruct in organization org-DNIQnZOwEXH3HneN5ZlhWRmr on tokens per min (TPM): Limit 90000, Used 89156, Requested 1665. Please try again in 547ms. Visit https://platform.openai.com/account/rate-limits to learn more.', 'type': 'tokens', 'param': None, 'code': 'rate_limit_exceeded'}})\n",
      "INFO:backoff:Backing off request(...) for 0.9s (openai.RateLimitError: Error code: 429 - {'error': {'message': 'Rate limit reached for gpt-3.5-turbo-instruct in organization org-DNIQnZOwEXH3HneN5ZlhWRmr on tokens per min (TPM): Limit 90000, Used 89128, Requested 1661. Please try again in 526ms. Visit https://platform.openai.com/account/rate-limits to learn more.', 'type': 'tokens', 'param': None, 'code': 'rate_limit_exceeded'}})\n",
      "Average Metric: 1 / 4  (25.0):  40%|▍| 4/10 [00:04<00:05,  1.04it/"
     ]
    },
    {
     "name": "stdout",
     "output_type": "stream",
     "text": [
      "Backing off 0.7 seconds after 2 tries calling function <function GPT3.request at 0x12e9b4860> with kwargs {}\n",
      "Backing off 1.4 seconds after 2 tries calling function <function GPT3.request at 0x12e9b4860> with kwargs {}\n",
      "Backing off 0.9 seconds after 2 tries calling function <function GPT3.request at 0x12e9b4860> with kwargs {}\n"
     ]
    },
    {
     "name": "stderr",
     "output_type": "stream",
     "text": [
      "Average Metric: 4 / 7  (57.1):  70%|▋| 7/10 [00:06<00:02,  1.45it/INFO:backoff:Backing off request(...) for 0.6s (openai.RateLimitError: Error code: 429 - {'error': {'message': 'Rate limit reached for gpt-3.5-turbo-instruct in organization org-DNIQnZOwEXH3HneN5ZlhWRmr on tokens per min (TPM): Limit 90000, Used 88773, Requested 1652. Please try again in 283ms. Visit https://platform.openai.com/account/rate-limits to learn more.', 'type': 'tokens', 'param': None, 'code': 'rate_limit_exceeded'}})\n",
      "INFO:backoff:Backing off request(...) for 0.4s (openai.RateLimitError: Error code: 429 - {'error': {'message': 'Rate limit reached for gpt-3.5-turbo-instruct in organization org-DNIQnZOwEXH3HneN5ZlhWRmr on tokens per min (TPM): Limit 90000, Used 88761, Requested 1673. Please try again in 289ms. Visit https://platform.openai.com/account/rate-limits to learn more.', 'type': 'tokens', 'param': None, 'code': 'rate_limit_exceeded'}})\n"
     ]
    },
    {
     "name": "stdout",
     "output_type": "stream",
     "text": [
      "Backing off 0.6 seconds after 1 tries calling function <function GPT3.request at 0x12e9b4860> with kwargs {}\n",
      "Backing off 0.4 seconds after 3 tries calling function <function GPT3.request at 0x12e9b4860> with kwargs {}\n"
     ]
    },
    {
     "name": "stderr",
     "output_type": "stream",
     "text": [
      "Average Metric: 6 / 10  (60.0): 100%|█| 10/10 [00:09<00:00,  1.03i\n",
      "100%|█████████████████████████████| 10/10 [00:19<00:00,  1.91s/it]\n",
      "  0%|                                      | 0/10 [00:00<?, ?it/s]INFO:backoff:Backing off request(...) for 0.0s (openai.RateLimitError: Error code: 429 - {'error': {'message': 'Rate limit reached for gpt-3.5-turbo-instruct in organization org-DNIQnZOwEXH3HneN5ZlhWRmr on tokens per min (TPM): Limit 90000, Used 89055, Requested 1434. Please try again in 326ms. Visit https://platform.openai.com/account/rate-limits to learn more.', 'type': 'tokens', 'param': None, 'code': 'rate_limit_exceeded'}})\n",
      "INFO:backoff:Backing off request(...) for 0.7s (openai.RateLimitError: Error code: 429 - {'error': {'message': 'Rate limit reached for gpt-3.5-turbo-instruct in organization org-DNIQnZOwEXH3HneN5ZlhWRmr on tokens per min (TPM): Limit 90000, Used 89022, Requested 1447. Please try again in 312ms. Visit https://platform.openai.com/account/rate-limits to learn more.', 'type': 'tokens', 'param': None, 'code': 'rate_limit_exceeded'}})\n",
      "INFO:backoff:Backing off request(...) for 0.1s (openai.RateLimitError: Error code: 429 - {'error': {'message': 'Rate limit reached for gpt-3.5-turbo-instruct in organization org-DNIQnZOwEXH3HneN5ZlhWRmr on tokens per min (TPM): Limit 90000, Used 89017, Requested 1445. Please try again in 308ms. Visit https://platform.openai.com/account/rate-limits to learn more.', 'type': 'tokens', 'param': None, 'code': 'rate_limit_exceeded'}})\n",
      "INFO:backoff:Backing off request(...) for 0.6s (openai.RateLimitError: Error code: 429 - {'error': {'message': 'Rate limit reached for gpt-3.5-turbo-instruct in organization org-DNIQnZOwEXH3HneN5ZlhWRmr on tokens per min (TPM): Limit 90000, Used 88978, Requested 1454. Please try again in 288ms. Visit https://platform.openai.com/account/rate-limits to learn more.', 'type': 'tokens', 'param': None, 'code': 'rate_limit_exceeded'}})\n"
     ]
    },
    {
     "name": "stdout",
     "output_type": "stream",
     "text": [
      "Backing off 0.0 seconds after 1 tries calling function <function GPT3.request at 0x12e9b4860> with kwargs {}\n",
      "Backing off 0.7 seconds after 1 tries calling function <function GPT3.request at 0x12e9b4860> with kwargs {}\n",
      "Backing off 0.1 seconds after 1 tries calling function <function GPT3.request at 0x12e9b4860> with kwargs {}\n",
      "Backing off 0.6 seconds after 1 tries calling function <function GPT3.request at 0x12e9b4860> with kwargs {}\n"
     ]
    },
    {
     "name": "stderr",
     "output_type": "stream",
     "text": [
      "Average Metric: 1 / 3  (33.3):  30%|▎| 3/10 [00:03<00:05,  1.17it/INFO:backoff:Backing off request(...) for 1.1s (openai.RateLimitError: Error code: 429 - {'error': {'message': 'Rate limit reached for gpt-3.5-turbo-instruct in organization org-DNIQnZOwEXH3HneN5ZlhWRmr on tokens per min (TPM): Limit 90000, Used 88829, Requested 1434. Please try again in 175ms. Visit https://platform.openai.com/account/rate-limits to learn more.', 'type': 'tokens', 'param': None, 'code': 'rate_limit_exceeded'}})\n"
     ]
    },
    {
     "name": "stdout",
     "output_type": "stream",
     "text": [
      "Backing off 1.1 seconds after 2 tries calling function <function GPT3.request at 0x12e9b4860> with kwargs {}\n"
     ]
    },
    {
     "name": "stderr",
     "output_type": "stream",
     "text": [
      "INFO:backoff:Backing off request(...) for 0.8s (openai.RateLimitError: Error code: 429 - {'error': {'message': 'Rate limit reached for gpt-3.5-turbo-instruct in organization org-DNIQnZOwEXH3HneN5ZlhWRmr on tokens per min (TPM): Limit 90000, Used 89648, Requested 1447. Please try again in 730ms. Visit https://platform.openai.com/account/rate-limits to learn more.', 'type': 'tokens', 'param': None, 'code': 'rate_limit_exceeded'}})\n",
      "INFO:backoff:Backing off request(...) for 0.3s (openai.RateLimitError: Error code: 429 - {'error': {'message': 'Rate limit reached for gpt-3.5-turbo-instruct in organization org-DNIQnZOwEXH3HneN5ZlhWRmr on tokens per min (TPM): Limit 90000, Used 89682, Requested 1454. Please try again in 757ms. Visit https://platform.openai.com/account/rate-limits to learn more.', 'type': 'tokens', 'param': None, 'code': 'rate_limit_exceeded'}})\n"
     ]
    },
    {
     "name": "stdout",
     "output_type": "stream",
     "text": [
      "Backing off 0.8 seconds after 2 tries calling function <function GPT3.request at 0x12e9b4860> with kwargs {}\n",
      "Backing off 0.3 seconds after 2 tries calling function <function GPT3.request at 0x12e9b4860> with kwargs {}\n"
     ]
    },
    {
     "name": "stderr",
     "output_type": "stream",
     "text": [
      "Average Metric: 2 / 4  (50.0):  40%|▍| 4/10 [00:04<00:05,  1.01it/INFO:backoff:Backing off request(...) for 0.5s (openai.RateLimitError: Error code: 429 - {'error': {'message': 'Rate limit reached for gpt-3.5-turbo-instruct in organization org-DNIQnZOwEXH3HneN5ZlhWRmr on tokens per min (TPM): Limit 90000, Used 89276, Requested 1444. Please try again in 480ms. Visit https://platform.openai.com/account/rate-limits to learn more.', 'type': 'tokens', 'param': None, 'code': 'rate_limit_exceeded'}})\n",
      "Average Metric: 2 / 5  (40.0):  50%|▌| 5/10 [00:04<00:03,  1.34it/"
     ]
    },
    {
     "name": "stdout",
     "output_type": "stream",
     "text": [
      "Backing off 0.5 seconds after 1 tries calling function <function GPT3.request at 0x12e9b4860> with kwargs {}\n"
     ]
    },
    {
     "name": "stderr",
     "output_type": "stream",
     "text": [
      "INFO:backoff:Backing off request(...) for 1.7s (openai.RateLimitError: Error code: 429 - {'error': {'message': 'Rate limit reached for gpt-3.5-turbo-instruct in organization org-DNIQnZOwEXH3HneN5ZlhWRmr on tokens per min (TPM): Limit 90000, Used 89267, Requested 1454. Please try again in 480ms. Visit https://platform.openai.com/account/rate-limits to learn more.', 'type': 'tokens', 'param': None, 'code': 'rate_limit_exceeded'}})\n"
     ]
    },
    {
     "name": "stdout",
     "output_type": "stream",
     "text": [
      "Backing off 1.7 seconds after 3 tries calling function <function GPT3.request at 0x12e9b4860> with kwargs {}\n"
     ]
    },
    {
     "name": "stderr",
     "output_type": "stream",
     "text": [
      "Average Metric: 6 / 10  (60.0): 100%|█| 10/10 [00:08<00:00,  1.18i\n",
      " 60%|██████████████████            | 6/10 [00:10<00:07,  1.77s/it]\n",
      "Average Metric: 1 / 3  (33.3):  30%|▎| 3/10 [00:02<00:04,  1.54it/INFO:backoff:Backing off request(...) for 0.7s (openai.RateLimitError: Error code: 429 - {'error': {'message': 'Rate limit reached for gpt-3.5-turbo-instruct in organization org-DNIQnZOwEXH3HneN5ZlhWRmr on tokens per min (TPM): Limit 90000, Used 89898, Requested 1427. Please try again in 883ms. Visit https://platform.openai.com/account/rate-limits to learn more.', 'type': 'tokens', 'param': None, 'code': 'rate_limit_exceeded'}})\n",
      "INFO:backoff:Backing off request(...) for 0.7s (openai.RateLimitError: Error code: 429 - {'error': {'message': 'Rate limit reached for gpt-3.5-turbo-instruct in organization org-DNIQnZOwEXH3HneN5ZlhWRmr on tokens per min (TPM): Limit 90000, Used 89867, Requested 1425. Please try again in 861ms. Visit https://platform.openai.com/account/rate-limits to learn more.', 'type': 'tokens', 'param': None, 'code': 'rate_limit_exceeded'}})\n"
     ]
    },
    {
     "name": "stdout",
     "output_type": "stream",
     "text": [
      "Backing off 0.7 seconds after 1 tries calling function <function GPT3.request at 0x12e9b4860> with kwargs {}\n",
      "Backing off 0.7 seconds after 1 tries calling function <function GPT3.request at 0x12e9b4860> with kwargs {}\n"
     ]
    },
    {
     "name": "stderr",
     "output_type": "stream",
     "text": [
      "Average Metric: 2 / 4  (50.0):  40%|▍| 4/10 [00:02<00:03,  1.88it/INFO:backoff:Backing off request(...) for 0.7s (openai.RateLimitError: Error code: 429 - {'error': {'message': 'Rate limit reached for gpt-3.5-turbo-instruct in organization org-DNIQnZOwEXH3HneN5ZlhWRmr on tokens per min (TPM): Limit 90000, Used 88855, Requested 1410. Please try again in 176ms. Visit https://platform.openai.com/account/rate-limits to learn more.', 'type': 'tokens', 'param': None, 'code': 'rate_limit_exceeded'}})\n"
     ]
    },
    {
     "name": "stdout",
     "output_type": "stream",
     "text": [
      "Backing off 0.7 seconds after 1 tries calling function <function GPT3.request at 0x12e9b4860> with kwargs {}\n"
     ]
    },
    {
     "name": "stderr",
     "output_type": "stream",
     "text": [
      "Average Metric: 3 / 5  (60.0):  50%|▌| 5/10 [00:03<00:03,  1.59it/INFO:backoff:Backing off request(...) for 0.4s (openai.RateLimitError: Error code: 429 - {'error': {'message': 'Rate limit reached for gpt-3.5-turbo-instruct in organization org-DNIQnZOwEXH3HneN5ZlhWRmr on tokens per min (TPM): Limit 90000, Used 89264, Requested 1415. Please try again in 452ms. Visit https://platform.openai.com/account/rate-limits to learn more.', 'type': 'tokens', 'param': None, 'code': 'rate_limit_exceeded'}})\n",
      "Average Metric: 4 / 6  (66.7):  60%|▌| 6/10 [00:03<00:02,  1.52it/"
     ]
    },
    {
     "name": "stdout",
     "output_type": "stream",
     "text": [
      "Backing off 0.4 seconds after 1 tries calling function <function GPT3.request at 0x12e9b4860> with kwargs {}\n"
     ]
    },
    {
     "name": "stderr",
     "output_type": "stream",
     "text": [
      "INFO:backoff:Backing off request(...) for 0.2s (openai.RateLimitError: Error code: 429 - {'error': {'message': 'Rate limit reached for gpt-3.5-turbo-instruct in organization org-DNIQnZOwEXH3HneN5ZlhWRmr on tokens per min (TPM): Limit 90000, Used 89225, Requested 1427. Please try again in 434ms. Visit https://platform.openai.com/account/rate-limits to learn more.', 'type': 'tokens', 'param': None, 'code': 'rate_limit_exceeded'}})\n",
      "Average Metric: 4 / 7  (57.1):  70%|▋| 7/10 [00:04<00:02,  1.46it/"
     ]
    },
    {
     "name": "stdout",
     "output_type": "stream",
     "text": [
      "Backing off 0.2 seconds after 2 tries calling function <function GPT3.request at 0x12e9b4860> with kwargs {}\n"
     ]
    },
    {
     "name": "stderr",
     "output_type": "stream",
     "text": [
      "Average Metric: 6 / 10  (60.0): 100%|█| 10/10 [00:07<00:00,  1.41i\n",
      " 30%|█████████                     | 3/10 [00:08<00:19,  2.75s/it]\n",
      "  0%|                                      | 0/10 [00:00<?, ?it/s]INFO:backoff:Backing off request(...) for 0.7s (openai.RateLimitError: Error code: 429 - {'error': {'message': 'Rate limit reached for gpt-3.5-turbo-instruct in organization org-DNIQnZOwEXH3HneN5ZlhWRmr on tokens per min (TPM): Limit 90000, Used 89649, Requested 1412. Please try again in 707ms. Visit https://platform.openai.com/account/rate-limits to learn more.', 'type': 'tokens', 'param': None, 'code': 'rate_limit_exceeded'}})\n",
      "INFO:backoff:Backing off request(...) for 0.1s (openai.RateLimitError: Error code: 429 - {'error': {'message': 'Rate limit reached for gpt-3.5-turbo-instruct in organization org-DNIQnZOwEXH3HneN5ZlhWRmr on tokens per min (TPM): Limit 90000, Used 89640, Requested 1401. Please try again in 694ms. Visit https://platform.openai.com/account/rate-limits to learn more.', 'type': 'tokens', 'param': None, 'code': 'rate_limit_exceeded'}})\n"
     ]
    },
    {
     "name": "stdout",
     "output_type": "stream",
     "text": [
      "Backing off 0.7 seconds after 1 tries calling function <function GPT3.request at 0x12e9b4860> with kwargs {}\n",
      "Backing off 0.1 seconds after 1 tries calling function <function GPT3.request at 0x12e9b4860> with kwargs {}\n"
     ]
    },
    {
     "name": "stderr",
     "output_type": "stream",
     "text": [
      "INFO:backoff:Backing off request(...) for 0.5s (openai.RateLimitError: Error code: 429 - {'error': {'message': 'Rate limit reached for gpt-3.5-turbo-instruct in organization org-DNIQnZOwEXH3HneN5ZlhWRmr on tokens per min (TPM): Limit 90000, Used 89273, Requested 1404. Please try again in 451ms. Visit https://platform.openai.com/account/rate-limits to learn more.', 'type': 'tokens', 'param': None, 'code': 'rate_limit_exceeded'}})\n"
     ]
    },
    {
     "name": "stdout",
     "output_type": "stream",
     "text": [
      "Backing off 0.5 seconds after 1 tries calling function <function GPT3.request at 0x12e9b4860> with kwargs {}\n"
     ]
    },
    {
     "name": "stderr",
     "output_type": "stream",
     "text": [
      "Average Metric: 0 / 1  (0.0):  10%| | 1/10 [00:01<00:16,  1.80s/itINFO:backoff:Backing off request(...) for 0.8s (openai.RateLimitError: Error code: 429 - {'error': {'message': 'Rate limit reached for gpt-3.5-turbo-instruct in organization org-DNIQnZOwEXH3HneN5ZlhWRmr on tokens per min (TPM): Limit 90000, Used 89242, Requested 1402. Please try again in 429ms. Visit https://platform.openai.com/account/rate-limits to learn more.', 'type': 'tokens', 'param': None, 'code': 'rate_limit_exceeded'}})\n"
     ]
    },
    {
     "name": "stdout",
     "output_type": "stream",
     "text": [
      "Backing off 0.8 seconds after 1 tries calling function <function GPT3.request at 0x12e9b4860> with kwargs {}\n"
     ]
    },
    {
     "name": "stderr",
     "output_type": "stream",
     "text": [
      "Average Metric: 1 / 3  (33.3):  30%|▎| 3/10 [00:03<00:07,  1.02s/iINFO:backoff:Backing off request(...) for 1.4s (openai.RateLimitError: Error code: 429 - {'error': {'message': 'Rate limit reached for gpt-3.5-turbo-instruct in organization org-DNIQnZOwEXH3HneN5ZlhWRmr on tokens per min (TPM): Limit 90000, Used 89277, Requested 1412. Please try again in 459ms. Visit https://platform.openai.com/account/rate-limits to learn more.', 'type': 'tokens', 'param': None, 'code': 'rate_limit_exceeded'}})\n",
      "Average Metric: 2 / 4  (50.0):  40%|▍| 4/10 [00:03<00:04,  1.41it/"
     ]
    },
    {
     "name": "stdout",
     "output_type": "stream",
     "text": [
      "Backing off 1.4 seconds after 2 tries calling function <function GPT3.request at 0x12e9b4860> with kwargs {}\n"
     ]
    },
    {
     "name": "stderr",
     "output_type": "stream",
     "text": [
      "INFO:backoff:Backing off request(...) for 1.0s (openai.RateLimitError: Error code: 429 - {'error': {'message': 'Rate limit reached for gpt-3.5-turbo-instruct in organization org-DNIQnZOwEXH3HneN5ZlhWRmr on tokens per min (TPM): Limit 90000, Used 89270, Requested 1401. Please try again in 447ms. Visit https://platform.openai.com/account/rate-limits to learn more.', 'type': 'tokens', 'param': None, 'code': 'rate_limit_exceeded'}})\n",
      "INFO:backoff:Backing off request(...) for 1.3s (openai.RateLimitError: Error code: 429 - {'error': {'message': 'Rate limit reached for gpt-3.5-turbo-instruct in organization org-DNIQnZOwEXH3HneN5ZlhWRmr on tokens per min (TPM): Limit 90000, Used 89260, Requested 1402. Please try again in 441ms. Visit https://platform.openai.com/account/rate-limits to learn more.', 'type': 'tokens', 'param': None, 'code': 'rate_limit_exceeded'}})\n"
     ]
    },
    {
     "name": "stdout",
     "output_type": "stream",
     "text": [
      "Backing off 1.0 seconds after 1 tries calling function <function GPT3.request at 0x12e9b4860> with kwargs {}\n",
      "Backing off 1.3 seconds after 2 tries calling function <function GPT3.request at 0x12e9b4860> with kwargs {}\n"
     ]
    },
    {
     "name": "stderr",
     "output_type": "stream",
     "text": [
      "Average Metric: 6 / 10  (60.0): 100%|█| 10/10 [00:07<00:00,  1.28i\n",
      "100%|█████████████████████████████| 10/10 [00:22<00:00,  2.26s/it]\n",
      "Average Metric: 1 / 1  (100.0):  10%| | 1/10 [00:01<00:11,  1.24s/INFO:backoff:Backing off request(...) for 0.1s (openai.RateLimitError: Error code: 429 - {'error': {'message': 'Rate limit reached for gpt-3.5-turbo-instruct in organization org-DNIQnZOwEXH3HneN5ZlhWRmr on tokens per min (TPM): Limit 90000, Used 89290, Requested 1422. Please try again in 474ms. Visit https://platform.openai.com/account/rate-limits to learn more.', 'type': 'tokens', 'param': None, 'code': 'rate_limit_exceeded'}})\n",
      "INFO:backoff:Backing off request(...) for 0.9s (openai.RateLimitError: Error code: 429 - {'error': {'message': 'Rate limit reached for gpt-3.5-turbo-instruct in organization org-DNIQnZOwEXH3HneN5ZlhWRmr on tokens per min (TPM): Limit 90000, Used 89272, Requested 1435. Please try again in 471ms. Visit https://platform.openai.com/account/rate-limits to learn more.', 'type': 'tokens', 'param': None, 'code': 'rate_limit_exceeded'}})\n",
      "Average Metric: 2 / 2  (100.0):  20%|▏| 2/10 [00:01<00:06,  1.27itINFO:backoff:Backing off request(...) for 0.5s (openai.RateLimitError: Error code: 429 - {'error': {'message': 'Rate limit reached for gpt-3.5-turbo-instruct in organization org-DNIQnZOwEXH3HneN5ZlhWRmr on tokens per min (TPM): Limit 90000, Used 88872, Requested 1443. Please try again in 210ms. Visit https://platform.openai.com/account/rate-limits to learn more.', 'type': 'tokens', 'param': None, 'code': 'rate_limit_exceeded'}})\n",
      "INFO:backoff:Backing off request(...) for 0.7s (openai.RateLimitError: Error code: 429 - {'error': {'message': 'Rate limit reached for gpt-3.5-turbo-instruct in organization org-DNIQnZOwEXH3HneN5ZlhWRmr on tokens per min (TPM): Limit 90000, Used 88859, Requested 1433. Please try again in 194ms. Visit https://platform.openai.com/account/rate-limits to learn more.', 'type': 'tokens', 'param': None, 'code': 'rate_limit_exceeded'}})\n"
     ]
    },
    {
     "name": "stdout",
     "output_type": "stream",
     "text": [
      "Backing off 0.1 seconds after 1 tries calling function <function GPT3.request at 0x12e9b4860> with kwargs {}\n",
      "Backing off 0.9 seconds after 1 tries calling function <function GPT3.request at 0x12e9b4860> with kwargs {}\n",
      "Backing off 0.5 seconds after 1 tries calling function <function GPT3.request at 0x12e9b4860> with kwargs {}\n",
      "Backing off 0.7 seconds after 1 tries calling function <function GPT3.request at 0x12e9b4860> with kwargs {}\n"
     ]
    },
    {
     "name": "stderr",
     "output_type": "stream",
     "text": [
      "Average Metric: 4 / 4  (100.0):  40%|▍| 4/10 [00:03<00:04,  1.41itINFO:backoff:Backing off request(...) for 1.0s (openai.RateLimitError: Error code: 429 - {'error': {'message': 'Rate limit reached for gpt-3.5-turbo-instruct in organization org-DNIQnZOwEXH3HneN5ZlhWRmr on tokens per min (TPM): Limit 90000, Used 89654, Requested 1422. Please try again in 717ms. Visit https://platform.openai.com/account/rate-limits to learn more.', 'type': 'tokens', 'param': None, 'code': 'rate_limit_exceeded'}})\n"
     ]
    },
    {
     "name": "stdout",
     "output_type": "stream",
     "text": [
      "Backing off 1.0 seconds after 2 tries calling function <function GPT3.request at 0x12e9b4860> with kwargs {}\n"
     ]
    },
    {
     "name": "stderr",
     "output_type": "stream",
     "text": [
      "INFO:backoff:Backing off request(...) for 0.5s (openai.RateLimitError: Error code: 429 - {'error': {'message': 'Rate limit reached for gpt-3.5-turbo-instruct in organization org-DNIQnZOwEXH3HneN5ZlhWRmr on tokens per min (TPM): Limit 90000, Used 89303, Requested 1422. Please try again in 483ms. Visit https://platform.openai.com/account/rate-limits to learn more.', 'type': 'tokens', 'param': None, 'code': 'rate_limit_exceeded'}})\n",
      "INFO:backoff:Backing off request(...) for 1.6s (openai.RateLimitError: Error code: 429 - {'error': {'message': 'Rate limit reached for gpt-3.5-turbo-instruct in organization org-DNIQnZOwEXH3HneN5ZlhWRmr on tokens per min (TPM): Limit 90000, Used 89265, Requested 1443. Please try again in 471ms. Visit https://platform.openai.com/account/rate-limits to learn more.', 'type': 'tokens', 'param': None, 'code': 'rate_limit_exceeded'}})\n",
      "Average Metric: 4 / 5  (80.0):  50%|▌| 5/10 [00:03<00:03,  1.32it/"
     ]
    },
    {
     "name": "stdout",
     "output_type": "stream",
     "text": [
      "Backing off 0.5 seconds after 1 tries calling function <function GPT3.request at 0x12e9b4860> with kwargs {}\n",
      "Backing off 1.6 seconds after 2 tries calling function <function GPT3.request at 0x12e9b4860> with kwargs {}\n"
     ]
    },
    {
     "name": "stderr",
     "output_type": "stream",
     "text": [
      "Average Metric: 9 / 10  (90.0): 100%|█| 10/10 [00:07<00:00,  1.30i\n",
      "100%|█████████████████████████████| 10/10 [00:15<00:00,  1.58s/it]\n",
      "Average Metric: 0 / 1  (0.0):  10%| | 1/10 [00:01<00:09,  1.06s/itINFO:backoff:Backing off request(...) for 0.6s (openai.RateLimitError: Error code: 429 - {'error': {'message': 'Rate limit reached for gpt-3.5-turbo-instruct in organization org-DNIQnZOwEXH3HneN5ZlhWRmr on tokens per min (TPM): Limit 90000, Used 89665, Requested 1554. Please try again in 812ms. Visit https://platform.openai.com/account/rate-limits to learn more.', 'type': 'tokens', 'param': None, 'code': 'rate_limit_exceeded'}})\n",
      "INFO:backoff:Backing off request(...) for 0.9s (openai.RateLimitError: Error code: 429 - {'error': {'message': 'Rate limit reached for gpt-3.5-turbo-instruct in organization org-DNIQnZOwEXH3HneN5ZlhWRmr on tokens per min (TPM): Limit 90000, Used 89636, Requested 1564. Please try again in 800ms. Visit https://platform.openai.com/account/rate-limits to learn more.', 'type': 'tokens', 'param': None, 'code': 'rate_limit_exceeded'}})\n",
      "INFO:backoff:Backing off request(...) for 0.6s (openai.RateLimitError: Error code: 429 - {'error': {'message': 'Rate limit reached for gpt-3.5-turbo-instruct in organization org-DNIQnZOwEXH3HneN5ZlhWRmr on tokens per min (TPM): Limit 90000, Used 89608, Requested 1565. Please try again in 782ms. Visit https://platform.openai.com/account/rate-limits to learn more.', 'type': 'tokens', 'param': None, 'code': 'rate_limit_exceeded'}})\n",
      "Average Metric: 0 / 2  (0.0):  20%|▏| 2/10 [00:02<00:08,  1.12s/it"
     ]
    },
    {
     "name": "stdout",
     "output_type": "stream",
     "text": [
      "Backing off 0.6 seconds after 1 tries calling function <function GPT3.request at 0x12e9b4860> with kwargs {}\n",
      "Backing off 0.9 seconds after 1 tries calling function <function GPT3.request at 0x12e9b4860> with kwargs {}\n",
      "Backing off 0.6 seconds after 1 tries calling function <function GPT3.request at 0x12e9b4860> with kwargs {}\n"
     ]
    },
    {
     "name": "stderr",
     "output_type": "stream",
     "text": [
      "Average Metric: 1 / 5  (20.0):  50%|▌| 5/10 [00:03<00:03,  1.58it/INFO:backoff:Backing off request(...) for 0.5s (openai.RateLimitError: Error code: 429 - {'error': {'message': 'Rate limit reached for gpt-3.5-turbo-instruct in organization org-DNIQnZOwEXH3HneN5ZlhWRmr on tokens per min (TPM): Limit 90000, Used 89196, Requested 1554. Please try again in 500ms. Visit https://platform.openai.com/account/rate-limits to learn more.', 'type': 'tokens', 'param': None, 'code': 'rate_limit_exceeded'}})\n",
      "INFO:backoff:Backing off request(...) for 1.6s (openai.RateLimitError: Error code: 429 - {'error': {'message': 'Rate limit reached for gpt-3.5-turbo-instruct in organization org-DNIQnZOwEXH3HneN5ZlhWRmr on tokens per min (TPM): Limit 90000, Used 89136, Requested 1565. Please try again in 467ms. Visit https://platform.openai.com/account/rate-limits to learn more.', 'type': 'tokens', 'param': None, 'code': 'rate_limit_exceeded'}})\n"
     ]
    },
    {
     "name": "stdout",
     "output_type": "stream",
     "text": [
      "Backing off 0.5 seconds after 1 tries calling function <function GPT3.request at 0x12e9b4860> with kwargs {}\n",
      "Backing off 1.6 seconds after 2 tries calling function <function GPT3.request at 0x12e9b4860> with kwargs {}\n"
     ]
    },
    {
     "name": "stderr",
     "output_type": "stream",
     "text": [
      "Average Metric: 4 / 10  (40.0): 100%|█| 10/10 [00:07<00:00,  1.35i\n",
      "100%|█████████████████████████████| 10/10 [00:17<00:00,  1.77s/it]\n",
      "Average Metric: 1 / 2  (50.0):  20%|▏| 2/10 [00:01<00:04,  1.76it/INFO:backoff:Backing off request(...) for 0.7s (openai.RateLimitError: Error code: 429 - {'error': {'message': 'Rate limit reached for gpt-3.5-turbo-instruct in organization org-DNIQnZOwEXH3HneN5ZlhWRmr on tokens per min (TPM): Limit 90000, Used 88842, Requested 1445. Please try again in 191ms. Visit https://platform.openai.com/account/rate-limits to learn more.', 'type': 'tokens', 'param': None, 'code': 'rate_limit_exceeded'}})\n",
      "INFO:backoff:Backing off request(...) for 0.7s (openai.RateLimitError: Error code: 429 - {'error': {'message': 'Rate limit reached for gpt-3.5-turbo-instruct in organization org-DNIQnZOwEXH3HneN5ZlhWRmr on tokens per min (TPM): Limit 90000, Used 88870, Requested 1455. Please try again in 216ms. Visit https://platform.openai.com/account/rate-limits to learn more.', 'type': 'tokens', 'param': None, 'code': 'rate_limit_exceeded'}})\n",
      "INFO:backoff:Backing off request(...) for 0.5s (openai.RateLimitError: Error code: 429 - {'error': {'message': 'Rate limit reached for gpt-3.5-turbo-instruct in organization org-DNIQnZOwEXH3HneN5ZlhWRmr on tokens per min (TPM): Limit 90000, Used 88854, Requested 1447. Please try again in 200ms. Visit https://platform.openai.com/account/rate-limits to learn more.', 'type': 'tokens', 'param': None, 'code': 'rate_limit_exceeded'}})\n"
     ]
    },
    {
     "name": "stdout",
     "output_type": "stream",
     "text": [
      "Backing off 0.7 seconds after 1 tries calling function <function GPT3.request at 0x12e9b4860> with kwargs {}\n",
      "Backing off 0.7 seconds after 1 tries calling function <function GPT3.request at 0x12e9b4860> with kwargs {}\n",
      "Backing off 0.5 seconds after 1 tries calling function <function GPT3.request at 0x12e9b4860> with kwargs {}\n"
     ]
    },
    {
     "name": "stderr",
     "output_type": "stream",
     "text": [
      "Average Metric: 2 / 6  (33.3):  60%|▌| 6/10 [00:03<00:02,  1.94it/INFO:backoff:Backing off request(...) for 0.8s (openai.RateLimitError: Error code: 429 - {'error': {'message': 'Rate limit reached for gpt-3.5-turbo-instruct in organization org-DNIQnZOwEXH3HneN5ZlhWRmr on tokens per min (TPM): Limit 90000, Used 89666, Requested 1445. Please try again in 740ms. Visit https://platform.openai.com/account/rate-limits to learn more.', 'type': 'tokens', 'param': None, 'code': 'rate_limit_exceeded'}})\n",
      "INFO:backoff:Backing off request(...) for 0.5s (openai.RateLimitError: Error code: 429 - {'error': {'message': 'Rate limit reached for gpt-3.5-turbo-instruct in organization org-DNIQnZOwEXH3HneN5ZlhWRmr on tokens per min (TPM): Limit 90000, Used 89657, Requested 1455. Please try again in 741ms. Visit https://platform.openai.com/account/rate-limits to learn more.', 'type': 'tokens', 'param': None, 'code': 'rate_limit_exceeded'}})\n"
     ]
    },
    {
     "name": "stdout",
     "output_type": "stream",
     "text": [
      "Backing off 0.8 seconds after 2 tries calling function <function GPT3.request at 0x12e9b4860> with kwargs {}\n",
      "Backing off 0.5 seconds after 2 tries calling function <function GPT3.request at 0x12e9b4860> with kwargs {}\n"
     ]
    },
    {
     "name": "stderr",
     "output_type": "stream",
     "text": [
      "Average Metric: 5 / 10  (50.0): 100%|█| 10/10 [00:07<00:00,  1.35i\n",
      "100%|█████████████████████████████| 10/10 [00:15<00:00,  1.58s/it]\n",
      "  0%|                                      | 0/10 [00:00<?, ?it/s]INFO:backoff:Backing off request(...) for 0.3s (openai.RateLimitError: Error code: 429 - {'error': {'message': 'Rate limit reached for gpt-3.5-turbo-instruct in organization org-DNIQnZOwEXH3HneN5ZlhWRmr on tokens per min (TPM): Limit 90000, Used 89624, Requested 1464. Please try again in 725ms. Visit https://platform.openai.com/account/rate-limits to learn more.', 'type': 'tokens', 'param': None, 'code': 'rate_limit_exceeded'}})\n",
      "INFO:backoff:Backing off request(...) for 0.7s (openai.RateLimitError: Error code: 429 - {'error': {'message': 'Rate limit reached for gpt-3.5-turbo-instruct in organization org-DNIQnZOwEXH3HneN5ZlhWRmr on tokens per min (TPM): Limit 90000, Used 89665, Requested 1454. Please try again in 746ms. Visit https://platform.openai.com/account/rate-limits to learn more.', 'type': 'tokens', 'param': None, 'code': 'rate_limit_exceeded'}})\n",
      "INFO:backoff:Backing off request(...) for 0.3s (openai.RateLimitError: Error code: 429 - {'error': {'message': 'Rate limit reached for gpt-3.5-turbo-instruct in organization org-DNIQnZOwEXH3HneN5ZlhWRmr on tokens per min (TPM): Limit 90000, Used 89631, Requested 1466. Please try again in 731ms. Visit https://platform.openai.com/account/rate-limits to learn more.', 'type': 'tokens', 'param': None, 'code': 'rate_limit_exceeded'}})\n",
      "INFO:backoff:Backing off request(...) for 0.6s (openai.RateLimitError: Error code: 429 - {'error': {'message': 'Rate limit reached for gpt-3.5-turbo-instruct in organization org-DNIQnZOwEXH3HneN5ZlhWRmr on tokens per min (TPM): Limit 90000, Used 89630, Requested 1473. Please try again in 735ms. Visit https://platform.openai.com/account/rate-limits to learn more.', 'type': 'tokens', 'param': None, 'code': 'rate_limit_exceeded'}})\n"
     ]
    },
    {
     "name": "stdout",
     "output_type": "stream",
     "text": [
      "Backing off 0.3 seconds after 1 tries calling function <function GPT3.request at 0x12e9b4860> with kwargs {}\n",
      "Backing off 0.7 seconds after 1 tries calling function <function GPT3.request at 0x12e9b4860> with kwargs {}\n",
      "Backing off 0.3 seconds after 1 tries calling function <function GPT3.request at 0x12e9b4860> with kwargs {}\n",
      "Backing off 0.6 seconds after 1 tries calling function <function GPT3.request at 0x12e9b4860> with kwargs {}\n"
     ]
    },
    {
     "name": "stderr",
     "output_type": "stream",
     "text": [
      "Average Metric: 1 / 2  (50.0):  20%|▏| 2/10 [00:03<00:11,  1.38s/iINFO:backoff:Backing off request(...) for 0.2s (openai.RateLimitError: Error code: 429 - {'error': {'message': 'Rate limit reached for gpt-3.5-turbo-instruct in organization org-DNIQnZOwEXH3HneN5ZlhWRmr on tokens per min (TPM): Limit 90000, Used 89320, Requested 1464. Please try again in 522ms. Visit https://platform.openai.com/account/rate-limits to learn more.', 'type': 'tokens', 'param': None, 'code': 'rate_limit_exceeded'}})\n",
      "INFO:backoff:Backing off request(...) for 0.7s (openai.RateLimitError: Error code: 429 - {'error': {'message': 'Rate limit reached for gpt-3.5-turbo-instruct in organization org-DNIQnZOwEXH3HneN5ZlhWRmr on tokens per min (TPM): Limit 90000, Used 89304, Requested 1466. Please try again in 513ms. Visit https://platform.openai.com/account/rate-limits to learn more.', 'type': 'tokens', 'param': None, 'code': 'rate_limit_exceeded'}})\n"
     ]
    },
    {
     "name": "stdout",
     "output_type": "stream",
     "text": [
      "Backing off 0.2 seconds after 2 tries calling function <function GPT3.request at 0x12e9b4860> with kwargs {}\n",
      "Backing off 0.7 seconds after 2 tries calling function <function GPT3.request at 0x12e9b4860> with kwargs {}\n"
     ]
    },
    {
     "name": "stderr",
     "output_type": "stream",
     "text": [
      "Average Metric: 2 / 3  (66.7):  30%|▎| 3/10 [00:03<00:07,  1.00s/iINFO:backoff:Backing off request(...) for 0.8s (openai.RateLimitError: Error code: 429 - {'error': {'message': 'Rate limit reached for gpt-3.5-turbo-instruct in organization org-DNIQnZOwEXH3HneN5ZlhWRmr on tokens per min (TPM): Limit 90000, Used 89308, Requested 1449. Please try again in 504ms. Visit https://platform.openai.com/account/rate-limits to learn more.', 'type': 'tokens', 'param': None, 'code': 'rate_limit_exceeded'}})\n",
      "INFO:backoff:Backing off request(...) for 1.4s (openai.RateLimitError: Error code: 429 - {'error': {'message': 'Rate limit reached for gpt-3.5-turbo-instruct in organization org-DNIQnZOwEXH3HneN5ZlhWRmr on tokens per min (TPM): Limit 90000, Used 89293, Requested 1454. Please try again in 498ms. Visit https://platform.openai.com/account/rate-limits to learn more.', 'type': 'tokens', 'param': None, 'code': 'rate_limit_exceeded'}})\n"
     ]
    },
    {
     "name": "stdout",
     "output_type": "stream",
     "text": [
      "Backing off 0.8 seconds after 1 tries calling function <function GPT3.request at 0x12e9b4860> with kwargs {}\n",
      "Backing off 1.4 seconds after 2 tries calling function <function GPT3.request at 0x12e9b4860> with kwargs {}\n"
     ]
    },
    {
     "name": "stderr",
     "output_type": "stream",
     "text": [
      "Average Metric: 3 / 6  (50.0):  60%|▌| 6/10 [00:05<00:02,  1.52it/INFO:backoff:Backing off request(...) for 0.1s (openai.RateLimitError: Error code: 429 - {'error': {'message': 'Rate limit reached for gpt-3.5-turbo-instruct in organization org-DNIQnZOwEXH3HneN5ZlhWRmr on tokens per min (TPM): Limit 90000, Used 88882, Requested 1453. Please try again in 223ms. Visit https://platform.openai.com/account/rate-limits to learn more.', 'type': 'tokens', 'param': None, 'code': 'rate_limit_exceeded'}})\n"
     ]
    },
    {
     "name": "stdout",
     "output_type": "stream",
     "text": [
      "Backing off 0.1 seconds after 1 tries calling function <function GPT3.request at 0x12e9b4860> with kwargs {}\n"
     ]
    },
    {
     "name": "stderr",
     "output_type": "stream",
     "text": [
      "INFO:backoff:Backing off request(...) for 0.4s (openai.RateLimitError: Error code: 429 - {'error': {'message': 'Rate limit reached for gpt-3.5-turbo-instruct in organization org-DNIQnZOwEXH3HneN5ZlhWRmr on tokens per min (TPM): Limit 90000, Used 89644, Requested 1452. Please try again in 730ms. Visit https://platform.openai.com/account/rate-limits to learn more.', 'type': 'tokens', 'param': None, 'code': 'rate_limit_exceeded'}})\n"
     ]
    },
    {
     "name": "stdout",
     "output_type": "stream",
     "text": [
      "Backing off 0.4 seconds after 1 tries calling function <function GPT3.request at 0x12e9b4860> with kwargs {}\n"
     ]
    },
    {
     "name": "stderr",
     "output_type": "stream",
     "text": [
      "Average Metric: 4 / 7  (57.1):  70%|▋| 7/10 [00:06<00:02,  1.41it/INFO:backoff:Backing off request(...) for 1.5s (openai.RateLimitError: Error code: 429 - {'error': {'message': 'Rate limit reached for gpt-3.5-turbo-instruct in organization org-DNIQnZOwEXH3HneN5ZlhWRmr on tokens per min (TPM): Limit 90000, Used 89269, Requested 1454. Please try again in 482ms. Visit https://platform.openai.com/account/rate-limits to learn more.', 'type': 'tokens', 'param': None, 'code': 'rate_limit_exceeded'}})\n",
      "Average Metric: 5 / 8  (62.5):  80%|▊| 8/10 [00:06<00:01,  1.41it/"
     ]
    },
    {
     "name": "stdout",
     "output_type": "stream",
     "text": [
      "Backing off 1.5 seconds after 3 tries calling function <function GPT3.request at 0x12e9b4860> with kwargs {}\n"
     ]
    },
    {
     "name": "stderr",
     "output_type": "stream",
     "text": [
      "Average Metric: 6 / 10  (60.0): 100%|█| 10/10 [00:09<00:00,  1.04i\n",
      " 40%|████████████                  | 4/10 [00:06<00:09,  1.59s/it]\n",
      "Average Metric: 6 / 10  (60.0): 100%|█| 10/10 [00:03<00:00,  2.70i\n",
      " 10%|███                           | 1/10 [00:01<00:15,  1.70s/it]\n",
      "Average Metric: 1 / 1  (100.0):  10%| | 1/10 [00:01<00:11,  1.32s/INFO:backoff:Backing off request(...) for 0.1s (openai.RateLimitError: Error code: 429 - {'error': {'message': 'Rate limit reached for gpt-3.5-turbo-instruct in organization org-DNIQnZOwEXH3HneN5ZlhWRmr on tokens per min (TPM): Limit 90000, Used 89303, Requested 1273. Please try again in 384ms. Visit https://platform.openai.com/account/rate-limits to learn more.', 'type': 'tokens', 'param': None, 'code': 'rate_limit_exceeded'}})\n",
      "Average Metric: 2 / 3  (66.7):  20%|▏| 2/10 [00:01<00:05,  1.37it/"
     ]
    },
    {
     "name": "stdout",
     "output_type": "stream",
     "text": [
      "Backing off 0.1 seconds after 1 tries calling function <function GPT3.request at 0x12e9b4860> with kwargs {}\n"
     ]
    },
    {
     "name": "stderr",
     "output_type": "stream",
     "text": [
      "INFO:backoff:Backing off request(...) for 0.6s (openai.RateLimitError: Error code: 429 - {'error': {'message': 'Rate limit reached for gpt-3.5-turbo-instruct in organization org-DNIQnZOwEXH3HneN5ZlhWRmr on tokens per min (TPM): Limit 90000, Used 89409, Requested 1262. Please try again in 447ms. Visit https://platform.openai.com/account/rate-limits to learn more.', 'type': 'tokens', 'param': None, 'code': 'rate_limit_exceeded'}})\n"
     ]
    },
    {
     "name": "stdout",
     "output_type": "stream",
     "text": [
      "Backing off 0.6 seconds after 1 tries calling function <function GPT3.request at 0x12e9b4860> with kwargs {}\n"
     ]
    },
    {
     "name": "stderr",
     "output_type": "stream",
     "text": [
      "Average Metric: 2 / 5  (40.0):  50%|▌| 5/10 [00:02<00:02,  2.09it/INFO:backoff:Backing off request(...) for 0.4s (openai.RateLimitError: Error code: 429 - {'error': {'message': 'Rate limit reached for gpt-3.5-turbo-instruct in organization org-DNIQnZOwEXH3HneN5ZlhWRmr on tokens per min (TPM): Limit 90000, Used 89354, Requested 1270. Please try again in 416ms. Visit https://platform.openai.com/account/rate-limits to learn more.', 'type': 'tokens', 'param': None, 'code': 'rate_limit_exceeded'}})\n",
      "INFO:backoff:Backing off request(...) for 0.3s (openai.RateLimitError: Error code: 429 - {'error': {'message': 'Rate limit reached for gpt-3.5-turbo-instruct in organization org-DNIQnZOwEXH3HneN5ZlhWRmr on tokens per min (TPM): Limit 90000, Used 89334, Requested 1261. Please try again in 396ms. Visit https://platform.openai.com/account/rate-limits to learn more.', 'type': 'tokens', 'param': None, 'code': 'rate_limit_exceeded'}})\n",
      "Average Metric: 2 / 6  (33.3):  60%|▌| 6/10 [00:03<00:02,  1.94it/"
     ]
    },
    {
     "name": "stdout",
     "output_type": "stream",
     "text": [
      "Backing off 0.4 seconds after 1 tries calling function <function GPT3.request at 0x12e9b4860> with kwargs {}\n",
      "Backing off 0.3 seconds after 1 tries calling function <function GPT3.request at 0x12e9b4860> with kwargs {}\n"
     ]
    },
    {
     "name": "stderr",
     "output_type": "stream",
     "text": [
      "Average Metric: 5 / 10  (50.0): 100%|█| 10/10 [00:05<00:00,  1.81i\n",
      " 30%|█████████                     | 3/10 [00:04<00:09,  1.42s/it]\n",
      "Average Metric: 6 / 10  (60.0): 100%|█| 10/10 [00:04<00:00,  2.22i\n"
     ]
    }
   ],
   "source": [
    "from dspy.teleprompt import BootstrapFewShotWithRandomSearch, BootstrapFewShot\n",
    "\n",
    "# with dspy.context(lm=gpt3_turbo_instruct):\n",
    "dspy.settings.configure(lm=gpt3_turbo_instruct)\n",
    "\n",
    "config = dict(max_bootstrapped_demos=5, max_labeled_demos=30, num_candidate_programs=4, num_threads=4)\n",
    "optimiser = BootstrapFewShotWithRandomSearch(metric=grading_accuracy_metric, **config)\n",
    "# optimiser = BootstrapFewShot(metric=grading_accuracy, **config)\n",
    "optimised_program = optimiser.compile(asag_cot_pipeline, trainset=train_data[:10])"
   ]
  },
  {
   "cell_type": "code",
   "execution_count": 42,
   "id": "ddeb690f-5648-4349-80ab-01a3927bd4bd",
   "metadata": {},
   "outputs": [
    {
     "data": {
      "text/plain": [
       "prog = ChainOfThought(AssessmentSignature(question, student_answer, reference_answer -> assessment\n",
       "    instructions='\\n    Your task is to assess the student\\'s answer to the question by comparing with the reference answer\\n    The value for assessment must be EXACTLY one of the following classes:\\n    \"correct\", \"partially_correct_incomplete\", \"contradictory\", \"non_domain\", \"irrelevant\"\\n    Include the underscores if the class contains it. Output nothing else.\\n\\n    Definitions of the classes:\\n    correct: if the student answer is a complete and correct paraphrase of the reference answer\\n    partially_correct_incomplete: \\n    '\n",
       "    question = Field(annotation=str required=True json_schema_extra={'__dspy_field_type': 'input', 'prefix': 'Question:', 'desc': '${question}'})\n",
       "    student_answer = Field(annotation=str required=True json_schema_extra={'__dspy_field_type': 'input', 'prefix': 'Student Answer:', 'desc': '${student_answer}'})\n",
       "    reference_answer = Field(annotation=str required=True json_schema_extra={'__dspy_field_type': 'input', 'prefix': 'Reference Answer:', 'desc': '${reference_answer}'})\n",
       "    assessment = Field(annotation=str required=True json_schema_extra={'desc': 'the final assessment', '__dspy_field_type': 'output', 'prefix': 'Assessment:'})\n",
       "))"
      ]
     },
     "execution_count": 42,
     "metadata": {},
     "output_type": "execute_result"
    }
   ],
   "source": [
    "optimised_program"
   ]
  },
  {
   "cell_type": "code",
   "execution_count": 44,
   "id": "f8f10fe6-9359-4fdb-9e07-67aeeaa0af21",
   "metadata": {},
   "outputs": [],
   "source": [
    "optimised_program.save(\"asag_cot.json\")"
   ]
  },
  {
   "cell_type": "code",
   "execution_count": 45,
   "id": "93edcb32-42e8-457e-8b8c-a70ef737cc4b",
   "metadata": {},
   "outputs": [
    {
     "name": "stdout",
     "output_type": "stream",
     "text": [
      "\n",
      "\n",
      "\n",
      "Your task is to assess the student's answer to the question by comparing with the reference answer\n",
      "    The value for assessment must be EXACTLY one of the following classes:\n",
      "    \"correct\", \"partially_correct_incomplete\", \"contradictory\", \"non_domain\", \"irrelevant\"\n",
      "    Include the underscores if the class contains it. Output nothing else.\n",
      "\n",
      "    Definitions of the classes:\n",
      "    correct: if the student answer is a complete and correct paraphrase of the reference answer\n",
      "    partially_correct_incomplete:\n",
      "\n",
      "---\n",
      "\n",
      "Follow the following format.\n",
      "\n",
      "Question: ${question}\n",
      "\n",
      "Student Answer: ${student_answer}\n",
      "\n",
      "Reference Answer: ${reference_answer}\n",
      "\n",
      "Reasoning: Let's think step by step in order to ${produce the assessment}. We ...\n",
      "\n",
      "Assessment: the final assessment\n",
      "\n",
      "---\n",
      "\n",
      "Question: Why was bulb A on when switch Y was open and switch Z was closed?\n",
      "\n",
      "Student Answer: because the path was closed\n",
      "\n",
      "Reference Answer: Bulb A is still contained in a closed path with the battery.\n",
      "\n",
      "Reasoning: Let's think step by step in order to produce the assessment. We can see that the student answer is not a complete and correct paraphrase of the reference answer. The student answer does not mention the battery, which is an important component in the circuit. Therefore, the student answer is partially correct and incomplete.\n",
      "\n",
      "Assessment: partially_correct_incomplete\n",
      "\n",
      "---\n",
      "\n",
      "Question: Explain why you got a voltage reading of 1.5 for terminal 1 and the positive terminal.\n",
      "\n",
      "Student Answer: terminal 1 and the positive terminal are connected.\n",
      "\n",
      "Reference Answer: Terminal 1 and the positive terminal are not connected\n",
      "\n",
      "Reasoning: Let's think step by step in order to produce the assessment. We first need to understand that the voltage reading of 1.5 indicates that the terminals are not connected. However, the student's answer states that the terminals are connected, which contradicts the reference answer. Therefore, the assessment should be contradictory.\n",
      "\n",
      "Assessment: contradictory\n",
      "\n",
      "---\n",
      "\n",
      "Question: What are the conditions that are required to make a bulb light up?\n",
      "\n",
      "Student Answer: connection to a battery\n",
      "\n",
      "Reference Answer: there is a closed path containing both the bulb and a battery\n",
      "\n",
      "Reasoning: Let's think step by step in order to produce the assessment. We first need to understand that a bulb requires a closed path with a battery in order to light up. If the student's answer is \"connection to a battery\", then it is partially_correct_incomplete because it is missing the information about the closed path.\n",
      "\n",
      "Assessment: partially_correct_incomplete\n",
      "\n",
      "---\n",
      "\n",
      "Question: Explain why circuit 5 is a short circuit.\n",
      "\n",
      "Student Answer: the battery is in a closed path with itself.\n",
      "\n",
      "Reference Answer: The battery is contained in a closed path which does not contain any other components\n",
      "\n",
      "Reasoning: Let's think step by step in order to produce the assessment. We first need to understand what a short circuit is. A short circuit is a path in which the current flows through with little to no resistance. In this case, the battery is connected to itself, creating a closed path with no other components. Therefore, the current can flow through with little to no resistance, making circuit 5 a short circuit.\n",
      "\n",
      "Assessment: partially_correct_incomplete\n",
      "\n",
      "---\n",
      "\n",
      "Question: Why was bulb A on when switch Y was open and switch Z was closed?\n",
      "\n",
      "Student Answer: it was in a closed path\n",
      "\n",
      "Reference Answer: Bulb A is still contained in a closed path with the battery and switch Z.\n",
      "\n",
      "Reasoning: Let's think step by step in order to produce the assessment. We can see that the student answer is partially correct and incomplete because it only mentions that the bulb is in a closed path, but does not mention the switch Z. However, the student answer does not contradict the reference answer and is not irrelevant. Therefore, the student answer is partially_correct_incomplete.\n",
      "\n",
      "Assessment: partially_correct_incomplete\n",
      "\n",
      "---\n",
      "\n",
      "Question: Why was bulb C off when switch Z was open?\n",
      "Student Answer: bulb C is not contained in a close path with the battery\n",
      "Reference Answer: There was no longer a closed path containing Bulb C and the battery\n",
      "Assessment: correct\n",
      "\n",
      "---\n",
      "\n",
      "Question: Explain why circuit 5 is a short circuit.\n",
      "Student Answer: the batter is in a closed path without any other components.\n",
      "Reference Answer: The battery is contained in a closed path which does not contain any other components\n",
      "Assessment: correct\n",
      "\n",
      "---\n",
      "\n",
      "Question: What are the conditions that are required to make a bulb light up?\n",
      "Student Answer: It must be connected to the battery.\n",
      "Reference Answer: there is a closed path containing both the bulb and a battery\n",
      "Assessment: partially_correct_incomplete\n",
      "\n",
      "---\n",
      "\n",
      "Question: Why?\n",
      "Student Answer: because the voltage doesnt change in the battery\n",
      "Reference Answer: A battery uses a chemical reaction to maintain different electrical states at the terminals\n",
      "Assessment: contradictory\n",
      "\n",
      "---\n",
      "\n",
      "Question: Explain why you got a voltage reading of 1.5 for terminal 3 and the positive terminal.\n",
      "Student Answer: positive and negative is seperate\n",
      "Reference Answer: Terminal 3 and the positive terminal are separated by the gap\n",
      "Assessment: irrelevant\n",
      "\n",
      "---\n",
      "\n",
      "Question: Explain why you got a voltage reading of 1.5 for terminal 1 and the positive terminal.\n",
      "Student Answer: the positive terminal is connected to the bulb\n",
      "Reference Answer: Terminal 1 and the positive terminal are separated by the gap\n",
      "Assessment: irrelevant\n",
      "\n",
      "---\n",
      "\n",
      "Question: Under what circumstances will a switch affect a bulb?\n",
      "Student Answer: tell answer\n",
      "Reference Answer: When the switch and the bulb are contained in the same path\n",
      "Assessment: non_domain\n",
      "\n",
      "---\n",
      "\n",
      "Question: Why do you think those terminals and the negative battery terminal are in the same state?\n",
      "Student Answer: since a a gap does not affect the voltage of a battery\n",
      "Reference Answer: Terminals 1, 2 and 3 are connected to the negative battery terminal\n",
      "Assessment: irrelevant\n",
      "\n",
      "---\n",
      "\n",
      "Question: What are the conditions that are required to make a bulb light up?\n",
      "Student Answer: They have to be closed circuts\n",
      "Reference Answer: there is a closed path containing both the bulb and a battery\n",
      "Assessment: contradictory\n",
      "\n",
      "---\n",
      "\n",
      "Question: Why does measuring voltage help you locate a burned out bulb? Try to answer in terms of electrical states, connections and/ or a gap.\n",
      "Student Answer: You will find out wehere the difference in electrical staates\n",
      "Reference Answer: Measuring voltage indicates the place where the electrical state changes due to a damaged bulb.\n",
      "Assessment: partially_correct_incomplete\n",
      "\n",
      "---\n",
      "\n",
      "Question: Why do you think those terminals and the negative battery terminal are in the same state?\n",
      "Student Answer: the terminals are connedted to the negative terminal of the battery.\n",
      "Reference Answer: Terminals 1, 2 and 3 are connected to the negative battery terminal\n",
      "Assessment: correct\n",
      "\n",
      "---\n",
      "\n",
      "Question: What are the conditions that are required to make a bulb light up?\n",
      "Student Answer: There must be a closed path and a battery.\n",
      "Reference Answer: there is a closed path containing both the bulb and a battery\n",
      "Assessment: partially_correct_incomplete\n",
      "\n",
      "---\n",
      "\n",
      "Question: What do you think the red X means?\n",
      "Student Answer: wrong\n",
      "Reference Answer: the battery is damaged\n",
      "Assessment: contradictory\n",
      "\n",
      "---\n",
      "\n",
      "Question: Explain why you got a voltage reading of 1.5 for terminal 1 and the positive terminal.\n",
      "Student Answer: positive connected to negative terminal\n",
      "Reference Answer: Terminal 1 and the positive terminal are separated by the gap\n",
      "Assessment: contradictory\n",
      "\n",
      "---\n",
      "\n",
      "Question: Why do you think the other terminals are being held in a different electrical state than that of the negative terminal?\n",
      "Student Answer: your an idiot\n",
      "Reference Answer: Terminals 4, 5 and 6 are not connected to the negative battery terminal\n",
      "Assessment: non_domain\n",
      "\n",
      "---\n",
      "\n",
      "Question: Explain your reasoning.\n",
      "Student Answer: bulbs b and c are contiained in the the same path with the battery.\n",
      "Reference Answer: A and C are in different paths with the battery\n",
      "Assessment: irrelevant\n",
      "\n",
      "---\n",
      "\n",
      "Question: What are the conditions that are required to make a bulb light up?\n",
      "Student Answer: a component to the battery\n",
      "Reference Answer: there is a closed path containing both the bulb and a battery\n",
      "Assessment: contradictory\n",
      "\n",
      "---\n",
      "\n",
      "Question: As you move the multimeter leads from one bulb terminal to the next, what does it mean when the voltage reading jumps from 0 to 1.5?\n",
      "Student Answer: That when the voltage reading is zero, the terminals are connected, when the voltage reading is 1.5, the terminals are not connected. It jumps from connected to not connected.\n",
      "Reference Answer: the terminals are not connected\n",
      "Assessment: correct\n",
      "\n",
      "---\n",
      "\n",
      "Question: What does a voltage reading of 1.5 tell you about the connection between a bulb terminal and a battery terminal?\n",
      "Student Answer: There is a difference in eletrical states.\n",
      "Reference Answer: the terminals are not connected\n",
      "Assessment: irrelevant\n",
      "\n",
      "---\n",
      "\n",
      "Question: Explain why circuit 2 is not a short circuit.\n",
      "Student Answer: There is a bulb connected to the battery terminal.\n",
      "Reference Answer: The battery in 2 is not in a closed path\n",
      "Assessment: irrelevant\n",
      "\n",
      "---\n",
      "\n",
      "Question: What does a voltage reading of 1.5 tell you about the connection between a bulb terminal and a battery terminal?\n",
      "Student Answer: i do not know\n",
      "Reference Answer: the terminals are not connected\n",
      "Assessment: non_domain\n",
      "\n",
      "---\n",
      "\n",
      "Question: Why do you think the other terminals are being held in a different electrical state than that of the negative terminal?\n",
      "Student Answer: Terminal 4, terminal 5, and terminal 6 is connected to the positive battery terminal.\n",
      "Reference Answer: Terminals 4, 5 and 6 are not connected to the negative battery terminal\n",
      "Assessment: correct\n",
      "\n",
      "---\n",
      "\n",
      "Question: Explain why you got a voltage reading of 1.5 for terminal 1 and the positive terminal.\n",
      "Student Answer: the positive terminal\n",
      "Reference Answer: Terminal 1 and the positive terminal are separated by the gap\n",
      "Assessment: irrelevant\n",
      "\n",
      "---\n",
      "\n",
      "Question: Explain why you got a voltage reading of 0 for terminal 1 and terminal 2.\n",
      "Student Answer: Because they were both on the negative terminal.\n",
      "Reference Answer: Terminals 1 and 2 are connected\n",
      "Assessment: partially_correct_incomplete\n",
      "\n",
      "---\n",
      "\n",
      "Question: Explain why circuit 5 is a short circuit.\n",
      "Student Answer: path 5 is a short circuit.\n",
      "Reference Answer: the battery is contained in a path in which there is no bulb\n",
      "Assessment: irrelevant\n",
      "\n",
      "---\n",
      "\n",
      "Question: Explain why you got a voltage reading of 1.5 for terminal 1 and terminal 6.\n",
      "\n",
      "Student Answer: there is a gap\n",
      "\n",
      "Reference Answer: There is a gap between terminals 1 and 6\n",
      "\n",
      "Reasoning: Let's think step by step in order to\u001b[32m produce the assessment. We first need to understand that a voltage reading of 1.5 indicates that the terminals are not connected. The student's answer mentions a gap, which is correct. However, the student's answer does not specify which terminals have the gap between them. Therefore, the student's answer is partially correct and incomplete.\n",
      "\n",
      "Assessment: partially_correct_incomplete\u001b[0m\n",
      "\n",
      "\n",
      "\n"
     ]
    },
    {
     "data": {
      "text/plain": [
       "'\\n\\n\\nYour task is to assess the student\\'s answer to the question by comparing with the reference answer\\n    The value for assessment must be EXACTLY one of the following classes:\\n    \"correct\", \"partially_correct_incomplete\", \"contradictory\", \"non_domain\", \"irrelevant\"\\n    Include the underscores if the class contains it. Output nothing else.\\n\\n    Definitions of the classes:\\n    correct: if the student answer is a complete and correct paraphrase of the reference answer\\n    partially_correct_incomplete:\\n\\n---\\n\\nFollow the following format.\\n\\nQuestion: ${question}\\n\\nStudent Answer: ${student_answer}\\n\\nReference Answer: ${reference_answer}\\n\\nReasoning: Let\\'s think step by step in order to ${produce the assessment}. We ...\\n\\nAssessment: the final assessment\\n\\n---\\n\\nQuestion: Why was bulb A on when switch Y was open and switch Z was closed?\\n\\nStudent Answer: because the path was closed\\n\\nReference Answer: Bulb A is still contained in a closed path with the battery.\\n\\nReasoning: Let\\'s think step by step in order to produce the assessment. We can see that the student answer is not a complete and correct paraphrase of the reference answer. The student answer does not mention the battery, which is an important component in the circuit. Therefore, the student answer is partially correct and incomplete.\\n\\nAssessment: partially_correct_incomplete\\n\\n---\\n\\nQuestion: Explain why you got a voltage reading of 1.5 for terminal 1 and the positive terminal.\\n\\nStudent Answer: terminal 1 and the positive terminal are connected.\\n\\nReference Answer: Terminal 1 and the positive terminal are not connected\\n\\nReasoning: Let\\'s think step by step in order to produce the assessment. We first need to understand that the voltage reading of 1.5 indicates that the terminals are not connected. However, the student\\'s answer states that the terminals are connected, which contradicts the reference answer. Therefore, the assessment should be contradictory.\\n\\nAssessment: contradictory\\n\\n---\\n\\nQuestion: What are the conditions that are required to make a bulb light up?\\n\\nStudent Answer: connection to a battery\\n\\nReference Answer: there is a closed path containing both the bulb and a battery\\n\\nReasoning: Let\\'s think step by step in order to produce the assessment. We first need to understand that a bulb requires a closed path with a battery in order to light up. If the student\\'s answer is \"connection to a battery\", then it is partially_correct_incomplete because it is missing the information about the closed path.\\n\\nAssessment: partially_correct_incomplete\\n\\n---\\n\\nQuestion: Explain why circuit 5 is a short circuit.\\n\\nStudent Answer: the battery is in a closed path with itself.\\n\\nReference Answer: The battery is contained in a closed path which does not contain any other components\\n\\nReasoning: Let\\'s think step by step in order to produce the assessment. We first need to understand what a short circuit is. A short circuit is a path in which the current flows through with little to no resistance. In this case, the battery is connected to itself, creating a closed path with no other components. Therefore, the current can flow through with little to no resistance, making circuit 5 a short circuit.\\n\\nAssessment: partially_correct_incomplete\\n\\n---\\n\\nQuestion: Why was bulb A on when switch Y was open and switch Z was closed?\\n\\nStudent Answer: it was in a closed path\\n\\nReference Answer: Bulb A is still contained in a closed path with the battery and switch Z.\\n\\nReasoning: Let\\'s think step by step in order to produce the assessment. We can see that the student answer is partially correct and incomplete because it only mentions that the bulb is in a closed path, but does not mention the switch Z. However, the student answer does not contradict the reference answer and is not irrelevant. Therefore, the student answer is partially_correct_incomplete.\\n\\nAssessment: partially_correct_incomplete\\n\\n---\\n\\nQuestion: Why was bulb C off when switch Z was open?\\nStudent Answer: bulb C is not contained in a close path with the battery\\nReference Answer: There was no longer a closed path containing Bulb C and the battery\\nAssessment: correct\\n\\n---\\n\\nQuestion: Explain why circuit 5 is a short circuit.\\nStudent Answer: the batter is in a closed path without any other components.\\nReference Answer: The battery is contained in a closed path which does not contain any other components\\nAssessment: correct\\n\\n---\\n\\nQuestion: What are the conditions that are required to make a bulb light up?\\nStudent Answer: It must be connected to the battery.\\nReference Answer: there is a closed path containing both the bulb and a battery\\nAssessment: partially_correct_incomplete\\n\\n---\\n\\nQuestion: Why?\\nStudent Answer: because the voltage doesnt change in the battery\\nReference Answer: A battery uses a chemical reaction to maintain different electrical states at the terminals\\nAssessment: contradictory\\n\\n---\\n\\nQuestion: Explain why you got a voltage reading of 1.5 for terminal 3 and the positive terminal.\\nStudent Answer: positive and negative is seperate\\nReference Answer: Terminal 3 and the positive terminal are separated by the gap\\nAssessment: irrelevant\\n\\n---\\n\\nQuestion: Explain why you got a voltage reading of 1.5 for terminal 1 and the positive terminal.\\nStudent Answer: the positive terminal is connected to the bulb\\nReference Answer: Terminal 1 and the positive terminal are separated by the gap\\nAssessment: irrelevant\\n\\n---\\n\\nQuestion: Under what circumstances will a switch affect a bulb?\\nStudent Answer: tell answer\\nReference Answer: When the switch and the bulb are contained in the same path\\nAssessment: non_domain\\n\\n---\\n\\nQuestion: Why do you think those terminals and the negative battery terminal are in the same state?\\nStudent Answer: since a a gap does not affect the voltage of a battery\\nReference Answer: Terminals 1, 2 and 3 are connected to the negative battery terminal\\nAssessment: irrelevant\\n\\n---\\n\\nQuestion: What are the conditions that are required to make a bulb light up?\\nStudent Answer: They have to be closed circuts\\nReference Answer: there is a closed path containing both the bulb and a battery\\nAssessment: contradictory\\n\\n---\\n\\nQuestion: Why does measuring voltage help you locate a burned out bulb? Try to answer in terms of electrical states, connections and/ or a gap.\\nStudent Answer: You will find out wehere the difference in electrical staates\\nReference Answer: Measuring voltage indicates the place where the electrical state changes due to a damaged bulb.\\nAssessment: partially_correct_incomplete\\n\\n---\\n\\nQuestion: Why do you think those terminals and the negative battery terminal are in the same state?\\nStudent Answer: the terminals are connedted to the negative terminal of the battery.\\nReference Answer: Terminals 1, 2 and 3 are connected to the negative battery terminal\\nAssessment: correct\\n\\n---\\n\\nQuestion: What are the conditions that are required to make a bulb light up?\\nStudent Answer: There must be a closed path and a battery.\\nReference Answer: there is a closed path containing both the bulb and a battery\\nAssessment: partially_correct_incomplete\\n\\n---\\n\\nQuestion: What do you think the red X means?\\nStudent Answer: wrong\\nReference Answer: the battery is damaged\\nAssessment: contradictory\\n\\n---\\n\\nQuestion: Explain why you got a voltage reading of 1.5 for terminal 1 and the positive terminal.\\nStudent Answer: positive connected to negative terminal\\nReference Answer: Terminal 1 and the positive terminal are separated by the gap\\nAssessment: contradictory\\n\\n---\\n\\nQuestion: Why do you think the other terminals are being held in a different electrical state than that of the negative terminal?\\nStudent Answer: your an idiot\\nReference Answer: Terminals 4, 5 and 6 are not connected to the negative battery terminal\\nAssessment: non_domain\\n\\n---\\n\\nQuestion: Explain your reasoning.\\nStudent Answer: bulbs b and c are contiained in the the same path with the battery.\\nReference Answer: A and C are in different paths with the battery\\nAssessment: irrelevant\\n\\n---\\n\\nQuestion: What are the conditions that are required to make a bulb light up?\\nStudent Answer: a component to the battery\\nReference Answer: there is a closed path containing both the bulb and a battery\\nAssessment: contradictory\\n\\n---\\n\\nQuestion: As you move the multimeter leads from one bulb terminal to the next, what does it mean when the voltage reading jumps from 0 to 1.5?\\nStudent Answer: That when the voltage reading is zero, the terminals are connected, when the voltage reading is 1.5, the terminals are not connected. It jumps from connected to not connected.\\nReference Answer: the terminals are not connected\\nAssessment: correct\\n\\n---\\n\\nQuestion: What does a voltage reading of 1.5 tell you about the connection between a bulb terminal and a battery terminal?\\nStudent Answer: There is a difference in eletrical states.\\nReference Answer: the terminals are not connected\\nAssessment: irrelevant\\n\\n---\\n\\nQuestion: Explain why circuit 2 is not a short circuit.\\nStudent Answer: There is a bulb connected to the battery terminal.\\nReference Answer: The battery in 2 is not in a closed path\\nAssessment: irrelevant\\n\\n---\\n\\nQuestion: What does a voltage reading of 1.5 tell you about the connection between a bulb terminal and a battery terminal?\\nStudent Answer: i do not know\\nReference Answer: the terminals are not connected\\nAssessment: non_domain\\n\\n---\\n\\nQuestion: Why do you think the other terminals are being held in a different electrical state than that of the negative terminal?\\nStudent Answer: Terminal 4, terminal 5, and terminal 6 is connected to the positive battery terminal.\\nReference Answer: Terminals 4, 5 and 6 are not connected to the negative battery terminal\\nAssessment: correct\\n\\n---\\n\\nQuestion: Explain why you got a voltage reading of 1.5 for terminal 1 and the positive terminal.\\nStudent Answer: the positive terminal\\nReference Answer: Terminal 1 and the positive terminal are separated by the gap\\nAssessment: irrelevant\\n\\n---\\n\\nQuestion: Explain why you got a voltage reading of 0 for terminal 1 and terminal 2.\\nStudent Answer: Because they were both on the negative terminal.\\nReference Answer: Terminals 1 and 2 are connected\\nAssessment: partially_correct_incomplete\\n\\n---\\n\\nQuestion: Explain why circuit 5 is a short circuit.\\nStudent Answer: path 5 is a short circuit.\\nReference Answer: the battery is contained in a path in which there is no bulb\\nAssessment: irrelevant\\n\\n---\\n\\nQuestion: Explain why you got a voltage reading of 1.5 for terminal 1 and terminal 6.\\n\\nStudent Answer: there is a gap\\n\\nReference Answer: There is a gap between terminals 1 and 6\\n\\nReasoning: Let\\'s think step by step in order to\\x1b[32m produce the assessment. We first need to understand that a voltage reading of 1.5 indicates that the terminals are not connected. The student\\'s answer mentions a gap, which is correct. However, the student\\'s answer does not specify which terminals have the gap between them. Therefore, the student\\'s answer is partially correct and incomplete.\\n\\nAssessment: partially_correct_incomplete\\x1b[0m\\n\\n\\n'"
      ]
     },
     "execution_count": 45,
     "metadata": {},
     "output_type": "execute_result"
    }
   ],
   "source": [
    "gpt3_turbo_instruct.inspect_history(n=1)"
   ]
  },
  {
   "cell_type": "markdown",
   "id": "6ba0afa6-eb18-459f-8fcd-630716e43a46",
   "metadata": {},
   "source": [
    "## Evaluation"
   ]
  },
  {
   "cell_type": "code",
   "execution_count": null,
   "id": "b45dab94-429e-41f5-9348-91729a823587",
   "metadata": {},
   "outputs": [],
   "source": [
    "from dspy.evaluate import Evaluate\n",
    "\n",
    "# Set up the evaluator, which can be re-used in your code.\n",
    "evaluator = Evaluate(devset=dev_data, num_threads=1, display_progress=True, display_table=5)\n",
    "\n",
    "# Launch evaluation.\n",
    "evaluator(optimised_program, metric=grading_accuracy)"
   ]
  },
  {
   "cell_type": "code",
   "execution_count": null,
   "id": "e7d466dd-eca4-4c05-99a5-331bd76c66f8",
   "metadata": {},
   "outputs": [],
   "source": []
  },
  {
   "cell_type": "code",
   "execution_count": null,
   "id": "431c0155-0bdd-44cb-bf8e-8176fd2bfdfa",
   "metadata": {},
   "outputs": [],
   "source": []
  },
  {
   "cell_type": "code",
   "execution_count": null,
   "id": "33cff67a-9d38-45c4-83e3-4bed9895b973",
   "metadata": {},
   "outputs": [],
   "source": []
  },
  {
   "cell_type": "code",
   "execution_count": null,
   "id": "f78d414c-ecca-4622-b76f-eecadf35731a",
   "metadata": {},
   "outputs": [],
   "source": []
  },
  {
   "cell_type": "code",
   "execution_count": null,
   "id": "3d5f7b38-a676-4d8d-b24e-8b3d57d27388",
   "metadata": {},
   "outputs": [],
   "source": []
  },
  {
   "cell_type": "code",
   "execution_count": null,
   "id": "1c11449a-3c52-4272-a985-ea7059c3d526",
   "metadata": {},
   "outputs": [],
   "source": []
  },
  {
   "cell_type": "code",
   "execution_count": null,
   "id": "a6f536fb-07cd-4a26-a025-0c333b40b344",
   "metadata": {},
   "outputs": [],
   "source": []
  },
  {
   "cell_type": "code",
   "execution_count": null,
   "id": "d4b29bcf-a5da-497c-b3d3-bae63e4ba373",
   "metadata": {},
   "outputs": [],
   "source": []
  },
  {
   "cell_type": "code",
   "execution_count": null,
   "id": "b8d9c84e-8767-4b14-93a9-8094228a0955",
   "metadata": {},
   "outputs": [],
   "source": []
  },
  {
   "cell_type": "code",
   "execution_count": null,
   "id": "05e7d4f8-e4cb-4919-9c9a-fefecc5cdf42",
   "metadata": {},
   "outputs": [],
   "source": [
    "# train = [('Who was the director of the 2009 movie featuring Peter Outerbridge as William Easton?', 'Kevin Greutert'),\n",
    "#          ('The heir to the Du Pont family fortune sponsored what wrestling team?', 'Foxcatcher'),\n",
    "#          ('In what year was the star of To Hell and Back born?', '1925'),\n",
    "#          ('Which award did the first book of Gary Zukav receive?', 'U.S. National Book Award'),\n",
    "#          ('What documentary about the Gilgo Beach Killer debuted on A&E?', 'The Killing Season'),\n",
    "#          ('Which author is English: John Braine or Studs Terkel?', 'John Braine'),\n",
    "#          ('Who produced the album that included a re-recording of \"Lithium\"?', 'Butch Vig')]\n",
    "\n",
    "# train = [dspy.Example(question=question, answer=answer).with_inputs('question') for question, answer in train]\n",
    "\n",
    "# dev = [('Who has a broader scope of profession: E. L. Doctorow or Julia Peterkin?', 'E. L. Doctorow'),\n",
    "#        ('Right Back At It Again contains lyrics co-written by the singer born in what city?', 'Gainesville, Florida'),\n",
    "#        ('What year was the party of the winner of the 1971 San Francisco mayoral election founded?', '1828'),\n",
    "#        ('Anthony Dirrell is the brother of which super middleweight title holder?', 'Andre Dirrell'),\n",
    "#        ('The sports nutrition business established by Oliver Cookson is based in which county in the UK?', 'Cheshire'),\n",
    "#        ('Find the birth date of the actor who played roles in First Wives Club and Searching for the Elephant.', 'February 13, 1980'),\n",
    "#        ('Kyle Moran was born in the town on what river?', 'Castletown River'),\n",
    "#        (\"The actress who played the niece in the Priest film was born in what city, country?\", 'Surrey, England'),\n",
    "#        ('Name the movie in which the daughter of Noel Harrison plays Violet Trefusis.', 'Portrait of a Marriage'),\n",
    "#        ('What year was the father of the Princes in the Tower born?', '1442'),\n",
    "#        ('What river is near the Crichton Collegiate Church?', 'the River Tyne'),\n",
    "#        ('Who purchased the team Michael Schumacher raced for in the 1995 Monaco Grand Prix in 2000?', 'Renault'),\n",
    "#        ('André Zucca was a French photographer who worked with a German propaganda magazine published by what Nazi organization?', 'the Wehrmacht')]\n",
    "\n",
    "# dev = [dspy.Example(question=question, answer=answer).with_inputs('question') for question, answer in dev]\n",
    "\n",
    "# predict = dspy.Predict('question -> answer')\n",
    "\n",
    "# # Use the module!\n",
    "# predict(question=\"What is the capital of Germany?\")\n",
    "\n",
    "# class CoT(dspy.Module):  # let's define a new module\n",
    "#     def __init__(self):\n",
    "#         super().__init__()\n",
    "\n",
    "#         # here we declare the chain of thought sub-module, so we can later compile it (e.g., teach it a prompt)\n",
    "#         self.generate_answer = dspy.ChainOfThought('question -> answer')\n",
    "    \n",
    "#     def forward(self, question):\n",
    "#         return self.generate_answer(question=question)  # here we use the module\n",
    "\n",
    "# metric_EM = dspy.evaluate.answer_exact_match\n",
    "\n",
    "# teleprompter = BootstrapFewShotWithRandomSearch(metric=metric_EM, max_bootstrapped_demos=2)\n",
    "# cot_compiled = teleprompter.compile(CoT(), trainset=train)"
   ]
  },
  {
   "cell_type": "code",
   "execution_count": null,
   "id": "f465ad7d-e106-49a8-9a7f-37cf422cac5b",
   "metadata": {},
   "outputs": [],
   "source": []
  }
 ],
 "metadata": {
  "kernelspec": {
   "display_name": "Python 3 (ipykernel)",
   "language": "python",
   "name": "python3"
  },
  "language_info": {
   "codemirror_mode": {
    "name": "ipython",
    "version": 3
   },
   "file_extension": ".py",
   "mimetype": "text/x-python",
   "name": "python",
   "nbconvert_exporter": "python",
   "pygments_lexer": "ipython3",
   "version": "3.11.2"
  }
 },
 "nbformat": 4,
 "nbformat_minor": 5
}
